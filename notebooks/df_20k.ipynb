{
 "cells": [
  {
   "cell_type": "code",
   "execution_count": 62,
   "id": "ece08d14-83eb-4b28-926e-f707400efc04",
   "metadata": {},
   "outputs": [],
   "source": [
    "import pandas as pd\n",
    "import pandas as pd\n",
    "import matplotlib.pyplot as plt\n",
    "from sklearn.model_selection import train_test_split\n",
    "from sklearn.model_selection import cross_validate\n",
    "import numpy as np\n",
    "from sklearn.model_selection import learning_curve\n",
    "from sklearn.model_selection import GridSearchCV\n",
    "from sklearn.model_selection import RandomizedSearchCV\n",
    "from scipy import stats\n",
    "from sklearn.impute import SimpleImputer\n",
    "from sklearn.preprocessing import StandardScaler\n",
    "from sklearn.preprocessing import OneHotEncoder\n",
    "from sklearn.compose import make_column_transformer, make_column_selector\n",
    "from sklearn.model_selection import cross_val_score\n",
    "from sklearn.model_selection import RandomizedSearchCV\n",
    "from scipy import stats\n",
    "from sklearn.pipeline import make_pipeline, make_union\n",
    "from sklearn.linear_model import Ridge, Lasso, LinearRegression, ElasticNet\n",
    "from tpot import *\n",
    "from xgboost import *\n",
    "from sklearn.ensemble import *\n",
    "from sklearn.svm import *\n",
    "import warnings\n",
    "warnings.filterwarnings('ignore')"
   ]
  },
  {
   "cell_type": "markdown",
   "id": "3af5be1d-6cd6-4c19-8c0f-e7c2edd4a827",
   "metadata": {
    "tags": []
   },
   "source": [
    "# DATASET : Owner median < 20 k"
   ]
  },
  {
   "cell_type": "code",
   "execution_count": 63,
   "id": "5617fcd1-9fe5-48ec-9f8e-718e620cc9fa",
   "metadata": {},
   "outputs": [],
   "source": [
    "df = pd.read_csv('../raw_data/data_final_indé_small.csv')"
   ]
  },
  {
   "cell_type": "code",
   "execution_count": 64,
   "id": "a038645f-8ded-4f7d-835e-203d28d4658e",
   "metadata": {},
   "outputs": [
    {
     "data": {
      "text/html": [
       "<div>\n",
       "<style scoped>\n",
       "    .dataframe tbody tr th:only-of-type {\n",
       "        vertical-align: middle;\n",
       "    }\n",
       "\n",
       "    .dataframe tbody tr th {\n",
       "        vertical-align: top;\n",
       "    }\n",
       "\n",
       "    .dataframe thead th {\n",
       "        text-align: right;\n",
       "    }\n",
       "</style>\n",
       "<table border=\"1\" class=\"dataframe\">\n",
       "  <thead>\n",
       "    <tr style=\"text-align: right;\">\n",
       "      <th></th>\n",
       "      <th>steam_appid</th>\n",
       "      <th>name</th>\n",
       "      <th>top_5_tags</th>\n",
       "      <th>topic_0</th>\n",
       "      <th>topic_1</th>\n",
       "      <th>topic_2</th>\n",
       "      <th>topic_3</th>\n",
       "      <th>topic_4</th>\n",
       "      <th>topic_5</th>\n",
       "      <th>topic_6</th>\n",
       "      <th>...</th>\n",
       "      <th>topic_17</th>\n",
       "      <th>topic_18</th>\n",
       "      <th>topic_19</th>\n",
       "      <th>english</th>\n",
       "      <th>price</th>\n",
       "      <th>days_on_steam</th>\n",
       "      <th>is_a_remake</th>\n",
       "      <th>has_a_website</th>\n",
       "      <th>owner_estimated</th>\n",
       "      <th>score_descriptif</th>\n",
       "    </tr>\n",
       "  </thead>\n",
       "  <tbody>\n",
       "    <tr>\n",
       "      <th>0</th>\n",
       "      <td>4290</td>\n",
       "      <td>RACE: Caterham Expansion</td>\n",
       "      <td>racing simulation relaxing realistic real_time...</td>\n",
       "      <td>0.015822</td>\n",
       "      <td>0.015822</td>\n",
       "      <td>0.015822</td>\n",
       "      <td>0.015822</td>\n",
       "      <td>0.015822</td>\n",
       "      <td>0.015822</td>\n",
       "      <td>0.015822</td>\n",
       "      <td>...</td>\n",
       "      <td>0.015822</td>\n",
       "      <td>0.015822</td>\n",
       "      <td>0.015822</td>\n",
       "      <td>1</td>\n",
       "      <td>3.99</td>\n",
       "      <td>4331.0</td>\n",
       "      <td>1</td>\n",
       "      <td>1</td>\n",
       "      <td>1248.0</td>\n",
       "      <td>4</td>\n",
       "    </tr>\n",
       "    <tr>\n",
       "      <th>1</th>\n",
       "      <td>4900</td>\n",
       "      <td>Zen of Sudoku</td>\n",
       "      <td>casual puzzle 1980s relaxing realistic</td>\n",
       "      <td>0.015666</td>\n",
       "      <td>0.307211</td>\n",
       "      <td>0.015666</td>\n",
       "      <td>0.015666</td>\n",
       "      <td>0.015666</td>\n",
       "      <td>0.015666</td>\n",
       "      <td>0.015666</td>\n",
       "      <td>...</td>\n",
       "      <td>0.015666</td>\n",
       "      <td>0.015666</td>\n",
       "      <td>0.410797</td>\n",
       "      <td>1</td>\n",
       "      <td>0.00</td>\n",
       "      <td>4521.0</td>\n",
       "      <td>1</td>\n",
       "      <td>1</td>\n",
       "      <td>20000.0</td>\n",
       "      <td>3</td>\n",
       "    </tr>\n",
       "  </tbody>\n",
       "</table>\n",
       "<p>2 rows × 30 columns</p>\n",
       "</div>"
      ],
      "text/plain": [
       "   steam_appid                      name  \\\n",
       "0         4290  RACE: Caterham Expansion   \n",
       "1         4900             Zen of Sudoku   \n",
       "\n",
       "                                          top_5_tags   topic_0   topic_1  \\\n",
       "0  racing simulation relaxing realistic real_time...  0.015822  0.015822   \n",
       "1             casual puzzle 1980s relaxing realistic  0.015666  0.307211   \n",
       "\n",
       "    topic_2   topic_3   topic_4   topic_5   topic_6  ...  topic_17  topic_18  \\\n",
       "0  0.015822  0.015822  0.015822  0.015822  0.015822  ...  0.015822  0.015822   \n",
       "1  0.015666  0.015666  0.015666  0.015666  0.015666  ...  0.015666  0.015666   \n",
       "\n",
       "   topic_19  english  price  days_on_steam  is_a_remake  has_a_website  \\\n",
       "0  0.015822        1   3.99         4331.0            1              1   \n",
       "1  0.410797        1   0.00         4521.0            1              1   \n",
       "\n",
       "   owner_estimated  score_descriptif  \n",
       "0           1248.0                 4  \n",
       "1          20000.0                 3  \n",
       "\n",
       "[2 rows x 30 columns]"
      ]
     },
     "execution_count": 64,
     "metadata": {},
     "output_type": "execute_result"
    }
   ],
   "source": [
    "df.head(2)"
   ]
  },
  {
   "cell_type": "code",
   "execution_count": 65,
   "id": "fc5d6fab-8b7d-4216-8aa2-1718436dd77c",
   "metadata": {},
   "outputs": [
    {
     "data": {
      "text/plain": [
       "Index(['steam_appid', 'name', 'top_5_tags', 'topic_0', 'topic_1', 'topic_2',\n",
       "       'topic_3', 'topic_4', 'topic_5', 'topic_6', 'topic_7', 'topic_8',\n",
       "       'topic_9', 'topic_10', 'topic_11', 'topic_12', 'topic_13', 'topic_14',\n",
       "       'topic_15', 'topic_16', 'topic_17', 'topic_18', 'topic_19', 'english',\n",
       "       'price', 'days_on_steam', 'is_a_remake', 'has_a_website',\n",
       "       'owner_estimated', 'score_descriptif'],\n",
       "      dtype='object')"
      ]
     },
     "execution_count": 65,
     "metadata": {},
     "output_type": "execute_result"
    }
   ],
   "source": [
    "df.columns"
   ]
  },
  {
   "cell_type": "code",
   "execution_count": 66,
   "id": "2c611231-0e17-408c-a8b0-7517640caf5c",
   "metadata": {},
   "outputs": [],
   "source": [
    "#df.corr().style.background_gradient(cmap='coolwarm')"
   ]
  },
  {
   "cell_type": "code",
   "execution_count": 67,
   "id": "fea4a214-15f4-4275-8a0f-94cb6572fb97",
   "metadata": {
    "tags": []
   },
   "outputs": [],
   "source": [
    "X = df.drop(columns=['steam_appid', 'name', 'top_5_tags','score_descriptif','owner_estimated'])"
   ]
  },
  {
   "cell_type": "code",
   "execution_count": 68,
   "id": "718c4165-2820-41dd-8ab4-1bf70ab9b393",
   "metadata": {},
   "outputs": [
    {
     "data": {
      "text/plain": [
       "(18108, 25)"
      ]
     },
     "execution_count": 68,
     "metadata": {},
     "output_type": "execute_result"
    }
   ],
   "source": [
    "X.shape"
   ]
  },
  {
   "cell_type": "code",
   "execution_count": 69,
   "id": "9a3d0d1c-ef06-4bb6-8671-3d5040b73788",
   "metadata": {},
   "outputs": [],
   "source": [
    "y = df['owner_estimated']"
   ]
  },
  {
   "cell_type": "code",
   "execution_count": 70,
   "id": "db54ba48-37ea-4ace-9023-3cbda7580c6b",
   "metadata": {},
   "outputs": [
    {
     "data": {
      "text/plain": [
       "(18108,)"
      ]
     },
     "execution_count": 70,
     "metadata": {},
     "output_type": "execute_result"
    }
   ],
   "source": [
    "y.shape"
   ]
  },
  {
   "cell_type": "markdown",
   "id": "65cad262-5d95-4f9d-8361-4dd8b4065d00",
   "metadata": {},
   "source": [
    "#### Train Test Split\n"
   ]
  },
  {
   "cell_type": "code",
   "execution_count": 71,
   "id": "9bcb6f6a-0e1d-4d7a-9f37-86f8d504173a",
   "metadata": {},
   "outputs": [],
   "source": [
    "X_train, X_test, y_train, y_test = train_test_split(X, y, test_size = 0.3, random_state = 0)"
   ]
  },
  {
   "cell_type": "code",
   "execution_count": 72,
   "id": "8042da67-d2b4-4bd1-acaa-653878fbd171",
   "metadata": {},
   "outputs": [
    {
     "data": {
      "text/plain": [
       "((12675, 25), (5433, 25), (12675,), (5433,))"
      ]
     },
     "execution_count": 72,
     "metadata": {},
     "output_type": "execute_result"
    }
   ],
   "source": [
    "X_train.shape, X_test.shape, y_train.shape, y_test.shape"
   ]
  },
  {
   "cell_type": "code",
   "execution_count": 73,
   "id": "881a6192-e7d5-4c97-a18f-def202b07e6d",
   "metadata": {},
   "outputs": [
    {
     "name": "stdout",
     "output_type": "stream",
     "text": [
      "0.2895967416594285\n"
     ]
    }
   ],
   "source": [
    "forest = RandomForestRegressor(\n",
    "                               bootstrap=True, \n",
    "                               max_features=0.4, \n",
    "                               min_samples_leaf=14, \n",
    "                               n_estimators=100,\n",
    "                               min_samples_split=14)\n",
    "\n",
    "linear = LinearSVR(C=0.01, \n",
    "                  dual=False, \n",
    "                  epsilon=0.001, \n",
    "                  loss='squared_epsilon_insensitive', \n",
    "                  tol=0.0001)\n",
    "\n",
    "xgb = XGBRegressor(max_depth=10, n_estimators=100, learning_rate=0.1)\n",
    "\n",
    "estimators = [\n",
    "    ('lr', forest),\n",
    "    ('svr', LinearSVR(random_state=42)),\n",
    "    ('xgb', xgb)\n",
    "]\n",
    "\n",
    "\n",
    "ensemble = StackingRegressor(\n",
    "    estimators = estimators,\n",
    "    final_estimator = LinearRegression())\n",
    "\n",
    "ensemble.fit(X_train, y_train)\n",
    "\n",
    "print(ensemble.score(X_test,y_test))"
   ]
  },
  {
   "cell_type": "code",
   "execution_count": 44,
   "id": "d3ae5f91-3d42-4443-8c45-db7c0147c435",
   "metadata": {},
   "outputs": [
    {
     "data": {
      "application/vnd.jupyter.widget-view+json": {
       "model_id": "",
       "version_major": 2,
       "version_minor": 0
      },
      "text/plain": [
       "Optimization Progress:   0%|          | 0/250 [00:00<?, ?pipeline/s]"
      ]
     },
     "metadata": {},
     "output_type": "display_data"
    },
    {
     "name": "stdout",
     "output_type": "stream",
     "text": [
      "\n",
      "Generation 1 - Current best internal CV score: 0.27243924191829255\n",
      "\n",
      "Generation 2 - Current best internal CV score: 0.27243924191829255\n",
      "\n",
      "Generation 3 - Current best internal CV score: 0.27376567777909677\n",
      "\n",
      "Generation 4 - Current best internal CV score: 0.27376567777909677\n",
      "\n",
      "Best pipeline: XGBRegressor(LinearSVR(input_matrix, C=20.0, dual=False, epsilon=1.0, loss=squared_epsilon_insensitive, tol=1e-05), learning_rate=0.1, max_depth=5, min_child_weight=14, n_estimators=100, n_jobs=1, objective=reg:squarederror, subsample=0.8500000000000001, verbosity=0)\n",
      "0.29177572342287117\n"
     ]
    }
   ],
   "source": [
    "# instanciate TPOTRegressor\n",
    "tpot = TPOTRegressor(generations=4, population_size=50, verbosity=2, scoring='r2', n_jobs=-1, cv=2)\n",
    "# process autoML with TPOT\n",
    "tpot.fit(X_train, y_train)\n",
    "\n",
    "# print score\n",
    "print(tpot.score(X_test, y_test))"
   ]
  },
  {
   "cell_type": "code",
   "execution_count": 74,
   "id": "9f8e183c-e5bc-456f-8a5f-6ae21824f727",
   "metadata": {},
   "outputs": [
    {
     "data": {
      "text/plain": [
       "Index(['topic_0', 'topic_1', 'topic_2', 'topic_3', 'topic_4', 'topic_5',\n",
       "       'topic_6', 'topic_7', 'topic_8', 'topic_9', 'topic_10', 'topic_11',\n",
       "       'topic_12', 'topic_13', 'topic_14', 'topic_15', 'topic_16', 'topic_17',\n",
       "       'topic_18', 'topic_19', 'english', 'price', 'days_on_steam',\n",
       "       'is_a_remake', 'has_a_website'],\n",
       "      dtype='object')"
      ]
     },
     "execution_count": 74,
     "metadata": {},
     "output_type": "execute_result"
    }
   ],
   "source": [
    "X_train.columns"
   ]
  },
  {
   "cell_type": "markdown",
   "id": "62e53b43-5dbf-43cf-85ce-21343263f2d2",
   "metadata": {
    "jp-MarkdownHeadingCollapsed": true,
    "tags": []
   },
   "source": [
    "## TEST avec une nouvelle feature : Ratio "
   ]
  },
  {
   "cell_type": "code",
   "execution_count": 87,
   "id": "32ed2a00-c6a4-4032-b9d6-b47d014f5f4c",
   "metadata": {},
   "outputs": [],
   "source": [
    "dfa= pd.read_csv('../raw_data/data_final_indé_small2.csv')"
   ]
  },
  {
   "cell_type": "code",
   "execution_count": 88,
   "id": "98c43e9a-d5d7-49f5-9889-7fd853fe537a",
   "metadata": {},
   "outputs": [],
   "source": [
    "Xa = dfa.drop(columns=['steam_appid', 'name', 'top_5_tags','score_descriptif','owner_estimated','sells_per_days'])"
   ]
  },
  {
   "cell_type": "code",
   "execution_count": 89,
   "id": "9bd0e50c-e450-4ceb-9d14-7b7c8491db30",
   "metadata": {},
   "outputs": [],
   "source": [
    "ya = dfa['owner_estimated']"
   ]
  },
  {
   "cell_type": "markdown",
   "id": "1659940f-499d-4428-baaf-1c9a38a70e50",
   "metadata": {},
   "source": [
    "#### Train test split"
   ]
  },
  {
   "cell_type": "code",
   "execution_count": 90,
   "id": "185ade74-9bd7-43ce-8903-de69f952db19",
   "metadata": {},
   "outputs": [],
   "source": [
    "Xa_train, Xa_test, ya_train, ya_test = train_test_split(Xa, ya, test_size = 0.3, random_state = 0)"
   ]
  },
  {
   "cell_type": "code",
   "execution_count": 52,
   "id": "a86e1ef2-db35-42aa-be5d-076a459dbab2",
   "metadata": {},
   "outputs": [
    {
     "name": "stderr",
     "output_type": "stream",
     "text": [
      "/Users/mathieudbt/.pyenv/versions/3.8.12/envs/steamator/lib/python3.8/site-packages/tpot/builtins/__init__.py:36: UserWarning: Warning: optional dependency `torch` is not available. - skipping import of NN models.\n",
      "  warnings.warn(\"Warning: optional dependency `torch` is not available. - skipping import of NN models.\")\n",
      "/Users/mathieudbt/.pyenv/versions/3.8.12/envs/steamator/lib/python3.8/site-packages/tpot/builtins/__init__.py:36: UserWarning: Warning: optional dependency `torch` is not available. - skipping import of NN models.\n",
      "  warnings.warn(\"Warning: optional dependency `torch` is not available. - skipping import of NN models.\")\n",
      "/Users/mathieudbt/.pyenv/versions/3.8.12/envs/steamator/lib/python3.8/site-packages/tpot/builtins/__init__.py:36: UserWarning: Warning: optional dependency `torch` is not available. - skipping import of NN models.\n",
      "  warnings.warn(\"Warning: optional dependency `torch` is not available. - skipping import of NN models.\")\n",
      "/Users/mathieudbt/.pyenv/versions/3.8.12/envs/steamator/lib/python3.8/site-packages/tpot/builtins/__init__.py:36: UserWarning: Warning: optional dependency `torch` is not available. - skipping import of NN models.\n",
      "  warnings.warn(\"Warning: optional dependency `torch` is not available. - skipping import of NN models.\")\n",
      "/Users/mathieudbt/.pyenv/versions/3.8.12/envs/steamator/lib/python3.8/site-packages/tpot/builtins/__init__.py:36: UserWarning: Warning: optional dependency `torch` is not available. - skipping import of NN models.\n",
      "  warnings.warn(\"Warning: optional dependency `torch` is not available. - skipping import of NN models.\")\n",
      "/Users/mathieudbt/.pyenv/versions/3.8.12/envs/steamator/lib/python3.8/site-packages/tpot/builtins/__init__.py:36: UserWarning: Warning: optional dependency `torch` is not available. - skipping import of NN models.\n",
      "  warnings.warn(\"Warning: optional dependency `torch` is not available. - skipping import of NN models.\")\n",
      "/Users/mathieudbt/.pyenv/versions/3.8.12/envs/steamator/lib/python3.8/site-packages/tpot/builtins/__init__.py:36: UserWarning: Warning: optional dependency `torch` is not available. - skipping import of NN models.\n",
      "  warnings.warn(\"Warning: optional dependency `torch` is not available. - skipping import of NN models.\")\n",
      "/Users/mathieudbt/.pyenv/versions/3.8.12/envs/steamator/lib/python3.8/site-packages/tpot/builtins/__init__.py:36: UserWarning: Warning: optional dependency `torch` is not available. - skipping import of NN models.\n",
      "  warnings.warn(\"Warning: optional dependency `torch` is not available. - skipping import of NN models.\")\n"
     ]
    },
    {
     "name": "stdout",
     "output_type": "stream",
     "text": [
      "[0.29142866 0.3070158  0.45637449 0.48873325 0.51606764]\n"
     ]
    }
   ],
   "source": [
    "forest = RandomForestRegressor(\n",
    "                               bootstrap=True, \n",
    "                               max_features=0.4, \n",
    "                               min_samples_leaf=14, \n",
    "                               n_estimators=100,\n",
    "                               min_samples_split=14)\n",
    "\n",
    "linear = LinearSVR(C=0.01, \n",
    "                  dual=False, \n",
    "                  epsilon=0.001, \n",
    "                  loss='squared_epsilon_insensitive', \n",
    "                  tol=0.0001)\n",
    "\n",
    "xgb = XGBRegressor(max_depth=10, n_estimators=100, learning_rate=0.1)\n",
    "\n",
    "estimators = [\n",
    "    ('lr', forest),\n",
    "    ('svr', LinearSVR(random_state=42)),\n",
    "    ('xgb', xgb)\n",
    "]\n",
    "\n",
    "\n",
    "ensemble = StackingRegressor(\n",
    "    estimators = estimators,\n",
    "    final_estimator = LinearRegression())\n",
    "\n",
    "scores = cross_val_score(ensemble, Xa, ya, cv=5) # Cross validate\n",
    "\n",
    "print(scores)"
   ]
  },
  {
   "cell_type": "code",
   "execution_count": 53,
   "id": "b4e3f0b5-64c6-4d0e-b216-f1e17833e79a",
   "metadata": {},
   "outputs": [
    {
     "data": {
      "text/plain": [
       "0.4119239698891072"
      ]
     },
     "execution_count": 53,
     "metadata": {},
     "output_type": "execute_result"
    }
   ],
   "source": [
    "scores.mean()"
   ]
  },
  {
   "cell_type": "code",
   "execution_count": 97,
   "id": "58071638-64bf-4db2-b22e-6897433cfeef",
   "metadata": {},
   "outputs": [
    {
     "data": {
      "application/vnd.jupyter.widget-view+json": {
       "model_id": "",
       "version_major": 2,
       "version_minor": 0
      },
      "text/plain": [
       "Optimization Progress:   0%|          | 0/250 [00:00<?, ?pipeline/s]"
      ]
     },
     "metadata": {},
     "output_type": "display_data"
    },
    {
     "name": "stdout",
     "output_type": "stream",
     "text": [
      "\n",
      "Generation 1 - Current best internal CV score: 0.4348205642582874\n",
      "\n",
      "Generation 2 - Current best internal CV score: 0.43810748162881674\n",
      "\n",
      "Generation 3 - Current best internal CV score: 0.43810748162881674\n",
      "\n",
      "Generation 4 - Current best internal CV score: 0.43861958298278647\n",
      "\n",
      "Best pipeline: RandomForestRegressor(RobustScaler(input_matrix), bootstrap=True, max_features=0.9500000000000001, min_samples_leaf=1, min_samples_split=20, n_estimators=100)\n",
      "0.44888206290757127\n"
     ]
    },
    {
     "name": "stderr",
     "output_type": "stream",
     "text": [
      "/Users/mathieudbt/.pyenv/versions/3.8.12/envs/steamator/lib/python3.8/site-packages/tpot/builtins/__init__.py:36: UserWarning: Warning: optional dependency `torch` is not available. - skipping import of NN models.\n",
      "  warnings.warn(\"Warning: optional dependency `torch` is not available. - skipping import of NN models.\")\n",
      "/Users/mathieudbt/.pyenv/versions/3.8.12/envs/steamator/lib/python3.8/site-packages/tpot/builtins/__init__.py:36: UserWarning: Warning: optional dependency `torch` is not available. - skipping import of NN models.\n",
      "  warnings.warn(\"Warning: optional dependency `torch` is not available. - skipping import of NN models.\")\n",
      "/Users/mathieudbt/.pyenv/versions/3.8.12/envs/steamator/lib/python3.8/site-packages/tpot/builtins/__init__.py:36: UserWarning: Warning: optional dependency `torch` is not available. - skipping import of NN models.\n",
      "  warnings.warn(\"Warning: optional dependency `torch` is not available. - skipping import of NN models.\")\n",
      "/Users/mathieudbt/.pyenv/versions/3.8.12/envs/steamator/lib/python3.8/site-packages/tpot/builtins/__init__.py:36: UserWarning: Warning: optional dependency `torch` is not available. - skipping import of NN models.\n",
      "  warnings.warn(\"Warning: optional dependency `torch` is not available. - skipping import of NN models.\")\n",
      "/Users/mathieudbt/.pyenv/versions/3.8.12/envs/steamator/lib/python3.8/site-packages/tpot/builtins/__init__.py:36: UserWarning: Warning: optional dependency `torch` is not available. - skipping import of NN models.\n",
      "  warnings.warn(\"Warning: optional dependency `torch` is not available. - skipping import of NN models.\")\n",
      "/Users/mathieudbt/.pyenv/versions/3.8.12/envs/steamator/lib/python3.8/site-packages/tpot/builtins/__init__.py:36: UserWarning: Warning: optional dependency `torch` is not available. - skipping import of NN models.\n",
      "  warnings.warn(\"Warning: optional dependency `torch` is not available. - skipping import of NN models.\")\n",
      "/Users/mathieudbt/.pyenv/versions/3.8.12/envs/steamator/lib/python3.8/site-packages/tpot/builtins/__init__.py:36: UserWarning: Warning: optional dependency `torch` is not available. - skipping import of NN models.\n",
      "  warnings.warn(\"Warning: optional dependency `torch` is not available. - skipping import of NN models.\")\n",
      "/Users/mathieudbt/.pyenv/versions/3.8.12/envs/steamator/lib/python3.8/site-packages/tpot/builtins/__init__.py:36: UserWarning: Warning: optional dependency `torch` is not available. - skipping import of NN models.\n",
      "  warnings.warn(\"Warning: optional dependency `torch` is not available. - skipping import of NN models.\")\n"
     ]
    }
   ],
   "source": [
    "# instanciate TPOTRegressor\n",
    "tpot = TPOTRegressor(generations=4, population_size=50, verbosity=2, scoring='r2', n_jobs=-1, cv=5)\n",
    "# process autoML with TPOT\n",
    "tpot.fit(Xa_train, ya_train)\n",
    "\n",
    "# print score\n",
    "print(tpot.score(Xa_test, ya_test))"
   ]
  },
  {
   "cell_type": "code",
   "execution_count": null,
   "id": "0e670594-77f9-44bd-a9b4-3b337c81e91e",
   "metadata": {},
   "outputs": [],
   "source": []
  },
  {
   "cell_type": "markdown",
   "id": "0ff5e47f-6a64-4231-88d4-063bcc20b54a",
   "metadata": {
    "jp-MarkdownHeadingCollapsed": true,
    "tags": []
   },
   "source": [
    "## TEST modèle en enlevant les jeux < 1 €\n"
   ]
  },
  {
   "cell_type": "code",
   "execution_count": 91,
   "id": "1a500615-c316-41e0-80e5-e1c56d350eb7",
   "metadata": {},
   "outputs": [],
   "source": [
    "dfa = dfa[dfa['price']>= 1]"
   ]
  },
  {
   "cell_type": "code",
   "execution_count": 92,
   "id": "13dcdd51-637a-49c2-a698-77119b4b19aa",
   "metadata": {},
   "outputs": [],
   "source": [
    "Xa_ = dfa.drop(columns=['steam_appid', 'name', 'top_5_tags','score_descriptif','owner_estimated','','sells_per_days'])"
   ]
  },
  {
   "cell_type": "code",
   "execution_count": 93,
   "id": "6dbff8a2-ca4c-4823-b46f-0882ae5c2696",
   "metadata": {},
   "outputs": [],
   "source": [
    "ya_ = dfa['owner_estimated']"
   ]
  },
  {
   "cell_type": "code",
   "execution_count": 94,
   "id": "f5e99b87-691f-4b79-a1b7-8f5d648d4e28",
   "metadata": {},
   "outputs": [],
   "source": [
    "Xa__train, Xa__test, ya__train, ya__test = train_test_split(Xa_, ya_, test_size = 0.3, random_state = 0)"
   ]
  },
  {
   "cell_type": "code",
   "execution_count": 95,
   "id": "351ffeaa-7bb6-4e64-9dec-5905099b2fd1",
   "metadata": {},
   "outputs": [
    {
     "name": "stderr",
     "output_type": "stream",
     "text": [
      "/Users/mathieudbt/.pyenv/versions/3.8.12/envs/steamator/lib/python3.8/site-packages/tpot/builtins/__init__.py:36: UserWarning: Warning: optional dependency `torch` is not available. - skipping import of NN models.\n",
      "  warnings.warn(\"Warning: optional dependency `torch` is not available. - skipping import of NN models.\")\n",
      "/Users/mathieudbt/.pyenv/versions/3.8.12/envs/steamator/lib/python3.8/site-packages/tpot/builtins/__init__.py:36: UserWarning: Warning: optional dependency `torch` is not available. - skipping import of NN models.\n",
      "  warnings.warn(\"Warning: optional dependency `torch` is not available. - skipping import of NN models.\")\n",
      "/Users/mathieudbt/.pyenv/versions/3.8.12/envs/steamator/lib/python3.8/site-packages/tpot/builtins/__init__.py:36: UserWarning: Warning: optional dependency `torch` is not available. - skipping import of NN models.\n",
      "  warnings.warn(\"Warning: optional dependency `torch` is not available. - skipping import of NN models.\")\n",
      "/Users/mathieudbt/.pyenv/versions/3.8.12/envs/steamator/lib/python3.8/site-packages/tpot/builtins/__init__.py:36: UserWarning: Warning: optional dependency `torch` is not available. - skipping import of NN models.\n",
      "  warnings.warn(\"Warning: optional dependency `torch` is not available. - skipping import of NN models.\")\n",
      "/Users/mathieudbt/.pyenv/versions/3.8.12/envs/steamator/lib/python3.8/site-packages/tpot/builtins/__init__.py:36: UserWarning: Warning: optional dependency `torch` is not available. - skipping import of NN models.\n",
      "  warnings.warn(\"Warning: optional dependency `torch` is not available. - skipping import of NN models.\")\n",
      "/Users/mathieudbt/.pyenv/versions/3.8.12/envs/steamator/lib/python3.8/site-packages/tpot/builtins/__init__.py:36: UserWarning: Warning: optional dependency `torch` is not available. - skipping import of NN models.\n",
      "  warnings.warn(\"Warning: optional dependency `torch` is not available. - skipping import of NN models.\")\n",
      "/Users/mathieudbt/.pyenv/versions/3.8.12/envs/steamator/lib/python3.8/site-packages/tpot/builtins/__init__.py:36: UserWarning: Warning: optional dependency `torch` is not available. - skipping import of NN models.\n",
      "  warnings.warn(\"Warning: optional dependency `torch` is not available. - skipping import of NN models.\")\n",
      "/Users/mathieudbt/.pyenv/versions/3.8.12/envs/steamator/lib/python3.8/site-packages/tpot/builtins/__init__.py:36: UserWarning: Warning: optional dependency `torch` is not available. - skipping import of NN models.\n",
      "  warnings.warn(\"Warning: optional dependency `torch` is not available. - skipping import of NN models.\")\n"
     ]
    },
    {
     "name": "stdout",
     "output_type": "stream",
     "text": [
      "0.402545218410001\n"
     ]
    }
   ],
   "source": [
    "forest = RandomForestRegressor(\n",
    "                               bootstrap=True, \n",
    "                               max_features=0.4, \n",
    "                               min_samples_leaf=14, \n",
    "                               n_estimators=100,\n",
    "                               min_samples_split=14)\n",
    "\n",
    "linear = LinearSVR(C=0.01, \n",
    "                  dual=False, \n",
    "                  epsilon=0.001, \n",
    "                  loss='squared_epsilon_insensitive', \n",
    "                  tol=0.0001)\n",
    "\n",
    "xgb = XGBRegressor(max_depth=10, n_estimators=100, learning_rate=0.1)\n",
    "\n",
    "estimators = [\n",
    "    ('lr', forest),\n",
    "    ('svr', LinearSVR(random_state=42)),\n",
    "    ('xgb', xgb)\n",
    "]\n",
    "\n",
    "\n",
    "ensemble = StackingRegressor(\n",
    "    estimators = estimators,\n",
    "    final_estimator = LinearRegression())\n",
    "\n",
    "scores = cross_val_score(ensemble, Xa_, ya_, cv=5) # Cross validate\n",
    "\n",
    "print(scores.mean())"
   ]
  },
  {
   "cell_type": "code",
   "execution_count": 99,
   "id": "2bc0ace7-7770-4edd-8586-71f98c42e06a",
   "metadata": {},
   "outputs": [
    {
     "data": {
      "text/plain": [
       "StackingRegressor(estimators=[('lr',\n",
       "                               RandomForestRegressor(max_features=0.4,\n",
       "                                                     min_samples_leaf=14,\n",
       "                                                     min_samples_split=14)),\n",
       "                              ('svr', LinearSVR(random_state=42)),\n",
       "                              ('xgb',\n",
       "                               XGBRegressor(base_score=None, booster=None,\n",
       "                                            colsample_bylevel=None,\n",
       "                                            colsample_bynode=None,\n",
       "                                            colsample_bytree=None,\n",
       "                                            enable_categorical=False,\n",
       "                                            gamma=None, gpu_id=None,\n",
       "                                            importance_type=None,\n",
       "                                            interaction_...\n",
       "                                            learning_rate=0.1,\n",
       "                                            max_delta_step=None, max_depth=10,\n",
       "                                            min_child_weight=None, missing=nan,\n",
       "                                            monotone_constraints=None,\n",
       "                                            n_estimators=100, n_jobs=None,\n",
       "                                            num_parallel_tree=None,\n",
       "                                            predictor=None, random_state=None,\n",
       "                                            reg_alpha=None, reg_lambda=None,\n",
       "                                            scale_pos_weight=None,\n",
       "                                            subsample=None, tree_method=None,\n",
       "                                            validate_parameters=None,\n",
       "                                            verbosity=None))],\n",
       "                  final_estimator=LinearRegression())"
      ]
     },
     "execution_count": 99,
     "metadata": {},
     "output_type": "execute_result"
    }
   ],
   "source": [
    "ensemble.fit(Xa__train, ya__train)"
   ]
  },
  {
   "cell_type": "code",
   "execution_count": 102,
   "id": "0a58235e-aa0c-41eb-acbb-c0482e24fd1f",
   "metadata": {},
   "outputs": [],
   "source": [
    "ow_df = ensemble.predict(Xa__test)"
   ]
  },
  {
   "cell_type": "code",
   "execution_count": 103,
   "id": "ed5fd577-5cef-4bf4-8f65-ddc73ca5a012",
   "metadata": {},
   "outputs": [],
   "source": [
    "o_df = pd.DataFrame(ow_df)"
   ]
  },
  {
   "cell_type": "code",
   "execution_count": 104,
   "id": "225648e5-318c-4593-aea8-9649a698d74a",
   "metadata": {},
   "outputs": [
    {
     "data": {
      "text/html": [
       "<div>\n",
       "<style scoped>\n",
       "    .dataframe tbody tr th:only-of-type {\n",
       "        vertical-align: middle;\n",
       "    }\n",
       "\n",
       "    .dataframe tbody tr th {\n",
       "        vertical-align: top;\n",
       "    }\n",
       "\n",
       "    .dataframe thead th {\n",
       "        text-align: right;\n",
       "    }\n",
       "</style>\n",
       "<table border=\"1\" class=\"dataframe\">\n",
       "  <thead>\n",
       "    <tr style=\"text-align: right;\">\n",
       "      <th></th>\n",
       "      <th>0</th>\n",
       "    </tr>\n",
       "  </thead>\n",
       "  <tbody>\n",
       "    <tr>\n",
       "      <th>0</th>\n",
       "      <td>5446.651532</td>\n",
       "    </tr>\n",
       "    <tr>\n",
       "      <th>1</th>\n",
       "      <td>7678.388311</td>\n",
       "    </tr>\n",
       "    <tr>\n",
       "      <th>2</th>\n",
       "      <td>2013.884473</td>\n",
       "    </tr>\n",
       "    <tr>\n",
       "      <th>3</th>\n",
       "      <td>926.763287</td>\n",
       "    </tr>\n",
       "    <tr>\n",
       "      <th>4</th>\n",
       "      <td>3091.082033</td>\n",
       "    </tr>\n",
       "    <tr>\n",
       "      <th>...</th>\n",
       "      <td>...</td>\n",
       "    </tr>\n",
       "    <tr>\n",
       "      <th>4431</th>\n",
       "      <td>2046.351629</td>\n",
       "    </tr>\n",
       "    <tr>\n",
       "      <th>4432</th>\n",
       "      <td>1346.290096</td>\n",
       "    </tr>\n",
       "    <tr>\n",
       "      <th>4433</th>\n",
       "      <td>12671.608340</td>\n",
       "    </tr>\n",
       "    <tr>\n",
       "      <th>4434</th>\n",
       "      <td>8315.913311</td>\n",
       "    </tr>\n",
       "    <tr>\n",
       "      <th>4435</th>\n",
       "      <td>1598.385208</td>\n",
       "    </tr>\n",
       "  </tbody>\n",
       "</table>\n",
       "<p>4436 rows × 1 columns</p>\n",
       "</div>"
      ],
      "text/plain": [
       "                 0\n",
       "0      5446.651532\n",
       "1      7678.388311\n",
       "2      2013.884473\n",
       "3       926.763287\n",
       "4      3091.082033\n",
       "...            ...\n",
       "4431   2046.351629\n",
       "4432   1346.290096\n",
       "4433  12671.608340\n",
       "4434   8315.913311\n",
       "4435   1598.385208\n",
       "\n",
       "[4436 rows x 1 columns]"
      ]
     },
     "execution_count": 104,
     "metadata": {},
     "output_type": "execute_result"
    }
   ],
   "source": [
    "o_df"
   ]
  },
  {
   "cell_type": "code",
   "execution_count": null,
   "id": "78ff124b-dc9a-4500-bccd-eac68d7b501d",
   "metadata": {},
   "outputs": [],
   "source": []
  },
  {
   "cell_type": "markdown",
   "id": "766f9d64-55f6-4636-a014-d045f902c931",
   "metadata": {},
   "source": [
    "#### Test tpot"
   ]
  },
  {
   "cell_type": "code",
   "execution_count": 96,
   "id": "12a0334e-9bd1-4963-b7d1-f08dbc45dd94",
   "metadata": {},
   "outputs": [
    {
     "data": {
      "application/vnd.jupyter.widget-view+json": {
       "model_id": "",
       "version_major": 2,
       "version_minor": 0
      },
      "text/plain": [
       "Optimization Progress:   0%|          | 0/250 [00:00<?, ?pipeline/s]"
      ]
     },
     "metadata": {},
     "output_type": "display_data"
    },
    {
     "name": "stdout",
     "output_type": "stream",
     "text": [
      "\n",
      "Generation 1 - Current best internal CV score: 0.4821433933167252\n",
      "\n",
      "Generation 2 - Current best internal CV score: 0.4821433933167252\n",
      "\n",
      "Generation 3 - Current best internal CV score: 0.4821433933167252\n",
      "\n",
      "Generation 4 - Current best internal CV score: 0.4821433933167252\n",
      "\n",
      "Best pipeline: XGBRegressor(input_matrix, learning_rate=0.5, max_depth=3, min_child_weight=17, n_estimators=100, n_jobs=1, objective=reg:squarederror, subsample=0.9000000000000001, verbosity=0)\n",
      "0.47440452171201763\n"
     ]
    }
   ],
   "source": [
    "# instanciate TPOTRegressor\n",
    "tpot = TPOTRegressor(generations=4, population_size=50, verbosity=2, scoring='r2', n_jobs=-1, cv=5)\n",
    "# process autoML with TPOT\n",
    "tpot.fit(Xa__train, ya__train)\n",
    "\n",
    "# print score\n",
    "print(tpot.score(Xa__test, ya__test))"
   ]
  },
  {
   "cell_type": "code",
   "execution_count": null,
   "id": "bac168ae-8ff6-4a2f-9976-babccf506eb3",
   "metadata": {},
   "outputs": [],
   "source": []
  }
 ],
 "metadata": {
  "kernelspec": {
   "display_name": "Python 3 (ipykernel)",
   "language": "python",
   "name": "python3"
  },
  "language_info": {
   "codemirror_mode": {
    "name": "ipython",
    "version": 3
   },
   "file_extension": ".py",
   "mimetype": "text/x-python",
   "name": "python",
   "nbconvert_exporter": "python",
   "pygments_lexer": "ipython3",
   "version": "3.8.12"
  }
 },
 "nbformat": 4,
 "nbformat_minor": 5
}
