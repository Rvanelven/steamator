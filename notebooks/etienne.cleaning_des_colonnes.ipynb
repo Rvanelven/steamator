{
 "cells": [
  {
   "cell_type": "markdown",
   "id": "1858b6ac",
   "metadata": {
    "heading_collapsed": true
   },
   "source": [
    "# Prework"
   ]
  },
  {
   "cell_type": "markdown",
   "id": "4ea5ddbe",
   "metadata": {
    "hidden": true
   },
   "source": [
    "Import"
   ]
  },
  {
   "cell_type": "code",
   "execution_count": 1,
   "id": "55023d38",
   "metadata": {
    "hidden": true
   },
   "outputs": [],
   "source": [
    "import pandas as pd\n",
    "import matplotlib.pyplot as plt\n",
    "from sklearn.preprocessing import OneHotEncoder\n",
    "import seaborn as sns\n",
    "import numpy as np"
   ]
  },
  {
   "cell_type": "markdown",
   "id": "92dce1d2",
   "metadata": {
    "hidden": true
   },
   "source": [
    "Chargeons le dataframe"
   ]
  },
  {
   "cell_type": "code",
   "execution_count": 2,
   "id": "9722fc4b",
   "metadata": {
    "hidden": true
   },
   "outputs": [],
   "source": [
    "data = pd.read_csv('../raw_data/data_full.csv')"
   ]
  },
  {
   "cell_type": "code",
   "execution_count": 3,
   "id": "b244f494",
   "metadata": {
    "hidden": true
   },
   "outputs": [
    {
     "data": {
      "text/plain": [
       "0-20000                18530\n",
       "20000-50000             3018\n",
       "50000-100000            1675\n",
       "100000-200000           1367\n",
       "200000-500000           1240\n",
       "500000-1000000           493\n",
       "1000000-2000000          286\n",
       "2000000-5000000          191\n",
       "5000000-10000000          42\n",
       "10000000-20000000         20\n",
       "20000000-50000000          3\n",
       "50000000-100000000         2\n",
       "100000000-200000000        1\n",
       "Name: owners, dtype: int64"
      ]
     },
     "execution_count": 3,
     "metadata": {},
     "output_type": "execute_result"
    }
   ],
   "source": [
    "data.owners.value_counts()"
   ]
  },
  {
   "cell_type": "code",
   "execution_count": 4,
   "id": "d7ee37e7",
   "metadata": {
    "hidden": true
   },
   "outputs": [
    {
     "data": {
      "text/html": [
       "<div>\n",
       "<style scoped>\n",
       "    .dataframe tbody tr th:only-of-type {\n",
       "        vertical-align: middle;\n",
       "    }\n",
       "\n",
       "    .dataframe tbody tr th {\n",
       "        vertical-align: top;\n",
       "    }\n",
       "\n",
       "    .dataframe thead th {\n",
       "        text-align: right;\n",
       "    }\n",
       "</style>\n",
       "<table border=\"1\" class=\"dataframe\">\n",
       "  <thead>\n",
       "    <tr style=\"text-align: right;\">\n",
       "      <th></th>\n",
       "      <th>steam_appid</th>\n",
       "      <th>name</th>\n",
       "      <th>release_date</th>\n",
       "      <th>english</th>\n",
       "      <th>developer</th>\n",
       "      <th>publisher</th>\n",
       "      <th>platforms</th>\n",
       "      <th>required_age</th>\n",
       "      <th>categories</th>\n",
       "      <th>genres</th>\n",
       "      <th>...</th>\n",
       "      <th>warhammer_40k</th>\n",
       "      <th>web_publishing</th>\n",
       "      <th>werewolves</th>\n",
       "      <th>western</th>\n",
       "      <th>word_game</th>\n",
       "      <th>world_war_i</th>\n",
       "      <th>world_war_ii</th>\n",
       "      <th>wrestling</th>\n",
       "      <th>zombies</th>\n",
       "      <th>e_sports</th>\n",
       "    </tr>\n",
       "  </thead>\n",
       "  <tbody>\n",
       "    <tr>\n",
       "      <th>0</th>\n",
       "      <td>10</td>\n",
       "      <td>Counter-Strike</td>\n",
       "      <td>2000-11-01</td>\n",
       "      <td>1</td>\n",
       "      <td>Valve</td>\n",
       "      <td>Valve</td>\n",
       "      <td>windows;mac;linux</td>\n",
       "      <td>0</td>\n",
       "      <td>Multi-player;Online Multi-Player;Local Multi-P...</td>\n",
       "      <td>Action</td>\n",
       "      <td>...</td>\n",
       "      <td>0</td>\n",
       "      <td>0</td>\n",
       "      <td>0</td>\n",
       "      <td>0</td>\n",
       "      <td>0</td>\n",
       "      <td>0</td>\n",
       "      <td>0</td>\n",
       "      <td>0</td>\n",
       "      <td>0</td>\n",
       "      <td>550</td>\n",
       "    </tr>\n",
       "    <tr>\n",
       "      <th>1</th>\n",
       "      <td>30</td>\n",
       "      <td>Day of Defeat</td>\n",
       "      <td>2003-05-01</td>\n",
       "      <td>1</td>\n",
       "      <td>Valve</td>\n",
       "      <td>Valve</td>\n",
       "      <td>windows;mac;linux</td>\n",
       "      <td>0</td>\n",
       "      <td>Multi-player;Valve Anti-Cheat enabled</td>\n",
       "      <td>Action</td>\n",
       "      <td>...</td>\n",
       "      <td>0</td>\n",
       "      <td>0</td>\n",
       "      <td>0</td>\n",
       "      <td>0</td>\n",
       "      <td>0</td>\n",
       "      <td>5</td>\n",
       "      <td>122</td>\n",
       "      <td>0</td>\n",
       "      <td>0</td>\n",
       "      <td>0</td>\n",
       "    </tr>\n",
       "    <tr>\n",
       "      <th>2</th>\n",
       "      <td>50</td>\n",
       "      <td>Half-Life: Opposing Force</td>\n",
       "      <td>1999-11-01</td>\n",
       "      <td>1</td>\n",
       "      <td>Gearbox Software</td>\n",
       "      <td>Valve</td>\n",
       "      <td>windows;mac;linux</td>\n",
       "      <td>0</td>\n",
       "      <td>Single-player;Multi-player;Valve Anti-Cheat en...</td>\n",
       "      <td>Action</td>\n",
       "      <td>...</td>\n",
       "      <td>0</td>\n",
       "      <td>0</td>\n",
       "      <td>0</td>\n",
       "      <td>0</td>\n",
       "      <td>0</td>\n",
       "      <td>0</td>\n",
       "      <td>0</td>\n",
       "      <td>0</td>\n",
       "      <td>0</td>\n",
       "      <td>0</td>\n",
       "    </tr>\n",
       "    <tr>\n",
       "      <th>3</th>\n",
       "      <td>70</td>\n",
       "      <td>Half-Life</td>\n",
       "      <td>1998-11-08</td>\n",
       "      <td>1</td>\n",
       "      <td>Valve</td>\n",
       "      <td>Valve</td>\n",
       "      <td>windows;mac;linux</td>\n",
       "      <td>0</td>\n",
       "      <td>Single-player;Multi-player;Online Multi-Player...</td>\n",
       "      <td>Action</td>\n",
       "      <td>...</td>\n",
       "      <td>0</td>\n",
       "      <td>0</td>\n",
       "      <td>0</td>\n",
       "      <td>0</td>\n",
       "      <td>0</td>\n",
       "      <td>0</td>\n",
       "      <td>0</td>\n",
       "      <td>0</td>\n",
       "      <td>0</td>\n",
       "      <td>0</td>\n",
       "    </tr>\n",
       "    <tr>\n",
       "      <th>4</th>\n",
       "      <td>80</td>\n",
       "      <td>Counter-Strike: Condition Zero</td>\n",
       "      <td>2004-03-01</td>\n",
       "      <td>1</td>\n",
       "      <td>Valve</td>\n",
       "      <td>Valve</td>\n",
       "      <td>windows;mac;linux</td>\n",
       "      <td>0</td>\n",
       "      <td>Single-player;Multi-player;Valve Anti-Cheat en...</td>\n",
       "      <td>Action</td>\n",
       "      <td>...</td>\n",
       "      <td>0</td>\n",
       "      <td>0</td>\n",
       "      <td>0</td>\n",
       "      <td>0</td>\n",
       "      <td>0</td>\n",
       "      <td>0</td>\n",
       "      <td>0</td>\n",
       "      <td>0</td>\n",
       "      <td>0</td>\n",
       "      <td>0</td>\n",
       "    </tr>\n",
       "    <tr>\n",
       "      <th>5</th>\n",
       "      <td>130</td>\n",
       "      <td>Half-Life: Blue Shift</td>\n",
       "      <td>2001-06-01</td>\n",
       "      <td>1</td>\n",
       "      <td>Gearbox Software</td>\n",
       "      <td>Valve</td>\n",
       "      <td>windows;mac;linux</td>\n",
       "      <td>0</td>\n",
       "      <td>Single-player</td>\n",
       "      <td>Action</td>\n",
       "      <td>...</td>\n",
       "      <td>0</td>\n",
       "      <td>0</td>\n",
       "      <td>0</td>\n",
       "      <td>0</td>\n",
       "      <td>0</td>\n",
       "      <td>0</td>\n",
       "      <td>0</td>\n",
       "      <td>0</td>\n",
       "      <td>63</td>\n",
       "      <td>0</td>\n",
       "    </tr>\n",
       "    <tr>\n",
       "      <th>6</th>\n",
       "      <td>220</td>\n",
       "      <td>Half-Life 2</td>\n",
       "      <td>2004-11-16</td>\n",
       "      <td>1</td>\n",
       "      <td>Valve</td>\n",
       "      <td>Valve</td>\n",
       "      <td>windows;mac;linux</td>\n",
       "      <td>0</td>\n",
       "      <td>Single-player;Steam Achievements;Steam Trading...</td>\n",
       "      <td>Action</td>\n",
       "      <td>...</td>\n",
       "      <td>0</td>\n",
       "      <td>0</td>\n",
       "      <td>0</td>\n",
       "      <td>0</td>\n",
       "      <td>0</td>\n",
       "      <td>0</td>\n",
       "      <td>0</td>\n",
       "      <td>0</td>\n",
       "      <td>607</td>\n",
       "      <td>0</td>\n",
       "    </tr>\n",
       "    <tr>\n",
       "      <th>7</th>\n",
       "      <td>240</td>\n",
       "      <td>Counter-Strike: Source</td>\n",
       "      <td>2004-11-01</td>\n",
       "      <td>1</td>\n",
       "      <td>Valve</td>\n",
       "      <td>Valve</td>\n",
       "      <td>windows;mac;linux</td>\n",
       "      <td>0</td>\n",
       "      <td>Multi-player;Cross-Platform Multiplayer;Steam ...</td>\n",
       "      <td>Action</td>\n",
       "      <td>...</td>\n",
       "      <td>0</td>\n",
       "      <td>0</td>\n",
       "      <td>0</td>\n",
       "      <td>0</td>\n",
       "      <td>0</td>\n",
       "      <td>0</td>\n",
       "      <td>0</td>\n",
       "      <td>0</td>\n",
       "      <td>0</td>\n",
       "      <td>400</td>\n",
       "    </tr>\n",
       "    <tr>\n",
       "      <th>8</th>\n",
       "      <td>300</td>\n",
       "      <td>Day of Defeat: Source</td>\n",
       "      <td>2010-07-12</td>\n",
       "      <td>1</td>\n",
       "      <td>Valve</td>\n",
       "      <td>Valve</td>\n",
       "      <td>windows;mac;linux</td>\n",
       "      <td>0</td>\n",
       "      <td>Multi-player;Cross-Platform Multiplayer;Steam ...</td>\n",
       "      <td>Action</td>\n",
       "      <td>...</td>\n",
       "      <td>0</td>\n",
       "      <td>0</td>\n",
       "      <td>0</td>\n",
       "      <td>0</td>\n",
       "      <td>0</td>\n",
       "      <td>0</td>\n",
       "      <td>272</td>\n",
       "      <td>0</td>\n",
       "      <td>0</td>\n",
       "      <td>0</td>\n",
       "    </tr>\n",
       "    <tr>\n",
       "      <th>9</th>\n",
       "      <td>340</td>\n",
       "      <td>Half-Life 2: Lost Coast</td>\n",
       "      <td>2005-10-27</td>\n",
       "      <td>1</td>\n",
       "      <td>Valve</td>\n",
       "      <td>Valve</td>\n",
       "      <td>windows;mac;linux</td>\n",
       "      <td>0</td>\n",
       "      <td>Single-player;Commentary available</td>\n",
       "      <td>Action</td>\n",
       "      <td>...</td>\n",
       "      <td>0</td>\n",
       "      <td>0</td>\n",
       "      <td>0</td>\n",
       "      <td>0</td>\n",
       "      <td>0</td>\n",
       "      <td>0</td>\n",
       "      <td>0</td>\n",
       "      <td>0</td>\n",
       "      <td>0</td>\n",
       "      <td>0</td>\n",
       "    </tr>\n",
       "    <tr>\n",
       "      <th>10</th>\n",
       "      <td>380</td>\n",
       "      <td>Half-Life 2: Episode One</td>\n",
       "      <td>2006-06-01</td>\n",
       "      <td>1</td>\n",
       "      <td>Valve</td>\n",
       "      <td>Valve</td>\n",
       "      <td>windows;mac;linux</td>\n",
       "      <td>0</td>\n",
       "      <td>Single-player;Steam Achievements;Captions avai...</td>\n",
       "      <td>Action</td>\n",
       "      <td>...</td>\n",
       "      <td>0</td>\n",
       "      <td>0</td>\n",
       "      <td>0</td>\n",
       "      <td>0</td>\n",
       "      <td>0</td>\n",
       "      <td>0</td>\n",
       "      <td>0</td>\n",
       "      <td>0</td>\n",
       "      <td>148</td>\n",
       "      <td>0</td>\n",
       "    </tr>\n",
       "    <tr>\n",
       "      <th>11</th>\n",
       "      <td>400</td>\n",
       "      <td>Portal</td>\n",
       "      <td>2007-10-10</td>\n",
       "      <td>1</td>\n",
       "      <td>Valve</td>\n",
       "      <td>Valve</td>\n",
       "      <td>windows;mac;linux</td>\n",
       "      <td>0</td>\n",
       "      <td>Single-player;Steam Achievements;Captions avai...</td>\n",
       "      <td>Action</td>\n",
       "      <td>...</td>\n",
       "      <td>0</td>\n",
       "      <td>0</td>\n",
       "      <td>0</td>\n",
       "      <td>0</td>\n",
       "      <td>0</td>\n",
       "      <td>0</td>\n",
       "      <td>0</td>\n",
       "      <td>0</td>\n",
       "      <td>0</td>\n",
       "      <td>0</td>\n",
       "    </tr>\n",
       "    <tr>\n",
       "      <th>12</th>\n",
       "      <td>420</td>\n",
       "      <td>Half-Life 2: Episode Two</td>\n",
       "      <td>2007-10-10</td>\n",
       "      <td>1</td>\n",
       "      <td>Valve</td>\n",
       "      <td>Valve</td>\n",
       "      <td>windows;mac;linux</td>\n",
       "      <td>0</td>\n",
       "      <td>Single-player;Steam Achievements;Captions avai...</td>\n",
       "      <td>Action</td>\n",
       "      <td>...</td>\n",
       "      <td>0</td>\n",
       "      <td>0</td>\n",
       "      <td>0</td>\n",
       "      <td>0</td>\n",
       "      <td>0</td>\n",
       "      <td>0</td>\n",
       "      <td>0</td>\n",
       "      <td>0</td>\n",
       "      <td>160</td>\n",
       "      <td>0</td>\n",
       "    </tr>\n",
       "    <tr>\n",
       "      <th>13</th>\n",
       "      <td>440</td>\n",
       "      <td>Team Fortress 2</td>\n",
       "      <td>2007-10-10</td>\n",
       "      <td>1</td>\n",
       "      <td>Valve</td>\n",
       "      <td>Valve</td>\n",
       "      <td>windows;mac;linux</td>\n",
       "      <td>0</td>\n",
       "      <td>Multi-player;Cross-Platform Multiplayer;Steam ...</td>\n",
       "      <td>Action;Free to Play</td>\n",
       "      <td>...</td>\n",
       "      <td>0</td>\n",
       "      <td>0</td>\n",
       "      <td>0</td>\n",
       "      <td>0</td>\n",
       "      <td>0</td>\n",
       "      <td>0</td>\n",
       "      <td>0</td>\n",
       "      <td>0</td>\n",
       "      <td>0</td>\n",
       "      <td>0</td>\n",
       "    </tr>\n",
       "    <tr>\n",
       "      <th>14</th>\n",
       "      <td>500</td>\n",
       "      <td>Left 4 Dead</td>\n",
       "      <td>2008-11-17</td>\n",
       "      <td>1</td>\n",
       "      <td>Valve</td>\n",
       "      <td>Valve</td>\n",
       "      <td>windows;mac</td>\n",
       "      <td>0</td>\n",
       "      <td>Single-player;Multi-player;Co-op;Steam Achieve...</td>\n",
       "      <td>Action</td>\n",
       "      <td>...</td>\n",
       "      <td>0</td>\n",
       "      <td>0</td>\n",
       "      <td>0</td>\n",
       "      <td>0</td>\n",
       "      <td>0</td>\n",
       "      <td>0</td>\n",
       "      <td>0</td>\n",
       "      <td>0</td>\n",
       "      <td>1064</td>\n",
       "      <td>0</td>\n",
       "    </tr>\n",
       "    <tr>\n",
       "      <th>15</th>\n",
       "      <td>550</td>\n",
       "      <td>Left 4 Dead 2</td>\n",
       "      <td>2009-11-19</td>\n",
       "      <td>1</td>\n",
       "      <td>Valve</td>\n",
       "      <td>Valve</td>\n",
       "      <td>windows;mac;linux</td>\n",
       "      <td>0</td>\n",
       "      <td>Single-player;Multi-player;Co-op;Steam Achieve...</td>\n",
       "      <td>Action</td>\n",
       "      <td>...</td>\n",
       "      <td>0</td>\n",
       "      <td>0</td>\n",
       "      <td>0</td>\n",
       "      <td>0</td>\n",
       "      <td>0</td>\n",
       "      <td>0</td>\n",
       "      <td>0</td>\n",
       "      <td>0</td>\n",
       "      <td>5334</td>\n",
       "      <td>0</td>\n",
       "    </tr>\n",
       "    <tr>\n",
       "      <th>16</th>\n",
       "      <td>570</td>\n",
       "      <td>Dota 2</td>\n",
       "      <td>2013-07-09</td>\n",
       "      <td>1</td>\n",
       "      <td>Valve</td>\n",
       "      <td>Valve</td>\n",
       "      <td>windows;mac;linux</td>\n",
       "      <td>0</td>\n",
       "      <td>Multi-player;Co-op;Steam Trading Cards;Steam W...</td>\n",
       "      <td>Action;Free to Play;Strategy</td>\n",
       "      <td>...</td>\n",
       "      <td>0</td>\n",
       "      <td>0</td>\n",
       "      <td>0</td>\n",
       "      <td>0</td>\n",
       "      <td>0</td>\n",
       "      <td>0</td>\n",
       "      <td>0</td>\n",
       "      <td>0</td>\n",
       "      <td>0</td>\n",
       "      <td>4768</td>\n",
       "    </tr>\n",
       "    <tr>\n",
       "      <th>17</th>\n",
       "      <td>620</td>\n",
       "      <td>Portal 2</td>\n",
       "      <td>2011-04-18</td>\n",
       "      <td>1</td>\n",
       "      <td>Valve</td>\n",
       "      <td>Valve</td>\n",
       "      <td>windows;mac;linux</td>\n",
       "      <td>0</td>\n",
       "      <td>Single-player;Co-op;Steam Achievements;Full co...</td>\n",
       "      <td>Action;Adventure</td>\n",
       "      <td>...</td>\n",
       "      <td>0</td>\n",
       "      <td>0</td>\n",
       "      <td>0</td>\n",
       "      <td>0</td>\n",
       "      <td>0</td>\n",
       "      <td>0</td>\n",
       "      <td>0</td>\n",
       "      <td>0</td>\n",
       "      <td>0</td>\n",
       "      <td>0</td>\n",
       "    </tr>\n",
       "    <tr>\n",
       "      <th>18</th>\n",
       "      <td>630</td>\n",
       "      <td>Alien Swarm</td>\n",
       "      <td>2010-07-19</td>\n",
       "      <td>1</td>\n",
       "      <td>Valve</td>\n",
       "      <td>Valve</td>\n",
       "      <td>windows</td>\n",
       "      <td>0</td>\n",
       "      <td>Single-player;Multi-player;Co-op;Steam Achieve...</td>\n",
       "      <td>Action</td>\n",
       "      <td>...</td>\n",
       "      <td>0</td>\n",
       "      <td>0</td>\n",
       "      <td>0</td>\n",
       "      <td>0</td>\n",
       "      <td>0</td>\n",
       "      <td>0</td>\n",
       "      <td>0</td>\n",
       "      <td>0</td>\n",
       "      <td>0</td>\n",
       "      <td>0</td>\n",
       "    </tr>\n",
       "    <tr>\n",
       "      <th>19</th>\n",
       "      <td>730</td>\n",
       "      <td>Counter-Strike: Global Offensive</td>\n",
       "      <td>2012-08-21</td>\n",
       "      <td>1</td>\n",
       "      <td>Valve;Hidden Path Entertainment</td>\n",
       "      <td>Valve</td>\n",
       "      <td>windows;mac;linux</td>\n",
       "      <td>0</td>\n",
       "      <td>Multi-player;Steam Achievements;Full controlle...</td>\n",
       "      <td>Action;Free to Play</td>\n",
       "      <td>...</td>\n",
       "      <td>0</td>\n",
       "      <td>0</td>\n",
       "      <td>0</td>\n",
       "      <td>0</td>\n",
       "      <td>0</td>\n",
       "      <td>0</td>\n",
       "      <td>0</td>\n",
       "      <td>0</td>\n",
       "      <td>0</td>\n",
       "      <td>8406</td>\n",
       "    </tr>\n",
       "  </tbody>\n",
       "</table>\n",
       "<p>20 rows × 404 columns</p>\n",
       "</div>"
      ],
      "text/plain": [
       "    steam_appid                              name release_date  english  \\\n",
       "0            10                    Counter-Strike   2000-11-01        1   \n",
       "1            30                     Day of Defeat   2003-05-01        1   \n",
       "2            50         Half-Life: Opposing Force   1999-11-01        1   \n",
       "3            70                         Half-Life   1998-11-08        1   \n",
       "4            80    Counter-Strike: Condition Zero   2004-03-01        1   \n",
       "5           130             Half-Life: Blue Shift   2001-06-01        1   \n",
       "6           220                       Half-Life 2   2004-11-16        1   \n",
       "7           240            Counter-Strike: Source   2004-11-01        1   \n",
       "8           300             Day of Defeat: Source   2010-07-12        1   \n",
       "9           340           Half-Life 2: Lost Coast   2005-10-27        1   \n",
       "10          380          Half-Life 2: Episode One   2006-06-01        1   \n",
       "11          400                            Portal   2007-10-10        1   \n",
       "12          420          Half-Life 2: Episode Two   2007-10-10        1   \n",
       "13          440                   Team Fortress 2   2007-10-10        1   \n",
       "14          500                       Left 4 Dead   2008-11-17        1   \n",
       "15          550                     Left 4 Dead 2   2009-11-19        1   \n",
       "16          570                            Dota 2   2013-07-09        1   \n",
       "17          620                          Portal 2   2011-04-18        1   \n",
       "18          630                       Alien Swarm   2010-07-19        1   \n",
       "19          730  Counter-Strike: Global Offensive   2012-08-21        1   \n",
       "\n",
       "                          developer publisher          platforms  \\\n",
       "0                             Valve     Valve  windows;mac;linux   \n",
       "1                             Valve     Valve  windows;mac;linux   \n",
       "2                  Gearbox Software     Valve  windows;mac;linux   \n",
       "3                             Valve     Valve  windows;mac;linux   \n",
       "4                             Valve     Valve  windows;mac;linux   \n",
       "5                  Gearbox Software     Valve  windows;mac;linux   \n",
       "6                             Valve     Valve  windows;mac;linux   \n",
       "7                             Valve     Valve  windows;mac;linux   \n",
       "8                             Valve     Valve  windows;mac;linux   \n",
       "9                             Valve     Valve  windows;mac;linux   \n",
       "10                            Valve     Valve  windows;mac;linux   \n",
       "11                            Valve     Valve  windows;mac;linux   \n",
       "12                            Valve     Valve  windows;mac;linux   \n",
       "13                            Valve     Valve  windows;mac;linux   \n",
       "14                            Valve     Valve        windows;mac   \n",
       "15                            Valve     Valve  windows;mac;linux   \n",
       "16                            Valve     Valve  windows;mac;linux   \n",
       "17                            Valve     Valve  windows;mac;linux   \n",
       "18                            Valve     Valve            windows   \n",
       "19  Valve;Hidden Path Entertainment     Valve  windows;mac;linux   \n",
       "\n",
       "    required_age                                         categories  \\\n",
       "0              0  Multi-player;Online Multi-Player;Local Multi-P...   \n",
       "1              0              Multi-player;Valve Anti-Cheat enabled   \n",
       "2              0  Single-player;Multi-player;Valve Anti-Cheat en...   \n",
       "3              0  Single-player;Multi-player;Online Multi-Player...   \n",
       "4              0  Single-player;Multi-player;Valve Anti-Cheat en...   \n",
       "5              0                                      Single-player   \n",
       "6              0  Single-player;Steam Achievements;Steam Trading...   \n",
       "7              0  Multi-player;Cross-Platform Multiplayer;Steam ...   \n",
       "8              0  Multi-player;Cross-Platform Multiplayer;Steam ...   \n",
       "9              0                 Single-player;Commentary available   \n",
       "10             0  Single-player;Steam Achievements;Captions avai...   \n",
       "11             0  Single-player;Steam Achievements;Captions avai...   \n",
       "12             0  Single-player;Steam Achievements;Captions avai...   \n",
       "13             0  Multi-player;Cross-Platform Multiplayer;Steam ...   \n",
       "14             0  Single-player;Multi-player;Co-op;Steam Achieve...   \n",
       "15             0  Single-player;Multi-player;Co-op;Steam Achieve...   \n",
       "16             0  Multi-player;Co-op;Steam Trading Cards;Steam W...   \n",
       "17             0  Single-player;Co-op;Steam Achievements;Full co...   \n",
       "18             0  Single-player;Multi-player;Co-op;Steam Achieve...   \n",
       "19             0  Multi-player;Steam Achievements;Full controlle...   \n",
       "\n",
       "                          genres  ... warhammer_40k  web_publishing  \\\n",
       "0                         Action  ...             0               0   \n",
       "1                         Action  ...             0               0   \n",
       "2                         Action  ...             0               0   \n",
       "3                         Action  ...             0               0   \n",
       "4                         Action  ...             0               0   \n",
       "5                         Action  ...             0               0   \n",
       "6                         Action  ...             0               0   \n",
       "7                         Action  ...             0               0   \n",
       "8                         Action  ...             0               0   \n",
       "9                         Action  ...             0               0   \n",
       "10                        Action  ...             0               0   \n",
       "11                        Action  ...             0               0   \n",
       "12                        Action  ...             0               0   \n",
       "13           Action;Free to Play  ...             0               0   \n",
       "14                        Action  ...             0               0   \n",
       "15                        Action  ...             0               0   \n",
       "16  Action;Free to Play;Strategy  ...             0               0   \n",
       "17              Action;Adventure  ...             0               0   \n",
       "18                        Action  ...             0               0   \n",
       "19           Action;Free to Play  ...             0               0   \n",
       "\n",
       "    werewolves  western  word_game  world_war_i world_war_ii  wrestling  \\\n",
       "0            0        0          0            0            0          0   \n",
       "1            0        0          0            5          122          0   \n",
       "2            0        0          0            0            0          0   \n",
       "3            0        0          0            0            0          0   \n",
       "4            0        0          0            0            0          0   \n",
       "5            0        0          0            0            0          0   \n",
       "6            0        0          0            0            0          0   \n",
       "7            0        0          0            0            0          0   \n",
       "8            0        0          0            0          272          0   \n",
       "9            0        0          0            0            0          0   \n",
       "10           0        0          0            0            0          0   \n",
       "11           0        0          0            0            0          0   \n",
       "12           0        0          0            0            0          0   \n",
       "13           0        0          0            0            0          0   \n",
       "14           0        0          0            0            0          0   \n",
       "15           0        0          0            0            0          0   \n",
       "16           0        0          0            0            0          0   \n",
       "17           0        0          0            0            0          0   \n",
       "18           0        0          0            0            0          0   \n",
       "19           0        0          0            0            0          0   \n",
       "\n",
       "   zombies e_sports  \n",
       "0        0      550  \n",
       "1        0        0  \n",
       "2        0        0  \n",
       "3        0        0  \n",
       "4        0        0  \n",
       "5       63        0  \n",
       "6      607        0  \n",
       "7        0      400  \n",
       "8        0        0  \n",
       "9        0        0  \n",
       "10     148        0  \n",
       "11       0        0  \n",
       "12     160        0  \n",
       "13       0        0  \n",
       "14    1064        0  \n",
       "15    5334        0  \n",
       "16       0     4768  \n",
       "17       0        0  \n",
       "18       0        0  \n",
       "19       0     8406  \n",
       "\n",
       "[20 rows x 404 columns]"
      ]
     },
     "execution_count": 4,
     "metadata": {},
     "output_type": "execute_result"
    }
   ],
   "source": [
    "data.head(20)"
   ]
  },
  {
   "cell_type": "markdown",
   "id": "0d2b1431",
   "metadata": {
    "heading_collapsed": true
   },
   "source": [
    "# Retrait des colonnes non pertinentes"
   ]
  },
  {
   "cell_type": "markdown",
   "id": "e449d28f",
   "metadata": {
    "hidden": true
   },
   "source": [
    "Les colonnes de requirements sont abandonnées car peu pertinantes dans l'analyse du prix et des owners."
   ]
  },
  {
   "cell_type": "code",
   "execution_count": 5,
   "id": "347f08f1",
   "metadata": {
    "hidden": true
   },
   "outputs": [],
   "source": [
    "data.drop(columns=['pc_requirements', 'mac_requirements', 'linux_requirements', 'minimum', 'recommended'], inplace=True)"
   ]
  },
  {
   "cell_type": "markdown",
   "id": "3e108e60",
   "metadata": {
    "hidden": true
   },
   "source": [
    "De même les colonnes de support sont peu pertinantes pour nous."
   ]
  },
  {
   "cell_type": "code",
   "execution_count": 6,
   "id": "a92404ac",
   "metadata": {
    "hidden": true,
    "scrolled": true
   },
   "outputs": [],
   "source": [
    "data.drop(columns=['support_email', 'support_url'], inplace=True)"
   ]
  },
  {
   "cell_type": "markdown",
   "id": "d588f981",
   "metadata": {
    "hidden": true
   },
   "source": [
    "La colonne \"movies\" serait un peu trop complexe à analyser pour le moment, puisque qu'elle comprend des vidéos, et est très incomplète. "
   ]
  },
  {
   "cell_type": "code",
   "execution_count": 7,
   "id": "5835cc05",
   "metadata": {
    "hidden": true
   },
   "outputs": [],
   "source": [
    "data.drop(columns=['movies'], inplace=True)"
   ]
  },
  {
   "cell_type": "markdown",
   "id": "985d5bf7",
   "metadata": {
    "hidden": true
   },
   "source": [
    "La colonne \"age\" semble très incomplète. C'est pourquoi nous ne la prendront pas en compte."
   ]
  },
  {
   "cell_type": "code",
   "execution_count": 8,
   "id": "8c881164",
   "metadata": {
    "hidden": true
   },
   "outputs": [
    {
     "data": {
      "text/plain": [
       "0     26284\n",
       "18      307\n",
       "16      187\n",
       "12       67\n",
       "7        12\n",
       "3        11\n",
       "Name: required_age, dtype: int64"
      ]
     },
     "execution_count": 8,
     "metadata": {},
     "output_type": "execute_result"
    }
   ],
   "source": [
    "data['required_age'].value_counts()"
   ]
  },
  {
   "cell_type": "code",
   "execution_count": 9,
   "id": "522ad8af",
   "metadata": {
    "hidden": true
   },
   "outputs": [],
   "source": [
    "data.drop(columns=['required_age'], inplace=True)"
   ]
  },
  {
   "cell_type": "markdown",
   "id": "6844aa04",
   "metadata": {
    "heading_collapsed": true
   },
   "source": [
    "# Analyse des colonnes restantes"
   ]
  },
  {
   "cell_type": "markdown",
   "id": "9748117b",
   "metadata": {
    "hidden": true
   },
   "source": [
    "Il n'y a presque plus de valeurs manquantes et/ou nulles. (à l'exception de la colonne 'website')"
   ]
  },
  {
   "cell_type": "code",
   "execution_count": 10,
   "id": "45e4a445",
   "metadata": {
    "hidden": true
   },
   "outputs": [
    {
     "name": "stdout",
     "output_type": "stream",
     "text": [
      "steam_appid , 0\n",
      "name , 0\n",
      "release_date , 0\n",
      "english , 0\n",
      "developer , 0\n",
      "publisher , 0\n",
      "platforms , 0\n",
      "categories , 0\n",
      "genres , 0\n",
      "steamspy_tags , 0\n",
      "achievements , 0\n",
      "positive_ratings , 0\n",
      "negative_ratings , 0\n",
      "average_playtime , 0\n",
      "median_playtime , 0\n",
      "owners , 0\n",
      "price , 0\n",
      "detailed_description , 0\n",
      "about_the_game , 0\n",
      "short_description , 0\n",
      "header_image , 0\n",
      "screenshots , 0\n",
      "background , 0\n",
      "website , 8988\n",
      "1980s , 0\n",
      "1990s , 0\n",
      "2.5d , 0\n",
      "2d , 0\n",
      "2d_fighter , 0\n",
      "360_video , 0\n",
      "3d , 0\n",
      "3d_platformer , 0\n",
      "3d_vision , 0\n",
      "4_player_local , 0\n",
      "4x , 0\n",
      "6dof , 0\n",
      "atv , 0\n",
      "abstract , 0\n",
      "action , 0\n",
      "action_rpg , 0\n",
      "action_adventure , 0\n",
      "addictive , 0\n",
      "adventure , 0\n",
      "agriculture , 0\n",
      "aliens , 0\n",
      "alternate_history , 0\n",
      "america , 0\n",
      "animation_&_modeling , 0\n",
      "anime , 0\n",
      "arcade , 0\n",
      "arena_shooter , 0\n",
      "artificial_intelligence , 0\n",
      "assassin , 0\n",
      "asynchronous_multiplayer , 0\n",
      "atmospheric , 0\n",
      "audio_production , 0\n",
      "bmx , 0\n",
      "base_building , 0\n",
      "baseball , 0\n",
      "based_on_a_novel , 0\n",
      "basketball , 0\n",
      "batman , 0\n",
      "battle_royale , 0\n",
      "beat_em_up , 0\n",
      "beautiful , 0\n",
      "benchmark , 0\n",
      "bikes , 0\n",
      "blood , 0\n",
      "board_game , 0\n",
      "bowling , 0\n",
      "building , 0\n",
      "bullet_hell , 0\n",
      "bullet_time , 0\n",
      "crpg , 0\n",
      "capitalism , 0\n",
      "card_game , 0\n",
      "cartoon , 0\n",
      "cartoony , 0\n",
      "casual , 0\n",
      "cats , 0\n",
      "character_action_game , 0\n",
      "character_customization , 0\n",
      "chess , 0\n",
      "choices_matter , 0\n",
      "choose_your_own_adventure , 0\n",
      "cinematic , 0\n",
      "city_builder , 0\n",
      "class_based , 0\n",
      "classic , 0\n",
      "clicker , 0\n",
      "co_op , 0\n",
      "co_op_campaign , 0\n",
      "cold_war , 0\n",
      "colorful , 0\n",
      "comedy , 0\n",
      "comic_book , 0\n",
      "competitive , 0\n",
      "conspiracy , 0\n",
      "controller , 0\n",
      "conversation , 0\n",
      "crafting , 0\n",
      "crime , 0\n",
      "crowdfunded , 0\n",
      "cult_classic , 0\n",
      "cute , 0\n",
      "cyberpunk , 0\n",
      "cycling , 0\n",
      "dark , 0\n",
      "dark_comedy , 0\n",
      "dark_fantasy , 0\n",
      "dark_humor , 0\n",
      "dating_sim , 0\n",
      "demons , 0\n",
      "design_&_illustration , 0\n",
      "destruction , 0\n",
      "detective , 0\n",
      "difficult , 0\n",
      "dinosaurs , 0\n",
      "diplomacy , 0\n",
      "documentary , 0\n",
      "dog , 0\n",
      "dragons , 0\n",
      "drama , 0\n",
      "driving , 0\n",
      "dungeon_crawler , 0\n",
      "dungeons_&_dragons , 0\n",
      "dynamic_narration , 0\n",
      "dystopian_ , 0\n",
      "early_access , 0\n",
      "economy , 0\n",
      "education , 0\n",
      "emotional , 0\n",
      "epic , 0\n",
      "episodic , 0\n",
      "experience , 0\n",
      "experimental , 0\n",
      "exploration , 0\n",
      "fmv , 0\n",
      "fps , 0\n",
      "faith , 0\n",
      "family_friendly , 0\n",
      "fantasy , 0\n",
      "fast_paced , 0\n",
      "feature_film , 0\n",
      "female_protagonist , 0\n",
      "fighting , 0\n",
      "first_person , 0\n",
      "fishing , 0\n",
      "flight , 0\n",
      "football , 0\n",
      "foreign , 0\n",
      "free_to_play , 0\n",
      "funny , 0\n",
      "futuristic , 0\n",
      "gambling , 0\n",
      "game_development , 0\n",
      "gamemaker , 0\n",
      "games_workshop , 0\n",
      "gaming , 0\n",
      "god_game , 0\n",
      "golf , 0\n",
      "gore , 0\n",
      "gothic , 0\n",
      "grand_strategy , 0\n",
      "great_soundtrack , 0\n",
      "grid_based_movement , 0\n",
      "gun_customization , 0\n",
      "hack_and_slash , 0\n",
      "hacking , 0\n",
      "hand_drawn , 0\n",
      "hardware , 0\n",
      "heist , 0\n",
      "hex_grid , 0\n",
      "hidden_object , 0\n",
      "historical , 0\n",
      "hockey , 0\n",
      "horror , 0\n",
      "horses , 0\n",
      "hunting , 0\n",
      "illuminati , 0\n",
      "indie , 0\n",
      "intentionally_awkward_controls , 0\n",
      "interactive_fiction , 0\n",
      "inventory_management , 0\n",
      "investigation , 0\n",
      "isometric , 0\n",
      "jrpg , 0\n",
      "jet , 0\n",
      "kickstarter , 0\n",
      "lego , 0\n",
      "lara_croft , 0\n",
      "lemmings , 0\n",
      "level_editor , 0\n",
      "linear , 0\n",
      "local_co_op , 0\n",
      "local_multiplayer , 0\n",
      "logic , 0\n",
      "loot , 0\n",
      "lore_rich , 0\n",
      "lovecraftian , 0\n",
      "mmorpg , 0\n",
      "moba , 0\n",
      "magic , 0\n",
      "management , 0\n",
      "mars , 0\n",
      "martial_arts , 0\n",
      "massively_multiplayer , 0\n",
      "masterpiece , 0\n",
      "match_3 , 0\n",
      "mature , 0\n",
      "mechs , 0\n",
      "medieval , 0\n",
      "memes , 0\n",
      "metroidvania , 0\n",
      "military , 0\n",
      "mini_golf , 0\n",
      "minigames , 0\n",
      "minimalist , 0\n",
      "mining , 0\n",
      "mod , 0\n",
      "moddable , 0\n",
      "modern , 0\n",
      "motocross , 0\n",
      "motorbike , 0\n",
      "mouse_only , 0\n",
      "movie , 0\n",
      "multiplayer , 0\n",
      "multiple_endings , 0\n",
      "music , 0\n",
      "music_based_procedural_generation , 0\n",
      "mystery , 0\n",
      "mystery_dungeon , 0\n",
      "mythology , 0\n",
      "nsfw , 0\n",
      "narration , 0\n",
      "naval , 0\n",
      "ninja , 0\n",
      "noir , 0\n",
      "nonlinear , 0\n",
      "nudity , 0\n",
      "offroad , 0\n",
      "old_school , 0\n",
      "on_rails_shooter , 0\n",
      "online_co_op , 0\n",
      "open_world , 0\n",
      "otome , 0\n",
      "parkour , 0\n",
      "parody_ , 0\n",
      "party_based_rpg , 0\n",
      "perma_death , 0\n",
      "philisophical , 0\n",
      "photo_editing , 0\n",
      "physics , 0\n",
      "pinball , 0\n",
      "pirates , 0\n",
      "pixel_graphics , 0\n",
      "platformer , 0\n",
      "point_&_click , 0\n",
      "political , 0\n",
      "politics , 0\n",
      "pool , 0\n",
      "post_apocalyptic , 0\n",
      "procedural_generation , 0\n",
      "programming , 0\n",
      "psychedelic , 0\n",
      "psychological , 0\n",
      "psychological_horror , 0\n",
      "puzzle , 0\n",
      "puzzle_platformer , 0\n",
      "pve , 0\n",
      "pvp , 0\n",
      "quick_time_events , 0\n",
      "rpg , 0\n",
      "rpgmaker , 0\n",
      "rts , 0\n",
      "racing , 0\n",
      "real_time_tactics , 0\n",
      "real_time , 0\n",
      "real_time_with_pause , 0\n",
      "realistic , 0\n",
      "relaxing , 0\n",
      "remake , 0\n",
      "replay_value , 0\n",
      "resource_management , 0\n",
      "retro , 0\n",
      "rhythm , 0\n",
      "robots , 0\n",
      "rogue_like , 0\n",
      "rogue_lite , 0\n",
      "romance , 0\n",
      "rome , 0\n",
      "runner , 0\n",
      "sailing , 0\n",
      "sandbox , 0\n",
      "satire , 0\n",
      "sci_fi , 0\n",
      "science , 0\n",
      "score_attack , 0\n",
      "sequel , 0\n",
      "sexual_content , 0\n",
      "shoot_em_up , 0\n",
      "shooter , 0\n",
      "short , 0\n",
      "side_scroller , 0\n",
      "silent_protagonist , 0\n",
      "simulation , 0\n",
      "singleplayer , 0\n",
      "skateboarding , 0\n",
      "skating , 0\n",
      "skiing , 0\n",
      "sniper , 0\n",
      "snow , 0\n",
      "snowboarding , 0\n",
      "soccer , 0\n",
      "software , 0\n",
      "software_training , 0\n",
      "sokoban , 0\n",
      "souls_like , 0\n",
      "soundtrack , 0\n",
      "space , 0\n",
      "space_sim , 0\n",
      "spectacle_fighter , 0\n",
      "spelling , 0\n",
      "split_screen , 0\n",
      "sports , 0\n",
      "star_wars , 0\n",
      "stealth , 0\n",
      "steam_machine , 0\n",
      "steampunk , 0\n",
      "story_rich , 0\n",
      "strategy , 0\n",
      "strategy_rpg , 0\n",
      "stylized , 0\n",
      "submarine , 0\n",
      "superhero , 0\n",
      "supernatural , 0\n",
      "surreal , 0\n",
      "survival , 0\n",
      "survival_horror , 0\n",
      "swordplay , 0\n",
      "tactical , 0\n",
      "tactical_rpg , 0\n",
      "tanks , 0\n",
      "team_based , 0\n",
      "tennis , 0\n",
      "text_based , 0\n",
      "third_person , 0\n",
      "third_person_shooter , 0\n",
      "thriller , 0\n",
      "time_attack , 0\n",
      "time_management , 0\n",
      "time_manipulation , 0\n",
      "time_travel , 0\n",
      "top_down , 0\n",
      "top_down_shooter , 0\n",
      "touch_friendly , 0\n",
      "tower_defense , 0\n",
      "trackir , 0\n",
      "trading , 0\n",
      "trading_card_game , 0\n",
      "trains , 0\n",
      "transhumanism , 0\n",
      "turn_based , 0\n",
      "turn_based_combat , 0\n",
      "turn_based_strategy , 0\n",
      "turn_based_tactics , 0\n",
      "tutorial , 0\n",
      "twin_stick_shooter , 0\n",
      "typing , 0\n",
      "underground , 0\n",
      "underwater , 0\n",
      "unforgiving , 0\n",
      "utilities , 0\n",
      "vr , 0\n",
      "vr_only , 0\n",
      "vampire , 0\n",
      "video_production , 0\n",
      "villain_protagonist , 0\n",
      "violent , 0\n",
      "visual_novel , 0\n",
      "voice_control , 0\n",
      "voxel , 0\n",
      "walking_simulator , 0\n",
      "war , 0\n",
      "wargame , 0\n",
      "warhammer_40k , 0\n",
      "web_publishing , 0\n",
      "werewolves , 0\n",
      "western , 0\n",
      "word_game , 0\n",
      "world_war_i , 0\n",
      "world_war_ii , 0\n",
      "wrestling , 0\n",
      "zombies , 0\n",
      "e_sports , 0\n"
     ]
    }
   ],
   "source": [
    "obj = data.isnull().sum()\n",
    "for key,value in obj.iteritems():\n",
    "    print(key,\",\",value)"
   ]
  },
  {
   "cell_type": "markdown",
   "id": "58430a6d",
   "metadata": {
    "hidden": true
   },
   "source": [
    "Transformons la colonne 'release_date' en datetime"
   ]
  },
  {
   "cell_type": "code",
   "execution_count": 11,
   "id": "1edc64be",
   "metadata": {
    "hidden": true
   },
   "outputs": [],
   "source": [
    "data['release_date'] = data['release_date'].astype('datetime64')"
   ]
  },
  {
   "cell_type": "markdown",
   "id": "b3fc70c8",
   "metadata": {
    "heading_collapsed": true
   },
   "source": [
    "# Observations des min/max"
   ]
  },
  {
   "cell_type": "markdown",
   "id": "c1be20da",
   "metadata": {
    "hidden": true
   },
   "source": [
    "Observons les valeurs des prix"
   ]
  },
  {
   "cell_type": "code",
   "execution_count": 12,
   "id": "96bba79c",
   "metadata": {
    "hidden": true
   },
   "outputs": [
    {
     "data": {
      "text/html": [
       "<div>\n",
       "<style scoped>\n",
       "    .dataframe tbody tr th:only-of-type {\n",
       "        vertical-align: middle;\n",
       "    }\n",
       "\n",
       "    .dataframe tbody tr th {\n",
       "        vertical-align: top;\n",
       "    }\n",
       "\n",
       "    .dataframe thead th {\n",
       "        text-align: right;\n",
       "    }\n",
       "</style>\n",
       "<table border=\"1\" class=\"dataframe\">\n",
       "  <thead>\n",
       "    <tr style=\"text-align: right;\">\n",
       "      <th></th>\n",
       "      <th>price</th>\n",
       "      <th>name</th>\n",
       "    </tr>\n",
       "  </thead>\n",
       "  <tbody>\n",
       "    <tr>\n",
       "      <th>20909</th>\n",
       "      <td>421.99</td>\n",
       "      <td>ADR-Labelling Game</td>\n",
       "    </tr>\n",
       "    <tr>\n",
       "      <th>12882</th>\n",
       "      <td>303.99</td>\n",
       "      <td>GameMaker Studio 2 UWP</td>\n",
       "    </tr>\n",
       "    <tr>\n",
       "      <th>9861</th>\n",
       "      <td>209.99</td>\n",
       "      <td>Houdini Indie</td>\n",
       "    </tr>\n",
       "    <tr>\n",
       "      <th>25363</th>\n",
       "      <td>154.99</td>\n",
       "      <td>Bible Test</td>\n",
       "    </tr>\n",
       "    <tr>\n",
       "      <th>10736</th>\n",
       "      <td>154.99</td>\n",
       "      <td>Silhouette</td>\n",
       "    </tr>\n",
       "  </tbody>\n",
       "</table>\n",
       "</div>"
      ],
      "text/plain": [
       "        price                    name\n",
       "20909  421.99      ADR-Labelling Game\n",
       "12882  303.99  GameMaker Studio 2 UWP\n",
       "9861   209.99           Houdini Indie\n",
       "25363  154.99              Bible Test\n",
       "10736  154.99              Silhouette"
      ]
     },
     "execution_count": 12,
     "metadata": {},
     "output_type": "execute_result"
    }
   ],
   "source": [
    "data.sort_values(by = 'price', ascending = False).head()[['price', 'name']]"
   ]
  },
  {
   "cell_type": "markdown",
   "id": "465688bf",
   "metadata": {
    "hidden": true
   },
   "source": [
    "le jeux le plus cher semble être une valeur erronée, retirons la ligne."
   ]
  },
  {
   "cell_type": "code",
   "execution_count": 13,
   "id": "b6ab6c9e",
   "metadata": {
    "hidden": true
   },
   "outputs": [],
   "source": [
    "data = data.drop(index=20909)"
   ]
  },
  {
   "cell_type": "code",
   "execution_count": 14,
   "id": "fdcec37c",
   "metadata": {
    "hidden": true
   },
   "outputs": [
    {
     "data": {
      "text/plain": [
       "steam_appid              int64\n",
       "name                    object\n",
       "release_date    datetime64[ns]\n",
       "english                  int64\n",
       "developer               object\n",
       "                     ...      \n",
       "world_war_i              int64\n",
       "world_war_ii             int64\n",
       "wrestling                int64\n",
       "zombies                  int64\n",
       "e_sports                 int64\n",
       "Length: 395, dtype: object"
      ]
     },
     "execution_count": 14,
     "metadata": {},
     "output_type": "execute_result"
    }
   ],
   "source": [
    "data.dtypes"
   ]
  },
  {
   "cell_type": "markdown",
   "id": "2a838973",
   "metadata": {
    "heading_collapsed": true
   },
   "source": [
    "# Création de nouvelles features"
   ]
  },
  {
   "cell_type": "markdown",
   "id": "198573b9",
   "metadata": {
    "hidden": true
   },
   "source": [
    "Rajoutons les min, max, medians pour les owners, ainsi qu'une colonne 'revenue' basée sur la mediane des owners et le prix"
   ]
  },
  {
   "cell_type": "code",
   "execution_count": 15,
   "id": "a6481b4b",
   "metadata": {
    "hidden": true
   },
   "outputs": [
    {
     "data": {
      "text/html": [
       "<div>\n",
       "<style scoped>\n",
       "    .dataframe tbody tr th:only-of-type {\n",
       "        vertical-align: middle;\n",
       "    }\n",
       "\n",
       "    .dataframe tbody tr th {\n",
       "        vertical-align: top;\n",
       "    }\n",
       "\n",
       "    .dataframe thead th {\n",
       "        text-align: right;\n",
       "    }\n",
       "</style>\n",
       "<table border=\"1\" class=\"dataframe\">\n",
       "  <thead>\n",
       "    <tr style=\"text-align: right;\">\n",
       "      <th></th>\n",
       "      <th>lower</th>\n",
       "      <th>upper</th>\n",
       "      <th>owner_median</th>\n",
       "    </tr>\n",
       "  </thead>\n",
       "  <tbody>\n",
       "    <tr>\n",
       "      <th>0</th>\n",
       "      <td>10000000</td>\n",
       "      <td>20000000</td>\n",
       "      <td>15000000.0</td>\n",
       "    </tr>\n",
       "    <tr>\n",
       "      <th>1</th>\n",
       "      <td>5000000</td>\n",
       "      <td>10000000</td>\n",
       "      <td>7500000.0</td>\n",
       "    </tr>\n",
       "    <tr>\n",
       "      <th>2</th>\n",
       "      <td>5000000</td>\n",
       "      <td>10000000</td>\n",
       "      <td>7500000.0</td>\n",
       "    </tr>\n",
       "    <tr>\n",
       "      <th>3</th>\n",
       "      <td>5000000</td>\n",
       "      <td>10000000</td>\n",
       "      <td>7500000.0</td>\n",
       "    </tr>\n",
       "    <tr>\n",
       "      <th>4</th>\n",
       "      <td>10000000</td>\n",
       "      <td>20000000</td>\n",
       "      <td>15000000.0</td>\n",
       "    </tr>\n",
       "    <tr>\n",
       "      <th>...</th>\n",
       "      <td>...</td>\n",
       "      <td>...</td>\n",
       "      <td>...</td>\n",
       "    </tr>\n",
       "    <tr>\n",
       "      <th>26863</th>\n",
       "      <td>0</td>\n",
       "      <td>20000</td>\n",
       "      <td>10000.0</td>\n",
       "    </tr>\n",
       "    <tr>\n",
       "      <th>26864</th>\n",
       "      <td>0</td>\n",
       "      <td>20000</td>\n",
       "      <td>10000.0</td>\n",
       "    </tr>\n",
       "    <tr>\n",
       "      <th>26865</th>\n",
       "      <td>0</td>\n",
       "      <td>20000</td>\n",
       "      <td>10000.0</td>\n",
       "    </tr>\n",
       "    <tr>\n",
       "      <th>26866</th>\n",
       "      <td>0</td>\n",
       "      <td>20000</td>\n",
       "      <td>10000.0</td>\n",
       "    </tr>\n",
       "    <tr>\n",
       "      <th>26867</th>\n",
       "      <td>0</td>\n",
       "      <td>20000</td>\n",
       "      <td>10000.0</td>\n",
       "    </tr>\n",
       "  </tbody>\n",
       "</table>\n",
       "<p>26867 rows × 3 columns</p>\n",
       "</div>"
      ],
      "text/plain": [
       "          lower     upper  owner_median\n",
       "0      10000000  20000000    15000000.0\n",
       "1       5000000  10000000     7500000.0\n",
       "2       5000000  10000000     7500000.0\n",
       "3       5000000  10000000     7500000.0\n",
       "4      10000000  20000000    15000000.0\n",
       "...         ...       ...           ...\n",
       "26863         0     20000       10000.0\n",
       "26864         0     20000       10000.0\n",
       "26865         0     20000       10000.0\n",
       "26866         0     20000       10000.0\n",
       "26867         0     20000       10000.0\n",
       "\n",
       "[26867 rows x 3 columns]"
      ]
     },
     "execution_count": 15,
     "metadata": {},
     "output_type": "execute_result"
    }
   ],
   "source": [
    "tmp = pd.DataFrame()\n",
    "tmp[['lower', 'upper']] = data['owners'].str.split('-', expand = True)\n",
    "tmp['lower'] = tmp['lower'].astype('int')\n",
    "tmp['upper'] = tmp['upper'].astype('int')\n",
    "tmp['owner_median'] = (tmp['lower'] + tmp['upper']) / 2\n",
    "tmp"
   ]
  },
  {
   "cell_type": "code",
   "execution_count": 16,
   "id": "e6ea9d9a",
   "metadata": {
    "hidden": true
   },
   "outputs": [],
   "source": [
    "data['owner_median'] = tmp['owner_median']\n",
    "data['owner_lower'] = tmp['lower']\n",
    "data['owner_upper'] = tmp['upper']"
   ]
  },
  {
   "cell_type": "markdown",
   "id": "818f3c8a",
   "metadata": {
    "hidden": true
   },
   "source": [
    "Create a column \"has_a_website\""
   ]
  },
  {
   "cell_type": "code",
   "execution_count": 17,
   "id": "80a88815",
   "metadata": {
    "hidden": true
   },
   "outputs": [],
   "source": [
    "data.website = data['website'].fillna(0)"
   ]
  },
  {
   "cell_type": "code",
   "execution_count": 18,
   "id": "111f0008",
   "metadata": {
    "hidden": true
   },
   "outputs": [],
   "source": [
    "condition = lambda x: 1 if x != 0 else 0"
   ]
  },
  {
   "cell_type": "code",
   "execution_count": 19,
   "id": "f6683ee5",
   "metadata": {
    "hidden": true
   },
   "outputs": [],
   "source": [
    "data['has_a_website'] = data.website.apply(condition)"
   ]
  },
  {
   "cell_type": "markdown",
   "id": "179c47e4",
   "metadata": {
    "hidden": true
   },
   "source": [
    "Création d'une colonne nombre total de review"
   ]
  },
  {
   "cell_type": "code",
   "execution_count": 20,
   "id": "87ca1a69",
   "metadata": {
    "hidden": true
   },
   "outputs": [],
   "source": [
    "data['nb_review'] = data['positive_ratings'] + data['negative_ratings']"
   ]
  },
  {
   "cell_type": "markdown",
   "id": "8323e5be",
   "metadata": {
    "heading_collapsed": true
   },
   "source": [
    "# Etude de l'intervalle 0-20000"
   ]
  },
  {
   "cell_type": "code",
   "execution_count": 21,
   "id": "a6aad21a",
   "metadata": {
    "hidden": true
   },
   "outputs": [
    {
     "data": {
      "text/plain": [
       "(18529, 400)"
      ]
     },
     "execution_count": 21,
     "metadata": {},
     "output_type": "execute_result"
    }
   ],
   "source": [
    "new_data = data[data[\"owner_median\"] == 10000]\n",
    "new_data.shape"
   ]
  },
  {
   "cell_type": "code",
   "execution_count": 22,
   "id": "ee2fb22c",
   "metadata": {
    "hidden": true
   },
   "outputs": [
    {
     "data": {
      "text/plain": [
       "<AxesSubplot:>"
      ]
     },
     "execution_count": 22,
     "metadata": {},
     "output_type": "execute_result"
    },
    {
     "data": {
      "image/png": "[encoded data removed]",
      "text/plain": [
       "<Figure size 432x288 with 1 Axes>"
      ]
     },
     "metadata": {
      "needs_background": "light"
     },
     "output_type": "display_data"
    }
   ],
   "source": [
    "new_data.nb_review.hist(bins=100, orientation='horizontal',)"
   ]
  },
  {
   "cell_type": "code",
   "execution_count": 23,
   "id": "5c417ee7",
   "metadata": {
    "hidden": true,
    "scrolled": true
   },
   "outputs": [
    {
     "data": {
      "text/plain": [
       "(array([1.7749e+04, 6.1900e+02, 1.2500e+02, 2.6000e+01, 6.0000e+00,\n",
       "        3.0000e+00, 0.0000e+00, 0.0000e+00, 0.0000e+00, 1.0000e+00]),\n",
       " array([1.0000e+00, 1.8890e+02, 3.7680e+02, 5.6470e+02, 7.5260e+02,\n",
       "        9.4050e+02, 1.1284e+03, 1.3163e+03, 1.5042e+03, 1.6921e+03,\n",
       "        1.8800e+03]),\n",
       " <BarContainer object of 10 artists>)"
      ]
     },
     "execution_count": 23,
     "metadata": {},
     "output_type": "execute_result"
    },
    {
     "data": {
      "image/png": "[encoded data removed]",
      "text/plain": [
       "<Figure size 432x288 with 1 Axes>"
      ]
     },
     "metadata": {
      "needs_background": "light"
     },
     "output_type": "display_data"
    }
   ],
   "source": [
    "plt.hist(new_data.nb_review)"
   ]
  },
  {
   "cell_type": "code",
   "execution_count": 24,
   "id": "02446202",
   "metadata": {
    "hidden": true,
    "scrolled": false
   },
   "outputs": [
    {
     "data": {
      "image/png": "[encoded data removed]",
      "text/plain": [
       "<Figure size 432x288 with 1 Axes>"
      ]
     },
     "metadata": {
      "needs_background": "light"
     },
     "output_type": "display_data"
    }
   ],
   "source": [
    "ax = sns.boxplot(data=new_data,x=\"nb_review\", )"
   ]
  },
  {
   "cell_type": "code",
   "execution_count": 25,
   "id": "e61f2724",
   "metadata": {
    "hidden": true
   },
   "outputs": [
    {
     "data": {
      "text/plain": [
       "[array([6., 1.]), array([42., 96.])]"
      ]
     },
     "execution_count": 25,
     "metadata": {},
     "output_type": "execute_result"
    },
    {
     "data": {
      "image/png": "[encoded data removed]",
      "text/plain": [
       "<Figure size 432x288 with 1 Axes>"
      ]
     },
     "metadata": {
      "needs_background": "light"
     },
     "output_type": "display_data"
    }
   ],
   "source": [
    "B = plt.boxplot(new_data.nb_review)\n",
    "[item.get_ydata() for item in B['whiskers']]"
   ]
  },
  {
   "cell_type": "code",
   "execution_count": 26,
   "id": "6d6c3181",
   "metadata": {
    "hidden": true,
    "scrolled": true
   },
   "outputs": [],
   "source": [
    "new_data = new_data.sort_values(by='nb_review', ascending=False)"
   ]
  },
  {
   "cell_type": "code",
   "execution_count": 27,
   "id": "16beada3",
   "metadata": {
    "hidden": true
   },
   "outputs": [
    {
     "data": {
      "text/html": [
       "<div>\n",
       "<style scoped>\n",
       "    .dataframe tbody tr th:only-of-type {\n",
       "        vertical-align: middle;\n",
       "    }\n",
       "\n",
       "    .dataframe tbody tr th {\n",
       "        vertical-align: top;\n",
       "    }\n",
       "\n",
       "    .dataframe thead th {\n",
       "        text-align: right;\n",
       "    }\n",
       "</style>\n",
       "<table border=\"1\" class=\"dataframe\">\n",
       "  <thead>\n",
       "    <tr style=\"text-align: right;\">\n",
       "      <th></th>\n",
       "      <th>steam_appid</th>\n",
       "      <th>name</th>\n",
       "      <th>release_date</th>\n",
       "      <th>english</th>\n",
       "      <th>developer</th>\n",
       "      <th>publisher</th>\n",
       "      <th>platforms</th>\n",
       "      <th>categories</th>\n",
       "      <th>genres</th>\n",
       "      <th>steamspy_tags</th>\n",
       "      <th>...</th>\n",
       "      <th>world_war_i</th>\n",
       "      <th>world_war_ii</th>\n",
       "      <th>wrestling</th>\n",
       "      <th>zombies</th>\n",
       "      <th>e_sports</th>\n",
       "      <th>owner_median</th>\n",
       "      <th>owner_lower</th>\n",
       "      <th>owner_upper</th>\n",
       "      <th>has_a_website</th>\n",
       "      <th>nb_review</th>\n",
       "    </tr>\n",
       "  </thead>\n",
       "  <tbody>\n",
       "    <tr>\n",
       "      <th>20828</th>\n",
       "      <td>819500</td>\n",
       "      <td>Fear The Wolves</td>\n",
       "      <td>2019-02-06</td>\n",
       "      <td>1</td>\n",
       "      <td>Vostok Games</td>\n",
       "      <td>Focus Home Interactive</td>\n",
       "      <td>windows</td>\n",
       "      <td>Multi-player;Online Multi-Player;Online Co-op;...</td>\n",
       "      <td>Action;Adventure;Massively Multiplayer</td>\n",
       "      <td>Battle Royale;FPS;Survival</td>\n",
       "      <td>...</td>\n",
       "      <td>0</td>\n",
       "      <td>0</td>\n",
       "      <td>0</td>\n",
       "      <td>0</td>\n",
       "      <td>0</td>\n",
       "      <td>10000.0</td>\n",
       "      <td>0</td>\n",
       "      <td>20000</td>\n",
       "      <td>1</td>\n",
       "      <td>1880</td>\n",
       "    </tr>\n",
       "    <tr>\n",
       "      <th>23965</th>\n",
       "      <td>921390</td>\n",
       "      <td>武林志（Wushu Chronicles）</td>\n",
       "      <td>2019-04-09</td>\n",
       "      <td>0</td>\n",
       "      <td>JiangHu Studio</td>\n",
       "      <td>Snail Games</td>\n",
       "      <td>windows</td>\n",
       "      <td>Single-player</td>\n",
       "      <td>Adventure;Casual;Indie;RPG;Simulation</td>\n",
       "      <td>RPG;Indie;Adventure</td>\n",
       "      <td>...</td>\n",
       "      <td>0</td>\n",
       "      <td>0</td>\n",
       "      <td>0</td>\n",
       "      <td>0</td>\n",
       "      <td>0</td>\n",
       "      <td>10000.0</td>\n",
       "      <td>0</td>\n",
       "      <td>20000</td>\n",
       "      <td>0</td>\n",
       "      <td>1046</td>\n",
       "    </tr>\n",
       "    <tr>\n",
       "      <th>2922</th>\n",
       "      <td>295950</td>\n",
       "      <td>新流星搜劍錄</td>\n",
       "      <td>2017-12-20</td>\n",
       "      <td>0</td>\n",
       "      <td>Titans</td>\n",
       "      <td>Titans</td>\n",
       "      <td>windows</td>\n",
       "      <td>Multi-player;Online Multi-Player;MMO</td>\n",
       "      <td>Violent;Action;Adventure;Indie;Massively Multi...</td>\n",
       "      <td>Action;RPG;Fighting</td>\n",
       "      <td>...</td>\n",
       "      <td>0</td>\n",
       "      <td>0</td>\n",
       "      <td>0</td>\n",
       "      <td>0</td>\n",
       "      <td>0</td>\n",
       "      <td>10000.0</td>\n",
       "      <td>0</td>\n",
       "      <td>20000</td>\n",
       "      <td>0</td>\n",
       "      <td>987</td>\n",
       "    </tr>\n",
       "    <tr>\n",
       "      <th>9096</th>\n",
       "      <td>477730</td>\n",
       "      <td>Eador. Imperium</td>\n",
       "      <td>2017-01-27</td>\n",
       "      <td>1</td>\n",
       "      <td>Snowbird Games</td>\n",
       "      <td>Snowbird Games</td>\n",
       "      <td>windows</td>\n",
       "      <td>Single-player;Steam Achievements;Steam Trading...</td>\n",
       "      <td>Indie;RPG;Strategy</td>\n",
       "      <td>Strategy;Indie;RPG</td>\n",
       "      <td>...</td>\n",
       "      <td>0</td>\n",
       "      <td>0</td>\n",
       "      <td>0</td>\n",
       "      <td>0</td>\n",
       "      <td>0</td>\n",
       "      <td>10000.0</td>\n",
       "      <td>0</td>\n",
       "      <td>20000</td>\n",
       "      <td>1</td>\n",
       "      <td>953</td>\n",
       "    </tr>\n",
       "    <tr>\n",
       "      <th>9586</th>\n",
       "      <td>495990</td>\n",
       "      <td>True Love ～Confide to the Maple～</td>\n",
       "      <td>2016-10-05</td>\n",
       "      <td>1</td>\n",
       "      <td>SP-time</td>\n",
       "      <td>SP-time</td>\n",
       "      <td>windows</td>\n",
       "      <td>Single-player;Steam Achievements;Steam Trading...</td>\n",
       "      <td>Adventure;Casual;Indie</td>\n",
       "      <td>Visual Novel;Casual;Indie</td>\n",
       "      <td>...</td>\n",
       "      <td>0</td>\n",
       "      <td>0</td>\n",
       "      <td>0</td>\n",
       "      <td>0</td>\n",
       "      <td>0</td>\n",
       "      <td>10000.0</td>\n",
       "      <td>0</td>\n",
       "      <td>20000</td>\n",
       "      <td>1</td>\n",
       "      <td>940</td>\n",
       "    </tr>\n",
       "    <tr>\n",
       "      <th>14115</th>\n",
       "      <td>623080</td>\n",
       "      <td>planetarian HD</td>\n",
       "      <td>2017-05-08</td>\n",
       "      <td>0</td>\n",
       "      <td>VisualArts/Key</td>\n",
       "      <td>VisualArts</td>\n",
       "      <td>windows</td>\n",
       "      <td>Single-player;Steam Achievements;Steam Trading...</td>\n",
       "      <td>Adventure;Casual;Simulation</td>\n",
       "      <td>Visual Novel;Anime;Casual</td>\n",
       "      <td>...</td>\n",
       "      <td>0</td>\n",
       "      <td>0</td>\n",
       "      <td>0</td>\n",
       "      <td>0</td>\n",
       "      <td>0</td>\n",
       "      <td>10000.0</td>\n",
       "      <td>0</td>\n",
       "      <td>20000</td>\n",
       "      <td>0</td>\n",
       "      <td>937</td>\n",
       "    </tr>\n",
       "    <tr>\n",
       "      <th>12389</th>\n",
       "      <td>571880</td>\n",
       "      <td>Angels with Scaly Wings</td>\n",
       "      <td>2017-01-31</td>\n",
       "      <td>1</td>\n",
       "      <td>Radical Phi</td>\n",
       "      <td>Radical Phi</td>\n",
       "      <td>windows;mac;linux</td>\n",
       "      <td>Single-player;Steam Achievements;Steam Trading...</td>\n",
       "      <td>Violent;Adventure;Indie;RPG;Simulation</td>\n",
       "      <td>Dragons;Visual Novel;Dating Sim</td>\n",
       "      <td>...</td>\n",
       "      <td>0</td>\n",
       "      <td>0</td>\n",
       "      <td>0</td>\n",
       "      <td>0</td>\n",
       "      <td>0</td>\n",
       "      <td>10000.0</td>\n",
       "      <td>0</td>\n",
       "      <td>20000</td>\n",
       "      <td>1</td>\n",
       "      <td>903</td>\n",
       "    </tr>\n",
       "    <tr>\n",
       "      <th>2478</th>\n",
       "      <td>280010</td>\n",
       "      <td>Gunjitsu</td>\n",
       "      <td>2015-07-31</td>\n",
       "      <td>1</td>\n",
       "      <td>Decent Machine</td>\n",
       "      <td>Beatnik Games</td>\n",
       "      <td>windows;mac</td>\n",
       "      <td>Multi-player;Cross-Platform Multiplayer;Steam ...</td>\n",
       "      <td>Action;Indie;Early Access</td>\n",
       "      <td>Early Access;Action;Indie</td>\n",
       "      <td>...</td>\n",
       "      <td>0</td>\n",
       "      <td>0</td>\n",
       "      <td>0</td>\n",
       "      <td>0</td>\n",
       "      <td>0</td>\n",
       "      <td>10000.0</td>\n",
       "      <td>0</td>\n",
       "      <td>20000</td>\n",
       "      <td>1</td>\n",
       "      <td>903</td>\n",
       "    </tr>\n",
       "    <tr>\n",
       "      <th>2842</th>\n",
       "      <td>293220</td>\n",
       "      <td>H-Hour: World's Elite</td>\n",
       "      <td>2015-05-19</td>\n",
       "      <td>1</td>\n",
       "      <td>SOF Studios Ltd</td>\n",
       "      <td>SOF Studios Ltd</td>\n",
       "      <td>windows</td>\n",
       "      <td>Multi-player;Steam Achievements;Full controlle...</td>\n",
       "      <td>Action;Indie;Early Access</td>\n",
       "      <td>Early Access;Action;Indie</td>\n",
       "      <td>...</td>\n",
       "      <td>0</td>\n",
       "      <td>0</td>\n",
       "      <td>0</td>\n",
       "      <td>0</td>\n",
       "      <td>0</td>\n",
       "      <td>10000.0</td>\n",
       "      <td>0</td>\n",
       "      <td>20000</td>\n",
       "      <td>1</td>\n",
       "      <td>895</td>\n",
       "    </tr>\n",
       "    <tr>\n",
       "      <th>18965</th>\n",
       "      <td>766280</td>\n",
       "      <td>A Light in the Dark</td>\n",
       "      <td>2018-06-15</td>\n",
       "      <td>1</td>\n",
       "      <td>CreSpirit;Storia;Narrator</td>\n",
       "      <td>Sekai Project</td>\n",
       "      <td>windows;mac</td>\n",
       "      <td>Single-player;Steam Achievements;Steam Trading...</td>\n",
       "      <td>Violent;Gore;Casual;Indie</td>\n",
       "      <td>Gore;Indie;Visual Novel</td>\n",
       "      <td>...</td>\n",
       "      <td>0</td>\n",
       "      <td>0</td>\n",
       "      <td>0</td>\n",
       "      <td>0</td>\n",
       "      <td>0</td>\n",
       "      <td>10000.0</td>\n",
       "      <td>0</td>\n",
       "      <td>20000</td>\n",
       "      <td>1</td>\n",
       "      <td>844</td>\n",
       "    </tr>\n",
       "    <tr>\n",
       "      <th>16004</th>\n",
       "      <td>681280</td>\n",
       "      <td>Descenders</td>\n",
       "      <td>2018-02-09</td>\n",
       "      <td>1</td>\n",
       "      <td>RageSquid</td>\n",
       "      <td>No More Robots</td>\n",
       "      <td>windows;mac;linux</td>\n",
       "      <td>Single-player;Steam Achievements;Full controll...</td>\n",
       "      <td>Action;Racing;Sports;Early Access</td>\n",
       "      <td>Early Access;Sports;Racing</td>\n",
       "      <td>...</td>\n",
       "      <td>0</td>\n",
       "      <td>0</td>\n",
       "      <td>0</td>\n",
       "      <td>0</td>\n",
       "      <td>0</td>\n",
       "      <td>10000.0</td>\n",
       "      <td>0</td>\n",
       "      <td>20000</td>\n",
       "      <td>1</td>\n",
       "      <td>728</td>\n",
       "    </tr>\n",
       "  </tbody>\n",
       "</table>\n",
       "<p>11 rows × 400 columns</p>\n",
       "</div>"
      ],
      "text/plain": [
       "       steam_appid                              name release_date  english  \\\n",
       "20828       819500                   Fear The Wolves   2019-02-06        1   \n",
       "23965       921390             武林志（Wushu Chronicles）   2019-04-09        0   \n",
       "2922        295950                            新流星搜劍錄   2017-12-20        0   \n",
       "9096        477730                   Eador. Imperium   2017-01-27        1   \n",
       "9586        495990  True Love ～Confide to the Maple～   2016-10-05        1   \n",
       "14115       623080                    planetarian HD   2017-05-08        0   \n",
       "12389       571880           Angels with Scaly Wings   2017-01-31        1   \n",
       "2478        280010                          Gunjitsu   2015-07-31        1   \n",
       "2842        293220             H-Hour: World's Elite   2015-05-19        1   \n",
       "18965       766280               A Light in the Dark   2018-06-15        1   \n",
       "16004       681280                        Descenders   2018-02-09        1   \n",
       "\n",
       "                       developer               publisher          platforms  \\\n",
       "20828               Vostok Games  Focus Home Interactive            windows   \n",
       "23965             JiangHu Studio             Snail Games            windows   \n",
       "2922                      Titans                  Titans            windows   \n",
       "9096              Snowbird Games          Snowbird Games            windows   \n",
       "9586                     SP-time                 SP-time            windows   \n",
       "14115             VisualArts/Key              VisualArts            windows   \n",
       "12389                Radical Phi             Radical Phi  windows;mac;linux   \n",
       "2478              Decent Machine           Beatnik Games        windows;mac   \n",
       "2842             SOF Studios Ltd         SOF Studios Ltd            windows   \n",
       "18965  CreSpirit;Storia;Narrator           Sekai Project        windows;mac   \n",
       "16004                  RageSquid          No More Robots  windows;mac;linux   \n",
       "\n",
       "                                              categories  \\\n",
       "20828  Multi-player;Online Multi-Player;Online Co-op;...   \n",
       "23965                                      Single-player   \n",
       "2922                Multi-player;Online Multi-Player;MMO   \n",
       "9096   Single-player;Steam Achievements;Steam Trading...   \n",
       "9586   Single-player;Steam Achievements;Steam Trading...   \n",
       "14115  Single-player;Steam Achievements;Steam Trading...   \n",
       "12389  Single-player;Steam Achievements;Steam Trading...   \n",
       "2478   Multi-player;Cross-Platform Multiplayer;Steam ...   \n",
       "2842   Multi-player;Steam Achievements;Full controlle...   \n",
       "18965  Single-player;Steam Achievements;Steam Trading...   \n",
       "16004  Single-player;Steam Achievements;Full controll...   \n",
       "\n",
       "                                                  genres  \\\n",
       "20828             Action;Adventure;Massively Multiplayer   \n",
       "23965              Adventure;Casual;Indie;RPG;Simulation   \n",
       "2922   Violent;Action;Adventure;Indie;Massively Multi...   \n",
       "9096                                  Indie;RPG;Strategy   \n",
       "9586                              Adventure;Casual;Indie   \n",
       "14115                        Adventure;Casual;Simulation   \n",
       "12389             Violent;Adventure;Indie;RPG;Simulation   \n",
       "2478                           Action;Indie;Early Access   \n",
       "2842                           Action;Indie;Early Access   \n",
       "18965                          Violent;Gore;Casual;Indie   \n",
       "16004                  Action;Racing;Sports;Early Access   \n",
       "\n",
       "                         steamspy_tags  ...  world_war_i  world_war_ii  \\\n",
       "20828       Battle Royale;FPS;Survival  ...            0             0   \n",
       "23965              RPG;Indie;Adventure  ...            0             0   \n",
       "2922               Action;RPG;Fighting  ...            0             0   \n",
       "9096                Strategy;Indie;RPG  ...            0             0   \n",
       "9586         Visual Novel;Casual;Indie  ...            0             0   \n",
       "14115        Visual Novel;Anime;Casual  ...            0             0   \n",
       "12389  Dragons;Visual Novel;Dating Sim  ...            0             0   \n",
       "2478         Early Access;Action;Indie  ...            0             0   \n",
       "2842         Early Access;Action;Indie  ...            0             0   \n",
       "18965          Gore;Indie;Visual Novel  ...            0             0   \n",
       "16004       Early Access;Sports;Racing  ...            0             0   \n",
       "\n",
       "       wrestling  zombies  e_sports owner_median  owner_lower owner_upper  \\\n",
       "20828          0        0         0      10000.0            0       20000   \n",
       "23965          0        0         0      10000.0            0       20000   \n",
       "2922           0        0         0      10000.0            0       20000   \n",
       "9096           0        0         0      10000.0            0       20000   \n",
       "9586           0        0         0      10000.0            0       20000   \n",
       "14115          0        0         0      10000.0            0       20000   \n",
       "12389          0        0         0      10000.0            0       20000   \n",
       "2478           0        0         0      10000.0            0       20000   \n",
       "2842           0        0         0      10000.0            0       20000   \n",
       "18965          0        0         0      10000.0            0       20000   \n",
       "16004          0        0         0      10000.0            0       20000   \n",
       "\n",
       "      has_a_website nb_review  \n",
       "20828             1      1880  \n",
       "23965             0      1046  \n",
       "2922              0       987  \n",
       "9096              1       953  \n",
       "9586              1       940  \n",
       "14115             0       937  \n",
       "12389             1       903  \n",
       "2478              1       903  \n",
       "2842              1       895  \n",
       "18965             1       844  \n",
       "16004             1       728  \n",
       "\n",
       "[11 rows x 400 columns]"
      ]
     },
     "execution_count": 27,
     "metadata": {},
     "output_type": "execute_result"
    }
   ],
   "source": [
    "new_data.head(11)"
   ]
  },
  {
   "cell_type": "code",
   "execution_count": 28,
   "id": "ac96cc1d",
   "metadata": {
    "hidden": true
   },
   "outputs": [
    {
     "data": {
      "text/plain": [
       "208"
      ]
     },
     "execution_count": 28,
     "metadata": {},
     "output_type": "execute_result"
    }
   ],
   "source": [
    "alpha = round(20000/96)\n",
    "alpha"
   ]
  },
  {
   "cell_type": "code",
   "execution_count": 29,
   "id": "e632c01a",
   "metadata": {
    "hidden": true
   },
   "outputs": [],
   "source": [
    "new_data['owner_estimated'] = new_data['nb_review'] * alpha"
   ]
  },
  {
   "cell_type": "code",
   "execution_count": null,
   "id": "72196687",
   "metadata": {
    "hidden": true
   },
   "outputs": [],
   "source": []
  },
  {
   "cell_type": "code",
   "execution_count": 97,
   "id": "ba8d317c",
   "metadata": {
    "hidden": true
   },
   "outputs": [
    {
     "data": {
      "text/html": [
       "<div>\n",
       "<style scoped>\n",
       "    .dataframe tbody tr th:only-of-type {\n",
       "        vertical-align: middle;\n",
       "    }\n",
       "\n",
       "    .dataframe tbody tr th {\n",
       "        vertical-align: top;\n",
       "    }\n",
       "\n",
       "    .dataframe thead th {\n",
       "        text-align: right;\n",
       "    }\n",
       "</style>\n",
       "<table border=\"1\" class=\"dataframe\">\n",
       "  <thead>\n",
       "    <tr style=\"text-align: right;\">\n",
       "      <th></th>\n",
       "      <th>name</th>\n",
       "      <th>nb_review</th>\n",
       "      <th>owner_estimated</th>\n",
       "    </tr>\n",
       "  </thead>\n",
       "  <tbody>\n",
       "    <tr>\n",
       "      <th>20828</th>\n",
       "      <td>Fear The Wolves</td>\n",
       "      <td>1880</td>\n",
       "      <td>20000</td>\n",
       "    </tr>\n",
       "    <tr>\n",
       "      <th>23965</th>\n",
       "      <td>武林志（Wushu Chronicles）</td>\n",
       "      <td>1046</td>\n",
       "      <td>20000</td>\n",
       "    </tr>\n",
       "    <tr>\n",
       "      <th>2922</th>\n",
       "      <td>新流星搜劍錄</td>\n",
       "      <td>987</td>\n",
       "      <td>20000</td>\n",
       "    </tr>\n",
       "    <tr>\n",
       "      <th>9096</th>\n",
       "      <td>Eador. Imperium</td>\n",
       "      <td>953</td>\n",
       "      <td>20000</td>\n",
       "    </tr>\n",
       "    <tr>\n",
       "      <th>9586</th>\n",
       "      <td>True Love ～Confide to the Maple～</td>\n",
       "      <td>940</td>\n",
       "      <td>20000</td>\n",
       "    </tr>\n",
       "    <tr>\n",
       "      <th>...</th>\n",
       "      <td>...</td>\n",
       "      <td>...</td>\n",
       "      <td>...</td>\n",
       "    </tr>\n",
       "    <tr>\n",
       "      <th>25117</th>\n",
       "      <td>Flower</td>\n",
       "      <td>383</td>\n",
       "      <td>20000</td>\n",
       "    </tr>\n",
       "    <tr>\n",
       "      <th>10221</th>\n",
       "      <td>Trickster VR: Co-op Dungeon Crawler</td>\n",
       "      <td>383</td>\n",
       "      <td>20000</td>\n",
       "    </tr>\n",
       "    <tr>\n",
       "      <th>20263</th>\n",
       "      <td>The Ditzy Demons Are in Love With Me</td>\n",
       "      <td>383</td>\n",
       "      <td>20000</td>\n",
       "    </tr>\n",
       "    <tr>\n",
       "      <th>18104</th>\n",
       "      <td>OPUS: Rocket of Whispers</td>\n",
       "      <td>383</td>\n",
       "      <td>20000</td>\n",
       "    </tr>\n",
       "    <tr>\n",
       "      <th>24565</th>\n",
       "      <td>Gachi Heroes</td>\n",
       "      <td>382</td>\n",
       "      <td>20000</td>\n",
       "    </tr>\n",
       "  </tbody>\n",
       "</table>\n",
       "<p>150 rows × 3 columns</p>\n",
       "</div>"
      ],
      "text/plain": [
       "                                       name  nb_review  owner_estimated\n",
       "20828                       Fear The Wolves       1880            20000\n",
       "23965                 武林志（Wushu Chronicles）       1046            20000\n",
       "2922                                 新流星搜劍錄        987            20000\n",
       "9096                        Eador. Imperium        953            20000\n",
       "9586       True Love ～Confide to the Maple～        940            20000\n",
       "...                                     ...        ...              ...\n",
       "25117                                Flower        383            20000\n",
       "10221   Trickster VR: Co-op Dungeon Crawler        383            20000\n",
       "20263  The Ditzy Demons Are in Love With Me        383            20000\n",
       "18104              OPUS: Rocket of Whispers        383            20000\n",
       "24565                          Gachi Heroes        382            20000\n",
       "\n",
       "[150 rows x 3 columns]"
      ]
     },
     "execution_count": 97,
     "metadata": {},
     "output_type": "execute_result"
    }
   ],
   "source": [
    "new_data[['name', 'nb_review', 'owner_estimated']].head(150)"
   ]
  },
  {
   "cell_type": "code",
   "execution_count": 31,
   "id": "242e5dc7",
   "metadata": {
    "hidden": true
   },
   "outputs": [
    {
     "data": {
      "text/html": [
       "<div>\n",
       "<style scoped>\n",
       "    .dataframe tbody tr th:only-of-type {\n",
       "        vertical-align: middle;\n",
       "    }\n",
       "\n",
       "    .dataframe tbody tr th {\n",
       "        vertical-align: top;\n",
       "    }\n",
       "\n",
       "    .dataframe thead th {\n",
       "        text-align: right;\n",
       "    }\n",
       "</style>\n",
       "<table border=\"1\" class=\"dataframe\">\n",
       "  <thead>\n",
       "    <tr style=\"text-align: right;\">\n",
       "      <th></th>\n",
       "      <th>name</th>\n",
       "      <th>nb_review</th>\n",
       "      <th>owner_estimated</th>\n",
       "    </tr>\n",
       "  </thead>\n",
       "  <tbody>\n",
       "    <tr>\n",
       "      <th>17136</th>\n",
       "      <td>Pray for Death</td>\n",
       "      <td>1</td>\n",
       "      <td>208</td>\n",
       "    </tr>\n",
       "    <tr>\n",
       "      <th>14368</th>\n",
       "      <td>Gunball</td>\n",
       "      <td>1</td>\n",
       "      <td>208</td>\n",
       "    </tr>\n",
       "    <tr>\n",
       "      <th>15655</th>\n",
       "      <td>The Western Hunter</td>\n",
       "      <td>1</td>\n",
       "      <td>208</td>\n",
       "    </tr>\n",
       "  </tbody>\n",
       "</table>\n",
       "</div>"
      ],
      "text/plain": [
       "                     name  nb_review  owner_estimated\n",
       "17136      Pray for Death          1              208\n",
       "14368             Gunball          1              208\n",
       "15655  The Western Hunter          1              208"
      ]
     },
     "execution_count": 31,
     "metadata": {},
     "output_type": "execute_result"
    }
   ],
   "source": [
    "new_data[['name', 'nb_review', 'owner_estimated']].tail(3)"
   ]
  },
  {
   "cell_type": "code",
   "execution_count": 32,
   "id": "8e1cfdcd",
   "metadata": {
    "hidden": true
   },
   "outputs": [],
   "source": [
    "condition = lambda x: 20000 if x > 20000 else x"
   ]
  },
  {
   "cell_type": "code",
   "execution_count": 33,
   "id": "a27ffd7d",
   "metadata": {
    "hidden": true
   },
   "outputs": [],
   "source": [
    "new_data['owner_estimated'] = new_data.owner_estimated.apply(condition)"
   ]
  },
  {
   "cell_type": "code",
   "execution_count": 34,
   "id": "9c23b331",
   "metadata": {
    "hidden": true
   },
   "outputs": [
    {
     "data": {
      "text/html": [
       "<div>\n",
       "<style scoped>\n",
       "    .dataframe tbody tr th:only-of-type {\n",
       "        vertical-align: middle;\n",
       "    }\n",
       "\n",
       "    .dataframe tbody tr th {\n",
       "        vertical-align: top;\n",
       "    }\n",
       "\n",
       "    .dataframe thead th {\n",
       "        text-align: right;\n",
       "    }\n",
       "</style>\n",
       "<table border=\"1\" class=\"dataframe\">\n",
       "  <thead>\n",
       "    <tr style=\"text-align: right;\">\n",
       "      <th></th>\n",
       "      <th>name</th>\n",
       "      <th>nb_review</th>\n",
       "      <th>owner_estimated</th>\n",
       "    </tr>\n",
       "  </thead>\n",
       "  <tbody>\n",
       "    <tr>\n",
       "      <th>20828</th>\n",
       "      <td>Fear The Wolves</td>\n",
       "      <td>1880</td>\n",
       "      <td>20000</td>\n",
       "    </tr>\n",
       "    <tr>\n",
       "      <th>23965</th>\n",
       "      <td>武林志（Wushu Chronicles）</td>\n",
       "      <td>1046</td>\n",
       "      <td>20000</td>\n",
       "    </tr>\n",
       "    <tr>\n",
       "      <th>2922</th>\n",
       "      <td>新流星搜劍錄</td>\n",
       "      <td>987</td>\n",
       "      <td>20000</td>\n",
       "    </tr>\n",
       "    <tr>\n",
       "      <th>9096</th>\n",
       "      <td>Eador. Imperium</td>\n",
       "      <td>953</td>\n",
       "      <td>20000</td>\n",
       "    </tr>\n",
       "    <tr>\n",
       "      <th>9586</th>\n",
       "      <td>True Love ～Confide to the Maple～</td>\n",
       "      <td>940</td>\n",
       "      <td>20000</td>\n",
       "    </tr>\n",
       "    <tr>\n",
       "      <th>...</th>\n",
       "      <td>...</td>\n",
       "      <td>...</td>\n",
       "      <td>...</td>\n",
       "    </tr>\n",
       "    <tr>\n",
       "      <th>25117</th>\n",
       "      <td>Flower</td>\n",
       "      <td>383</td>\n",
       "      <td>20000</td>\n",
       "    </tr>\n",
       "    <tr>\n",
       "      <th>10221</th>\n",
       "      <td>Trickster VR: Co-op Dungeon Crawler</td>\n",
       "      <td>383</td>\n",
       "      <td>20000</td>\n",
       "    </tr>\n",
       "    <tr>\n",
       "      <th>20263</th>\n",
       "      <td>The Ditzy Demons Are in Love With Me</td>\n",
       "      <td>383</td>\n",
       "      <td>20000</td>\n",
       "    </tr>\n",
       "    <tr>\n",
       "      <th>18104</th>\n",
       "      <td>OPUS: Rocket of Whispers</td>\n",
       "      <td>383</td>\n",
       "      <td>20000</td>\n",
       "    </tr>\n",
       "    <tr>\n",
       "      <th>24565</th>\n",
       "      <td>Gachi Heroes</td>\n",
       "      <td>382</td>\n",
       "      <td>20000</td>\n",
       "    </tr>\n",
       "  </tbody>\n",
       "</table>\n",
       "<p>150 rows × 3 columns</p>\n",
       "</div>"
      ],
      "text/plain": [
       "                                       name  nb_review  owner_estimated\n",
       "20828                       Fear The Wolves       1880            20000\n",
       "23965                 武林志（Wushu Chronicles）       1046            20000\n",
       "2922                                 新流星搜劍錄        987            20000\n",
       "9096                        Eador. Imperium        953            20000\n",
       "9586       True Love ～Confide to the Maple～        940            20000\n",
       "...                                     ...        ...              ...\n",
       "25117                                Flower        383            20000\n",
       "10221   Trickster VR: Co-op Dungeon Crawler        383            20000\n",
       "20263  The Ditzy Demons Are in Love With Me        383            20000\n",
       "18104              OPUS: Rocket of Whispers        383            20000\n",
       "24565                          Gachi Heroes        382            20000\n",
       "\n",
       "[150 rows x 3 columns]"
      ]
     },
     "execution_count": 34,
     "metadata": {},
     "output_type": "execute_result"
    }
   ],
   "source": [
    "new_data[['name', 'nb_review', 'owner_estimated']].head(150)"
   ]
  },
  {
   "cell_type": "markdown",
   "id": "aba44702",
   "metadata": {
    "heading_collapsed": true
   },
   "source": [
    "# Etude de l'intervalle 20000-50000"
   ]
  },
  {
   "cell_type": "code",
   "execution_count": 35,
   "id": "d1cf095c",
   "metadata": {
    "hidden": true
   },
   "outputs": [],
   "source": [
    "new_data2 = data[data[\"owner_median\"] == 35000]"
   ]
  },
  {
   "cell_type": "code",
   "execution_count": 36,
   "id": "4d9fcb60",
   "metadata": {
    "hidden": true
   },
   "outputs": [
    {
     "data": {
      "text/plain": [
       "<AxesSubplot:>"
      ]
     },
     "execution_count": 36,
     "metadata": {},
     "output_type": "execute_result"
    },
    {
     "data": {
      "image/png": "[encoded data removed]",
      "text/plain": [
       "<Figure size 432x288 with 1 Axes>"
      ]
     },
     "metadata": {
      "needs_background": "light"
     },
     "output_type": "display_data"
    }
   ],
   "source": [
    "new_data2.nb_review.hist(bins=100, orientation='horizontal',)"
   ]
  },
  {
   "cell_type": "code",
   "execution_count": 37,
   "id": "4e2eb06a",
   "metadata": {
    "hidden": true
   },
   "outputs": [
    {
     "data": {
      "image/png": "[encoded data removed]",
      "text/plain": [
       "<Figure size 432x288 with 1 Axes>"
      ]
     },
     "metadata": {
      "needs_background": "light"
     },
     "output_type": "display_data"
    }
   ],
   "source": [
    "ax = sns.boxplot(data=new_data2,x=\"nb_review\")"
   ]
  },
  {
   "cell_type": "code",
   "execution_count": 38,
   "id": "a1bb9905",
   "metadata": {
    "hidden": true,
    "scrolled": true
   },
   "outputs": [
    {
     "data": {
      "text/plain": [
       "[array([64.,  1.]), array([314.75, 690.  ])]"
      ]
     },
     "execution_count": 38,
     "metadata": {},
     "output_type": "execute_result"
    },
    {
     "data": {
      "image/png": "[encoded data removed]",
      "text/plain": [
       "<Figure size 432x288 with 1 Axes>"
      ]
     },
     "metadata": {
      "needs_background": "light"
     },
     "output_type": "display_data"
    }
   ],
   "source": [
    "B = plt.boxplot(new_data2.nb_review)\n",
    "[item.get_ydata() for item in B['whiskers']]"
   ]
  },
  {
   "cell_type": "code",
   "execution_count": 39,
   "id": "7df769b1",
   "metadata": {
    "hidden": true
   },
   "outputs": [],
   "source": [
    "new_data2 = new_data2.sort_values(by='nb_review', ascending=False)"
   ]
  },
  {
   "cell_type": "raw",
   "id": "be0b0f24",
   "metadata": {
    "hidden": true
   },
   "source": [
    "50000 = 20000 + 690*alpha"
   ]
  },
  {
   "cell_type": "code",
   "execution_count": 40,
   "id": "0e4b33ed",
   "metadata": {
    "hidden": true
   },
   "outputs": [
    {
     "data": {
      "text/plain": [
       "43"
      ]
     },
     "execution_count": 40,
     "metadata": {},
     "output_type": "execute_result"
    }
   ],
   "source": [
    "alpha = round(30000/690)\n",
    "alpha"
   ]
  },
  {
   "cell_type": "code",
   "execution_count": 41,
   "id": "8b57e469",
   "metadata": {
    "hidden": true
   },
   "outputs": [],
   "source": [
    "new_data2['owner_estimated'] = (new_data2['nb_review'] * alpha) + 20000"
   ]
  },
  {
   "cell_type": "code",
   "execution_count": 42,
   "id": "8d3935da",
   "metadata": {
    "hidden": true
   },
   "outputs": [],
   "source": [
    "condition = lambda x: 50000 if x > 50000 else x"
   ]
  },
  {
   "cell_type": "code",
   "execution_count": 43,
   "id": "4998b0e6",
   "metadata": {
    "hidden": true
   },
   "outputs": [],
   "source": [
    "new_data2['owner_estimated'] = new_data2.owner_estimated.apply(condition)"
   ]
  },
  {
   "cell_type": "code",
   "execution_count": 44,
   "id": "e8daf08f",
   "metadata": {
    "hidden": true
   },
   "outputs": [
    {
     "data": {
      "text/html": [
       "<div>\n",
       "<style scoped>\n",
       "    .dataframe tbody tr th:only-of-type {\n",
       "        vertical-align: middle;\n",
       "    }\n",
       "\n",
       "    .dataframe tbody tr th {\n",
       "        vertical-align: top;\n",
       "    }\n",
       "\n",
       "    .dataframe thead th {\n",
       "        text-align: right;\n",
       "    }\n",
       "</style>\n",
       "<table border=\"1\" class=\"dataframe\">\n",
       "  <thead>\n",
       "    <tr style=\"text-align: right;\">\n",
       "      <th></th>\n",
       "      <th>name</th>\n",
       "      <th>nb_review</th>\n",
       "      <th>owner_estimated</th>\n",
       "    </tr>\n",
       "  </thead>\n",
       "  <tbody>\n",
       "    <tr>\n",
       "      <th>21373</th>\n",
       "      <td>DEAD OR ALIVE 6</td>\n",
       "      <td>2290</td>\n",
       "      <td>50000</td>\n",
       "    </tr>\n",
       "    <tr>\n",
       "      <th>6316</th>\n",
       "      <td>Call of Duty®: Modern Warfare® Remastered</td>\n",
       "      <td>2260</td>\n",
       "      <td>50000</td>\n",
       "    </tr>\n",
       "    <tr>\n",
       "      <th>5697</th>\n",
       "      <td>Football, Tactics &amp; Glory</td>\n",
       "      <td>1946</td>\n",
       "      <td>50000</td>\n",
       "    </tr>\n",
       "    <tr>\n",
       "      <th>6981</th>\n",
       "      <td>The Black Death</td>\n",
       "      <td>1890</td>\n",
       "      <td>50000</td>\n",
       "    </tr>\n",
       "    <tr>\n",
       "      <th>5614</th>\n",
       "      <td>Contradiction - Spot The Liar!</td>\n",
       "      <td>1705</td>\n",
       "      <td>50000</td>\n",
       "    </tr>\n",
       "    <tr>\n",
       "      <th>...</th>\n",
       "      <td>...</td>\n",
       "      <td>...</td>\n",
       "      <td>...</td>\n",
       "    </tr>\n",
       "    <tr>\n",
       "      <th>1930</th>\n",
       "      <td>Jagged Alliance Flashback</td>\n",
       "      <td>690</td>\n",
       "      <td>49670</td>\n",
       "    </tr>\n",
       "    <tr>\n",
       "      <th>5441</th>\n",
       "      <td>Garbage Day</td>\n",
       "      <td>688</td>\n",
       "      <td>49584</td>\n",
       "    </tr>\n",
       "    <tr>\n",
       "      <th>8974</th>\n",
       "      <td>Seven: Enhanced Edition</td>\n",
       "      <td>687</td>\n",
       "      <td>49541</td>\n",
       "    </tr>\n",
       "    <tr>\n",
       "      <th>13661</th>\n",
       "      <td>Accel World VS. Sword Art Online Deluxe Edition</td>\n",
       "      <td>681</td>\n",
       "      <td>49283</td>\n",
       "    </tr>\n",
       "    <tr>\n",
       "      <th>9097</th>\n",
       "      <td>Zero Escape: The Nonary Games</td>\n",
       "      <td>677</td>\n",
       "      <td>49111</td>\n",
       "    </tr>\n",
       "  </tbody>\n",
       "</table>\n",
       "<p>200 rows × 3 columns</p>\n",
       "</div>"
      ],
      "text/plain": [
       "                                                  name  nb_review  \\\n",
       "21373                                  DEAD OR ALIVE 6       2290   \n",
       "6316         Call of Duty®: Modern Warfare® Remastered       2260   \n",
       "5697                         Football, Tactics & Glory       1946   \n",
       "6981                                   The Black Death       1890   \n",
       "5614                    Contradiction - Spot The Liar!       1705   \n",
       "...                                                ...        ...   \n",
       "1930                         Jagged Alliance Flashback        690   \n",
       "5441                                       Garbage Day        688   \n",
       "8974                           Seven: Enhanced Edition        687   \n",
       "13661  Accel World VS. Sword Art Online Deluxe Edition        681   \n",
       "9097                     Zero Escape: The Nonary Games        677   \n",
       "\n",
       "       owner_estimated  \n",
       "21373            50000  \n",
       "6316             50000  \n",
       "5697             50000  \n",
       "6981             50000  \n",
       "5614             50000  \n",
       "...                ...  \n",
       "1930             49670  \n",
       "5441             49584  \n",
       "8974             49541  \n",
       "13661            49283  \n",
       "9097             49111  \n",
       "\n",
       "[200 rows x 3 columns]"
      ]
     },
     "execution_count": 44,
     "metadata": {},
     "output_type": "execute_result"
    }
   ],
   "source": [
    "new_data2[['name', 'nb_review', 'owner_estimated']].head(200)"
   ]
  },
  {
   "cell_type": "markdown",
   "id": "5663c054",
   "metadata": {
    "heading_collapsed": true
   },
   "source": [
    "# Etude 50000-100000"
   ]
  },
  {
   "cell_type": "code",
   "execution_count": 45,
   "id": "c09e06db",
   "metadata": {
    "hidden": true
   },
   "outputs": [],
   "source": [
    "new_data3 = data[data[\"owner_median\"] == 75000]"
   ]
  },
  {
   "cell_type": "code",
   "execution_count": 46,
   "id": "4a2d3238",
   "metadata": {
    "hidden": true
   },
   "outputs": [
    {
     "data": {
      "text/plain": [
       "<AxesSubplot:>"
      ]
     },
     "execution_count": 46,
     "metadata": {},
     "output_type": "execute_result"
    },
    {
     "data": {
      "image/png": "[encoded data removed]",
      "text/plain": [
       "<Figure size 432x288 with 1 Axes>"
      ]
     },
     "metadata": {
      "needs_background": "light"
     },
     "output_type": "display_data"
    }
   ],
   "source": [
    "new_data3.nb_review.hist(bins=100, orientation='horizontal',)"
   ]
  },
  {
   "cell_type": "code",
   "execution_count": 47,
   "id": "caf95b5d",
   "metadata": {
    "hidden": true
   },
   "outputs": [
    {
     "data": {
      "image/png": "[encoded data removed]",
      "text/plain": [
       "<Figure size 432x288 with 1 Axes>"
      ]
     },
     "metadata": {
      "needs_background": "light"
     },
     "output_type": "display_data"
    }
   ],
   "source": [
    "ax = sns.boxplot(data=new_data3,x=\"nb_review\")"
   ]
  },
  {
   "cell_type": "code",
   "execution_count": 48,
   "id": "46287e6e",
   "metadata": {
    "hidden": true
   },
   "outputs": [
    {
     "data": {
      "text/plain": [
       "[array([146.,   3.]), array([ 629.5, 1350. ])]"
      ]
     },
     "execution_count": 48,
     "metadata": {},
     "output_type": "execute_result"
    },
    {
     "data": {
      "image/png": "[encoded data removed]",
      "text/plain": [
       "<Figure size 432x288 with 1 Axes>"
      ]
     },
     "metadata": {
      "needs_background": "light"
     },
     "output_type": "display_data"
    }
   ],
   "source": [
    "B = plt.boxplot(new_data3.nb_review)\n",
    "[item.get_ydata() for item in B['whiskers']]"
   ]
  },
  {
   "cell_type": "code",
   "execution_count": 49,
   "id": "e2ba0859",
   "metadata": {
    "hidden": true
   },
   "outputs": [],
   "source": [
    "new_data3 = new_data3.sort_values(by='nb_review', ascending=False)"
   ]
  },
  {
   "cell_type": "raw",
   "id": "c7ebb71f",
   "metadata": {
    "hidden": true
   },
   "source": [
    "100000 = 50000 + 1350*alpha"
   ]
  },
  {
   "cell_type": "code",
   "execution_count": 50,
   "id": "373da32c",
   "metadata": {
    "hidden": true
   },
   "outputs": [
    {
     "data": {
      "text/plain": [
       "37"
      ]
     },
     "execution_count": 50,
     "metadata": {},
     "output_type": "execute_result"
    }
   ],
   "source": [
    "alpha = round(50000/1350)\n",
    "alpha"
   ]
  },
  {
   "cell_type": "code",
   "execution_count": 51,
   "id": "9df47e91",
   "metadata": {
    "hidden": true
   },
   "outputs": [],
   "source": [
    "new_data3['owner_estimated'] = (new_data3['nb_review'] * alpha) + 50000"
   ]
  },
  {
   "cell_type": "code",
   "execution_count": 52,
   "id": "3d9f1462",
   "metadata": {
    "hidden": true
   },
   "outputs": [],
   "source": [
    "condition = lambda x: 100000 if x > 100000 else x"
   ]
  },
  {
   "cell_type": "code",
   "execution_count": 53,
   "id": "8a827465",
   "metadata": {
    "hidden": true
   },
   "outputs": [],
   "source": [
    "new_data3['owner_estimated'] = new_data3.owner_estimated.apply(condition)"
   ]
  },
  {
   "cell_type": "code",
   "execution_count": 54,
   "id": "5df1a627",
   "metadata": {
    "hidden": true
   },
   "outputs": [
    {
     "data": {
      "text/html": [
       "<div>\n",
       "<style scoped>\n",
       "    .dataframe tbody tr th:only-of-type {\n",
       "        vertical-align: middle;\n",
       "    }\n",
       "\n",
       "    .dataframe tbody tr th {\n",
       "        vertical-align: top;\n",
       "    }\n",
       "\n",
       "    .dataframe thead th {\n",
       "        text-align: right;\n",
       "    }\n",
       "</style>\n",
       "<table border=\"1\" class=\"dataframe\">\n",
       "  <thead>\n",
       "    <tr style=\"text-align: right;\">\n",
       "      <th></th>\n",
       "      <th>name</th>\n",
       "      <th>nb_review</th>\n",
       "      <th>owner_estimated</th>\n",
       "    </tr>\n",
       "  </thead>\n",
       "  <tbody>\n",
       "    <tr>\n",
       "      <th>14128</th>\n",
       "      <td>Timen runner</td>\n",
       "      <td>67</td>\n",
       "      <td>52479</td>\n",
       "    </tr>\n",
       "    <tr>\n",
       "      <th>14130</th>\n",
       "      <td>POBEDA</td>\n",
       "      <td>67</td>\n",
       "      <td>52479</td>\n",
       "    </tr>\n",
       "    <tr>\n",
       "      <th>13720</th>\n",
       "      <td>Crazy Buggy Racing</td>\n",
       "      <td>66</td>\n",
       "      <td>52442</td>\n",
       "    </tr>\n",
       "    <tr>\n",
       "      <th>12722</th>\n",
       "      <td>Tourists Kidnapped a Little Bear</td>\n",
       "      <td>66</td>\n",
       "      <td>52442</td>\n",
       "    </tr>\n",
       "    <tr>\n",
       "      <th>5942</th>\n",
       "      <td>Lilly and Sasha: Guardian Angels</td>\n",
       "      <td>66</td>\n",
       "      <td>52442</td>\n",
       "    </tr>\n",
       "    <tr>\n",
       "      <th>...</th>\n",
       "      <td>...</td>\n",
       "      <td>...</td>\n",
       "      <td>...</td>\n",
       "    </tr>\n",
       "    <tr>\n",
       "      <th>12889</th>\n",
       "      <td>Prism Collider</td>\n",
       "      <td>10</td>\n",
       "      <td>50370</td>\n",
       "    </tr>\n",
       "    <tr>\n",
       "      <th>11725</th>\n",
       "      <td>Are You Ready?</td>\n",
       "      <td>9</td>\n",
       "      <td>50333</td>\n",
       "    </tr>\n",
       "    <tr>\n",
       "      <th>672</th>\n",
       "      <td>Elven Legacy: Siege</td>\n",
       "      <td>7</td>\n",
       "      <td>50259</td>\n",
       "    </tr>\n",
       "    <tr>\n",
       "      <th>13085</th>\n",
       "      <td>Carlos III y la difusión de la antigüedad</td>\n",
       "      <td>5</td>\n",
       "      <td>50185</td>\n",
       "    </tr>\n",
       "    <tr>\n",
       "      <th>22963</th>\n",
       "      <td>Astro Bouncer</td>\n",
       "      <td>3</td>\n",
       "      <td>50111</td>\n",
       "    </tr>\n",
       "  </tbody>\n",
       "</table>\n",
       "<p>150 rows × 3 columns</p>\n",
       "</div>"
      ],
      "text/plain": [
       "                                            name  nb_review  owner_estimated\n",
       "14128                               Timen runner         67            52479\n",
       "14130                                     POBEDA         67            52479\n",
       "13720                         Crazy Buggy Racing         66            52442\n",
       "12722           Tourists Kidnapped a Little Bear         66            52442\n",
       "5942            Lilly and Sasha: Guardian Angels         66            52442\n",
       "...                                          ...        ...              ...\n",
       "12889                             Prism Collider         10            50370\n",
       "11725                             Are You Ready?          9            50333\n",
       "672                          Elven Legacy: Siege          7            50259\n",
       "13085  Carlos III y la difusión de la antigüedad          5            50185\n",
       "22963                              Astro Bouncer          3            50111\n",
       "\n",
       "[150 rows x 3 columns]"
      ]
     },
     "execution_count": 54,
     "metadata": {},
     "output_type": "execute_result"
    }
   ],
   "source": [
    "new_data3[['name', 'nb_review', 'owner_estimated']].tail(150)"
   ]
  },
  {
   "cell_type": "markdown",
   "id": "a989224e",
   "metadata": {
    "heading_collapsed": true
   },
   "source": [
    "# Etude 100000-200000"
   ]
  },
  {
   "cell_type": "code",
   "execution_count": 55,
   "id": "1e08da4d",
   "metadata": {
    "hidden": true
   },
   "outputs": [],
   "source": [
    "new_data4 = data[data[\"owner_median\"] == 150000]"
   ]
  },
  {
   "cell_type": "code",
   "execution_count": 56,
   "id": "3a79c407",
   "metadata": {
    "hidden": true
   },
   "outputs": [
    {
     "data": {
      "text/plain": [
       "<AxesSubplot:>"
      ]
     },
     "execution_count": 56,
     "metadata": {},
     "output_type": "execute_result"
    },
    {
     "data": {
      "image/png": "[encoded data removed]",
      "text/plain": [
       "<Figure size 432x288 with 1 Axes>"
      ]
     },
     "metadata": {
      "needs_background": "light"
     },
     "output_type": "display_data"
    }
   ],
   "source": [
    "new_data4.nb_review.hist(bins=100, orientation='horizontal',)"
   ]
  },
  {
   "cell_type": "code",
   "execution_count": 57,
   "id": "43cc4f4d",
   "metadata": {
    "hidden": true
   },
   "outputs": [
    {
     "data": {
      "image/png": "[encoded data removed]",
      "text/plain": [
       "<Figure size 432x288 with 1 Axes>"
      ]
     },
     "metadata": {
      "needs_background": "light"
     },
     "output_type": "display_data"
    }
   ],
   "source": [
    "ax = sns.boxplot(data=new_data4,x=\"nb_review\")"
   ]
  },
  {
   "cell_type": "code",
   "execution_count": 58,
   "id": "0b83d223",
   "metadata": {
    "hidden": true
   },
   "outputs": [
    {
     "data": {
      "text/plain": [
       "[array([294.5,  10. ]), array([1391., 3027.])]"
      ]
     },
     "execution_count": 58,
     "metadata": {},
     "output_type": "execute_result"
    },
    {
     "data": {
      "image/png": "[encoded data removed]",
      "text/plain": [
       "<Figure size 432x288 with 1 Axes>"
      ]
     },
     "metadata": {
      "needs_background": "light"
     },
     "output_type": "display_data"
    }
   ],
   "source": [
    "B = plt.boxplot(new_data4.nb_review)\n",
    "[item.get_ydata() for item in B['whiskers']]"
   ]
  },
  {
   "cell_type": "code",
   "execution_count": 59,
   "id": "7fd1e236",
   "metadata": {
    "hidden": true
   },
   "outputs": [],
   "source": [
    "new_data4 = new_data4.sort_values(by='nb_review', ascending=False)"
   ]
  },
  {
   "cell_type": "raw",
   "id": "5016688d",
   "metadata": {
    "hidden": true
   },
   "source": [
    "200000 = 100000 + 3027*alpha"
   ]
  },
  {
   "cell_type": "code",
   "execution_count": 60,
   "id": "abd6c7a8",
   "metadata": {
    "hidden": true
   },
   "outputs": [
    {
     "data": {
      "text/plain": [
       "33"
      ]
     },
     "execution_count": 60,
     "metadata": {},
     "output_type": "execute_result"
    }
   ],
   "source": [
    "alpha = round(100000/3027)\n",
    "alpha"
   ]
  },
  {
   "cell_type": "code",
   "execution_count": 61,
   "id": "78b94e69",
   "metadata": {
    "hidden": true
   },
   "outputs": [],
   "source": [
    "new_data4['owner_estimated'] = (new_data4['nb_review'] * alpha) + 100000"
   ]
  },
  {
   "cell_type": "code",
   "execution_count": 62,
   "id": "0cd6e6f9",
   "metadata": {
    "hidden": true
   },
   "outputs": [],
   "source": [
    "condition = lambda x: 200000 if x > 200000 else x"
   ]
  },
  {
   "cell_type": "code",
   "execution_count": 63,
   "id": "e80295d2",
   "metadata": {
    "hidden": true
   },
   "outputs": [],
   "source": [
    "new_data4['owner_estimated'] = new_data4.owner_estimated.apply(condition)"
   ]
  },
  {
   "cell_type": "code",
   "execution_count": 64,
   "id": "1c655619",
   "metadata": {
    "hidden": true
   },
   "outputs": [
    {
     "data": {
      "text/html": [
       "<div>\n",
       "<style scoped>\n",
       "    .dataframe tbody tr th:only-of-type {\n",
       "        vertical-align: middle;\n",
       "    }\n",
       "\n",
       "    .dataframe tbody tr th {\n",
       "        vertical-align: top;\n",
       "    }\n",
       "\n",
       "    .dataframe thead th {\n",
       "        text-align: right;\n",
       "    }\n",
       "</style>\n",
       "<table border=\"1\" class=\"dataframe\">\n",
       "  <thead>\n",
       "    <tr style=\"text-align: right;\">\n",
       "      <th></th>\n",
       "      <th>name</th>\n",
       "      <th>nb_review</th>\n",
       "      <th>owner_estimated</th>\n",
       "    </tr>\n",
       "  </thead>\n",
       "  <tbody>\n",
       "    <tr>\n",
       "      <th>13437</th>\n",
       "      <td>The Evil Within 2</td>\n",
       "      <td>9661</td>\n",
       "      <td>200000</td>\n",
       "    </tr>\n",
       "    <tr>\n",
       "      <th>12848</th>\n",
       "      <td>Sonic Mania</td>\n",
       "      <td>9653</td>\n",
       "      <td>200000</td>\n",
       "    </tr>\n",
       "    <tr>\n",
       "      <th>4755</th>\n",
       "      <td>SURVIVAL</td>\n",
       "      <td>7625</td>\n",
       "      <td>200000</td>\n",
       "    </tr>\n",
       "    <tr>\n",
       "      <th>5392</th>\n",
       "      <td>Hook</td>\n",
       "      <td>6829</td>\n",
       "      <td>200000</td>\n",
       "    </tr>\n",
       "    <tr>\n",
       "      <th>6592</th>\n",
       "      <td>Rabi-Ribi</td>\n",
       "      <td>6663</td>\n",
       "      <td>200000</td>\n",
       "    </tr>\n",
       "    <tr>\n",
       "      <th>...</th>\n",
       "      <td>...</td>\n",
       "      <td>...</td>\n",
       "      <td>...</td>\n",
       "    </tr>\n",
       "    <tr>\n",
       "      <th>11931</th>\n",
       "      <td>Stories Untold</td>\n",
       "      <td>2498</td>\n",
       "      <td>182434</td>\n",
       "    </tr>\n",
       "    <tr>\n",
       "      <th>6380</th>\n",
       "      <td>DEADBOLT</td>\n",
       "      <td>2493</td>\n",
       "      <td>182269</td>\n",
       "    </tr>\n",
       "    <tr>\n",
       "      <th>2273</th>\n",
       "      <td>X-Plane 11</td>\n",
       "      <td>2476</td>\n",
       "      <td>181708</td>\n",
       "    </tr>\n",
       "    <tr>\n",
       "      <th>8570</th>\n",
       "      <td>Megadimension Neptunia VII</td>\n",
       "      <td>2460</td>\n",
       "      <td>181180</td>\n",
       "    </tr>\n",
       "    <tr>\n",
       "      <th>7204</th>\n",
       "      <td>Starpoint Gemini Warlords</td>\n",
       "      <td>2458</td>\n",
       "      <td>181114</td>\n",
       "    </tr>\n",
       "  </tbody>\n",
       "</table>\n",
       "<p>150 rows × 3 columns</p>\n",
       "</div>"
      ],
      "text/plain": [
       "                             name  nb_review  owner_estimated\n",
       "13437           The Evil Within 2       9661           200000\n",
       "12848                 Sonic Mania       9653           200000\n",
       "4755                     SURVIVAL       7625           200000\n",
       "5392                         Hook       6829           200000\n",
       "6592                    Rabi-Ribi       6663           200000\n",
       "...                           ...        ...              ...\n",
       "11931              Stories Untold       2498           182434\n",
       "6380                     DEADBOLT       2493           182269\n",
       "2273                   X-Plane 11       2476           181708\n",
       "8570   Megadimension Neptunia VII       2460           181180\n",
       "7204    Starpoint Gemini Warlords       2458           181114\n",
       "\n",
       "[150 rows x 3 columns]"
      ]
     },
     "execution_count": 64,
     "metadata": {},
     "output_type": "execute_result"
    }
   ],
   "source": [
    "new_data4[['name', 'nb_review', 'owner_estimated']].head(150)"
   ]
  },
  {
   "cell_type": "markdown",
   "id": "c7636ece",
   "metadata": {
    "heading_collapsed": true
   },
   "source": [
    "# Etude 200000-500000 "
   ]
  },
  {
   "cell_type": "code",
   "execution_count": 65,
   "id": "496cec89",
   "metadata": {
    "hidden": true
   },
   "outputs": [],
   "source": [
    "new_data5 = data[data[\"owner_median\"] == 350000]"
   ]
  },
  {
   "cell_type": "code",
   "execution_count": 66,
   "id": "8a4fabf6",
   "metadata": {
    "hidden": true
   },
   "outputs": [
    {
     "data": {
      "text/plain": [
       "<AxesSubplot:>"
      ]
     },
     "execution_count": 66,
     "metadata": {},
     "output_type": "execute_result"
    },
    {
     "data": {
      "image/png": "[encoded data removed]",
      "text/plain": [
       "<Figure size 432x288 with 1 Axes>"
      ]
     },
     "metadata": {
      "needs_background": "light"
     },
     "output_type": "display_data"
    }
   ],
   "source": [
    "new_data5.nb_review.hist(bins=100, orientation='horizontal',)"
   ]
  },
  {
   "cell_type": "code",
   "execution_count": 67,
   "id": "a5c87013",
   "metadata": {
    "hidden": true
   },
   "outputs": [
    {
     "data": {
      "image/png": "[encoded data removed]",
      "text/plain": [
       "<Figure size 432x288 with 1 Axes>"
      ]
     },
     "metadata": {
      "needs_background": "light"
     },
     "output_type": "display_data"
    }
   ],
   "source": [
    "ax = sns.boxplot(data=new_data5,x=\"nb_review\")"
   ]
  },
  {
   "cell_type": "code",
   "execution_count": 68,
   "id": "625e8001",
   "metadata": {
    "hidden": true
   },
   "outputs": [
    {
     "data": {
      "text/plain": [
       "[array([592.75,  19.  ]), array([2974.25, 6424.  ])]"
      ]
     },
     "execution_count": 68,
     "metadata": {},
     "output_type": "execute_result"
    },
    {
     "data": {
      "image/png": "[encoded data removed]",
      "text/plain": [
       "<Figure size 432x288 with 1 Axes>"
      ]
     },
     "metadata": {
      "needs_background": "light"
     },
     "output_type": "display_data"
    }
   ],
   "source": [
    "B = plt.boxplot(new_data5.nb_review)\n",
    "[item.get_ydata() for item in B['whiskers']]"
   ]
  },
  {
   "cell_type": "code",
   "execution_count": 69,
   "id": "e15b391b",
   "metadata": {
    "hidden": true
   },
   "outputs": [],
   "source": [
    "new_data5 = new_data5.sort_values(by='nb_review', ascending=False)"
   ]
  },
  {
   "cell_type": "raw",
   "id": "3c66579d",
   "metadata": {
    "hidden": true
   },
   "source": [
    "500000 = 200000 + 6424*alpha"
   ]
  },
  {
   "cell_type": "code",
   "execution_count": 70,
   "id": "eb03e88a",
   "metadata": {
    "hidden": true
   },
   "outputs": [
    {
     "data": {
      "text/plain": [
       "47"
      ]
     },
     "execution_count": 70,
     "metadata": {},
     "output_type": "execute_result"
    }
   ],
   "source": [
    "alpha = round(300000/6424)\n",
    "alpha"
   ]
  },
  {
   "cell_type": "code",
   "execution_count": 71,
   "id": "2d96e10e",
   "metadata": {
    "hidden": true
   },
   "outputs": [],
   "source": [
    "new_data5['owner_estimated'] = (new_data5['nb_review'] * alpha) + 200000"
   ]
  },
  {
   "cell_type": "code",
   "execution_count": 72,
   "id": "de55f79d",
   "metadata": {
    "hidden": true
   },
   "outputs": [],
   "source": [
    "condition = lambda x: 500000 if x > 500000 else x"
   ]
  },
  {
   "cell_type": "code",
   "execution_count": 73,
   "id": "916965e6",
   "metadata": {
    "hidden": true
   },
   "outputs": [],
   "source": [
    "new_data5['owner_estimated'] = new_data5.owner_estimated.apply(condition)"
   ]
  },
  {
   "cell_type": "code",
   "execution_count": 74,
   "id": "587c5d64",
   "metadata": {
    "hidden": true
   },
   "outputs": [
    {
     "data": {
      "text/html": [
       "<div>\n",
       "<style scoped>\n",
       "    .dataframe tbody tr th:only-of-type {\n",
       "        vertical-align: middle;\n",
       "    }\n",
       "\n",
       "    .dataframe tbody tr th {\n",
       "        vertical-align: top;\n",
       "    }\n",
       "\n",
       "    .dataframe thead th {\n",
       "        text-align: right;\n",
       "    }\n",
       "</style>\n",
       "<table border=\"1\" class=\"dataframe\">\n",
       "  <thead>\n",
       "    <tr style=\"text-align: right;\">\n",
       "      <th></th>\n",
       "      <th>name</th>\n",
       "      <th>nb_review</th>\n",
       "      <th>owner_estimated</th>\n",
       "    </tr>\n",
       "  </thead>\n",
       "  <tbody>\n",
       "    <tr>\n",
       "      <th>989</th>\n",
       "      <td>Memoir '44 Online</td>\n",
       "      <td>296</td>\n",
       "      <td>213912</td>\n",
       "    </tr>\n",
       "    <tr>\n",
       "      <th>936</th>\n",
       "      <td>Steel Storm: Burning Retribution</td>\n",
       "      <td>296</td>\n",
       "      <td>213912</td>\n",
       "    </tr>\n",
       "    <tr>\n",
       "      <th>5756</th>\n",
       "      <td>The Tower Of Elements</td>\n",
       "      <td>293</td>\n",
       "      <td>213771</td>\n",
       "    </tr>\n",
       "    <tr>\n",
       "      <th>10835</th>\n",
       "      <td>Turbo Pug 3D</td>\n",
       "      <td>291</td>\n",
       "      <td>213677</td>\n",
       "    </tr>\n",
       "    <tr>\n",
       "      <th>9493</th>\n",
       "      <td>Deep Space Dash</td>\n",
       "      <td>291</td>\n",
       "      <td>213677</td>\n",
       "    </tr>\n",
       "    <tr>\n",
       "      <th>...</th>\n",
       "      <td>...</td>\n",
       "      <td>...</td>\n",
       "      <td>...</td>\n",
       "    </tr>\n",
       "    <tr>\n",
       "      <th>14236</th>\n",
       "      <td>1914: Prelude to Chaos</td>\n",
       "      <td>63</td>\n",
       "      <td>202961</td>\n",
       "    </tr>\n",
       "    <tr>\n",
       "      <th>12070</th>\n",
       "      <td>Introvert Quest</td>\n",
       "      <td>55</td>\n",
       "      <td>202585</td>\n",
       "    </tr>\n",
       "    <tr>\n",
       "      <th>6970</th>\n",
       "      <td>Warfront Defenders: Westerplatte</td>\n",
       "      <td>31</td>\n",
       "      <td>201457</td>\n",
       "    </tr>\n",
       "    <tr>\n",
       "      <th>14293</th>\n",
       "      <td>Cosmic Pioneer</td>\n",
       "      <td>25</td>\n",
       "      <td>201175</td>\n",
       "    </tr>\n",
       "    <tr>\n",
       "      <th>10900</th>\n",
       "      <td>Resurgence</td>\n",
       "      <td>19</td>\n",
       "      <td>200893</td>\n",
       "    </tr>\n",
       "  </tbody>\n",
       "</table>\n",
       "<p>150 rows × 3 columns</p>\n",
       "</div>"
      ],
      "text/plain": [
       "                                   name  nb_review  owner_estimated\n",
       "989                   Memoir '44 Online        296           213912\n",
       "936    Steel Storm: Burning Retribution        296           213912\n",
       "5756              The Tower Of Elements        293           213771\n",
       "10835                      Turbo Pug 3D        291           213677\n",
       "9493                    Deep Space Dash        291           213677\n",
       "...                                 ...        ...              ...\n",
       "14236            1914: Prelude to Chaos         63           202961\n",
       "12070                   Introvert Quest         55           202585\n",
       "6970   Warfront Defenders: Westerplatte         31           201457\n",
       "14293                    Cosmic Pioneer         25           201175\n",
       "10900                        Resurgence         19           200893\n",
       "\n",
       "[150 rows x 3 columns]"
      ]
     },
     "execution_count": 74,
     "metadata": {},
     "output_type": "execute_result"
    }
   ],
   "source": [
    "new_data5[['name', 'nb_review', 'owner_estimated']].tail(150)"
   ]
  },
  {
   "cell_type": "markdown",
   "id": "357a582a",
   "metadata": {
    "heading_collapsed": true
   },
   "source": [
    "# Etude 500000-1000000 "
   ]
  },
  {
   "cell_type": "code",
   "execution_count": 75,
   "id": "6c56f503",
   "metadata": {
    "hidden": true
   },
   "outputs": [],
   "source": [
    "new_data6 = data[data[\"owner_median\"] == 750000]"
   ]
  },
  {
   "cell_type": "code",
   "execution_count": 76,
   "id": "5f2a563a",
   "metadata": {
    "hidden": true
   },
   "outputs": [
    {
     "data": {
      "text/plain": [
       "<AxesSubplot:>"
      ]
     },
     "execution_count": 76,
     "metadata": {},
     "output_type": "execute_result"
    },
    {
     "data": {
      "image/png": "[encoded data removed]",
      "text/plain": [
       "<Figure size 432x288 with 1 Axes>"
      ]
     },
     "metadata": {
      "needs_background": "light"
     },
     "output_type": "display_data"
    }
   ],
   "source": [
    "new_data6.nb_review.hist(bins=100, orientation='horizontal',)"
   ]
  },
  {
   "cell_type": "code",
   "execution_count": 77,
   "id": "4250b39a",
   "metadata": {
    "hidden": true
   },
   "outputs": [
    {
     "data": {
      "image/png": "[encoded data removed]",
      "text/plain": [
       "<Figure size 432x288 with 1 Axes>"
      ]
     },
     "metadata": {
      "needs_background": "light"
     },
     "output_type": "display_data"
    }
   ],
   "source": [
    "ax = sns.boxplot(data=new_data6,x=\"nb_review\")"
   ]
  },
  {
   "cell_type": "code",
   "execution_count": 78,
   "id": "6fd29852",
   "metadata": {
    "hidden": true,
    "scrolled": true
   },
   "outputs": [
    {
     "data": {
      "text/plain": [
       "[array([2311.,   23.]), array([ 8883., 18605.])]"
      ]
     },
     "execution_count": 78,
     "metadata": {},
     "output_type": "execute_result"
    },
    {
     "data": {
      "image/png": "[encoded data removed]",
      "text/plain": [
       "<Figure size 432x288 with 1 Axes>"
      ]
     },
     "metadata": {
      "needs_background": "light"
     },
     "output_type": "display_data"
    }
   ],
   "source": [
    "B = plt.boxplot(new_data6.nb_review)\n",
    "[item.get_ydata() for item in B['whiskers']]"
   ]
  },
  {
   "cell_type": "code",
   "execution_count": 79,
   "id": "b106287b",
   "metadata": {
    "hidden": true
   },
   "outputs": [],
   "source": [
    "new_data6 = new_data6.sort_values(by='nb_review', ascending=False)"
   ]
  },
  {
   "cell_type": "raw",
   "id": "38639f00",
   "metadata": {
    "hidden": true
   },
   "source": [
    "1000000 = 500000 + 18605*alpha"
   ]
  },
  {
   "cell_type": "code",
   "execution_count": 80,
   "id": "6718ac41",
   "metadata": {
    "hidden": true
   },
   "outputs": [
    {
     "data": {
      "text/plain": [
       "27"
      ]
     },
     "execution_count": 80,
     "metadata": {},
     "output_type": "execute_result"
    }
   ],
   "source": [
    "alpha = round(500000/18605)\n",
    "alpha"
   ]
  },
  {
   "cell_type": "code",
   "execution_count": 81,
   "id": "5b828ac8",
   "metadata": {
    "hidden": true
   },
   "outputs": [],
   "source": [
    "new_data6['owner_estimated'] = (new_data6['nb_review'] * alpha) + 500000"
   ]
  },
  {
   "cell_type": "code",
   "execution_count": 82,
   "id": "9ad23b4c",
   "metadata": {
    "hidden": true
   },
   "outputs": [],
   "source": [
    "condition = lambda x: 1000000 if x > 1000000 else x"
   ]
  },
  {
   "cell_type": "code",
   "execution_count": 83,
   "id": "4fc74371",
   "metadata": {
    "hidden": true
   },
   "outputs": [],
   "source": [
    "new_data6['owner_estimated'] = new_data6.owner_estimated.apply(condition)"
   ]
  },
  {
   "cell_type": "code",
   "execution_count": 84,
   "id": "94122770",
   "metadata": {
    "hidden": true
   },
   "outputs": [
    {
     "data": {
      "text/html": [
       "<div>\n",
       "<style scoped>\n",
       "    .dataframe tbody tr th:only-of-type {\n",
       "        vertical-align: middle;\n",
       "    }\n",
       "\n",
       "    .dataframe tbody tr th {\n",
       "        vertical-align: top;\n",
       "    }\n",
       "\n",
       "    .dataframe thead th {\n",
       "        text-align: right;\n",
       "    }\n",
       "</style>\n",
       "<table border=\"1\" class=\"dataframe\">\n",
       "  <thead>\n",
       "    <tr style=\"text-align: right;\">\n",
       "      <th></th>\n",
       "      <th>name</th>\n",
       "      <th>nb_review</th>\n",
       "      <th>owner_estimated</th>\n",
       "    </tr>\n",
       "  </thead>\n",
       "  <tbody>\n",
       "    <tr>\n",
       "      <th>10670</th>\n",
       "      <td>NieR:Automata™</td>\n",
       "      <td>48801</td>\n",
       "      <td>1000000</td>\n",
       "    </tr>\n",
       "    <tr>\n",
       "      <th>5961</th>\n",
       "      <td>Firewatch</td>\n",
       "      <td>38410</td>\n",
       "      <td>1000000</td>\n",
       "    </tr>\n",
       "    <tr>\n",
       "      <th>11692</th>\n",
       "      <td>Far Cry® 5</td>\n",
       "      <td>34454</td>\n",
       "      <td>1000000</td>\n",
       "    </tr>\n",
       "    <tr>\n",
       "      <th>7892</th>\n",
       "      <td>Conan Exiles</td>\n",
       "      <td>31595</td>\n",
       "      <td>1000000</td>\n",
       "    </tr>\n",
       "    <tr>\n",
       "      <th>6325</th>\n",
       "      <td>Squad</td>\n",
       "      <td>29547</td>\n",
       "      <td>1000000</td>\n",
       "    </tr>\n",
       "    <tr>\n",
       "      <th>...</th>\n",
       "      <td>...</td>\n",
       "      <td>...</td>\n",
       "      <td>...</td>\n",
       "    </tr>\n",
       "    <tr>\n",
       "      <th>755</th>\n",
       "      <td>Assassin’s Creed® Brotherhood</td>\n",
       "      <td>7605</td>\n",
       "      <td>705335</td>\n",
       "    </tr>\n",
       "    <tr>\n",
       "      <th>1633</th>\n",
       "      <td>Wasteland 2: Director's Cut</td>\n",
       "      <td>7530</td>\n",
       "      <td>703310</td>\n",
       "    </tr>\n",
       "    <tr>\n",
       "      <th>882</th>\n",
       "      <td>Sonic Generations Collection</td>\n",
       "      <td>7510</td>\n",
       "      <td>702770</td>\n",
       "    </tr>\n",
       "    <tr>\n",
       "      <th>12317</th>\n",
       "      <td>Kingdoms and Castles</td>\n",
       "      <td>7499</td>\n",
       "      <td>702473</td>\n",
       "    </tr>\n",
       "    <tr>\n",
       "      <th>4710</th>\n",
       "      <td>Wolfenstein: The Old Blood</td>\n",
       "      <td>7489</td>\n",
       "      <td>702203</td>\n",
       "    </tr>\n",
       "  </tbody>\n",
       "</table>\n",
       "<p>150 rows × 3 columns</p>\n",
       "</div>"
      ],
      "text/plain": [
       "                                name  nb_review  owner_estimated\n",
       "10670                 NieR:Automata™      48801          1000000\n",
       "5961                       Firewatch      38410          1000000\n",
       "11692                     Far Cry® 5      34454          1000000\n",
       "7892                    Conan Exiles      31595          1000000\n",
       "6325                           Squad      29547          1000000\n",
       "...                              ...        ...              ...\n",
       "755    Assassin’s Creed® Brotherhood       7605           705335\n",
       "1633     Wasteland 2: Director's Cut       7530           703310\n",
       "882     Sonic Generations Collection       7510           702770\n",
       "12317           Kingdoms and Castles       7499           702473\n",
       "4710      Wolfenstein: The Old Blood       7489           702203\n",
       "\n",
       "[150 rows x 3 columns]"
      ]
     },
     "execution_count": 84,
     "metadata": {},
     "output_type": "execute_result"
    }
   ],
   "source": [
    "new_data6[['name', 'nb_review', 'owner_estimated']].head(150)"
   ]
  },
  {
   "cell_type": "markdown",
   "id": "aea13852",
   "metadata": {},
   "source": [
    "# Création nouvelles features (2)"
   ]
  },
  {
   "cell_type": "code",
   "execution_count": 85,
   "id": "77982996",
   "metadata": {},
   "outputs": [],
   "source": [
    "test = new_data[['steam_appid', 'owner_estimated']]\n",
    "test2 = new_data2[['steam_appid', 'owner_estimated']]\n",
    "test3 = new_data3[['steam_appid', 'owner_estimated']]\n",
    "test4 = new_data4[['steam_appid', 'owner_estimated']]\n",
    "test5 = new_data5[['steam_appid', 'owner_estimated']]\n",
    "test6 = new_data6[['steam_appid', 'owner_estimated']]\n",
    "test_final = pd.concat([test, test2, test3, test4, test5, test6])"
   ]
  },
  {
   "cell_type": "code",
   "execution_count": 86,
   "id": "a78e1a27",
   "metadata": {},
   "outputs": [
    {
     "data": {
      "text/plain": [
       "(26867, 400)"
      ]
     },
     "execution_count": 86,
     "metadata": {},
     "output_type": "execute_result"
    }
   ],
   "source": [
    "data.shape"
   ]
  },
  {
   "cell_type": "code",
   "execution_count": 87,
   "id": "c3468fa2",
   "metadata": {},
   "outputs": [],
   "source": [
    "data = data.merge(test_final, on='steam_appid', how=\"outer\")"
   ]
  },
  {
   "cell_type": "code",
   "execution_count": 88,
   "id": "5374b5da",
   "metadata": {},
   "outputs": [
    {
     "data": {
      "text/plain": [
       "(26867, 401)"
      ]
     },
     "execution_count": 88,
     "metadata": {},
     "output_type": "execute_result"
    }
   ],
   "source": [
    "data.shape"
   ]
  },
  {
   "cell_type": "code",
   "execution_count": 89,
   "id": "6d4f2fe9",
   "metadata": {},
   "outputs": [],
   "source": [
    "data['owner_estimated'] = data['owner_estimated'].fillna(value=data.owner_median)"
   ]
  },
  {
   "cell_type": "code",
   "execution_count": 90,
   "id": "846dd870",
   "metadata": {},
   "outputs": [],
   "source": [
    "data['revenu'] = data.owner_estimated * data.price"
   ]
  },
  {
   "cell_type": "code",
   "execution_count": 91,
   "id": "b7f218fd",
   "metadata": {},
   "outputs": [
    {
     "data": {
      "text/html": [
       "<div>\n",
       "<style scoped>\n",
       "    .dataframe tbody tr th:only-of-type {\n",
       "        vertical-align: middle;\n",
       "    }\n",
       "\n",
       "    .dataframe tbody tr th {\n",
       "        vertical-align: top;\n",
       "    }\n",
       "\n",
       "    .dataframe thead th {\n",
       "        text-align: right;\n",
       "    }\n",
       "</style>\n",
       "<table border=\"1\" class=\"dataframe\">\n",
       "  <thead>\n",
       "    <tr style=\"text-align: right;\">\n",
       "      <th></th>\n",
       "      <th>steam_appid</th>\n",
       "      <th>name</th>\n",
       "      <th>release_date</th>\n",
       "      <th>english</th>\n",
       "      <th>developer</th>\n",
       "      <th>publisher</th>\n",
       "      <th>platforms</th>\n",
       "      <th>categories</th>\n",
       "      <th>genres</th>\n",
       "      <th>steamspy_tags</th>\n",
       "      <th>...</th>\n",
       "      <th>wrestling</th>\n",
       "      <th>zombies</th>\n",
       "      <th>e_sports</th>\n",
       "      <th>owner_median</th>\n",
       "      <th>owner_lower</th>\n",
       "      <th>owner_upper</th>\n",
       "      <th>has_a_website</th>\n",
       "      <th>nb_review</th>\n",
       "      <th>owner_estimated</th>\n",
       "      <th>revenu</th>\n",
       "    </tr>\n",
       "  </thead>\n",
       "  <tbody>\n",
       "    <tr>\n",
       "      <th>26847</th>\n",
       "      <td>1060770</td>\n",
       "      <td>Die, zombie sausage, die!</td>\n",
       "      <td>2019-04-24</td>\n",
       "      <td>1</td>\n",
       "      <td>AuroraCorp</td>\n",
       "      <td>Aurora software</td>\n",
       "      <td>windows</td>\n",
       "      <td>Single-player;Steam Leaderboards</td>\n",
       "      <td>Action;Indie;Early Access</td>\n",
       "      <td>Early Access;Action;Indie</td>\n",
       "      <td>...</td>\n",
       "      <td>0</td>\n",
       "      <td>11</td>\n",
       "      <td>0</td>\n",
       "      <td>10000.0</td>\n",
       "      <td>0</td>\n",
       "      <td>20000</td>\n",
       "      <td>0</td>\n",
       "      <td>1</td>\n",
       "      <td>208.0</td>\n",
       "      <td>164.32</td>\n",
       "    </tr>\n",
       "    <tr>\n",
       "      <th>26848</th>\n",
       "      <td>1060870</td>\n",
       "      <td>Hello, World.</td>\n",
       "      <td>2019-04-19</td>\n",
       "      <td>1</td>\n",
       "      <td>Meatball Parm Games</td>\n",
       "      <td>Meatball Parm Games</td>\n",
       "      <td>windows</td>\n",
       "      <td>Single-player</td>\n",
       "      <td>Casual;Indie</td>\n",
       "      <td>Casual;Indie</td>\n",
       "      <td>...</td>\n",
       "      <td>0</td>\n",
       "      <td>0</td>\n",
       "      <td>0</td>\n",
       "      <td>10000.0</td>\n",
       "      <td>0</td>\n",
       "      <td>20000</td>\n",
       "      <td>0</td>\n",
       "      <td>1</td>\n",
       "      <td>208.0</td>\n",
       "      <td>601.12</td>\n",
       "    </tr>\n",
       "    <tr>\n",
       "      <th>26849</th>\n",
       "      <td>1061230</td>\n",
       "      <td>Scream of the Viking 3</td>\n",
       "      <td>2019-04-16</td>\n",
       "      <td>1</td>\n",
       "      <td>LTrust</td>\n",
       "      <td>LTrust</td>\n",
       "      <td>windows</td>\n",
       "      <td>Single-player</td>\n",
       "      <td>Action;Adventure;Casual;Indie;Simulation</td>\n",
       "      <td>Action;Indie;Casual</td>\n",
       "      <td>...</td>\n",
       "      <td>0</td>\n",
       "      <td>0</td>\n",
       "      <td>0</td>\n",
       "      <td>10000.0</td>\n",
       "      <td>0</td>\n",
       "      <td>20000</td>\n",
       "      <td>0</td>\n",
       "      <td>5</td>\n",
       "      <td>1040.0</td>\n",
       "      <td>821.60</td>\n",
       "    </tr>\n",
       "    <tr>\n",
       "      <th>26850</th>\n",
       "      <td>1061470</td>\n",
       "      <td>Nyasha Valkyrie</td>\n",
       "      <td>2019-04-19</td>\n",
       "      <td>1</td>\n",
       "      <td>Zloy Krot Studio</td>\n",
       "      <td>IR Studio</td>\n",
       "      <td>windows</td>\n",
       "      <td>Single-player;Steam Achievements</td>\n",
       "      <td>Casual;Indie</td>\n",
       "      <td>Sexual Content;Indie;Casual</td>\n",
       "      <td>...</td>\n",
       "      <td>0</td>\n",
       "      <td>0</td>\n",
       "      <td>0</td>\n",
       "      <td>10000.0</td>\n",
       "      <td>0</td>\n",
       "      <td>20000</td>\n",
       "      <td>0</td>\n",
       "      <td>7</td>\n",
       "      <td>1456.0</td>\n",
       "      <td>1150.24</td>\n",
       "    </tr>\n",
       "    <tr>\n",
       "      <th>26851</th>\n",
       "      <td>1062120</td>\n",
       "      <td>Peas Adventure</td>\n",
       "      <td>2019-04-18</td>\n",
       "      <td>1</td>\n",
       "      <td>Artur Rezende</td>\n",
       "      <td>Artur Rezende</td>\n",
       "      <td>windows</td>\n",
       "      <td>Single-player;Full controller support</td>\n",
       "      <td>Casual;Indie</td>\n",
       "      <td>Casual;Indie</td>\n",
       "      <td>...</td>\n",
       "      <td>0</td>\n",
       "      <td>0</td>\n",
       "      <td>0</td>\n",
       "      <td>10000.0</td>\n",
       "      <td>0</td>\n",
       "      <td>20000</td>\n",
       "      <td>0</td>\n",
       "      <td>1</td>\n",
       "      <td>208.0</td>\n",
       "      <td>164.32</td>\n",
       "    </tr>\n",
       "    <tr>\n",
       "      <th>26852</th>\n",
       "      <td>1062240</td>\n",
       "      <td>地铁：恐怖末班车</td>\n",
       "      <td>2019-04-25</td>\n",
       "      <td>0</td>\n",
       "      <td>QZQ Studio</td>\n",
       "      <td>H.P.Y.S,LLC</td>\n",
       "      <td>windows</td>\n",
       "      <td>Single-player</td>\n",
       "      <td>Action;Adventure;Indie;RPG</td>\n",
       "      <td>Action;Adventure;RPG</td>\n",
       "      <td>...</td>\n",
       "      <td>0</td>\n",
       "      <td>0</td>\n",
       "      <td>0</td>\n",
       "      <td>10000.0</td>\n",
       "      <td>0</td>\n",
       "      <td>20000</td>\n",
       "      <td>0</td>\n",
       "      <td>2</td>\n",
       "      <td>416.0</td>\n",
       "      <td>869.44</td>\n",
       "    </tr>\n",
       "    <tr>\n",
       "      <th>26853</th>\n",
       "      <td>1062670</td>\n",
       "      <td>Blacksmith Run</td>\n",
       "      <td>2019-04-19</td>\n",
       "      <td>1</td>\n",
       "      <td>Skull Box Games</td>\n",
       "      <td>КиКо</td>\n",
       "      <td>windows</td>\n",
       "      <td>Single-player</td>\n",
       "      <td>Indie</td>\n",
       "      <td>Indie</td>\n",
       "      <td>...</td>\n",
       "      <td>0</td>\n",
       "      <td>0</td>\n",
       "      <td>0</td>\n",
       "      <td>10000.0</td>\n",
       "      <td>0</td>\n",
       "      <td>20000</td>\n",
       "      <td>0</td>\n",
       "      <td>13</td>\n",
       "      <td>2704.0</td>\n",
       "      <td>2136.16</td>\n",
       "    </tr>\n",
       "    <tr>\n",
       "      <th>26854</th>\n",
       "      <td>1062880</td>\n",
       "      <td>Scream of the Viking REDUX</td>\n",
       "      <td>2019-04-18</td>\n",
       "      <td>1</td>\n",
       "      <td>LTrust</td>\n",
       "      <td>LTrust</td>\n",
       "      <td>windows</td>\n",
       "      <td>Single-player</td>\n",
       "      <td>Action;Adventure;Casual;Indie</td>\n",
       "      <td>Action;Indie;Casual</td>\n",
       "      <td>...</td>\n",
       "      <td>0</td>\n",
       "      <td>0</td>\n",
       "      <td>0</td>\n",
       "      <td>10000.0</td>\n",
       "      <td>0</td>\n",
       "      <td>20000</td>\n",
       "      <td>0</td>\n",
       "      <td>6</td>\n",
       "      <td>1248.0</td>\n",
       "      <td>985.92</td>\n",
       "    </tr>\n",
       "    <tr>\n",
       "      <th>26855</th>\n",
       "      <td>1063060</td>\n",
       "      <td>MonteCube Dodge</td>\n",
       "      <td>2019-04-22</td>\n",
       "      <td>1</td>\n",
       "      <td>MonteCube</td>\n",
       "      <td>MonteCube</td>\n",
       "      <td>windows</td>\n",
       "      <td>Single-player</td>\n",
       "      <td>Action;Adventure;Casual;Indie;Early Access</td>\n",
       "      <td>Early Access;Action;Indie</td>\n",
       "      <td>...</td>\n",
       "      <td>0</td>\n",
       "      <td>0</td>\n",
       "      <td>0</td>\n",
       "      <td>10000.0</td>\n",
       "      <td>0</td>\n",
       "      <td>20000</td>\n",
       "      <td>0</td>\n",
       "      <td>2</td>\n",
       "      <td>416.0</td>\n",
       "      <td>869.44</td>\n",
       "    </tr>\n",
       "    <tr>\n",
       "      <th>26856</th>\n",
       "      <td>1063230</td>\n",
       "      <td>6120</td>\n",
       "      <td>2019-04-19</td>\n",
       "      <td>1</td>\n",
       "      <td>indie_games_studio</td>\n",
       "      <td>indie_games_studio</td>\n",
       "      <td>windows</td>\n",
       "      <td>Single-player</td>\n",
       "      <td>Adventure;Indie</td>\n",
       "      <td>Indie;Adventure;Horror</td>\n",
       "      <td>...</td>\n",
       "      <td>0</td>\n",
       "      <td>11</td>\n",
       "      <td>0</td>\n",
       "      <td>10000.0</td>\n",
       "      <td>0</td>\n",
       "      <td>20000</td>\n",
       "      <td>0</td>\n",
       "      <td>11</td>\n",
       "      <td>2288.0</td>\n",
       "      <td>9129.12</td>\n",
       "    </tr>\n",
       "    <tr>\n",
       "      <th>26857</th>\n",
       "      <td>1063560</td>\n",
       "      <td>12 HOURS</td>\n",
       "      <td>2019-04-24</td>\n",
       "      <td>1</td>\n",
       "      <td>Second Reality</td>\n",
       "      <td>Second Reality</td>\n",
       "      <td>windows</td>\n",
       "      <td>Single-player</td>\n",
       "      <td>Action;Indie;Simulation;Early Access</td>\n",
       "      <td>Early Access;Action;Indie</td>\n",
       "      <td>...</td>\n",
       "      <td>0</td>\n",
       "      <td>0</td>\n",
       "      <td>0</td>\n",
       "      <td>10000.0</td>\n",
       "      <td>0</td>\n",
       "      <td>20000</td>\n",
       "      <td>0</td>\n",
       "      <td>10</td>\n",
       "      <td>2080.0</td>\n",
       "      <td>4347.20</td>\n",
       "    </tr>\n",
       "    <tr>\n",
       "      <th>26858</th>\n",
       "      <td>1064060</td>\n",
       "      <td>The Mystery of Bikini Island</td>\n",
       "      <td>2019-04-24</td>\n",
       "      <td>1</td>\n",
       "      <td>Velvet Paradise Games</td>\n",
       "      <td>Velvet Paradise Games</td>\n",
       "      <td>windows</td>\n",
       "      <td>Single-player</td>\n",
       "      <td>Adventure;Casual;Indie;RPG;Early Access</td>\n",
       "      <td>Early Access;Adventure;Sexual Content</td>\n",
       "      <td>...</td>\n",
       "      <td>0</td>\n",
       "      <td>0</td>\n",
       "      <td>0</td>\n",
       "      <td>10000.0</td>\n",
       "      <td>0</td>\n",
       "      <td>20000</td>\n",
       "      <td>1</td>\n",
       "      <td>3</td>\n",
       "      <td>624.0</td>\n",
       "      <td>492.96</td>\n",
       "    </tr>\n",
       "    <tr>\n",
       "      <th>26859</th>\n",
       "      <td>1064580</td>\n",
       "      <td>CaptainMarlene</td>\n",
       "      <td>2019-04-23</td>\n",
       "      <td>1</td>\n",
       "      <td>Dnovel</td>\n",
       "      <td>Dnovel</td>\n",
       "      <td>windows</td>\n",
       "      <td>Single-player</td>\n",
       "      <td>Adventure;Indie;Early Access</td>\n",
       "      <td>Early Access;Indie;Adventure</td>\n",
       "      <td>...</td>\n",
       "      <td>0</td>\n",
       "      <td>0</td>\n",
       "      <td>0</td>\n",
       "      <td>10000.0</td>\n",
       "      <td>0</td>\n",
       "      <td>20000</td>\n",
       "      <td>0</td>\n",
       "      <td>13</td>\n",
       "      <td>2704.0</td>\n",
       "      <td>25120.16</td>\n",
       "    </tr>\n",
       "    <tr>\n",
       "      <th>26860</th>\n",
       "      <td>1064890</td>\n",
       "      <td>Old Edge II</td>\n",
       "      <td>2019-04-23</td>\n",
       "      <td>1</td>\n",
       "      <td>LTrust</td>\n",
       "      <td>LTrust</td>\n",
       "      <td>windows</td>\n",
       "      <td>Single-player</td>\n",
       "      <td>Adventure;Casual;Indie;Simulation</td>\n",
       "      <td>Indie;Casual;Adventure</td>\n",
       "      <td>...</td>\n",
       "      <td>0</td>\n",
       "      <td>0</td>\n",
       "      <td>0</td>\n",
       "      <td>10000.0</td>\n",
       "      <td>0</td>\n",
       "      <td>20000</td>\n",
       "      <td>0</td>\n",
       "      <td>4</td>\n",
       "      <td>832.0</td>\n",
       "      <td>657.28</td>\n",
       "    </tr>\n",
       "    <tr>\n",
       "      <th>26861</th>\n",
       "      <td>1065160</td>\n",
       "      <td>Deatherem</td>\n",
       "      <td>2019-04-23</td>\n",
       "      <td>1</td>\n",
       "      <td>Anima</td>\n",
       "      <td>Team Syukino</td>\n",
       "      <td>windows</td>\n",
       "      <td>Single-player;Steam Achievements</td>\n",
       "      <td>Indie</td>\n",
       "      <td>Indie;Horror;First-Person</td>\n",
       "      <td>...</td>\n",
       "      <td>0</td>\n",
       "      <td>0</td>\n",
       "      <td>0</td>\n",
       "      <td>10000.0</td>\n",
       "      <td>0</td>\n",
       "      <td>20000</td>\n",
       "      <td>0</td>\n",
       "      <td>4</td>\n",
       "      <td>832.0</td>\n",
       "      <td>1738.88</td>\n",
       "    </tr>\n",
       "    <tr>\n",
       "      <th>26862</th>\n",
       "      <td>1065230</td>\n",
       "      <td>Room of Pandora</td>\n",
       "      <td>2019-04-24</td>\n",
       "      <td>1</td>\n",
       "      <td>SHEN JIAWEI</td>\n",
       "      <td>SHEN JIAWEI</td>\n",
       "      <td>windows</td>\n",
       "      <td>Single-player;Steam Achievements</td>\n",
       "      <td>Adventure;Casual;Indie</td>\n",
       "      <td>Adventure;Indie;Casual</td>\n",
       "      <td>...</td>\n",
       "      <td>0</td>\n",
       "      <td>0</td>\n",
       "      <td>0</td>\n",
       "      <td>10000.0</td>\n",
       "      <td>0</td>\n",
       "      <td>20000</td>\n",
       "      <td>0</td>\n",
       "      <td>3</td>\n",
       "      <td>624.0</td>\n",
       "      <td>1304.16</td>\n",
       "    </tr>\n",
       "    <tr>\n",
       "      <th>26863</th>\n",
       "      <td>1065570</td>\n",
       "      <td>Cyber Gun</td>\n",
       "      <td>2019-04-23</td>\n",
       "      <td>1</td>\n",
       "      <td>Semyon Maximov</td>\n",
       "      <td>BekkerDev Studio</td>\n",
       "      <td>windows</td>\n",
       "      <td>Single-player</td>\n",
       "      <td>Action;Adventure;Indie</td>\n",
       "      <td>Action;Indie;Adventure</td>\n",
       "      <td>...</td>\n",
       "      <td>0</td>\n",
       "      <td>0</td>\n",
       "      <td>0</td>\n",
       "      <td>10000.0</td>\n",
       "      <td>0</td>\n",
       "      <td>20000</td>\n",
       "      <td>0</td>\n",
       "      <td>9</td>\n",
       "      <td>1872.0</td>\n",
       "      <td>3163.68</td>\n",
       "    </tr>\n",
       "    <tr>\n",
       "      <th>26864</th>\n",
       "      <td>1065650</td>\n",
       "      <td>Super Star Blast</td>\n",
       "      <td>2019-04-24</td>\n",
       "      <td>1</td>\n",
       "      <td>EntwicklerX</td>\n",
       "      <td>EntwicklerX</td>\n",
       "      <td>windows</td>\n",
       "      <td>Single-player;Multi-player;Co-op;Shared/Split ...</td>\n",
       "      <td>Action;Casual;Indie</td>\n",
       "      <td>Action;Indie;Casual</td>\n",
       "      <td>...</td>\n",
       "      <td>0</td>\n",
       "      <td>0</td>\n",
       "      <td>0</td>\n",
       "      <td>10000.0</td>\n",
       "      <td>0</td>\n",
       "      <td>20000</td>\n",
       "      <td>1</td>\n",
       "      <td>1</td>\n",
       "      <td>208.0</td>\n",
       "      <td>829.92</td>\n",
       "    </tr>\n",
       "    <tr>\n",
       "      <th>26865</th>\n",
       "      <td>1066700</td>\n",
       "      <td>New Yankee 7: Deer Hunters</td>\n",
       "      <td>2019-04-17</td>\n",
       "      <td>1</td>\n",
       "      <td>Yustas Game Studio</td>\n",
       "      <td>Alawar Entertainment</td>\n",
       "      <td>windows;mac</td>\n",
       "      <td>Single-player;Steam Cloud</td>\n",
       "      <td>Adventure;Casual;Indie</td>\n",
       "      <td>Indie;Casual;Adventure</td>\n",
       "      <td>...</td>\n",
       "      <td>0</td>\n",
       "      <td>0</td>\n",
       "      <td>0</td>\n",
       "      <td>10000.0</td>\n",
       "      <td>0</td>\n",
       "      <td>20000</td>\n",
       "      <td>1</td>\n",
       "      <td>2</td>\n",
       "      <td>416.0</td>\n",
       "      <td>2159.04</td>\n",
       "    </tr>\n",
       "    <tr>\n",
       "      <th>26866</th>\n",
       "      <td>1069460</td>\n",
       "      <td>Rune Lord</td>\n",
       "      <td>2019-04-24</td>\n",
       "      <td>1</td>\n",
       "      <td>Adept Studios GD</td>\n",
       "      <td>Alawar Entertainment</td>\n",
       "      <td>windows;mac</td>\n",
       "      <td>Single-player;Steam Cloud</td>\n",
       "      <td>Adventure;Casual;Indie</td>\n",
       "      <td>Indie;Casual;Adventure</td>\n",
       "      <td>...</td>\n",
       "      <td>0</td>\n",
       "      <td>0</td>\n",
       "      <td>0</td>\n",
       "      <td>10000.0</td>\n",
       "      <td>0</td>\n",
       "      <td>20000</td>\n",
       "      <td>1</td>\n",
       "      <td>4</td>\n",
       "      <td>832.0</td>\n",
       "      <td>4318.08</td>\n",
       "    </tr>\n",
       "  </tbody>\n",
       "</table>\n",
       "<p>20 rows × 402 columns</p>\n",
       "</div>"
      ],
      "text/plain": [
       "       steam_appid                          name release_date  english  \\\n",
       "26847      1060770     Die, zombie sausage, die!   2019-04-24        1   \n",
       "26848      1060870                 Hello, World.   2019-04-19        1   \n",
       "26849      1061230        Scream of the Viking 3   2019-04-16        1   \n",
       "26850      1061470               Nyasha Valkyrie   2019-04-19        1   \n",
       "26851      1062120                Peas Adventure   2019-04-18        1   \n",
       "26852      1062240                      地铁：恐怖末班车   2019-04-25        0   \n",
       "26853      1062670                Blacksmith Run   2019-04-19        1   \n",
       "26854      1062880    Scream of the Viking REDUX   2019-04-18        1   \n",
       "26855      1063060               MonteCube Dodge   2019-04-22        1   \n",
       "26856      1063230                          6120   2019-04-19        1   \n",
       "26857      1063560                      12 HOURS   2019-04-24        1   \n",
       "26858      1064060  The Mystery of Bikini Island   2019-04-24        1   \n",
       "26859      1064580                CaptainMarlene   2019-04-23        1   \n",
       "26860      1064890                   Old Edge II   2019-04-23        1   \n",
       "26861      1065160                     Deatherem   2019-04-23        1   \n",
       "26862      1065230               Room of Pandora   2019-04-24        1   \n",
       "26863      1065570                     Cyber Gun   2019-04-23        1   \n",
       "26864      1065650              Super Star Blast   2019-04-24        1   \n",
       "26865      1066700    New Yankee 7: Deer Hunters   2019-04-17        1   \n",
       "26866      1069460                     Rune Lord   2019-04-24        1   \n",
       "\n",
       "                   developer              publisher    platforms  \\\n",
       "26847             AuroraCorp        Aurora software      windows   \n",
       "26848    Meatball Parm Games    Meatball Parm Games      windows   \n",
       "26849                 LTrust                 LTrust      windows   \n",
       "26850       Zloy Krot Studio              IR Studio      windows   \n",
       "26851          Artur Rezende          Artur Rezende      windows   \n",
       "26852             QZQ Studio            H.P.Y.S,LLC      windows   \n",
       "26853        Skull Box Games                   КиКо      windows   \n",
       "26854                 LTrust                 LTrust      windows   \n",
       "26855              MonteCube              MonteCube      windows   \n",
       "26856     indie_games_studio     indie_games_studio      windows   \n",
       "26857         Second Reality         Second Reality      windows   \n",
       "26858  Velvet Paradise Games  Velvet Paradise Games      windows   \n",
       "26859                 Dnovel                 Dnovel      windows   \n",
       "26860                 LTrust                 LTrust      windows   \n",
       "26861                  Anima           Team Syukino      windows   \n",
       "26862            SHEN JIAWEI            SHEN JIAWEI      windows   \n",
       "26863         Semyon Maximov       BekkerDev Studio      windows   \n",
       "26864            EntwicklerX            EntwicklerX      windows   \n",
       "26865     Yustas Game Studio   Alawar Entertainment  windows;mac   \n",
       "26866       Adept Studios GD   Alawar Entertainment  windows;mac   \n",
       "\n",
       "                                              categories  \\\n",
       "26847                   Single-player;Steam Leaderboards   \n",
       "26848                                      Single-player   \n",
       "26849                                      Single-player   \n",
       "26850                   Single-player;Steam Achievements   \n",
       "26851              Single-player;Full controller support   \n",
       "26852                                      Single-player   \n",
       "26853                                      Single-player   \n",
       "26854                                      Single-player   \n",
       "26855                                      Single-player   \n",
       "26856                                      Single-player   \n",
       "26857                                      Single-player   \n",
       "26858                                      Single-player   \n",
       "26859                                      Single-player   \n",
       "26860                                      Single-player   \n",
       "26861                   Single-player;Steam Achievements   \n",
       "26862                   Single-player;Steam Achievements   \n",
       "26863                                      Single-player   \n",
       "26864  Single-player;Multi-player;Co-op;Shared/Split ...   \n",
       "26865                          Single-player;Steam Cloud   \n",
       "26866                          Single-player;Steam Cloud   \n",
       "\n",
       "                                           genres  \\\n",
       "26847                   Action;Indie;Early Access   \n",
       "26848                                Casual;Indie   \n",
       "26849    Action;Adventure;Casual;Indie;Simulation   \n",
       "26850                                Casual;Indie   \n",
       "26851                                Casual;Indie   \n",
       "26852                  Action;Adventure;Indie;RPG   \n",
       "26853                                       Indie   \n",
       "26854               Action;Adventure;Casual;Indie   \n",
       "26855  Action;Adventure;Casual;Indie;Early Access   \n",
       "26856                             Adventure;Indie   \n",
       "26857        Action;Indie;Simulation;Early Access   \n",
       "26858     Adventure;Casual;Indie;RPG;Early Access   \n",
       "26859                Adventure;Indie;Early Access   \n",
       "26860           Adventure;Casual;Indie;Simulation   \n",
       "26861                                       Indie   \n",
       "26862                      Adventure;Casual;Indie   \n",
       "26863                      Action;Adventure;Indie   \n",
       "26864                         Action;Casual;Indie   \n",
       "26865                      Adventure;Casual;Indie   \n",
       "26866                      Adventure;Casual;Indie   \n",
       "\n",
       "                               steamspy_tags  ...  wrestling  zombies  \\\n",
       "26847              Early Access;Action;Indie  ...          0       11   \n",
       "26848                           Casual;Indie  ...          0        0   \n",
       "26849                    Action;Indie;Casual  ...          0        0   \n",
       "26850            Sexual Content;Indie;Casual  ...          0        0   \n",
       "26851                           Casual;Indie  ...          0        0   \n",
       "26852                   Action;Adventure;RPG  ...          0        0   \n",
       "26853                                  Indie  ...          0        0   \n",
       "26854                    Action;Indie;Casual  ...          0        0   \n",
       "26855              Early Access;Action;Indie  ...          0        0   \n",
       "26856                 Indie;Adventure;Horror  ...          0       11   \n",
       "26857              Early Access;Action;Indie  ...          0        0   \n",
       "26858  Early Access;Adventure;Sexual Content  ...          0        0   \n",
       "26859           Early Access;Indie;Adventure  ...          0        0   \n",
       "26860                 Indie;Casual;Adventure  ...          0        0   \n",
       "26861              Indie;Horror;First-Person  ...          0        0   \n",
       "26862                 Adventure;Indie;Casual  ...          0        0   \n",
       "26863                 Action;Indie;Adventure  ...          0        0   \n",
       "26864                    Action;Indie;Casual  ...          0        0   \n",
       "26865                 Indie;Casual;Adventure  ...          0        0   \n",
       "26866                 Indie;Casual;Adventure  ...          0        0   \n",
       "\n",
       "       e_sports  owner_median  owner_lower owner_upper  has_a_website  \\\n",
       "26847         0       10000.0            0       20000              0   \n",
       "26848         0       10000.0            0       20000              0   \n",
       "26849         0       10000.0            0       20000              0   \n",
       "26850         0       10000.0            0       20000              0   \n",
       "26851         0       10000.0            0       20000              0   \n",
       "26852         0       10000.0            0       20000              0   \n",
       "26853         0       10000.0            0       20000              0   \n",
       "26854         0       10000.0            0       20000              0   \n",
       "26855         0       10000.0            0       20000              0   \n",
       "26856         0       10000.0            0       20000              0   \n",
       "26857         0       10000.0            0       20000              0   \n",
       "26858         0       10000.0            0       20000              1   \n",
       "26859         0       10000.0            0       20000              0   \n",
       "26860         0       10000.0            0       20000              0   \n",
       "26861         0       10000.0            0       20000              0   \n",
       "26862         0       10000.0            0       20000              0   \n",
       "26863         0       10000.0            0       20000              0   \n",
       "26864         0       10000.0            0       20000              1   \n",
       "26865         0       10000.0            0       20000              1   \n",
       "26866         0       10000.0            0       20000              1   \n",
       "\n",
       "      nb_review owner_estimated    revenu  \n",
       "26847         1           208.0    164.32  \n",
       "26848         1           208.0    601.12  \n",
       "26849         5          1040.0    821.60  \n",
       "26850         7          1456.0   1150.24  \n",
       "26851         1           208.0    164.32  \n",
       "26852         2           416.0    869.44  \n",
       "26853        13          2704.0   2136.16  \n",
       "26854         6          1248.0    985.92  \n",
       "26855         2           416.0    869.44  \n",
       "26856        11          2288.0   9129.12  \n",
       "26857        10          2080.0   4347.20  \n",
       "26858         3           624.0    492.96  \n",
       "26859        13          2704.0  25120.16  \n",
       "26860         4           832.0    657.28  \n",
       "26861         4           832.0   1738.88  \n",
       "26862         3           624.0   1304.16  \n",
       "26863         9          1872.0   3163.68  \n",
       "26864         1           208.0    829.92  \n",
       "26865         2           416.0   2159.04  \n",
       "26866         4           832.0   4318.08  \n",
       "\n",
       "[20 rows x 402 columns]"
      ]
     },
     "execution_count": 91,
     "metadata": {},
     "output_type": "execute_result"
    }
   ],
   "source": [
    "data.tail(20)"
   ]
  },
  {
   "cell_type": "markdown",
   "id": "422f127b",
   "metadata": {},
   "source": [
    "# Enregistrement du csv"
   ]
  },
  {
   "cell_type": "code",
   "execution_count": 92,
   "id": "b6d0fe3a",
   "metadata": {},
   "outputs": [],
   "source": [
    "#data.to_csv(r'data_clean.csv', index = False)"
   ]
  },
  {
   "cell_type": "markdown",
   "id": "7a33c494",
   "metadata": {},
   "source": [
    "# Encodage des certaines colonnes"
   ]
  },
  {
   "cell_type": "markdown",
   "id": "54f7ae39",
   "metadata": {},
   "source": [
    "Encodage des plateformes"
   ]
  },
  {
   "cell_type": "code",
   "execution_count": 93,
   "id": "8445705d",
   "metadata": {},
   "outputs": [],
   "source": [
    "ohe = OneHotEncoder(sparse = False)\n",
    "ohe.fit(data[['platforms']])\n",
    "platform_encoded = ohe.transform(data[['platforms']])"
   ]
  },
  {
   "cell_type": "code",
   "execution_count": 94,
   "id": "4077c2d3",
   "metadata": {},
   "outputs": [],
   "source": [
    "df1 = pd.DataFrame(platform_encoded)"
   ]
  },
  {
   "cell_type": "code",
   "execution_count": 95,
   "id": "3e505923",
   "metadata": {},
   "outputs": [],
   "source": [
    "data2 = data.join(df1)"
   ]
  },
  {
   "cell_type": "code",
   "execution_count": 96,
   "id": "a7bd4dfd",
   "metadata": {},
   "outputs": [],
   "source": [
    "data2.drop(columns='platforms', inplace= True)"
   ]
  },
  {
   "cell_type": "code",
   "execution_count": null,
   "id": "4a100a64",
   "metadata": {},
   "outputs": [],
   "source": []
  }
 ],
 "metadata": {
  "kernelspec": {
   "display_name": "Python 3 (ipykernel)",
   "language": "python",
   "name": "python3"
  },
  "language_info": {
   "codemirror_mode": {
    "name": "ipython",
    "version": 3
   },
   "file_extension": ".py",
   "mimetype": "text/x-python",
   "name": "python",
   "nbconvert_exporter": "python",
   "pygments_lexer": "ipython3",
   "version": "3.8.12"
  },
  "toc": {
   "base_numbering": 1,
   "nav_menu": {},
   "number_sections": true,
   "sideBar": true,
   "skip_h1_title": false,
   "title_cell": "Table of Contents",
   "title_sidebar": "Contents",
   "toc_cell": false,
   "toc_position": {},
   "toc_section_display": true,
   "toc_window_display": false
  }
 },
 "nbformat": 4,
 "nbformat_minor": 5
}
