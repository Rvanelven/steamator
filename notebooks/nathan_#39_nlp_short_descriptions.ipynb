{
 "cells": [
  {
   "cell_type": "code",
   "execution_count": 1,
   "id": "342678e8",
   "metadata": {},
   "outputs": [],
   "source": [
    "# imporation basique\n",
    "import numpy as np\n",
    "import pandas as pd\n",
    "import matplotlib.pyplot as plt\n",
    "import seaborn as sns\n",
    "!pip install -q wordcloud\n",
    "!pip install -q nltk"
   ]
  },
  {
   "cell_type": "code",
   "execution_count": 2,
   "id": "1cba6870",
   "metadata": {},
   "outputs": [],
   "source": [
    "# charger le dataset\n",
    "steam_description = pd.read_csv('../raw_data/steam_description_data.csv')"
   ]
  },
  {
   "cell_type": "markdown",
   "id": "e9ed7f74",
   "metadata": {},
   "source": [
    "# Exploration de la donnée"
   ]
  },
  {
   "cell_type": "code",
   "execution_count": 3,
   "id": "c7727878",
   "metadata": {},
   "outputs": [
    {
     "data": {
      "text/html": [
       "<div>\n",
       "<style scoped>\n",
       "    .dataframe tbody tr th:only-of-type {\n",
       "        vertical-align: middle;\n",
       "    }\n",
       "\n",
       "    .dataframe tbody tr th {\n",
       "        vertical-align: top;\n",
       "    }\n",
       "\n",
       "    .dataframe thead th {\n",
       "        text-align: right;\n",
       "    }\n",
       "</style>\n",
       "<table border=\"1\" class=\"dataframe\">\n",
       "  <thead>\n",
       "    <tr style=\"text-align: right;\">\n",
       "      <th></th>\n",
       "      <th>steam_appid</th>\n",
       "      <th>detailed_description</th>\n",
       "      <th>about_the_game</th>\n",
       "      <th>short_description</th>\n",
       "    </tr>\n",
       "  </thead>\n",
       "  <tbody>\n",
       "    <tr>\n",
       "      <th>0</th>\n",
       "      <td>10</td>\n",
       "      <td>Play the world's number 1 online action game. ...</td>\n",
       "      <td>Play the world's number 1 online action game. ...</td>\n",
       "      <td>Play the world's number 1 online action game. ...</td>\n",
       "    </tr>\n",
       "    <tr>\n",
       "      <th>1</th>\n",
       "      <td>20</td>\n",
       "      <td>One of the most popular online action games of...</td>\n",
       "      <td>One of the most popular online action games of...</td>\n",
       "      <td>One of the most popular online action games of...</td>\n",
       "    </tr>\n",
       "    <tr>\n",
       "      <th>2</th>\n",
       "      <td>30</td>\n",
       "      <td>Enlist in an intense brand of Axis vs. Allied ...</td>\n",
       "      <td>Enlist in an intense brand of Axis vs. Allied ...</td>\n",
       "      <td>Enlist in an intense brand of Axis vs. Allied ...</td>\n",
       "    </tr>\n",
       "    <tr>\n",
       "      <th>3</th>\n",
       "      <td>40</td>\n",
       "      <td>Enjoy fast-paced multiplayer gaming with Death...</td>\n",
       "      <td>Enjoy fast-paced multiplayer gaming with Death...</td>\n",
       "      <td>Enjoy fast-paced multiplayer gaming with Death...</td>\n",
       "    </tr>\n",
       "    <tr>\n",
       "      <th>4</th>\n",
       "      <td>50</td>\n",
       "      <td>Return to the Black Mesa Research Facility as ...</td>\n",
       "      <td>Return to the Black Mesa Research Facility as ...</td>\n",
       "      <td>Return to the Black Mesa Research Facility as ...</td>\n",
       "    </tr>\n",
       "  </tbody>\n",
       "</table>\n",
       "</div>"
      ],
      "text/plain": [
       "   steam_appid                               detailed_description  \\\n",
       "0           10  Play the world's number 1 online action game. ...   \n",
       "1           20  One of the most popular online action games of...   \n",
       "2           30  Enlist in an intense brand of Axis vs. Allied ...   \n",
       "3           40  Enjoy fast-paced multiplayer gaming with Death...   \n",
       "4           50  Return to the Black Mesa Research Facility as ...   \n",
       "\n",
       "                                      about_the_game  \\\n",
       "0  Play the world's number 1 online action game. ...   \n",
       "1  One of the most popular online action games of...   \n",
       "2  Enlist in an intense brand of Axis vs. Allied ...   \n",
       "3  Enjoy fast-paced multiplayer gaming with Death...   \n",
       "4  Return to the Black Mesa Research Facility as ...   \n",
       "\n",
       "                                   short_description  \n",
       "0  Play the world's number 1 online action game. ...  \n",
       "1  One of the most popular online action games of...  \n",
       "2  Enlist in an intense brand of Axis vs. Allied ...  \n",
       "3  Enjoy fast-paced multiplayer gaming with Death...  \n",
       "4  Return to the Black Mesa Research Facility as ...  "
      ]
     },
     "execution_count": 3,
     "metadata": {},
     "output_type": "execute_result"
    }
   ],
   "source": [
    "steam_description.head()"
   ]
  },
  {
   "cell_type": "markdown",
   "id": "172a4c77",
   "metadata": {},
   "source": [
    "> Grâce à l'exploration faite sur les descriptions nous savons qu'il n'y pas de données manquantes ni de doublons."
   ]
  },
  {
   "cell_type": "markdown",
   "id": "fcc71f59",
   "metadata": {},
   "source": [
    "> Nous allons faire une analyse sur les `short_description`"
   ]
  },
  {
   "cell_type": "code",
   "execution_count": 4,
   "id": "c38357f6",
   "metadata": {},
   "outputs": [
    {
     "data": {
      "text/plain": [
       "steam_appid             0\n",
       "detailed_description    0\n",
       "about_the_game          0\n",
       "short_description       0\n",
       "dtype: int64"
      ]
     },
     "execution_count": 4,
     "metadata": {},
     "output_type": "execute_result"
    }
   ],
   "source": [
    "# vérifier si données manquantes\n",
    "steam_description.isna().sum()"
   ]
  },
  {
   "cell_type": "code",
   "execution_count": 5,
   "id": "70a4da5c",
   "metadata": {},
   "outputs": [
    {
     "data": {
      "text/plain": [
       "0"
      ]
     },
     "execution_count": 5,
     "metadata": {},
     "output_type": "execute_result"
    }
   ],
   "source": [
    "# vérifier si présence de doublons\n",
    "steam_description.duplicated().sum()"
   ]
  },
  {
   "cell_type": "code",
   "execution_count": 6,
   "id": "d6424fb5",
   "metadata": {},
   "outputs": [
    {
     "data": {
      "text/plain": [
       "Index(['steam_appid', 'detailed_description', 'about_the_game',\n",
       "       'short_description'],\n",
       "      dtype='object')"
      ]
     },
     "execution_count": 6,
     "metadata": {},
     "output_type": "execute_result"
    }
   ],
   "source": [
    "# colonnes du dataset\n",
    "steam_description.columns"
   ]
  },
  {
   "cell_type": "code",
   "execution_count": 7,
   "id": "842284fc",
   "metadata": {},
   "outputs": [
    {
     "name": "stdout",
     "output_type": "stream",
     "text": [
      "<class 'pandas.core.frame.DataFrame'>\n",
      "RangeIndex: 27334 entries, 0 to 27333\n",
      "Data columns (total 4 columns):\n",
      " #   Column                Non-Null Count  Dtype \n",
      "---  ------                --------------  ----- \n",
      " 0   steam_appid           27334 non-null  int64 \n",
      " 1   detailed_description  27334 non-null  object\n",
      " 2   about_the_game        27334 non-null  object\n",
      " 3   short_description     27334 non-null  object\n",
      "dtypes: int64(1), object(3)\n",
      "memory usage: 854.3+ KB\n"
     ]
    }
   ],
   "source": [
    "# informations\n",
    "steam_description.info()"
   ]
  },
  {
   "cell_type": "markdown",
   "id": "97d4ddf0",
   "metadata": {},
   "source": [
    "# Analyse des descriptions"
   ]
  },
  {
   "cell_type": "markdown",
   "id": "4ce34b9d",
   "metadata": {},
   "source": [
    "Il y a 3 colonnes description dans la table.\n",
    "\n",
    "`detailed_description`, `about_the_game` et `short_description` sont sensiblement identiques."
   ]
  },
  {
   "cell_type": "markdown",
   "id": "5bb32925",
   "metadata": {},
   "source": [
    "## Application de NLP sur `short_description`"
   ]
  },
  {
   "cell_type": "code",
   "execution_count": 8,
   "id": "caf3296d",
   "metadata": {},
   "outputs": [
    {
     "data": {
      "text/plain": [
       "0    Play the worlds number 1 online action game En...\n",
       "1    One of the most popular online action games of...\n",
       "2    Enlist in an intense brand of Axis vs Allied t...\n",
       "3    Enjoy fastpaced multiplayer gaming with Deathm...\n",
       "4    Return to the Black Mesa Research Facility as ...\n",
       "Name: short_description, dtype: object"
      ]
     },
     "execution_count": 8,
     "metadata": {},
     "output_type": "execute_result"
    }
   ],
   "source": [
    "# suppression ponctuation\n",
    "import string \n",
    "def remove_punctuations(text):\n",
    "    for punctuation in string.punctuation:\n",
    "        text = text.replace(punctuation, '')\n",
    "    return text\n",
    "\n",
    "steam_description['short_description'] = steam_description['short_description'].apply(remove_punctuations)\n",
    "steam_description['short_description'].head()"
   ]
  },
  {
   "cell_type": "code",
   "execution_count": 9,
   "id": "2570973c",
   "metadata": {},
   "outputs": [
    {
     "data": {
      "text/plain": [
       "0    play the worlds number 1 online action game en...\n",
       "1    one of the most popular online action games of...\n",
       "2    enlist in an intense brand of axis vs allied t...\n",
       "3    enjoy fastpaced multiplayer gaming with deathm...\n",
       "4    return to the black mesa research facility as ...\n",
       "Name: short_description, dtype: object"
      ]
     },
     "execution_count": 9,
     "metadata": {},
     "output_type": "execute_result"
    }
   ],
   "source": [
    "# conversion en minuscule\n",
    "def lower_case(text):\n",
    "    text = text.lower()\n",
    "    return text\n",
    "\n",
    "steam_description['short_description'] = steam_description['short_description'].apply(lower_case)\n",
    "steam_description['short_description'].head()"
   ]
  },
  {
   "cell_type": "code",
   "execution_count": 10,
   "id": "701714a7",
   "metadata": {},
   "outputs": [
    {
     "data": {
      "text/plain": [
       "0    play the worlds number  online action game eng...\n",
       "1    one of the most popular online action games of...\n",
       "2    enlist in an intense brand of axis vs allied t...\n",
       "3    enjoy fastpaced multiplayer gaming with deathm...\n",
       "4    return to the black mesa research facility as ...\n",
       "Name: short_description, dtype: object"
      ]
     },
     "execution_count": 10,
     "metadata": {},
     "output_type": "execute_result"
    }
   ],
   "source": [
    "# suppression des nombres\n",
    "def remove_numbers(text):\n",
    "    text = ''.join(word for word in text if not word.isdigit())\n",
    "    return text\n",
    "steam_description['short_description'] = steam_description['short_description'].apply(remove_numbers)\n",
    "steam_description['short_description'].head()"
   ]
  },
  {
   "cell_type": "code",
   "execution_count": 11,
   "id": "626e2bb8",
   "metadata": {},
   "outputs": [
    {
     "data": {
      "text/plain": [
       "0    [play, worlds, number, online, action, game, e...\n",
       "1    [one, popular, online, action, games, time, te...\n",
       "2    [enlist, intense, brand, axis, vs, allied, tea...\n",
       "3    [enjoy, fastpaced, multiplayer, gaming, deathm...\n",
       "4    [return, black, mesa, research, facility, one,...\n",
       "Name: short_description, dtype: object"
      ]
     },
     "execution_count": 11,
     "metadata": {},
     "output_type": "execute_result"
    }
   ],
   "source": [
    "# suppression des stopwords\n",
    "from nltk.corpus import stopwords \n",
    "from nltk.tokenize import word_tokenize\n",
    "  \n",
    "def remove_stop_words(text):\n",
    "    stop_words = set(stopwords.words('english')) \n",
    "\n",
    "    word_tokens = word_tokenize(text) \n",
    "  \n",
    "    text = [w for w in word_tokens if not w in stop_words]\n",
    "\n",
    "    return text\n",
    "\n",
    "steam_description['short_description'] = steam_description['short_description'].apply(remove_stop_words)\n",
    "steam_description['short_description'].head()"
   ]
  },
  {
   "cell_type": "code",
   "execution_count": 12,
   "id": "8d5c36f5",
   "metadata": {},
   "outputs": [
    {
     "data": {
      "text/plain": [
       "0    play world number online action game engage in...\n",
       "1    one popular online action game time team fortr...\n",
       "2    enlist intense brand axis v allied teamplay se...\n",
       "3    enjoy fastpaced multiplayer gaming deathmatch ...\n",
       "4    return black mesa research facility one milita...\n",
       "Name: short_description, dtype: object"
      ]
     },
     "execution_count": 12,
     "metadata": {},
     "output_type": "execute_result"
    }
   ],
   "source": [
    "# lemmatizer\n",
    "from nltk.stem import WordNetLemmatizer\n",
    "\n",
    "def lemmatize(text):\n",
    "    lemmatizer = WordNetLemmatizer() \n",
    "    \n",
    "    lemmatized = ' '.join(lemmatizer.lemmatize(word) for word in text)\n",
    "    \n",
    "    text = lemmatized\n",
    "    \n",
    "    return text\n",
    "\n",
    "steam_description['short_description'] = steam_description['short_description'].apply(lemmatize)\n",
    "steam_description['short_description'].head()"
   ]
  },
  {
   "cell_type": "code",
   "execution_count": 14,
   "id": "20775ff7",
   "metadata": {},
   "outputs": [
    {
     "name": "stdout",
     "output_type": "stream",
     "text": [
      "one popular online action game time team fortress classic feature nine character class medic spy demolition man enlisted unique style online team warfare character class posse unique weapon item ability team compete online variety game play mode\n"
     ]
    }
   ],
   "source": [
    "print(steam_description['short_description'][1])"
   ]
  },
  {
   "cell_type": "code",
   "execution_count": null,
   "id": "b49ebd4d",
   "metadata": {},
   "outputs": [],
   "source": []
  }
 ],
 "metadata": {
  "kernelspec": {
   "display_name": "Python 3 (ipykernel)",
   "language": "python",
   "name": "python3"
  },
  "language_info": {
   "codemirror_mode": {
    "name": "ipython",
    "version": 3
   },
   "file_extension": ".py",
   "mimetype": "text/x-python",
   "name": "python",
   "nbconvert_exporter": "python",
   "pygments_lexer": "ipython3",
   "version": "3.8.12"
  },
  "toc": {
   "base_numbering": 1,
   "nav_menu": {},
   "number_sections": true,
   "sideBar": true,
   "skip_h1_title": false,
   "title_cell": "Table of Contents",
   "title_sidebar": "Contents",
   "toc_cell": false,
   "toc_position": {},
   "toc_section_display": true,
   "toc_window_display": false
  }
 },
 "nbformat": 4,
 "nbformat_minor": 5
}
