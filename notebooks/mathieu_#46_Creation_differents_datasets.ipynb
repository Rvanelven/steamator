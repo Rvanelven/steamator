{
 "cells": [
  {
   "cell_type": "code",
   "execution_count": 1,
   "id": "e98459ab-e05e-41d0-884a-b63ed333ae3c",
   "metadata": {},
   "outputs": [],
   "source": [
    "#pip install tpot"
   ]
  },
  {
   "cell_type": "markdown",
   "id": "0cf3ae59-a1d7-4e86-a16f-14c2588f7f54",
   "metadata": {
    "tags": []
   },
   "source": [
    "# IMPORTS / CREATION DATASET"
   ]
  },
  {
   "cell_type": "code",
   "execution_count": 1,
   "id": "306a996a-5c82-4745-b98b-96b8b28c446d",
   "metadata": {},
   "outputs": [
    {
     "name": "stderr",
     "output_type": "stream",
     "text": [
      "/Users/mathieudbt/.pyenv/versions/3.8.12/envs/steamator/lib/python3.8/site-packages/tpot/builtins/__init__.py:36: UserWarning: Warning: optional dependency `torch` is not available. - skipping import of NN models.\n",
      "  warnings.warn(\"Warning: optional dependency `torch` is not available. - skipping import of NN models.\")\n"
     ]
    }
   ],
   "source": [
    "import pandas as pd\n",
    "import pandas as pd\n",
    "import matplotlib.pyplot as plt\n",
    "from sklearn.model_selection import train_test_split\n",
    "from sklearn.model_selection import cross_validate\n",
    "import numpy as np\n",
    "from sklearn.model_selection import learning_curve\n",
    "from sklearn.model_selection import GridSearchCV\n",
    "from sklearn.model_selection import RandomizedSearchCV\n",
    "from scipy import stats\n",
    "from sklearn.impute import SimpleImputer\n",
    "from sklearn.preprocessing import StandardScaler\n",
    "from sklearn.preprocessing import OneHotEncoder\n",
    "from sklearn.compose import make_column_transformer, make_column_selector\n",
    "from sklearn.model_selection import cross_val_score\n",
    "from sklearn.model_selection import RandomizedSearchCV\n",
    "from scipy import stats\n",
    "from sklearn.pipeline import make_pipeline, make_union\n",
    "from sklearn.linear_model import Ridge, Lasso, LinearRegression, ElasticNet\n",
    "from tpot import *\n",
    "from xgboost import *\n",
    "from sklearn.ensemble import *\n",
    "from sklearn.svm import *\n",
    "import seaborn as sns "
   ]
  },
  {
   "cell_type": "code",
   "execution_count": 2,
   "id": "2325e25c-5577-4ea9-bb6c-d9965f10aa15",
   "metadata": {},
   "outputs": [
    {
     "data": {
      "text/html": [
       "<div>\n",
       "<style scoped>\n",
       "    .dataframe tbody tr th:only-of-type {\n",
       "        vertical-align: middle;\n",
       "    }\n",
       "\n",
       "    .dataframe tbody tr th {\n",
       "        vertical-align: top;\n",
       "    }\n",
       "\n",
       "    .dataframe thead th {\n",
       "        text-align: right;\n",
       "    }\n",
       "</style>\n",
       "<table border=\"1\" class=\"dataframe\">\n",
       "  <thead>\n",
       "    <tr style=\"text-align: right;\">\n",
       "      <th></th>\n",
       "      <th>steam_appid</th>\n",
       "      <th>name</th>\n",
       "      <th>release_date</th>\n",
       "      <th>developer</th>\n",
       "      <th>publisher</th>\n",
       "      <th>pub_nb_games</th>\n",
       "      <th>owner_median</th>\n",
       "      <th>recommended</th>\n",
       "      <th>english</th>\n",
       "      <th>price</th>\n",
       "      <th>has_a_website</th>\n",
       "      <th>nb_review</th>\n",
       "      <th>owner_estimated</th>\n",
       "      <th>rating</th>\n",
       "      <th>popularity</th>\n",
       "      <th>revenu</th>\n",
       "    </tr>\n",
       "  </thead>\n",
       "  <tbody>\n",
       "    <tr>\n",
       "      <th>0</th>\n",
       "      <td>7340</td>\n",
       "      <td>Azada</td>\n",
       "      <td>2010-04-21</td>\n",
       "      <td>Big Fish Games</td>\n",
       "      <td>Big Fish Games</td>\n",
       "      <td>212</td>\n",
       "      <td>10000.0</td>\n",
       "      <td>0</td>\n",
       "      <td>1</td>\n",
       "      <td>6.99</td>\n",
       "      <td>1</td>\n",
       "      <td>12</td>\n",
       "      <td>2496.0</td>\n",
       "      <td>10.228571</td>\n",
       "      <td>13.635714</td>\n",
       "      <td>17447.04</td>\n",
       "    </tr>\n",
       "    <tr>\n",
       "      <th>1</th>\n",
       "      <td>50910</td>\n",
       "      <td>Professor Fizzwizzle and the Molten Mystery</td>\n",
       "      <td>2010-04-21</td>\n",
       "      <td>Big Fish Games</td>\n",
       "      <td>Big Fish Games</td>\n",
       "      <td>212</td>\n",
       "      <td>10000.0</td>\n",
       "      <td>0</td>\n",
       "      <td>1</td>\n",
       "      <td>4.99</td>\n",
       "      <td>1</td>\n",
       "      <td>12</td>\n",
       "      <td>2496.0</td>\n",
       "      <td>10.228571</td>\n",
       "      <td>13.635714</td>\n",
       "      <td>12455.04</td>\n",
       "    </tr>\n",
       "    <tr>\n",
       "      <th>2</th>\n",
       "      <td>50920</td>\n",
       "      <td>Hidden Expedition: Amazon</td>\n",
       "      <td>2010-04-21</td>\n",
       "      <td>Big Fish Games</td>\n",
       "      <td>Big Fish Games</td>\n",
       "      <td>212</td>\n",
       "      <td>10000.0</td>\n",
       "      <td>0</td>\n",
       "      <td>1</td>\n",
       "      <td>6.99</td>\n",
       "      <td>1</td>\n",
       "      <td>12</td>\n",
       "      <td>2496.0</td>\n",
       "      <td>10.228571</td>\n",
       "      <td>13.635714</td>\n",
       "      <td>17447.04</td>\n",
       "    </tr>\n",
       "    <tr>\n",
       "      <th>3</th>\n",
       "      <td>50930</td>\n",
       "      <td>Hidden Expedition: Everest</td>\n",
       "      <td>2010-04-21</td>\n",
       "      <td>Big Fish Games</td>\n",
       "      <td>Big Fish Games</td>\n",
       "      <td>212</td>\n",
       "      <td>10000.0</td>\n",
       "      <td>0</td>\n",
       "      <td>1</td>\n",
       "      <td>6.99</td>\n",
       "      <td>1</td>\n",
       "      <td>5</td>\n",
       "      <td>1040.0</td>\n",
       "      <td>10.228571</td>\n",
       "      <td>13.635714</td>\n",
       "      <td>7269.60</td>\n",
       "    </tr>\n",
       "    <tr>\n",
       "      <th>4</th>\n",
       "      <td>50940</td>\n",
       "      <td>Hidden Expedition: Titanic</td>\n",
       "      <td>2010-04-21</td>\n",
       "      <td>Big Fish Games</td>\n",
       "      <td>Big Fish Games</td>\n",
       "      <td>212</td>\n",
       "      <td>10000.0</td>\n",
       "      <td>0</td>\n",
       "      <td>1</td>\n",
       "      <td>6.99</td>\n",
       "      <td>1</td>\n",
       "      <td>6</td>\n",
       "      <td>1248.0</td>\n",
       "      <td>10.228571</td>\n",
       "      <td>13.635714</td>\n",
       "      <td>8723.52</td>\n",
       "    </tr>\n",
       "    <tr>\n",
       "      <th>...</th>\n",
       "      <td>...</td>\n",
       "      <td>...</td>\n",
       "      <td>...</td>\n",
       "      <td>...</td>\n",
       "      <td>...</td>\n",
       "      <td>...</td>\n",
       "      <td>...</td>\n",
       "      <td>...</td>\n",
       "      <td>...</td>\n",
       "      <td>...</td>\n",
       "      <td>...</td>\n",
       "      <td>...</td>\n",
       "      <td>...</td>\n",
       "      <td>...</td>\n",
       "      <td>...</td>\n",
       "      <td>...</td>\n",
       "    </tr>\n",
       "    <tr>\n",
       "      <th>26794</th>\n",
       "      <td>1060770</td>\n",
       "      <td>Die, zombie sausage, die!</td>\n",
       "      <td>2019-04-24</td>\n",
       "      <td>AuroraCorp</td>\n",
       "      <td>Aurora software</td>\n",
       "      <td>1</td>\n",
       "      <td>10000.0</td>\n",
       "      <td>1</td>\n",
       "      <td>1</td>\n",
       "      <td>0.79</td>\n",
       "      <td>0</td>\n",
       "      <td>1</td>\n",
       "      <td>208.0</td>\n",
       "      <td>1.000000</td>\n",
       "      <td>1.000000</td>\n",
       "      <td>164.32</td>\n",
       "    </tr>\n",
       "    <tr>\n",
       "      <th>26795</th>\n",
       "      <td>858100</td>\n",
       "      <td>Grimshade</td>\n",
       "      <td>2019-03-26</td>\n",
       "      <td>TALEROCK</td>\n",
       "      <td>Asterion Games</td>\n",
       "      <td>1</td>\n",
       "      <td>10000.0</td>\n",
       "      <td>1</td>\n",
       "      <td>1</td>\n",
       "      <td>15.99</td>\n",
       "      <td>1</td>\n",
       "      <td>86</td>\n",
       "      <td>17888.0</td>\n",
       "      <td>58.800000</td>\n",
       "      <td>74.100000</td>\n",
       "      <td>286029.12</td>\n",
       "    </tr>\n",
       "    <tr>\n",
       "      <th>26796</th>\n",
       "      <td>832420</td>\n",
       "      <td>ICED VR</td>\n",
       "      <td>2018-05-29</td>\n",
       "      <td>Anea_Duo_Dev</td>\n",
       "      <td>Anea_Duo_Dev</td>\n",
       "      <td>1</td>\n",
       "      <td>10000.0</td>\n",
       "      <td>1</td>\n",
       "      <td>1</td>\n",
       "      <td>7.19</td>\n",
       "      <td>0</td>\n",
       "      <td>9</td>\n",
       "      <td>1872.0</td>\n",
       "      <td>44.450000</td>\n",
       "      <td>69.650000</td>\n",
       "      <td>13459.68</td>\n",
       "    </tr>\n",
       "    <tr>\n",
       "      <th>26797</th>\n",
       "      <td>659100</td>\n",
       "      <td>Skyfall</td>\n",
       "      <td>2017-07-28</td>\n",
       "      <td>AYE Technology</td>\n",
       "      <td>AYE Technology</td>\n",
       "      <td>1</td>\n",
       "      <td>10000.0</td>\n",
       "      <td>1</td>\n",
       "      <td>1</td>\n",
       "      <td>2.79</td>\n",
       "      <td>0</td>\n",
       "      <td>24</td>\n",
       "      <td>4992.0</td>\n",
       "      <td>-4.600000</td>\n",
       "      <td>6.800000</td>\n",
       "      <td>13927.68</td>\n",
       "    </tr>\n",
       "    <tr>\n",
       "      <th>26798</th>\n",
       "      <td>456780</td>\n",
       "      <td>DUCATI - 90th Anniversary</td>\n",
       "      <td>2016-06-09</td>\n",
       "      <td>Milestone S.r.l.</td>\n",
       "      <td>Milestone S.r.l.</td>\n",
       "      <td>1</td>\n",
       "      <td>10000.0</td>\n",
       "      <td>1</td>\n",
       "      <td>1</td>\n",
       "      <td>6.99</td>\n",
       "      <td>1</td>\n",
       "      <td>96</td>\n",
       "      <td>19968.0</td>\n",
       "      <td>226.648000</td>\n",
       "      <td>338.536000</td>\n",
       "      <td>139576.32</td>\n",
       "    </tr>\n",
       "  </tbody>\n",
       "</table>\n",
       "<p>26799 rows × 16 columns</p>\n",
       "</div>"
      ],
      "text/plain": [
       "       steam_appid                                         name release_date  \\\n",
       "0             7340                                        Azada   2010-04-21   \n",
       "1            50910  Professor Fizzwizzle and the Molten Mystery   2010-04-21   \n",
       "2            50920                    Hidden Expedition: Amazon   2010-04-21   \n",
       "3            50930                   Hidden Expedition: Everest   2010-04-21   \n",
       "4            50940                   Hidden Expedition: Titanic   2010-04-21   \n",
       "...            ...                                          ...          ...   \n",
       "26794      1060770                    Die, zombie sausage, die!   2019-04-24   \n",
       "26795       858100                                    Grimshade   2019-03-26   \n",
       "26796       832420                                      ICED VR   2018-05-29   \n",
       "26797       659100                                      Skyfall   2017-07-28   \n",
       "26798       456780                    DUCATI - 90th Anniversary   2016-06-09   \n",
       "\n",
       "              developer           publisher  pub_nb_games  owner_median  \\\n",
       "0        Big Fish Games      Big Fish Games           212       10000.0   \n",
       "1        Big Fish Games      Big Fish Games           212       10000.0   \n",
       "2        Big Fish Games      Big Fish Games           212       10000.0   \n",
       "3        Big Fish Games      Big Fish Games           212       10000.0   \n",
       "4        Big Fish Games      Big Fish Games           212       10000.0   \n",
       "...                 ...                 ...           ...           ...   \n",
       "26794        AuroraCorp     Aurora software             1       10000.0   \n",
       "26795          TALEROCK      Asterion Games             1       10000.0   \n",
       "26796      Anea_Duo_Dev        Anea_Duo_Dev             1       10000.0   \n",
       "26797    AYE Technology      AYE Technology             1       10000.0   \n",
       "26798  Milestone S.r.l.    Milestone S.r.l.             1       10000.0   \n",
       "\n",
       "       recommended  english  price  has_a_website  nb_review  owner_estimated  \\\n",
       "0                0        1   6.99              1         12           2496.0   \n",
       "1                0        1   4.99              1         12           2496.0   \n",
       "2                0        1   6.99              1         12           2496.0   \n",
       "3                0        1   6.99              1          5           1040.0   \n",
       "4                0        1   6.99              1          6           1248.0   \n",
       "...            ...      ...    ...            ...        ...              ...   \n",
       "26794            1        1   0.79              0          1            208.0   \n",
       "26795            1        1  15.99              1         86          17888.0   \n",
       "26796            1        1   7.19              0          9           1872.0   \n",
       "26797            1        1   2.79              0         24           4992.0   \n",
       "26798            1        1   6.99              1         96          19968.0   \n",
       "\n",
       "           rating  popularity     revenu  \n",
       "0       10.228571   13.635714   17447.04  \n",
       "1       10.228571   13.635714   12455.04  \n",
       "2       10.228571   13.635714   17447.04  \n",
       "3       10.228571   13.635714    7269.60  \n",
       "4       10.228571   13.635714    8723.52  \n",
       "...           ...         ...        ...  \n",
       "26794    1.000000    1.000000     164.32  \n",
       "26795   58.800000   74.100000  286029.12  \n",
       "26796   44.450000   69.650000   13459.68  \n",
       "26797   -4.600000    6.800000   13927.68  \n",
       "26798  226.648000  338.536000  139576.32  \n",
       "\n",
       "[26799 rows x 16 columns]"
      ]
     },
     "execution_count": 2,
     "metadata": {},
     "output_type": "execute_result"
    }
   ],
   "source": [
    "df_tmp = pd.read_csv('../raw_data/data_clean0312.csv')\n",
    "df_tmp"
   ]
  },
  {
   "cell_type": "code",
   "execution_count": 152,
   "id": "692ba484-677c-4e7c-9d39-83cb2459f9b8",
   "metadata": {},
   "outputs": [
    {
     "data": {
      "text/html": [
       "<div>\n",
       "<style scoped>\n",
       "    .dataframe tbody tr th:only-of-type {\n",
       "        vertical-align: middle;\n",
       "    }\n",
       "\n",
       "    .dataframe tbody tr th {\n",
       "        vertical-align: top;\n",
       "    }\n",
       "\n",
       "    .dataframe thead th {\n",
       "        text-align: right;\n",
       "    }\n",
       "</style>\n",
       "<table border=\"1\" class=\"dataframe\">\n",
       "  <thead>\n",
       "    <tr style=\"text-align: right;\">\n",
       "      <th></th>\n",
       "      <th>steam_appid</th>\n",
       "      <th>name</th>\n",
       "      <th>release_date</th>\n",
       "      <th>developer</th>\n",
       "      <th>publisher</th>\n",
       "      <th>pub_nb_games</th>\n",
       "      <th>owner_median</th>\n",
       "      <th>recommended</th>\n",
       "      <th>english</th>\n",
       "      <th>price</th>\n",
       "      <th>has_a_website</th>\n",
       "      <th>nb_review</th>\n",
       "      <th>owner_estimated</th>\n",
       "      <th>rating</th>\n",
       "      <th>popularity</th>\n",
       "      <th>revenu</th>\n",
       "    </tr>\n",
       "  </thead>\n",
       "  <tbody>\n",
       "    <tr>\n",
       "      <th>1363</th>\n",
       "      <td>286440</td>\n",
       "      <td>Rover Rescue</td>\n",
       "      <td>2014-05-08</td>\n",
       "      <td>Pointscape</td>\n",
       "      <td>KISS ltd</td>\n",
       "      <td>71</td>\n",
       "      <td>150000.0</td>\n",
       "      <td>0</td>\n",
       "      <td>1</td>\n",
       "      <td>3.99</td>\n",
       "      <td>1</td>\n",
       "      <td>89</td>\n",
       "      <td>102937.0</td>\n",
       "      <td>-0.6</td>\n",
       "      <td>49.8</td>\n",
       "      <td>410718.63</td>\n",
       "    </tr>\n",
       "  </tbody>\n",
       "</table>\n",
       "</div>"
      ],
      "text/plain": [
       "      steam_appid          name release_date   developer publisher  \\\n",
       "1363       286440  Rover Rescue   2014-05-08  Pointscape  KISS ltd   \n",
       "\n",
       "      pub_nb_games  owner_median  recommended  english  price  has_a_website  \\\n",
       "1363            71      150000.0            0        1   3.99              1   \n",
       "\n",
       "      nb_review  owner_estimated  rating  popularity     revenu  \n",
       "1363         89         102937.0    -0.6        49.8  410718.63  "
      ]
     },
     "execution_count": 152,
     "metadata": {},
     "output_type": "execute_result"
    }
   ],
   "source": []
  },
  {
   "cell_type": "code",
   "execution_count": 153,
   "id": "6b28147e-0c78-4ce3-aa25-2c10bf5f4cbc",
   "metadata": {},
   "outputs": [
    {
     "ename": "KeyError",
     "evalue": "'developer'",
     "output_type": "error",
     "traceback": [
      "\u001b[0;31m---------------------------------------------------------------------------\u001b[0m",
      "\u001b[0;31mKeyError\u001b[0m                                  Traceback (most recent call last)",
      "\u001b[0;32m~/.pyenv/versions/3.8.12/envs/steamator/lib/python3.8/site-packages/pandas/core/indexes/base.py\u001b[0m in \u001b[0;36mget_loc\u001b[0;34m(self, key, method, tolerance)\u001b[0m\n\u001b[1;32m   3360\u001b[0m             \u001b[0;32mtry\u001b[0m\u001b[0;34m:\u001b[0m\u001b[0;34m\u001b[0m\u001b[0;34m\u001b[0m\u001b[0m\n\u001b[0;32m-> 3361\u001b[0;31m                 \u001b[0;32mreturn\u001b[0m \u001b[0mself\u001b[0m\u001b[0;34m.\u001b[0m\u001b[0m_engine\u001b[0m\u001b[0;34m.\u001b[0m\u001b[0mget_loc\u001b[0m\u001b[0;34m(\u001b[0m\u001b[0mcasted_key\u001b[0m\u001b[0;34m)\u001b[0m\u001b[0;34m\u001b[0m\u001b[0;34m\u001b[0m\u001b[0m\n\u001b[0m\u001b[1;32m   3362\u001b[0m             \u001b[0;32mexcept\u001b[0m \u001b[0mKeyError\u001b[0m \u001b[0;32mas\u001b[0m \u001b[0merr\u001b[0m\u001b[0;34m:\u001b[0m\u001b[0;34m\u001b[0m\u001b[0;34m\u001b[0m\u001b[0m\n",
      "\u001b[0;32m~/.pyenv/versions/3.8.12/envs/steamator/lib/python3.8/site-packages/pandas/_libs/index.pyx\u001b[0m in \u001b[0;36mpandas._libs.index.IndexEngine.get_loc\u001b[0;34m()\u001b[0m\n",
      "\u001b[0;32m~/.pyenv/versions/3.8.12/envs/steamator/lib/python3.8/site-packages/pandas/_libs/index.pyx\u001b[0m in \u001b[0;36mpandas._libs.index.IndexEngine.get_loc\u001b[0;34m()\u001b[0m\n",
      "\u001b[0;32mpandas/_libs/hashtable_class_helper.pxi\u001b[0m in \u001b[0;36mpandas._libs.hashtable.PyObjectHashTable.get_item\u001b[0;34m()\u001b[0m\n",
      "\u001b[0;32mpandas/_libs/hashtable_class_helper.pxi\u001b[0m in \u001b[0;36mpandas._libs.hashtable.PyObjectHashTable.get_item\u001b[0;34m()\u001b[0m\n",
      "\u001b[0;31mKeyError\u001b[0m: 'developer'",
      "\nThe above exception was the direct cause of the following exception:\n",
      "\u001b[0;31mKeyError\u001b[0m                                  Traceback (most recent call last)",
      "\u001b[0;32m/var/folders/xk/q03g6v3x6f16jgcxytrtvxw00000gn/T/ipykernel_46853/1512698690.py\u001b[0m in \u001b[0;36m<module>\u001b[0;34m\u001b[0m\n\u001b[0;32m----> 1\u001b[0;31m \u001b[0mtmp\u001b[0m\u001b[0;34m[\u001b[0m\u001b[0mtmp\u001b[0m\u001b[0;34m[\u001b[0m\u001b[0;34m'developer'\u001b[0m\u001b[0;34m]\u001b[0m\u001b[0;34m==\u001b[0m\u001b[0;34m'Pointscape'\u001b[0m\u001b[0;34m]\u001b[0m\u001b[0;34m\u001b[0m\u001b[0;34m\u001b[0m\u001b[0m\n\u001b[0m",
      "\u001b[0;32m~/.pyenv/versions/3.8.12/envs/steamator/lib/python3.8/site-packages/pandas/core/frame.py\u001b[0m in \u001b[0;36m__getitem__\u001b[0;34m(self, key)\u001b[0m\n\u001b[1;32m   3456\u001b[0m             \u001b[0;32mif\u001b[0m \u001b[0mself\u001b[0m\u001b[0;34m.\u001b[0m\u001b[0mcolumns\u001b[0m\u001b[0;34m.\u001b[0m\u001b[0mnlevels\u001b[0m \u001b[0;34m>\u001b[0m \u001b[0;36m1\u001b[0m\u001b[0;34m:\u001b[0m\u001b[0;34m\u001b[0m\u001b[0;34m\u001b[0m\u001b[0m\n\u001b[1;32m   3457\u001b[0m                 \u001b[0;32mreturn\u001b[0m \u001b[0mself\u001b[0m\u001b[0;34m.\u001b[0m\u001b[0m_getitem_multilevel\u001b[0m\u001b[0;34m(\u001b[0m\u001b[0mkey\u001b[0m\u001b[0;34m)\u001b[0m\u001b[0;34m\u001b[0m\u001b[0;34m\u001b[0m\u001b[0m\n\u001b[0;32m-> 3458\u001b[0;31m             \u001b[0mindexer\u001b[0m \u001b[0;34m=\u001b[0m \u001b[0mself\u001b[0m\u001b[0;34m.\u001b[0m\u001b[0mcolumns\u001b[0m\u001b[0;34m.\u001b[0m\u001b[0mget_loc\u001b[0m\u001b[0;34m(\u001b[0m\u001b[0mkey\u001b[0m\u001b[0;34m)\u001b[0m\u001b[0;34m\u001b[0m\u001b[0;34m\u001b[0m\u001b[0m\n\u001b[0m\u001b[1;32m   3459\u001b[0m             \u001b[0;32mif\u001b[0m \u001b[0mis_integer\u001b[0m\u001b[0;34m(\u001b[0m\u001b[0mindexer\u001b[0m\u001b[0;34m)\u001b[0m\u001b[0;34m:\u001b[0m\u001b[0;34m\u001b[0m\u001b[0;34m\u001b[0m\u001b[0m\n\u001b[1;32m   3460\u001b[0m                 \u001b[0mindexer\u001b[0m \u001b[0;34m=\u001b[0m \u001b[0;34m[\u001b[0m\u001b[0mindexer\u001b[0m\u001b[0;34m]\u001b[0m\u001b[0;34m\u001b[0m\u001b[0;34m\u001b[0m\u001b[0m\n",
      "\u001b[0;32m~/.pyenv/versions/3.8.12/envs/steamator/lib/python3.8/site-packages/pandas/core/indexes/base.py\u001b[0m in \u001b[0;36mget_loc\u001b[0;34m(self, key, method, tolerance)\u001b[0m\n\u001b[1;32m   3361\u001b[0m                 \u001b[0;32mreturn\u001b[0m \u001b[0mself\u001b[0m\u001b[0;34m.\u001b[0m\u001b[0m_engine\u001b[0m\u001b[0;34m.\u001b[0m\u001b[0mget_loc\u001b[0m\u001b[0;34m(\u001b[0m\u001b[0mcasted_key\u001b[0m\u001b[0;34m)\u001b[0m\u001b[0;34m\u001b[0m\u001b[0;34m\u001b[0m\u001b[0m\n\u001b[1;32m   3362\u001b[0m             \u001b[0;32mexcept\u001b[0m \u001b[0mKeyError\u001b[0m \u001b[0;32mas\u001b[0m \u001b[0merr\u001b[0m\u001b[0;34m:\u001b[0m\u001b[0;34m\u001b[0m\u001b[0;34m\u001b[0m\u001b[0m\n\u001b[0;32m-> 3363\u001b[0;31m                 \u001b[0;32mraise\u001b[0m \u001b[0mKeyError\u001b[0m\u001b[0;34m(\u001b[0m\u001b[0mkey\u001b[0m\u001b[0;34m)\u001b[0m \u001b[0;32mfrom\u001b[0m \u001b[0merr\u001b[0m\u001b[0;34m\u001b[0m\u001b[0;34m\u001b[0m\u001b[0m\n\u001b[0m\u001b[1;32m   3364\u001b[0m \u001b[0;34m\u001b[0m\u001b[0m\n\u001b[1;32m   3365\u001b[0m         \u001b[0;32mif\u001b[0m \u001b[0mis_scalar\u001b[0m\u001b[0;34m(\u001b[0m\u001b[0mkey\u001b[0m\u001b[0;34m)\u001b[0m \u001b[0;32mand\u001b[0m \u001b[0misna\u001b[0m\u001b[0;34m(\u001b[0m\u001b[0mkey\u001b[0m\u001b[0;34m)\u001b[0m \u001b[0;32mand\u001b[0m \u001b[0;32mnot\u001b[0m \u001b[0mself\u001b[0m\u001b[0;34m.\u001b[0m\u001b[0mhasnans\u001b[0m\u001b[0;34m:\u001b[0m\u001b[0;34m\u001b[0m\u001b[0;34m\u001b[0m\u001b[0m\n",
      "\u001b[0;31mKeyError\u001b[0m: 'developer'"
     ]
    }
   ],
   "source": [
    "tmp[tmp['developer']=='Pointscape']"
   ]
  },
  {
   "cell_type": "code",
   "execution_count": null,
   "id": "b6605b07-8b1c-4b47-b486-8e03e79e7304",
   "metadata": {},
   "outputs": [],
   "source": []
  },
  {
   "cell_type": "code",
   "execution_count": 3,
   "id": "ec9f613d-a633-4a05-8f6f-446fe177e6a6",
   "metadata": {},
   "outputs": [
    {
     "data": {
      "text/plain": [
       "steam_appid          int64\n",
       "name                object\n",
       "release_date        object\n",
       "developer           object\n",
       "publisher           object\n",
       "pub_nb_games         int64\n",
       "owner_median       float64\n",
       "recommended          int64\n",
       "english              int64\n",
       "price              float64\n",
       "has_a_website        int64\n",
       "nb_review            int64\n",
       "owner_estimated    float64\n",
       "rating             float64\n",
       "popularity         float64\n",
       "revenu             float64\n",
       "dtype: object"
      ]
     },
     "execution_count": 3,
     "metadata": {},
     "output_type": "execute_result"
    }
   ],
   "source": [
    "df_tmp.dtypes"
   ]
  },
  {
   "cell_type": "code",
   "execution_count": 4,
   "id": "b15f8911-4dca-4217-ba4f-65a876673c52",
   "metadata": {},
   "outputs": [],
   "source": [
    "a_df = df_tmp[df_tmp['owner_median']< 100000]"
   ]
  },
  {
   "cell_type": "code",
   "execution_count": 5,
   "id": "a23f7538-807c-40e1-b1d7-f7e7fa82eb6f",
   "metadata": {},
   "outputs": [],
   "source": [
    "b_df = df_tmp[df_tmp['owner_median']< 50000]"
   ]
  },
  {
   "cell_type": "code",
   "execution_count": 6,
   "id": "c28c7049-0691-4d2c-968d-c8bb3f30e743",
   "metadata": {},
   "outputs": [],
   "source": [
    "c_df = df_tmp[df_tmp['owner_median']< 20000]"
   ]
  },
  {
   "cell_type": "code",
   "execution_count": 59,
   "id": "24a430e0-25fb-447e-994d-cb155aefa866",
   "metadata": {},
   "outputs": [],
   "source": [
    "#a_df.to_csv(r'../raw_data/df_100k.csv', index = False)"
   ]
  },
  {
   "cell_type": "code",
   "execution_count": 7,
   "id": "60b6534d-5279-4cf4-be58-8215409b2067",
   "metadata": {},
   "outputs": [],
   "source": [
    "#b_df.to_csv(r'../raw_data/df_50k.csv', index = False)"
   ]
  },
  {
   "cell_type": "code",
   "execution_count": 8,
   "id": "a08ce3f1-4e08-4a4f-981e-62bf75c0cf7c",
   "metadata": {},
   "outputs": [],
   "source": [
    "#c_df.to_csv(r'../raw_data/df_20k.csv', index = False)"
   ]
  },
  {
   "cell_type": "markdown",
   "id": "fc71a61f-a6fe-4d56-a86b-48927419e3f5",
   "metadata": {},
   "source": [
    "____"
   ]
  },
  {
   "cell_type": "code",
   "execution_count": 129,
   "id": "83befb6e-5fbb-4e26-803e-f4f38e39e1ef",
   "metadata": {},
   "outputs": [
    {
     "data": {
      "text/plain": [
       "<AxesSubplot:xlabel='price', ylabel='nb_review'>"
      ]
     },
     "execution_count": 129,
     "metadata": {},
     "output_type": "execute_result"
    },
    {
     "data": {
      "image/png": "[encoded data removed]",
      "text/plain": [
       "<Figure size 720x504 with 1 Axes>"
      ]
     },
     "metadata": {
      "needs_background": "light"
     },
     "output_type": "display_data"
    }
   ],
   "source": [
    "plt.figure(figsize=(10, 7))\n",
    "sns.scatterplot(x=\"price\", y=\"nb_review\",\n",
    "                palette='deep',\n",
    "                sizes=(10, 300), data=df_tmp)"
   ]
  },
  {
   "cell_type": "code",
   "execution_count": 133,
   "id": "c2b53b3a-1331-4bcf-887c-c96769a2d98a",
   "metadata": {},
   "outputs": [
    {
     "data": {
      "text/html": [
       "<style type=\"text/css\">\n",
       "#T_84f41_row0_col0, #T_84f41_row1_col1, #T_84f41_row2_col2, #T_84f41_row3_col3 {\n",
       "  background-color: #b40426;\n",
       "  color: #f1f1f1;\n",
       "}\n",
       "#T_84f41_row0_col1 {\n",
       "  background-color: #6a8bef;\n",
       "  color: #f1f1f1;\n",
       "}\n",
       "#T_84f41_row0_col2 {\n",
       "  background-color: #4e68d8;\n",
       "  color: #f1f1f1;\n",
       "}\n",
       "#T_84f41_row0_col3, #T_84f41_row2_col1, #T_84f41_row3_col0, #T_84f41_row3_col2 {\n",
       "  background-color: #3b4cc0;\n",
       "  color: #f1f1f1;\n",
       "}\n",
       "#T_84f41_row1_col0 {\n",
       "  background-color: #7a9df8;\n",
       "  color: #f1f1f1;\n",
       "}\n",
       "#T_84f41_row1_col2 {\n",
       "  background-color: #445acc;\n",
       "  color: #f1f1f1;\n",
       "}\n",
       "#T_84f41_row1_col3 {\n",
       "  background-color: #dadce0;\n",
       "  color: #000000;\n",
       "}\n",
       "#T_84f41_row2_col0 {\n",
       "  background-color: #5470de;\n",
       "  color: #f1f1f1;\n",
       "}\n",
       "#T_84f41_row2_col3 {\n",
       "  background-color: #4055c8;\n",
       "  color: #f1f1f1;\n",
       "}\n",
       "#T_84f41_row3_col1 {\n",
       "  background-color: #d3dbe7;\n",
       "  color: #000000;\n",
       "}\n",
       "</style>\n",
       "<table id=\"T_84f41_\">\n",
       "  <thead>\n",
       "    <tr>\n",
       "      <th class=\"blank level0\" >&nbsp;</th>\n",
       "      <th class=\"col_heading level0 col0\" >price</th>\n",
       "      <th class=\"col_heading level0 col1\" >nb_review</th>\n",
       "      <th class=\"col_heading level0 col2\" >has_a_website</th>\n",
       "      <th class=\"col_heading level0 col3\" >owner_median</th>\n",
       "    </tr>\n",
       "  </thead>\n",
       "  <tbody>\n",
       "    <tr>\n",
       "      <th id=\"T_84f41_level0_row0\" class=\"row_heading level0 row0\" >price</th>\n",
       "      <td id=\"T_84f41_row0_col0\" class=\"data row0 col0\" >1.000000</td>\n",
       "      <td id=\"T_84f41_row0_col1\" class=\"data row0 col1\" >0.245903</td>\n",
       "      <td id=\"T_84f41_row0_col2\" class=\"data row0 col2\" >0.140823</td>\n",
       "      <td id=\"T_84f41_row0_col3\" class=\"data row0 col3\" >0.061688</td>\n",
       "    </tr>\n",
       "    <tr>\n",
       "      <th id=\"T_84f41_level0_row1\" class=\"row_heading level0 row1\" >nb_review</th>\n",
       "      <td id=\"T_84f41_row1_col0\" class=\"data row1 col0\" >0.245903</td>\n",
       "      <td id=\"T_84f41_row1_col1\" class=\"data row1 col1\" >1.000000</td>\n",
       "      <td id=\"T_84f41_row1_col2\" class=\"data row1 col2\" >0.111650</td>\n",
       "      <td id=\"T_84f41_row1_col3\" class=\"data row1 col3\" >0.521611</td>\n",
       "    </tr>\n",
       "    <tr>\n",
       "      <th id=\"T_84f41_level0_row2\" class=\"row_heading level0 row2\" >has_a_website</th>\n",
       "      <td id=\"T_84f41_row2_col0\" class=\"data row2 col0\" >0.140823</td>\n",
       "      <td id=\"T_84f41_row2_col1\" class=\"data row2 col1\" >0.111650</td>\n",
       "      <td id=\"T_84f41_row2_col2\" class=\"data row2 col2\" >1.000000</td>\n",
       "      <td id=\"T_84f41_row2_col3\" class=\"data row2 col3\" >0.082818</td>\n",
       "    </tr>\n",
       "    <tr>\n",
       "      <th id=\"T_84f41_level0_row3\" class=\"row_heading level0 row3\" >owner_median</th>\n",
       "      <td id=\"T_84f41_row3_col0\" class=\"data row3 col0\" >0.061688</td>\n",
       "      <td id=\"T_84f41_row3_col1\" class=\"data row3 col1\" >0.521611</td>\n",
       "      <td id=\"T_84f41_row3_col2\" class=\"data row3 col2\" >0.082818</td>\n",
       "      <td id=\"T_84f41_row3_col3\" class=\"data row3 col3\" >1.000000</td>\n",
       "    </tr>\n",
       "  </tbody>\n",
       "</table>\n"
      ],
      "text/plain": [
       "<pandas.io.formats.style.Styler at 0x185102160>"
      ]
     },
     "execution_count": 133,
     "metadata": {},
     "output_type": "execute_result"
    }
   ],
   "source": [
    "b_df[['price', 'nb_review','has_a_website', 'owner_median']].corr().style.background_gradient(cmap='coolwarm', text_color_threshold = 0.700 )"
   ]
  },
  {
   "cell_type": "code",
   "execution_count": null,
   "id": "6126689c-4e6a-411b-b892-5d59da7df4c8",
   "metadata": {},
   "outputs": [],
   "source": []
  },
  {
   "cell_type": "code",
   "execution_count": null,
   "id": "fb82aabd-f0bb-48d3-9183-bc6ba0cb259b",
   "metadata": {},
   "outputs": [],
   "source": []
  },
  {
   "cell_type": "code",
   "execution_count": null,
   "id": "79e1ec6e-fe93-4340-b1b0-893bdd1b62bb",
   "metadata": {},
   "outputs": [],
   "source": []
  },
  {
   "cell_type": "markdown",
   "id": "503a8214-7b2c-4f1f-b17b-8f94e62cb13a",
   "metadata": {},
   "source": [
    "_____"
   ]
  },
  {
   "cell_type": "markdown",
   "id": "2e5a98f3-7b31-4863-9032-96d17f8bf08b",
   "metadata": {
    "tags": []
   },
   "source": [
    "# TEST Modèles sur différents datasets"
   ]
  },
  {
   "cell_type": "markdown",
   "id": "5b3dac27-fa5e-42f5-bb78-73b037ba0b4c",
   "metadata": {
    "tags": []
   },
   "source": [
    "## Test sur a_df ( < 100 k) "
   ]
  },
  {
   "cell_type": "markdown",
   "id": "8e5c9d20-faf2-4b1b-bebc-6c6914ea768d",
   "metadata": {
    "jp-MarkdownHeadingCollapsed": true,
    "tags": []
   },
   "source": [
    "### Pipeline w/ Ridge"
   ]
  },
  {
   "cell_type": "code",
   "execution_count": 62,
   "id": "c3bcc5cc-5445-4269-a2b5-3f280a01425a",
   "metadata": {},
   "outputs": [
    {
     "data": {
      "text/plain": [
       "Index(['steam_appid', 'name', 'release_date', 'developer', 'publisher',\n",
       "       'pub_nb_games', 'owner_median', 'recommended', 'english', 'price',\n",
       "       'has_a_website', 'nb_review', 'owner_estimated', 'rating', 'popularity',\n",
       "       'revenu'],\n",
       "      dtype='object')"
      ]
     },
     "execution_count": 62,
     "metadata": {},
     "output_type": "execute_result"
    }
   ],
   "source": [
    "a_df.columns"
   ]
  },
  {
   "cell_type": "code",
   "execution_count": 9,
   "id": "a15eda14-8801-4ffb-9a20-7a33d379f3d9",
   "metadata": {},
   "outputs": [],
   "source": [
    "Xa = a_df.drop(columns=['steam_appid','popularity','release_date','revenu', 'developer', 'publisher','release_date','owner_median', 'owner_estimated','name', 'rating', 'nb_review'])"
   ]
  },
  {
   "cell_type": "code",
   "execution_count": 10,
   "id": "7cb99a19-184f-46ce-89c3-cab8a08aae8b",
   "metadata": {},
   "outputs": [],
   "source": [
    "ya = a_df['owner_estimated']"
   ]
  },
  {
   "cell_type": "code",
   "execution_count": 11,
   "id": "76d46c60-53e6-4048-84ce-1d9c1b754fd8",
   "metadata": {},
   "outputs": [],
   "source": [
    "# Division du dataset 70/30\n",
    "\n",
    "Xa_train, Xa_test, ya_train, ya_test = train_test_split(Xa,ya, test_size = 0.3, random_state=0)"
   ]
  },
  {
   "cell_type": "code",
   "execution_count": 12,
   "id": "055e95e4-7e1e-4f38-98f8-02f884605743",
   "metadata": {},
   "outputs": [],
   "source": [
    "# Column transformer / Encoder / Création du Pipeline\n",
    "\n",
    "num_transformer = make_pipeline(SimpleImputer(), StandardScaler())\n",
    "num_col = make_column_selector(dtype_include=['float64','int64'])\n",
    "\n",
    "cat_transformer = OneHotEncoder()\n",
    "cat_col = make_column_selector(dtype_include=['object','bool'])\n",
    "\n",
    "preproc_basic = make_column_transformer(\n",
    "    (num_transformer, num_col),\n",
    "    (cat_transformer, cat_col))\n",
    "\n",
    "pipe = make_pipeline(preproc_basic, Ridge())"
   ]
  },
  {
   "cell_type": "code",
   "execution_count": 13,
   "id": "5cdf7a38-8a8f-497b-812c-f8313d9fbd38",
   "metadata": {},
   "outputs": [
    {
     "data": {
      "text/plain": [
       "0.04835759406106643"
      ]
     },
     "execution_count": 13,
     "metadata": {},
     "output_type": "execute_result"
    }
   ],
   "source": [
    "# Fit\n",
    "pipe.fit(Xa_train,ya_train)\n",
    "\n",
    "# Make predictions\n",
    "pipe.predict(Xa_test)\n",
    "\n",
    "# Score model\n",
    "pipe.score(Xa_test,ya_test)\n"
   ]
  },
  {
   "cell_type": "code",
   "execution_count": 14,
   "id": "4fb53233-32e7-49b9-91b8-d95fbf80faf6",
   "metadata": {},
   "outputs": [
    {
     "data": {
      "text/plain": [
       "Index(['pub_nb_games', 'recommended', 'english', 'price', 'has_a_website'], dtype='object')"
      ]
     },
     "execution_count": 14,
     "metadata": {},
     "output_type": "execute_result"
    }
   ],
   "source": [
    "Xa_train.columns"
   ]
  },
  {
   "cell_type": "markdown",
   "id": "aaeba29e-292d-4088-a2f6-976db15373df",
   "metadata": {
    "jp-MarkdownHeadingCollapsed": true,
    "tags": []
   },
   "source": [
    "### TPOT"
   ]
  },
  {
   "cell_type": "code",
   "execution_count": 18,
   "id": "1f321a37-b298-483a-83b0-f23a06736cbd",
   "metadata": {},
   "outputs": [
    {
     "data": {
      "application/vnd.jupyter.widget-view+json": {
       "model_id": "",
       "version_major": 2,
       "version_minor": 0
      },
      "text/plain": [
       "Optimization Progress:   0%|          | 0/250 [00:00<?, ?pipeline/s]"
      ]
     },
     "metadata": {},
     "output_type": "display_data"
    },
    {
     "name": "stdout",
     "output_type": "stream",
     "text": [
      "\n",
      "Generation 1 - Current best internal CV score: 0.14024029326423637\n",
      "\n",
      "Generation 2 - Current best internal CV score: 0.14707004843673854\n",
      "\n",
      "Generation 3 - Current best internal CV score: 0.14707004843673854\n",
      "\n",
      "Generation 4 - Current best internal CV score: 0.14707004843673854\n",
      "\n",
      "Best pipeline: ExtraTreesRegressor(input_matrix, bootstrap=False, max_features=0.8, min_samples_leaf=3, min_samples_split=12, n_estimators=100)\n",
      "0.167588125604752\n"
     ]
    }
   ],
   "source": [
    "# instanciate TPOTClassifier\n",
    "tpot = TPOTRegressor(generations=4, population_size=50, verbosity=2, scoring='r2', n_jobs=-1, cv=2)\n",
    "# process autoML with TPOT\n",
    "tpot.fit(Xa_train, ya_train)\n",
    "\n",
    "# print score\n",
    "print(tpot.score(Xa_test, ya_test))"
   ]
  },
  {
   "cell_type": "markdown",
   "id": "02af1dd2-80aa-4f25-8e96-2dd272ca4018",
   "metadata": {
    "jp-MarkdownHeadingCollapsed": true,
    "tags": []
   },
   "source": [
    "## Test sur b_df ( < 50K )"
   ]
  },
  {
   "cell_type": "code",
   "execution_count": 15,
   "id": "3583d322-3e77-4317-8678-925bbb636765",
   "metadata": {},
   "outputs": [],
   "source": [
    "Xb = b_df.drop(columns=['steam_appid','popularity','release_date','revenu', 'developer', 'publisher','release_date','owner_median', 'owner_estimated','name', 'rating', 'nb_review'])"
   ]
  },
  {
   "cell_type": "code",
   "execution_count": 16,
   "id": "30d3d09f-46ac-473f-b420-4762636c3930",
   "metadata": {},
   "outputs": [],
   "source": [
    "yb = b_df['owner_estimated']"
   ]
  },
  {
   "cell_type": "code",
   "execution_count": 17,
   "id": "6e960a99-dc8e-4e39-8632-edcaf5e245da",
   "metadata": {},
   "outputs": [],
   "source": [
    "# Division du dataset 70/30\n",
    "\n",
    "Xb_train, Xb_test, yb_train, yb_test = train_test_split(Xb,yb, test_size = 0.3, random_state=0)"
   ]
  },
  {
   "cell_type": "markdown",
   "id": "89eb0fd5-beeb-4fea-9b3b-c8aeff310a45",
   "metadata": {
    "tags": []
   },
   "source": [
    "### Pipeline w/ridge"
   ]
  },
  {
   "cell_type": "code",
   "execution_count": 18,
   "id": "550ce8b9-b40d-41a2-a6ff-fa071efa09fa",
   "metadata": {},
   "outputs": [],
   "source": [
    "num_transformer = make_pipeline(SimpleImputer(), StandardScaler())\n",
    "num_col = make_column_selector(dtype_include=['float64','int64'])\n",
    "\n",
    "cat_transformer = OneHotEncoder()\n",
    "cat_col = make_column_selector(dtype_include=['object','bool'])\n",
    "\n",
    "preproc_basic = make_column_transformer(\n",
    "    (num_transformer, num_col),\n",
    "    (cat_transformer, cat_col))\n",
    "\n",
    "pipe = make_pipeline(preproc_basic, Ridge())"
   ]
  },
  {
   "cell_type": "code",
   "execution_count": 19,
   "id": "583d43df-4398-430e-a778-e1e69d376f36",
   "metadata": {},
   "outputs": [
    {
     "data": {
      "text/plain": [
       "0.05921240924379301"
      ]
     },
     "execution_count": 19,
     "metadata": {},
     "output_type": "execute_result"
    }
   ],
   "source": [
    "pipe.fit(Xb_train,yb_train)\n",
    "\n",
    "# Make predictions\n",
    "pipe.predict(Xb_test)\n",
    "\n",
    "# Score model\n",
    "pipe.score(Xb_test,yb_test)\n"
   ]
  },
  {
   "cell_type": "markdown",
   "id": "59f578d3-00ba-4d0d-af2e-204cc08caccd",
   "metadata": {
    "jp-MarkdownHeadingCollapsed": true,
    "tags": []
   },
   "source": [
    "### TPOT"
   ]
  },
  {
   "cell_type": "code",
   "execution_count": 20,
   "id": "6b08c3bb-19ac-4eaa-a730-7626c26a7ded",
   "metadata": {},
   "outputs": [
    {
     "data": {
      "application/vnd.jupyter.widget-view+json": {
       "model_id": "",
       "version_major": 2,
       "version_minor": 0
      },
      "text/plain": [
       "Optimization Progress:   0%|          | 0/250 [00:00<?, ?pipeline/s]"
      ]
     },
     "metadata": {},
     "output_type": "display_data"
    },
    {
     "name": "stdout",
     "output_type": "stream",
     "text": [
      "\n",
      "Generation 1 - Current best internal CV score: 0.15357269084778913\n",
      "\n",
      "Generation 2 - Current best internal CV score: 0.15357269084778913\n",
      "\n",
      "Generation 3 - Current best internal CV score: 0.15357269084778913\n",
      "\n",
      "Generation 4 - Current best internal CV score: 0.15957124960282976\n",
      "\n",
      "Best pipeline: RidgeCV(XGBRegressor(input_matrix, learning_rate=1.0, max_depth=2, min_child_weight=15, n_estimators=100, n_jobs=1, objective=reg:squarederror, subsample=0.8500000000000001, verbosity=0))\n",
      "0.16148356385804974\n"
     ]
    }
   ],
   "source": [
    "# instanciate TPOTClassifier\n",
    "tpot = TPOTRegressor(generations=4, population_size=50, verbosity=2, scoring='r2', n_jobs=-1, cv=2)\n",
    "# process autoML with TPOT\n",
    "tpot.fit(Xb_train, yb_train)\n",
    "\n",
    "# print score\n",
    "print(tpot.score(Xb_test, yb_test))"
   ]
  },
  {
   "cell_type": "markdown",
   "id": "eb33afdd-e8f0-4653-9eb6-9815c1ad146a",
   "metadata": {
    "tags": []
   },
   "source": [
    "## Test sur c_df ( < 20K )"
   ]
  },
  {
   "cell_type": "code",
   "execution_count": 21,
   "id": "b9955c17-20da-4400-a7de-261bfc44a752",
   "metadata": {},
   "outputs": [],
   "source": [
    "Xc = c_df.drop(columns=['steam_appid','popularity','release_date','revenu', 'developer', 'publisher','release_date','owner_median', 'owner_estimated','name', 'rating', 'nb_review'])"
   ]
  },
  {
   "cell_type": "code",
   "execution_count": 22,
   "id": "25f07726-424c-401d-b0ad-67e97a0ca021",
   "metadata": {},
   "outputs": [],
   "source": [
    "yc = c_df['owner_estimated']"
   ]
  },
  {
   "cell_type": "code",
   "execution_count": 23,
   "id": "6c17f009-f354-4cd4-9c52-c0e79fe42d4c",
   "metadata": {},
   "outputs": [],
   "source": [
    "# Division du dataset 70/30\n",
    "\n",
    "Xc_train, Xc_test, yc_train, yc_test = train_test_split(Xc,yc, test_size = 0.3, random_state=0)"
   ]
  },
  {
   "cell_type": "code",
   "execution_count": 24,
   "id": "07598925-13a4-4ced-97e1-25724c5dba59",
   "metadata": {},
   "outputs": [
    {
     "data": {
      "text/plain": [
       "0.035244238236621706"
      ]
     },
     "execution_count": 24,
     "metadata": {},
     "output_type": "execute_result"
    }
   ],
   "source": [
    "pipe.fit(Xc_train,yc_train)\n",
    "\n",
    "# Make predictions\n",
    "pipe.predict(Xc_test)\n",
    "\n",
    "# Score model\n",
    "pipe.score(Xc_test,yc_test)"
   ]
  },
  {
   "cell_type": "markdown",
   "id": "3f05e131-1653-4724-a0fe-39c62a1d974d",
   "metadata": {
    "jp-MarkdownHeadingCollapsed": true,
    "tags": []
   },
   "source": [
    "### TPOT"
   ]
  },
  {
   "cell_type": "code",
   "execution_count": 25,
   "id": "d5dc55ec-55ab-4ee2-a818-dbae27250f45",
   "metadata": {},
   "outputs": [
    {
     "data": {
      "application/vnd.jupyter.widget-view+json": {
       "model_id": "",
       "version_major": 2,
       "version_minor": 0
      },
      "text/plain": [
       "Optimization Progress:   0%|          | 0/250 [00:00<?, ?pipeline/s]"
      ]
     },
     "metadata": {},
     "output_type": "display_data"
    },
    {
     "name": "stdout",
     "output_type": "stream",
     "text": [
      "\n",
      "Generation 1 - Current best internal CV score: 0.14751743650837817\n",
      "\n",
      "Generation 2 - Current best internal CV score: 0.14757901859908684\n",
      "\n",
      "Generation 3 - Current best internal CV score: 0.14757901859908684\n",
      "\n",
      "Generation 4 - Current best internal CV score: 0.14757901859908684\n",
      "\n",
      "Best pipeline: XGBRegressor(input_matrix, learning_rate=0.1, max_depth=4, min_child_weight=11, n_estimators=100, n_jobs=1, objective=reg:squarederror, subsample=0.9000000000000001, verbosity=0)\n",
      "0.151421133968482\n"
     ]
    },
    {
     "name": "stderr",
     "output_type": "stream",
     "text": [
      "/Users/mathieudbt/.pyenv/versions/3.8.12/envs/steamator/lib/python3.8/site-packages/tpot/builtins/__init__.py:36: UserWarning: Warning: optional dependency `torch` is not available. - skipping import of NN models.\n",
      "  warnings.warn(\"Warning: optional dependency `torch` is not available. - skipping import of NN models.\")\n",
      "/Users/mathieudbt/.pyenv/versions/3.8.12/envs/steamator/lib/python3.8/site-packages/tpot/builtins/__init__.py:36: UserWarning: Warning: optional dependency `torch` is not available. - skipping import of NN models.\n",
      "  warnings.warn(\"Warning: optional dependency `torch` is not available. - skipping import of NN models.\")\n",
      "/Users/mathieudbt/.pyenv/versions/3.8.12/envs/steamator/lib/python3.8/site-packages/tpot/builtins/__init__.py:36: UserWarning: Warning: optional dependency `torch` is not available. - skipping import of NN models.\n",
      "  warnings.warn(\"Warning: optional dependency `torch` is not available. - skipping import of NN models.\")\n",
      "/Users/mathieudbt/.pyenv/versions/3.8.12/envs/steamator/lib/python3.8/site-packages/tpot/builtins/__init__.py:36: UserWarning: Warning: optional dependency `torch` is not available. - skipping import of NN models.\n",
      "  warnings.warn(\"Warning: optional dependency `torch` is not available. - skipping import of NN models.\")\n",
      "/Users/mathieudbt/.pyenv/versions/3.8.12/envs/steamator/lib/python3.8/site-packages/tpot/builtins/__init__.py:36: UserWarning: Warning: optional dependency `torch` is not available. - skipping import of NN models.\n",
      "  warnings.warn(\"Warning: optional dependency `torch` is not available. - skipping import of NN models.\")\n",
      "/Users/mathieudbt/.pyenv/versions/3.8.12/envs/steamator/lib/python3.8/site-packages/tpot/builtins/__init__.py:36: UserWarning: Warning: optional dependency `torch` is not available. - skipping import of NN models.\n",
      "  warnings.warn(\"Warning: optional dependency `torch` is not available. - skipping import of NN models.\")\n",
      "/Users/mathieudbt/.pyenv/versions/3.8.12/envs/steamator/lib/python3.8/site-packages/tpot/builtins/__init__.py:36: UserWarning: Warning: optional dependency `torch` is not available. - skipping import of NN models.\n",
      "  warnings.warn(\"Warning: optional dependency `torch` is not available. - skipping import of NN models.\")\n",
      "/Users/mathieudbt/.pyenv/versions/3.8.12/envs/steamator/lib/python3.8/site-packages/tpot/builtins/__init__.py:36: UserWarning: Warning: optional dependency `torch` is not available. - skipping import of NN models.\n",
      "  warnings.warn(\"Warning: optional dependency `torch` is not available. - skipping import of NN models.\")\n"
     ]
    }
   ],
   "source": [
    "# instanciate TPOTClassifier\n",
    "tpot = TPOTRegressor(generations=4, population_size=50, verbosity=2, scoring='r2', n_jobs=-1, cv=2)\n",
    "# process autoML with TPOT\n",
    "tpot.fit(Xc_train, yc_train)\n",
    "\n",
    "# print score\n",
    "print(tpot.score(Xc_test, yc_test))"
   ]
  },
  {
   "cell_type": "markdown",
   "id": "8c5a3cad-014f-4ee2-bede-ca1d9f33b0bf",
   "metadata": {},
   "source": [
    "#  *Conclusion : on a de meilleurs résultats sur le dataset < 100 et < 50*"
   ]
  },
  {
   "cell_type": "markdown",
   "id": "8c20e996-8cec-4a44-b6d8-17e21fb01602",
   "metadata": {},
   "source": [
    "# AJUSTEMENT DES DATASETS PAR LE PRIX DES JEUX ( < 1 €)"
   ]
  },
  {
   "cell_type": "markdown",
   "id": "b326dfbb-b98d-49bf-accb-d43d50f036e1",
   "metadata": {
    "jp-MarkdownHeadingCollapsed": true,
    "tags": []
   },
   "source": [
    "## Test sur a_df"
   ]
  },
  {
   "cell_type": "code",
   "execution_count": 79,
   "id": "306c790f-dfae-4430-a673-3e82b3af7165",
   "metadata": {},
   "outputs": [
    {
     "data": {
      "text/html": [
       "<div>\n",
       "<style scoped>\n",
       "    .dataframe tbody tr th:only-of-type {\n",
       "        vertical-align: middle;\n",
       "    }\n",
       "\n",
       "    .dataframe tbody tr th {\n",
       "        vertical-align: top;\n",
       "    }\n",
       "\n",
       "    .dataframe thead th {\n",
       "        text-align: right;\n",
       "    }\n",
       "</style>\n",
       "<table border=\"1\" class=\"dataframe\">\n",
       "  <thead>\n",
       "    <tr style=\"text-align: right;\">\n",
       "      <th></th>\n",
       "      <th>steam_appid</th>\n",
       "      <th>name</th>\n",
       "      <th>release_date</th>\n",
       "      <th>developer</th>\n",
       "      <th>publisher</th>\n",
       "      <th>pub_nb_games</th>\n",
       "      <th>owner_median</th>\n",
       "      <th>recommended</th>\n",
       "      <th>english</th>\n",
       "      <th>price</th>\n",
       "      <th>has_a_website</th>\n",
       "      <th>nb_review</th>\n",
       "      <th>owner_estimated</th>\n",
       "      <th>rating</th>\n",
       "      <th>popularity</th>\n",
       "      <th>revenu</th>\n",
       "    </tr>\n",
       "  </thead>\n",
       "  <tbody>\n",
       "    <tr>\n",
       "      <th>0</th>\n",
       "      <td>7340</td>\n",
       "      <td>Azada</td>\n",
       "      <td>2010-04-21</td>\n",
       "      <td>Big Fish Games</td>\n",
       "      <td>Big Fish Games</td>\n",
       "      <td>212</td>\n",
       "      <td>10000.0</td>\n",
       "      <td>0</td>\n",
       "      <td>1</td>\n",
       "      <td>6.99</td>\n",
       "      <td>1</td>\n",
       "      <td>12</td>\n",
       "      <td>2496.0</td>\n",
       "      <td>10.228571</td>\n",
       "      <td>13.635714</td>\n",
       "      <td>17447.04</td>\n",
       "    </tr>\n",
       "    <tr>\n",
       "      <th>1</th>\n",
       "      <td>50910</td>\n",
       "      <td>Professor Fizzwizzle and the Molten Mystery</td>\n",
       "      <td>2010-04-21</td>\n",
       "      <td>Big Fish Games</td>\n",
       "      <td>Big Fish Games</td>\n",
       "      <td>212</td>\n",
       "      <td>10000.0</td>\n",
       "      <td>0</td>\n",
       "      <td>1</td>\n",
       "      <td>4.99</td>\n",
       "      <td>1</td>\n",
       "      <td>12</td>\n",
       "      <td>2496.0</td>\n",
       "      <td>10.228571</td>\n",
       "      <td>13.635714</td>\n",
       "      <td>12455.04</td>\n",
       "    </tr>\n",
       "    <tr>\n",
       "      <th>2</th>\n",
       "      <td>50920</td>\n",
       "      <td>Hidden Expedition: Amazon</td>\n",
       "      <td>2010-04-21</td>\n",
       "      <td>Big Fish Games</td>\n",
       "      <td>Big Fish Games</td>\n",
       "      <td>212</td>\n",
       "      <td>10000.0</td>\n",
       "      <td>0</td>\n",
       "      <td>1</td>\n",
       "      <td>6.99</td>\n",
       "      <td>1</td>\n",
       "      <td>12</td>\n",
       "      <td>2496.0</td>\n",
       "      <td>10.228571</td>\n",
       "      <td>13.635714</td>\n",
       "      <td>17447.04</td>\n",
       "    </tr>\n",
       "    <tr>\n",
       "      <th>3</th>\n",
       "      <td>50930</td>\n",
       "      <td>Hidden Expedition: Everest</td>\n",
       "      <td>2010-04-21</td>\n",
       "      <td>Big Fish Games</td>\n",
       "      <td>Big Fish Games</td>\n",
       "      <td>212</td>\n",
       "      <td>10000.0</td>\n",
       "      <td>0</td>\n",
       "      <td>1</td>\n",
       "      <td>6.99</td>\n",
       "      <td>1</td>\n",
       "      <td>5</td>\n",
       "      <td>1040.0</td>\n",
       "      <td>10.228571</td>\n",
       "      <td>13.635714</td>\n",
       "      <td>7269.60</td>\n",
       "    </tr>\n",
       "    <tr>\n",
       "      <th>4</th>\n",
       "      <td>50940</td>\n",
       "      <td>Hidden Expedition: Titanic</td>\n",
       "      <td>2010-04-21</td>\n",
       "      <td>Big Fish Games</td>\n",
       "      <td>Big Fish Games</td>\n",
       "      <td>212</td>\n",
       "      <td>10000.0</td>\n",
       "      <td>0</td>\n",
       "      <td>1</td>\n",
       "      <td>6.99</td>\n",
       "      <td>1</td>\n",
       "      <td>6</td>\n",
       "      <td>1248.0</td>\n",
       "      <td>10.228571</td>\n",
       "      <td>13.635714</td>\n",
       "      <td>8723.52</td>\n",
       "    </tr>\n",
       "    <tr>\n",
       "      <th>...</th>\n",
       "      <td>...</td>\n",
       "      <td>...</td>\n",
       "      <td>...</td>\n",
       "      <td>...</td>\n",
       "      <td>...</td>\n",
       "      <td>...</td>\n",
       "      <td>...</td>\n",
       "      <td>...</td>\n",
       "      <td>...</td>\n",
       "      <td>...</td>\n",
       "      <td>...</td>\n",
       "      <td>...</td>\n",
       "      <td>...</td>\n",
       "      <td>...</td>\n",
       "      <td>...</td>\n",
       "      <td>...</td>\n",
       "    </tr>\n",
       "    <tr>\n",
       "      <th>26794</th>\n",
       "      <td>1060770</td>\n",
       "      <td>Die, zombie sausage, die!</td>\n",
       "      <td>2019-04-24</td>\n",
       "      <td>AuroraCorp</td>\n",
       "      <td>Aurora software</td>\n",
       "      <td>1</td>\n",
       "      <td>10000.0</td>\n",
       "      <td>1</td>\n",
       "      <td>1</td>\n",
       "      <td>0.79</td>\n",
       "      <td>0</td>\n",
       "      <td>1</td>\n",
       "      <td>208.0</td>\n",
       "      <td>1.000000</td>\n",
       "      <td>1.000000</td>\n",
       "      <td>164.32</td>\n",
       "    </tr>\n",
       "    <tr>\n",
       "      <th>26795</th>\n",
       "      <td>858100</td>\n",
       "      <td>Grimshade</td>\n",
       "      <td>2019-03-26</td>\n",
       "      <td>TALEROCK</td>\n",
       "      <td>Asterion Games</td>\n",
       "      <td>1</td>\n",
       "      <td>10000.0</td>\n",
       "      <td>1</td>\n",
       "      <td>1</td>\n",
       "      <td>15.99</td>\n",
       "      <td>1</td>\n",
       "      <td>86</td>\n",
       "      <td>17888.0</td>\n",
       "      <td>58.800000</td>\n",
       "      <td>74.100000</td>\n",
       "      <td>286029.12</td>\n",
       "    </tr>\n",
       "    <tr>\n",
       "      <th>26796</th>\n",
       "      <td>832420</td>\n",
       "      <td>ICED VR</td>\n",
       "      <td>2018-05-29</td>\n",
       "      <td>Anea_Duo_Dev</td>\n",
       "      <td>Anea_Duo_Dev</td>\n",
       "      <td>1</td>\n",
       "      <td>10000.0</td>\n",
       "      <td>1</td>\n",
       "      <td>1</td>\n",
       "      <td>7.19</td>\n",
       "      <td>0</td>\n",
       "      <td>9</td>\n",
       "      <td>1872.0</td>\n",
       "      <td>44.450000</td>\n",
       "      <td>69.650000</td>\n",
       "      <td>13459.68</td>\n",
       "    </tr>\n",
       "    <tr>\n",
       "      <th>26797</th>\n",
       "      <td>659100</td>\n",
       "      <td>Skyfall</td>\n",
       "      <td>2017-07-28</td>\n",
       "      <td>AYE Technology</td>\n",
       "      <td>AYE Technology</td>\n",
       "      <td>1</td>\n",
       "      <td>10000.0</td>\n",
       "      <td>1</td>\n",
       "      <td>1</td>\n",
       "      <td>2.79</td>\n",
       "      <td>0</td>\n",
       "      <td>24</td>\n",
       "      <td>4992.0</td>\n",
       "      <td>-4.600000</td>\n",
       "      <td>6.800000</td>\n",
       "      <td>13927.68</td>\n",
       "    </tr>\n",
       "    <tr>\n",
       "      <th>26798</th>\n",
       "      <td>456780</td>\n",
       "      <td>DUCATI - 90th Anniversary</td>\n",
       "      <td>2016-06-09</td>\n",
       "      <td>Milestone S.r.l.</td>\n",
       "      <td>Milestone S.r.l.</td>\n",
       "      <td>1</td>\n",
       "      <td>10000.0</td>\n",
       "      <td>1</td>\n",
       "      <td>1</td>\n",
       "      <td>6.99</td>\n",
       "      <td>1</td>\n",
       "      <td>96</td>\n",
       "      <td>19968.0</td>\n",
       "      <td>226.648000</td>\n",
       "      <td>338.536000</td>\n",
       "      <td>139576.32</td>\n",
       "    </tr>\n",
       "  </tbody>\n",
       "</table>\n",
       "<p>23222 rows × 16 columns</p>\n",
       "</div>"
      ],
      "text/plain": [
       "       steam_appid                                         name release_date  \\\n",
       "0             7340                                        Azada   2010-04-21   \n",
       "1            50910  Professor Fizzwizzle and the Molten Mystery   2010-04-21   \n",
       "2            50920                    Hidden Expedition: Amazon   2010-04-21   \n",
       "3            50930                   Hidden Expedition: Everest   2010-04-21   \n",
       "4            50940                   Hidden Expedition: Titanic   2010-04-21   \n",
       "...            ...                                          ...          ...   \n",
       "26794      1060770                    Die, zombie sausage, die!   2019-04-24   \n",
       "26795       858100                                    Grimshade   2019-03-26   \n",
       "26796       832420                                      ICED VR   2018-05-29   \n",
       "26797       659100                                      Skyfall   2017-07-28   \n",
       "26798       456780                    DUCATI - 90th Anniversary   2016-06-09   \n",
       "\n",
       "              developer           publisher  pub_nb_games  owner_median  \\\n",
       "0        Big Fish Games      Big Fish Games           212       10000.0   \n",
       "1        Big Fish Games      Big Fish Games           212       10000.0   \n",
       "2        Big Fish Games      Big Fish Games           212       10000.0   \n",
       "3        Big Fish Games      Big Fish Games           212       10000.0   \n",
       "4        Big Fish Games      Big Fish Games           212       10000.0   \n",
       "...                 ...                 ...           ...           ...   \n",
       "26794        AuroraCorp     Aurora software             1       10000.0   \n",
       "26795          TALEROCK      Asterion Games             1       10000.0   \n",
       "26796      Anea_Duo_Dev        Anea_Duo_Dev             1       10000.0   \n",
       "26797    AYE Technology      AYE Technology             1       10000.0   \n",
       "26798  Milestone S.r.l.    Milestone S.r.l.             1       10000.0   \n",
       "\n",
       "       recommended  english  price  has_a_website  nb_review  owner_estimated  \\\n",
       "0                0        1   6.99              1         12           2496.0   \n",
       "1                0        1   4.99              1         12           2496.0   \n",
       "2                0        1   6.99              1         12           2496.0   \n",
       "3                0        1   6.99              1          5           1040.0   \n",
       "4                0        1   6.99              1          6           1248.0   \n",
       "...            ...      ...    ...            ...        ...              ...   \n",
       "26794            1        1   0.79              0          1            208.0   \n",
       "26795            1        1  15.99              1         86          17888.0   \n",
       "26796            1        1   7.19              0          9           1872.0   \n",
       "26797            1        1   2.79              0         24           4992.0   \n",
       "26798            1        1   6.99              1         96          19968.0   \n",
       "\n",
       "           rating  popularity     revenu  \n",
       "0       10.228571   13.635714   17447.04  \n",
       "1       10.228571   13.635714   12455.04  \n",
       "2       10.228571   13.635714   17447.04  \n",
       "3       10.228571   13.635714    7269.60  \n",
       "4       10.228571   13.635714    8723.52  \n",
       "...           ...         ...        ...  \n",
       "26794    1.000000    1.000000     164.32  \n",
       "26795   58.800000   74.100000  286029.12  \n",
       "26796   44.450000   69.650000   13459.68  \n",
       "26797   -4.600000    6.800000   13927.68  \n",
       "26798  226.648000  338.536000  139576.32  \n",
       "\n",
       "[23222 rows x 16 columns]"
      ]
     },
     "execution_count": 79,
     "metadata": {},
     "output_type": "execute_result"
    }
   ],
   "source": [
    "a_df"
   ]
  },
  {
   "cell_type": "code",
   "execution_count": 80,
   "id": "d22f50d1-1482-495e-bf86-946ef7913949",
   "metadata": {},
   "outputs": [
    {
     "name": "stderr",
     "output_type": "stream",
     "text": [
      "/Users/mathieudbt/.pyenv/versions/3.8.12/envs/steamator/lib/python3.8/site-packages/pandas/core/frame.py:4906: SettingWithCopyWarning: \n",
      "A value is trying to be set on a copy of a slice from a DataFrame\n",
      "\n",
      "See the caveats in the documentation: https://pandas.pydata.org/pandas-docs/stable/user_guide/indexing.html#returning-a-view-versus-a-copy\n",
      "  return super().drop(\n"
     ]
    }
   ],
   "source": [
    "a_df.drop(a_df[a_df.price < 1].index, inplace=True)\n"
   ]
  },
  {
   "cell_type": "code",
   "execution_count": 26,
   "id": "5b1a00a4-e504-430f-a1b2-ab847406ef83",
   "metadata": {},
   "outputs": [
    {
     "data": {
      "text/html": [
       "<div>\n",
       "<style scoped>\n",
       "    .dataframe tbody tr th:only-of-type {\n",
       "        vertical-align: middle;\n",
       "    }\n",
       "\n",
       "    .dataframe tbody tr th {\n",
       "        vertical-align: top;\n",
       "    }\n",
       "\n",
       "    .dataframe thead th {\n",
       "        text-align: right;\n",
       "    }\n",
       "</style>\n",
       "<table border=\"1\" class=\"dataframe\">\n",
       "  <thead>\n",
       "    <tr style=\"text-align: right;\">\n",
       "      <th></th>\n",
       "      <th>steam_appid</th>\n",
       "      <th>name</th>\n",
       "      <th>release_date</th>\n",
       "      <th>developer</th>\n",
       "      <th>publisher</th>\n",
       "      <th>pub_nb_games</th>\n",
       "      <th>owner_median</th>\n",
       "      <th>recommended</th>\n",
       "      <th>english</th>\n",
       "      <th>price</th>\n",
       "      <th>has_a_website</th>\n",
       "      <th>nb_review</th>\n",
       "      <th>owner_estimated</th>\n",
       "      <th>rating</th>\n",
       "      <th>popularity</th>\n",
       "      <th>revenu</th>\n",
       "    </tr>\n",
       "  </thead>\n",
       "  <tbody>\n",
       "    <tr>\n",
       "      <th>0</th>\n",
       "      <td>7340</td>\n",
       "      <td>Azada</td>\n",
       "      <td>2010-04-21</td>\n",
       "      <td>Big Fish Games</td>\n",
       "      <td>Big Fish Games</td>\n",
       "      <td>212</td>\n",
       "      <td>10000.0</td>\n",
       "      <td>0</td>\n",
       "      <td>1</td>\n",
       "      <td>6.99</td>\n",
       "      <td>1</td>\n",
       "      <td>12</td>\n",
       "      <td>2496.0</td>\n",
       "      <td>10.228571</td>\n",
       "      <td>13.635714</td>\n",
       "      <td>17447.04</td>\n",
       "    </tr>\n",
       "    <tr>\n",
       "      <th>1</th>\n",
       "      <td>50910</td>\n",
       "      <td>Professor Fizzwizzle and the Molten Mystery</td>\n",
       "      <td>2010-04-21</td>\n",
       "      <td>Big Fish Games</td>\n",
       "      <td>Big Fish Games</td>\n",
       "      <td>212</td>\n",
       "      <td>10000.0</td>\n",
       "      <td>0</td>\n",
       "      <td>1</td>\n",
       "      <td>4.99</td>\n",
       "      <td>1</td>\n",
       "      <td>12</td>\n",
       "      <td>2496.0</td>\n",
       "      <td>10.228571</td>\n",
       "      <td>13.635714</td>\n",
       "      <td>12455.04</td>\n",
       "    </tr>\n",
       "    <tr>\n",
       "      <th>2</th>\n",
       "      <td>50920</td>\n",
       "      <td>Hidden Expedition: Amazon</td>\n",
       "      <td>2010-04-21</td>\n",
       "      <td>Big Fish Games</td>\n",
       "      <td>Big Fish Games</td>\n",
       "      <td>212</td>\n",
       "      <td>10000.0</td>\n",
       "      <td>0</td>\n",
       "      <td>1</td>\n",
       "      <td>6.99</td>\n",
       "      <td>1</td>\n",
       "      <td>12</td>\n",
       "      <td>2496.0</td>\n",
       "      <td>10.228571</td>\n",
       "      <td>13.635714</td>\n",
       "      <td>17447.04</td>\n",
       "    </tr>\n",
       "    <tr>\n",
       "      <th>3</th>\n",
       "      <td>50930</td>\n",
       "      <td>Hidden Expedition: Everest</td>\n",
       "      <td>2010-04-21</td>\n",
       "      <td>Big Fish Games</td>\n",
       "      <td>Big Fish Games</td>\n",
       "      <td>212</td>\n",
       "      <td>10000.0</td>\n",
       "      <td>0</td>\n",
       "      <td>1</td>\n",
       "      <td>6.99</td>\n",
       "      <td>1</td>\n",
       "      <td>5</td>\n",
       "      <td>1040.0</td>\n",
       "      <td>10.228571</td>\n",
       "      <td>13.635714</td>\n",
       "      <td>7269.60</td>\n",
       "    </tr>\n",
       "    <tr>\n",
       "      <th>4</th>\n",
       "      <td>50940</td>\n",
       "      <td>Hidden Expedition: Titanic</td>\n",
       "      <td>2010-04-21</td>\n",
       "      <td>Big Fish Games</td>\n",
       "      <td>Big Fish Games</td>\n",
       "      <td>212</td>\n",
       "      <td>10000.0</td>\n",
       "      <td>0</td>\n",
       "      <td>1</td>\n",
       "      <td>6.99</td>\n",
       "      <td>1</td>\n",
       "      <td>6</td>\n",
       "      <td>1248.0</td>\n",
       "      <td>10.228571</td>\n",
       "      <td>13.635714</td>\n",
       "      <td>8723.52</td>\n",
       "    </tr>\n",
       "    <tr>\n",
       "      <th>...</th>\n",
       "      <td>...</td>\n",
       "      <td>...</td>\n",
       "      <td>...</td>\n",
       "      <td>...</td>\n",
       "      <td>...</td>\n",
       "      <td>...</td>\n",
       "      <td>...</td>\n",
       "      <td>...</td>\n",
       "      <td>...</td>\n",
       "      <td>...</td>\n",
       "      <td>...</td>\n",
       "      <td>...</td>\n",
       "      <td>...</td>\n",
       "      <td>...</td>\n",
       "      <td>...</td>\n",
       "      <td>...</td>\n",
       "    </tr>\n",
       "    <tr>\n",
       "      <th>26794</th>\n",
       "      <td>1060770</td>\n",
       "      <td>Die, zombie sausage, die!</td>\n",
       "      <td>2019-04-24</td>\n",
       "      <td>AuroraCorp</td>\n",
       "      <td>Aurora software</td>\n",
       "      <td>1</td>\n",
       "      <td>10000.0</td>\n",
       "      <td>1</td>\n",
       "      <td>1</td>\n",
       "      <td>0.79</td>\n",
       "      <td>0</td>\n",
       "      <td>1</td>\n",
       "      <td>208.0</td>\n",
       "      <td>1.000000</td>\n",
       "      <td>1.000000</td>\n",
       "      <td>164.32</td>\n",
       "    </tr>\n",
       "    <tr>\n",
       "      <th>26795</th>\n",
       "      <td>858100</td>\n",
       "      <td>Grimshade</td>\n",
       "      <td>2019-03-26</td>\n",
       "      <td>TALEROCK</td>\n",
       "      <td>Asterion Games</td>\n",
       "      <td>1</td>\n",
       "      <td>10000.0</td>\n",
       "      <td>1</td>\n",
       "      <td>1</td>\n",
       "      <td>15.99</td>\n",
       "      <td>1</td>\n",
       "      <td>86</td>\n",
       "      <td>17888.0</td>\n",
       "      <td>58.800000</td>\n",
       "      <td>74.100000</td>\n",
       "      <td>286029.12</td>\n",
       "    </tr>\n",
       "    <tr>\n",
       "      <th>26796</th>\n",
       "      <td>832420</td>\n",
       "      <td>ICED VR</td>\n",
       "      <td>2018-05-29</td>\n",
       "      <td>Anea_Duo_Dev</td>\n",
       "      <td>Anea_Duo_Dev</td>\n",
       "      <td>1</td>\n",
       "      <td>10000.0</td>\n",
       "      <td>1</td>\n",
       "      <td>1</td>\n",
       "      <td>7.19</td>\n",
       "      <td>0</td>\n",
       "      <td>9</td>\n",
       "      <td>1872.0</td>\n",
       "      <td>44.450000</td>\n",
       "      <td>69.650000</td>\n",
       "      <td>13459.68</td>\n",
       "    </tr>\n",
       "    <tr>\n",
       "      <th>26797</th>\n",
       "      <td>659100</td>\n",
       "      <td>Skyfall</td>\n",
       "      <td>2017-07-28</td>\n",
       "      <td>AYE Technology</td>\n",
       "      <td>AYE Technology</td>\n",
       "      <td>1</td>\n",
       "      <td>10000.0</td>\n",
       "      <td>1</td>\n",
       "      <td>1</td>\n",
       "      <td>2.79</td>\n",
       "      <td>0</td>\n",
       "      <td>24</td>\n",
       "      <td>4992.0</td>\n",
       "      <td>-4.600000</td>\n",
       "      <td>6.800000</td>\n",
       "      <td>13927.68</td>\n",
       "    </tr>\n",
       "    <tr>\n",
       "      <th>26798</th>\n",
       "      <td>456780</td>\n",
       "      <td>DUCATI - 90th Anniversary</td>\n",
       "      <td>2016-06-09</td>\n",
       "      <td>Milestone S.r.l.</td>\n",
       "      <td>Milestone S.r.l.</td>\n",
       "      <td>1</td>\n",
       "      <td>10000.0</td>\n",
       "      <td>1</td>\n",
       "      <td>1</td>\n",
       "      <td>6.99</td>\n",
       "      <td>1</td>\n",
       "      <td>96</td>\n",
       "      <td>19968.0</td>\n",
       "      <td>226.648000</td>\n",
       "      <td>338.536000</td>\n",
       "      <td>139576.32</td>\n",
       "    </tr>\n",
       "  </tbody>\n",
       "</table>\n",
       "<p>23222 rows × 16 columns</p>\n",
       "</div>"
      ],
      "text/plain": [
       "       steam_appid                                         name release_date  \\\n",
       "0             7340                                        Azada   2010-04-21   \n",
       "1            50910  Professor Fizzwizzle and the Molten Mystery   2010-04-21   \n",
       "2            50920                    Hidden Expedition: Amazon   2010-04-21   \n",
       "3            50930                   Hidden Expedition: Everest   2010-04-21   \n",
       "4            50940                   Hidden Expedition: Titanic   2010-04-21   \n",
       "...            ...                                          ...          ...   \n",
       "26794      1060770                    Die, zombie sausage, die!   2019-04-24   \n",
       "26795       858100                                    Grimshade   2019-03-26   \n",
       "26796       832420                                      ICED VR   2018-05-29   \n",
       "26797       659100                                      Skyfall   2017-07-28   \n",
       "26798       456780                    DUCATI - 90th Anniversary   2016-06-09   \n",
       "\n",
       "              developer           publisher  pub_nb_games  owner_median  \\\n",
       "0        Big Fish Games      Big Fish Games           212       10000.0   \n",
       "1        Big Fish Games      Big Fish Games           212       10000.0   \n",
       "2        Big Fish Games      Big Fish Games           212       10000.0   \n",
       "3        Big Fish Games      Big Fish Games           212       10000.0   \n",
       "4        Big Fish Games      Big Fish Games           212       10000.0   \n",
       "...                 ...                 ...           ...           ...   \n",
       "26794        AuroraCorp     Aurora software             1       10000.0   \n",
       "26795          TALEROCK      Asterion Games             1       10000.0   \n",
       "26796      Anea_Duo_Dev        Anea_Duo_Dev             1       10000.0   \n",
       "26797    AYE Technology      AYE Technology             1       10000.0   \n",
       "26798  Milestone S.r.l.    Milestone S.r.l.             1       10000.0   \n",
       "\n",
       "       recommended  english  price  has_a_website  nb_review  owner_estimated  \\\n",
       "0                0        1   6.99              1         12           2496.0   \n",
       "1                0        1   4.99              1         12           2496.0   \n",
       "2                0        1   6.99              1         12           2496.0   \n",
       "3                0        1   6.99              1          5           1040.0   \n",
       "4                0        1   6.99              1          6           1248.0   \n",
       "...            ...      ...    ...            ...        ...              ...   \n",
       "26794            1        1   0.79              0          1            208.0   \n",
       "26795            1        1  15.99              1         86          17888.0   \n",
       "26796            1        1   7.19              0          9           1872.0   \n",
       "26797            1        1   2.79              0         24           4992.0   \n",
       "26798            1        1   6.99              1         96          19968.0   \n",
       "\n",
       "           rating  popularity     revenu  \n",
       "0       10.228571   13.635714   17447.04  \n",
       "1       10.228571   13.635714   12455.04  \n",
       "2       10.228571   13.635714   17447.04  \n",
       "3       10.228571   13.635714    7269.60  \n",
       "4       10.228571   13.635714    8723.52  \n",
       "...           ...         ...        ...  \n",
       "26794    1.000000    1.000000     164.32  \n",
       "26795   58.800000   74.100000  286029.12  \n",
       "26796   44.450000   69.650000   13459.68  \n",
       "26797   -4.600000    6.800000   13927.68  \n",
       "26798  226.648000  338.536000  139576.32  \n",
       "\n",
       "[23222 rows x 16 columns]"
      ]
     },
     "execution_count": 26,
     "metadata": {},
     "output_type": "execute_result"
    }
   ],
   "source": [
    "a_df"
   ]
  },
  {
   "cell_type": "code",
   "execution_count": 27,
   "id": "c63164bf-1450-497b-afee-732c40e142bb",
   "metadata": {},
   "outputs": [],
   "source": [
    "Xaa = a_df.drop(columns=['steam_appid','popularity','release_date','revenu', 'developer', 'publisher','release_date','owner_median', 'owner_estimated','name', 'rating', 'nb_review'])"
   ]
  },
  {
   "cell_type": "code",
   "execution_count": 28,
   "id": "55f6f17a-e0dd-4625-a518-29619bcec0f4",
   "metadata": {},
   "outputs": [],
   "source": [
    "yaa = a_df['owner_estimated']"
   ]
  },
  {
   "cell_type": "code",
   "execution_count": 29,
   "id": "b24925c2-cd91-48eb-93b0-88c30b2ef0c8",
   "metadata": {},
   "outputs": [],
   "source": [
    "Xaa_train, Xaa_test, yaa_train, yaa_test = train_test_split(Xaa,yaa, test_size = 0.3, random_state=0)"
   ]
  },
  {
   "cell_type": "code",
   "execution_count": 38,
   "id": "fcff144b-55f4-405c-bdee-cdfb0a5234f3",
   "metadata": {},
   "outputs": [
    {
     "name": "stdout",
     "output_type": "stream",
     "text": [
      "0.1684189576254459\n"
     ]
    }
   ],
   "source": [
    "\n",
    "forest = RandomForestRegressor(\n",
    "                               bootstrap=True, \n",
    "                               max_features=0.4, \n",
    "                               min_samples_leaf=14, \n",
    "                               n_estimators=100,\n",
    "                               min_samples_split=14)\n",
    "\n",
    "linear = LinearSVR(C=0.01, \n",
    "                  dual=False, \n",
    "                  epsilon=0.001, \n",
    "                  loss='squared_epsilon_insensitive', \n",
    "                  tol=0.0001)\n",
    "\n",
    "xgb = XGBRegressor(max_depth=10, n_estimators=100, learning_rate=0.1)\n",
    "\n",
    "estimators = [\n",
    "    ('lr', forest),\n",
    "    ('svr', LinearSVR(random_state=42)),\n",
    "    ('xgb', xgb)\n",
    "]\n",
    "\n",
    "\n",
    "ensemble = StackingRegressor(\n",
    "    estimators = estimators,\n",
    "    final_estimator = LinearRegression())\n",
    "\n",
    "ensemble.fit(Xaa_train, yaa_train)\n",
    "\n",
    "print(ensemble.score(Xaa_test,yaa_test))"
   ]
  },
  {
   "cell_type": "markdown",
   "id": "86e29882-42ec-487a-a2c4-26d5368a4acb",
   "metadata": {},
   "source": [
    "### Test TPOT"
   ]
  },
  {
   "cell_type": "code",
   "execution_count": 45,
   "id": "41fdd2c1-fae5-4f91-bd46-34583c2d1176",
   "metadata": {},
   "outputs": [
    {
     "data": {
      "application/vnd.jupyter.widget-view+json": {
       "model_id": "",
       "version_major": 2,
       "version_minor": 0
      },
      "text/plain": [
       "Optimization Progress:   0%|          | 0/250 [00:00<?, ?pipeline/s]"
      ]
     },
     "metadata": {},
     "output_type": "display_data"
    },
    {
     "name": "stdout",
     "output_type": "stream",
     "text": [
      "\n",
      "Generation 1 - Current best internal CV score: 0.14318953254503342\n",
      "\n",
      "Generation 2 - Current best internal CV score: 0.14318953254503342\n",
      "\n",
      "Generation 3 - Current best internal CV score: 0.14318953254503342\n",
      "\n",
      "Generation 4 - Current best internal CV score: 0.14731364820888965\n",
      "\n",
      "Best pipeline: ExtraTreesRegressor(input_matrix, bootstrap=False, max_features=0.8500000000000001, min_samples_leaf=4, min_samples_split=10, n_estimators=100)\n",
      "0.1641885945333741\n"
     ]
    }
   ],
   "source": [
    "# instanciate TPOTClassifier\n",
    "tpot = TPOTRegressor(generations=4, population_size=50, verbosity=2, scoring='r2', n_jobs=-1, cv=2)\n",
    "# process autoML with TPOT\n",
    "tpot.fit(Xaa_train, yaa_train)\n",
    "\n",
    "# print score\n",
    "print(tpot.score(Xaa_test, yaa_test))"
   ]
  },
  {
   "cell_type": "markdown",
   "id": "ef265836-8b78-4d0f-9fb6-5e565300b0ff",
   "metadata": {
    "tags": []
   },
   "source": [
    "## Test sur b_df"
   ]
  },
  {
   "cell_type": "code",
   "execution_count": 40,
   "id": "880d32ce-c209-44d3-a999-5cf35e597b12",
   "metadata": {},
   "outputs": [
    {
     "name": "stderr",
     "output_type": "stream",
     "text": [
      "/Users/mathieudbt/.pyenv/versions/3.8.12/envs/steamator/lib/python3.8/site-packages/pandas/core/frame.py:4906: SettingWithCopyWarning: \n",
      "A value is trying to be set on a copy of a slice from a DataFrame\n",
      "\n",
      "See the caveats in the documentation: https://pandas.pydata.org/pandas-docs/stable/user_guide/indexing.html#returning-a-view-versus-a-copy\n",
      "  return super().drop(\n"
     ]
    }
   ],
   "source": [
    "b_df.drop(b_df[b_df.price < 1].index, inplace=True)\n"
   ]
  },
  {
   "cell_type": "code",
   "execution_count": 41,
   "id": "9cfd0c9e-a96d-4b1d-90f4-c3b16094f2c6",
   "metadata": {},
   "outputs": [],
   "source": [
    "Xbb = b_df.drop(columns=['steam_appid','popularity','release_date','revenu', 'developer', 'publisher','release_date','owner_median', 'owner_estimated','name', 'rating', 'nb_review'])"
   ]
  },
  {
   "cell_type": "code",
   "execution_count": 42,
   "id": "a4ffb20a-6723-4db0-8536-4055905eabb9",
   "metadata": {},
   "outputs": [],
   "source": [
    "ybb = b_df['owner_estimated']"
   ]
  },
  {
   "cell_type": "code",
   "execution_count": 43,
   "id": "2bbf089a-c6bb-4c2e-a50a-d586b8dac972",
   "metadata": {},
   "outputs": [],
   "source": [
    "Xbb_train, Xbb_test, ybb_train, ybb_test = train_test_split(Xbb,ybb, test_size = 0.3, random_state=0)"
   ]
  },
  {
   "cell_type": "code",
   "execution_count": 44,
   "id": "37aeeca8-9438-4d66-b20b-eccd1f59720e",
   "metadata": {},
   "outputs": [
    {
     "name": "stdout",
     "output_type": "stream",
     "text": [
      "0.19139351579892938\n"
     ]
    }
   ],
   "source": [
    "\n",
    "forest = RandomForestRegressor(\n",
    "                               bootstrap=True, \n",
    "                               max_features=0.4, \n",
    "                               min_samples_leaf=14, \n",
    "                               n_estimators=100,\n",
    "                               min_samples_split=14)\n",
    "\n",
    "linear = LinearSVR(C=0.01, \n",
    "                  dual=False, \n",
    "                  epsilon=0.001, \n",
    "                  loss='squared_epsilon_insensitive', \n",
    "                  tol=0.0001)\n",
    "\n",
    "xgb = XGBRegressor(max_depth=10, n_estimators=100, learning_rate=0.1)\n",
    "\n",
    "estimators = [\n",
    "    ('lr', forest),\n",
    "    ('svr', LinearSVR(random_state=42)),\n",
    "    ('xgb', xgb)\n",
    "]\n",
    "\n",
    "\n",
    "ensemble = StackingRegressor(\n",
    "    estimators = estimators,\n",
    "    final_estimator = LinearRegression())\n",
    "\n",
    "ensemble.fit(Xbb_train, ybb_train)\n",
    "\n",
    "print(ensemble.score(Xbb_test,ybb_test))"
   ]
  },
  {
   "cell_type": "markdown",
   "id": "9c930147-00d3-4f46-a114-5d397a9d1a30",
   "metadata": {},
   "source": [
    "### Test TPOT"
   ]
  },
  {
   "cell_type": "code",
   "execution_count": 46,
   "id": "1b143475-f648-4ab1-86fb-414bc7a16d7c",
   "metadata": {},
   "outputs": [
    {
     "data": {
      "application/vnd.jupyter.widget-view+json": {
       "model_id": "",
       "version_major": 2,
       "version_minor": 0
      },
      "text/plain": [
       "Optimization Progress:   0%|          | 0/250 [00:00<?, ?pipeline/s]"
      ]
     },
     "metadata": {},
     "output_type": "display_data"
    },
    {
     "name": "stdout",
     "output_type": "stream",
     "text": [
      "\n",
      "Generation 1 - Current best internal CV score: 0.14781383997590375\n",
      "\n",
      "Generation 2 - Current best internal CV score: 0.1500011075202312\n",
      "\n",
      "Generation 3 - Current best internal CV score: 0.1500011075202312\n",
      "\n",
      "Generation 4 - Current best internal CV score: 0.1500011075202312\n",
      "\n",
      "Best pipeline: RandomForestRegressor(GradientBoostingRegressor(input_matrix, alpha=0.75, learning_rate=0.1, loss=huber, max_depth=2, max_features=0.9500000000000001, min_samples_leaf=9, min_samples_split=11, n_estimators=100, subsample=0.05), bootstrap=True, max_features=0.5, min_samples_leaf=14, min_samples_split=12, n_estimators=100)\n",
      "0.18255036803603453\n"
     ]
    },
    {
     "name": "stderr",
     "output_type": "stream",
     "text": [
      "/Users/mathieudbt/.pyenv/versions/3.8.12/envs/steamator/lib/python3.8/site-packages/sklearn/base.py:445: UserWarning: X does not have valid feature names, but GradientBoostingRegressor was fitted with feature names\n",
      "  warnings.warn(\n",
      "/Users/mathieudbt/.pyenv/versions/3.8.12/envs/steamator/lib/python3.8/site-packages/tpot/builtins/__init__.py:36: UserWarning: Warning: optional dependency `torch` is not available. - skipping import of NN models.\n",
      "  warnings.warn(\"Warning: optional dependency `torch` is not available. - skipping import of NN models.\")\n",
      "/Users/mathieudbt/.pyenv/versions/3.8.12/envs/steamator/lib/python3.8/site-packages/tpot/builtins/__init__.py:36: UserWarning: Warning: optional dependency `torch` is not available. - skipping import of NN models.\n",
      "  warnings.warn(\"Warning: optional dependency `torch` is not available. - skipping import of NN models.\")\n",
      "/Users/mathieudbt/.pyenv/versions/3.8.12/envs/steamator/lib/python3.8/site-packages/tpot/builtins/__init__.py:36: UserWarning: Warning: optional dependency `torch` is not available. - skipping import of NN models.\n",
      "  warnings.warn(\"Warning: optional dependency `torch` is not available. - skipping import of NN models.\")\n",
      "/Users/mathieudbt/.pyenv/versions/3.8.12/envs/steamator/lib/python3.8/site-packages/tpot/builtins/__init__.py:36: UserWarning: Warning: optional dependency `torch` is not available. - skipping import of NN models.\n",
      "  warnings.warn(\"Warning: optional dependency `torch` is not available. - skipping import of NN models.\")\n",
      "/Users/mathieudbt/.pyenv/versions/3.8.12/envs/steamator/lib/python3.8/site-packages/tpot/builtins/__init__.py:36: UserWarning: Warning: optional dependency `torch` is not available. - skipping import of NN models.\n",
      "  warnings.warn(\"Warning: optional dependency `torch` is not available. - skipping import of NN models.\")\n",
      "/Users/mathieudbt/.pyenv/versions/3.8.12/envs/steamator/lib/python3.8/site-packages/tpot/builtins/__init__.py:36: UserWarning: Warning: optional dependency `torch` is not available. - skipping import of NN models.\n",
      "  warnings.warn(\"Warning: optional dependency `torch` is not available. - skipping import of NN models.\")\n",
      "/Users/mathieudbt/.pyenv/versions/3.8.12/envs/steamator/lib/python3.8/site-packages/tpot/builtins/__init__.py:36: UserWarning: Warning: optional dependency `torch` is not available. - skipping import of NN models.\n",
      "  warnings.warn(\"Warning: optional dependency `torch` is not available. - skipping import of NN models.\")\n",
      "/Users/mathieudbt/.pyenv/versions/3.8.12/envs/steamator/lib/python3.8/site-packages/tpot/builtins/__init__.py:36: UserWarning: Warning: optional dependency `torch` is not available. - skipping import of NN models.\n",
      "  warnings.warn(\"Warning: optional dependency `torch` is not available. - skipping import of NN models.\")\n"
     ]
    }
   ],
   "source": [
    "# instanciate TPOTClassifier\n",
    "tpot = TPOTRegressor(generations=4, population_size=50, verbosity=2, scoring='r2', n_jobs=-1, cv=2)\n",
    "# process autoML with TPOT\n",
    "tpot.fit(Xbb_train, ybb_train)\n",
    "\n",
    "# print score\n",
    "print(tpot.score(Xbb_test, ybb_test))"
   ]
  },
  {
   "cell_type": "code",
   "execution_count": null,
   "id": "bf49ee4f-1402-4050-a9f8-6c05aabe6cc0",
   "metadata": {},
   "outputs": [],
   "source": []
  },
  {
   "cell_type": "markdown",
   "id": "73e213db-4705-49fa-87ab-c2d85f8c73ce",
   "metadata": {
    "tags": []
   },
   "source": [
    "# Création des 3 datasets en rajoutant les colonnes topics "
   ]
  },
  {
   "cell_type": "code",
   "execution_count": 50,
   "id": "7daeb49b-2c46-4b2b-9fc7-d783ab5ca0cb",
   "metadata": {},
   "outputs": [
    {
     "data": {
      "text/plain": [
       "Index(['steam_appid', 'name', 'release_date', 'developer', 'publisher',\n",
       "       'pub_nb_games', 'owner_median', 'recommended', 'english', 'price',\n",
       "       'has_a_website', 'nb_review', 'owner_estimated', 'rating', 'popularity',\n",
       "       'revenu'],\n",
       "      dtype='object')"
      ]
     },
     "execution_count": 50,
     "metadata": {},
     "output_type": "execute_result"
    }
   ],
   "source": [
    "a_df.columns"
   ]
  },
  {
   "cell_type": "code",
   "execution_count": 47,
   "id": "88d11b6b-721b-4c0b-bbc7-7453ffdd6377",
   "metadata": {},
   "outputs": [],
   "source": [
    "tmp = pd.read_csv('../raw_data/data_final_indé_big.csv')"
   ]
  },
  {
   "cell_type": "code",
   "execution_count": 155,
   "id": "e99baa3c-f6ef-40da-9fb9-d7fae5c9d8a2",
   "metadata": {},
   "outputs": [
    {
     "data": {
      "text/html": [
       "<div>\n",
       "<style scoped>\n",
       "    .dataframe tbody tr th:only-of-type {\n",
       "        vertical-align: middle;\n",
       "    }\n",
       "\n",
       "    .dataframe tbody tr th {\n",
       "        vertical-align: top;\n",
       "    }\n",
       "\n",
       "    .dataframe thead th {\n",
       "        text-align: right;\n",
       "    }\n",
       "</style>\n",
       "<table border=\"1\" class=\"dataframe\">\n",
       "  <thead>\n",
       "    <tr style=\"text-align: right;\">\n",
       "      <th></th>\n",
       "      <th>steam_appid</th>\n",
       "      <th>name</th>\n",
       "      <th>release_date</th>\n",
       "      <th>developer</th>\n",
       "      <th>publisher</th>\n",
       "      <th>pub_nb_games</th>\n",
       "      <th>owner_median</th>\n",
       "      <th>recommended</th>\n",
       "      <th>english</th>\n",
       "      <th>price</th>\n",
       "      <th>has_a_website</th>\n",
       "      <th>nb_review</th>\n",
       "      <th>owner_estimated</th>\n",
       "      <th>rating</th>\n",
       "      <th>popularity</th>\n",
       "      <th>revenu</th>\n",
       "    </tr>\n",
       "  </thead>\n",
       "  <tbody>\n",
       "    <tr>\n",
       "      <th>1363</th>\n",
       "      <td>286440</td>\n",
       "      <td>Rover Rescue</td>\n",
       "      <td>2014-05-08</td>\n",
       "      <td>Pointscape</td>\n",
       "      <td>KISS ltd</td>\n",
       "      <td>71</td>\n",
       "      <td>150000.0</td>\n",
       "      <td>0</td>\n",
       "      <td>1</td>\n",
       "      <td>3.99</td>\n",
       "      <td>1</td>\n",
       "      <td>89</td>\n",
       "      <td>102937.0</td>\n",
       "      <td>-0.6</td>\n",
       "      <td>49.8</td>\n",
       "      <td>410718.63</td>\n",
       "    </tr>\n",
       "  </tbody>\n",
       "</table>\n",
       "</div>"
      ],
      "text/plain": [
       "      steam_appid          name release_date   developer publisher  \\\n",
       "1363       286440  Rover Rescue   2014-05-08  Pointscape  KISS ltd   \n",
       "\n",
       "      pub_nb_games  owner_median  recommended  english  price  has_a_website  \\\n",
       "1363            71      150000.0            0        1   3.99              1   \n",
       "\n",
       "      nb_review  owner_estimated  rating  popularity     revenu  \n",
       "1363         89         102937.0    -0.6        49.8  410718.63  "
      ]
     },
     "execution_count": 155,
     "metadata": {},
     "output_type": "execute_result"
    }
   ],
   "source": [
    "df_tmp[df_tmp['name'] == 'Rover Rescue']"
   ]
  },
  {
   "cell_type": "code",
   "execution_count": null,
   "id": "b3c1e01e-a603-43cb-a3f5-848cc891d7e9",
   "metadata": {},
   "outputs": [],
   "source": []
  },
  {
   "cell_type": "code",
   "execution_count": 144,
   "id": "b5f6d6d5-11f6-4d85-9392-c1070183ad98",
   "metadata": {},
   "outputs": [
    {
     "data": {
      "text/plain": [
       "(21547, 33)"
      ]
     },
     "execution_count": 144,
     "metadata": {},
     "output_type": "execute_result"
    }
   ],
   "source": [
    "tmp.shape"
   ]
  },
  {
   "cell_type": "code",
   "execution_count": 154,
   "id": "ec59873f-068a-4965-bca9-a8cad8972dda",
   "metadata": {},
   "outputs": [
    {
     "data": {
      "text/plain": [
       "Index(['steam_appid', 'name', 'top_5_tags', 'topic_0', 'topic_1', 'topic_2',\n",
       "       'topic_3', 'topic_4', 'topic_5', 'topic_6', 'topic_7', 'topic_8',\n",
       "       'topic_9', 'topic_10', 'topic_11', 'topic_12', 'topic_13', 'topic_14',\n",
       "       'topic_15', 'topic_16', 'topic_17', 'topic_18', 'topic_19', 'english',\n",
       "       'price', 'has_a_website', 'nb_review', 'owner_estimated', 'rating',\n",
       "       'popularity', 'score_descriptif', 'average_playtime',\n",
       "       'median_playtime'],\n",
       "      dtype='object')"
      ]
     },
     "execution_count": 154,
     "metadata": {},
     "output_type": "execute_result"
    }
   ],
   "source": [
    "tmp.columns"
   ]
  },
  {
   "cell_type": "code",
   "execution_count": 156,
   "id": "039d2fe1-f02b-4b5d-80ab-b92084538cb1",
   "metadata": {},
   "outputs": [
    {
     "data": {
      "text/html": [
       "<div>\n",
       "<style scoped>\n",
       "    .dataframe tbody tr th:only-of-type {\n",
       "        vertical-align: middle;\n",
       "    }\n",
       "\n",
       "    .dataframe tbody tr th {\n",
       "        vertical-align: top;\n",
       "    }\n",
       "\n",
       "    .dataframe thead th {\n",
       "        text-align: right;\n",
       "    }\n",
       "</style>\n",
       "<table border=\"1\" class=\"dataframe\">\n",
       "  <thead>\n",
       "    <tr style=\"text-align: right;\">\n",
       "      <th></th>\n",
       "      <th>steam_appid</th>\n",
       "      <th>name</th>\n",
       "      <th>top_5_tags</th>\n",
       "      <th>topic_0</th>\n",
       "      <th>topic_1</th>\n",
       "      <th>topic_2</th>\n",
       "      <th>topic_3</th>\n",
       "      <th>topic_4</th>\n",
       "      <th>topic_5</th>\n",
       "      <th>topic_6</th>\n",
       "      <th>...</th>\n",
       "      <th>english</th>\n",
       "      <th>price</th>\n",
       "      <th>has_a_website</th>\n",
       "      <th>nb_review</th>\n",
       "      <th>owner_estimated</th>\n",
       "      <th>rating</th>\n",
       "      <th>popularity</th>\n",
       "      <th>score_descriptif</th>\n",
       "      <th>average_playtime</th>\n",
       "      <th>median_playtime</th>\n",
       "    </tr>\n",
       "  </thead>\n",
       "  <tbody>\n",
       "  </tbody>\n",
       "</table>\n",
       "<p>0 rows × 33 columns</p>\n",
       "</div>"
      ],
      "text/plain": [
       "Empty DataFrame\n",
       "Columns: [steam_appid, name, top_5_tags, topic_0, topic_1, topic_2, topic_3, topic_4, topic_5, topic_6, topic_7, topic_8, topic_9, topic_10, topic_11, topic_12, topic_13, topic_14, topic_15, topic_16, topic_17, topic_18, topic_19, english, price, has_a_website, nb_review, owner_estimated, rating, popularity, score_descriptif, average_playtime, median_playtime]\n",
       "Index: []\n",
       "\n",
       "[0 rows x 33 columns]"
      ]
     },
     "execution_count": 156,
     "metadata": {},
     "output_type": "execute_result"
    }
   ],
   "source": [
    "tmp[tmp['owner_estimated'] == 102937.0]"
   ]
  },
  {
   "cell_type": "code",
   "execution_count": 64,
   "id": "8c614654-bfc9-43f9-b512-cd526b79bd3c",
   "metadata": {},
   "outputs": [],
   "source": [
    "a_tmp = a_df[['steam_appid','owner_median','release_date']]"
   ]
  },
  {
   "cell_type": "code",
   "execution_count": 65,
   "id": "79e1ab58-c558-46c3-9bfd-cf9e2eec45f4",
   "metadata": {},
   "outputs": [],
   "source": [
    "df_a = pd.merge(a_tmp, tmp, how=\"inner\", on=\"steam_appid\")"
   ]
  },
  {
   "cell_type": "code",
   "execution_count": 71,
   "id": "1c2b03a6-f903-491f-bc84-273ac2b2e45e",
   "metadata": {},
   "outputs": [],
   "source": [
    "b_tmp = b_df[['steam_appid','owner_median','release_date']]"
   ]
  },
  {
   "cell_type": "code",
   "execution_count": 72,
   "id": "3f442b08-1f1e-473a-9bcc-18c1035c6241",
   "metadata": {},
   "outputs": [],
   "source": [
    "df_b = pd.merge(b_tmp, tmp, how=\"inner\", on=\"steam_appid\")"
   ]
  },
  {
   "cell_type": "code",
   "execution_count": 88,
   "id": "e464aa59-2024-44cb-9ae6-127c11e0b8fa",
   "metadata": {},
   "outputs": [
    {
     "name": "stderr",
     "output_type": "stream",
     "text": [
      "/Users/mathieudbt/.pyenv/versions/3.8.12/envs/steamator/lib/python3.8/site-packages/pandas/core/frame.py:4906: SettingWithCopyWarning: \n",
      "A value is trying to be set on a copy of a slice from a DataFrame\n",
      "\n",
      "See the caveats in the documentation: https://pandas.pydata.org/pandas-docs/stable/user_guide/indexing.html#returning-a-view-versus-a-copy\n",
      "  return super().drop(\n"
     ]
    }
   ],
   "source": [
    "c_df.drop(c_df[c_df.price < 1].index, inplace=True)\n"
   ]
  },
  {
   "cell_type": "code",
   "execution_count": 89,
   "id": "a7b8aac0-21b3-4bfb-a66d-d3c51131af90",
   "metadata": {},
   "outputs": [],
   "source": [
    "c_tmp = c_df[['steam_appid','owner_median','release_date']]"
   ]
  },
  {
   "cell_type": "code",
   "execution_count": 90,
   "id": "ea91de9a-0770-44f3-be81-8f5718a4f97d",
   "metadata": {},
   "outputs": [],
   "source": [
    "df_c = pd.merge(c_tmp, tmp, how=\"inner\", on=\"steam_appid\")"
   ]
  },
  {
   "cell_type": "code",
   "execution_count": 93,
   "id": "137c7d8d-35e2-44d2-9a0f-28b1f64d52f9",
   "metadata": {},
   "outputs": [],
   "source": [
    "#df_c.to_csv(r'../raw_data/data_20k.csv', index = False)"
   ]
  },
  {
   "cell_type": "code",
   "execution_count": 83,
   "id": "65e897f4-e66b-457c-ad87-0f155a5ddb61",
   "metadata": {},
   "outputs": [],
   "source": [
    "#df_b.to_csv(r'../raw_data/data_50k.csv', index = False)"
   ]
  },
  {
   "cell_type": "code",
   "execution_count": 70,
   "id": "bc35666b-2034-4762-a8d4-3497e5ee14d5",
   "metadata": {},
   "outputs": [],
   "source": [
    "#df_a.to_csv(r'../raw_data/data_100k.csv', index = False)"
   ]
  },
  {
   "cell_type": "markdown",
   "id": "0e390803-299d-4a6d-8849-4f06fb3cb5c8",
   "metadata": {},
   "source": [
    "# Test Models"
   ]
  },
  {
   "cell_type": "code",
   "execution_count": 103,
   "id": "7d790a42-6d2d-4e78-bb5d-8ed965b9dce9",
   "metadata": {},
   "outputs": [
    {
     "data": {
      "text/plain": [
       "Index(['steam_appid', 'owner_median', 'release_date', 'name', 'top_5_tags',\n",
       "       'topic_0', 'topic_1', 'topic_2', 'topic_3', 'topic_4', 'topic_5',\n",
       "       'topic_6', 'topic_7', 'topic_8', 'topic_9', 'topic_10', 'topic_11',\n",
       "       'topic_12', 'topic_13', 'topic_14', 'topic_15', 'topic_16', 'topic_17',\n",
       "       'topic_18', 'topic_19', 'english', 'price', 'has_a_website',\n",
       "       'nb_review', 'owner_estimated', 'rating', 'popularity',\n",
       "       'score_descriptif', 'average_playtime', 'median_playtime'],\n",
       "      dtype='object')"
      ]
     },
     "execution_count": 103,
     "metadata": {},
     "output_type": "execute_result"
    }
   ],
   "source": [
    "df_a.columns"
   ]
  },
  {
   "cell_type": "code",
   "execution_count": 109,
   "id": "9a57812d-bd50-46ce-b5b4-83d3d4829e02",
   "metadata": {},
   "outputs": [],
   "source": [
    "X_a = df_a.drop(columns=['steam_appid','name','popularity','release_date','release_date','owner_median', 'owner_estimated','name', 'rating', 'nb_review','top_5_tags','score_descriptif', 'average_playtime', 'median_playtime'])"
   ]
  },
  {
   "cell_type": "code",
   "execution_count": 110,
   "id": "bd13f885-df5b-47ce-b443-78aee5c4a0d0",
   "metadata": {},
   "outputs": [],
   "source": [
    "y_a = df_a['owner_median']"
   ]
  },
  {
   "cell_type": "code",
   "execution_count": 111,
   "id": "c198fa1c-cbe3-4352-9027-c11cd185b811",
   "metadata": {},
   "outputs": [],
   "source": [
    "X_a_train, X_a_test, y_a_train, y_a_test = train_test_split(X_a, y_a, test_size=0.3, random_state=0)"
   ]
  },
  {
   "cell_type": "code",
   "execution_count": 112,
   "id": "7dbb3d9e-499c-445b-bca9-df46291bdcf9",
   "metadata": {},
   "outputs": [
    {
     "data": {
      "text/plain": [
       "Index(['topic_0', 'topic_1', 'topic_2', 'topic_3', 'topic_4', 'topic_5',\n",
       "       'topic_6', 'topic_7', 'topic_8', 'topic_9', 'topic_10', 'topic_11',\n",
       "       'topic_12', 'topic_13', 'topic_14', 'topic_15', 'topic_16', 'topic_17',\n",
       "       'topic_18', 'topic_19', 'english', 'price', 'has_a_website'],\n",
       "      dtype='object')"
      ]
     },
     "execution_count": 112,
     "metadata": {},
     "output_type": "execute_result"
    }
   ],
   "source": [
    "X_a.columns"
   ]
  },
  {
   "cell_type": "code",
   "execution_count": 114,
   "id": "83dbda3d-84b1-4f5c-9af8-709aeb87ba50",
   "metadata": {},
   "outputs": [
    {
     "data": {
      "application/vnd.jupyter.widget-view+json": {
       "model_id": "",
       "version_major": 2,
       "version_minor": 0
      },
      "text/plain": [
       "Optimization Progress:   0%|          | 0/250 [00:00<?, ?pipeline/s]"
      ]
     },
     "metadata": {},
     "output_type": "display_data"
    },
    {
     "name": "stdout",
     "output_type": "stream",
     "text": [
      "\n",
      "Generation 1 - Current best internal CV score: 0.06043812065642473\n",
      "\n",
      "Generation 2 - Current best internal CV score: 0.06215801636409768\n",
      "\n",
      "Generation 3 - Current best internal CV score: 0.06215801636409768\n",
      "\n",
      "Generation 4 - Current best internal CV score: 0.06215801636409768\n",
      "\n",
      "Best pipeline: ExtraTreesRegressor(PolynomialFeatures(LinearSVR(input_matrix, C=15.0, dual=True, epsilon=1.0, loss=squared_epsilon_insensitive, tol=0.1), degree=2, include_bias=False, interaction_only=False), bootstrap=True, max_features=0.45, min_samples_leaf=15, min_samples_split=6, n_estimators=100)\n",
      "0.06328767478286013\n"
     ]
    },
    {
     "name": "stderr",
     "output_type": "stream",
     "text": [
      "/Users/mathieudbt/.pyenv/versions/3.8.12/envs/steamator/lib/python3.8/site-packages/sklearn/base.py:445: UserWarning: X does not have valid feature names, but LinearSVR was fitted with feature names\n",
      "  warnings.warn(\n",
      "/Users/mathieudbt/.pyenv/versions/3.8.12/envs/steamator/lib/python3.8/site-packages/tpot/builtins/__init__.py:36: UserWarning: Warning: optional dependency `torch` is not available. - skipping import of NN models.\n",
      "  warnings.warn(\"Warning: optional dependency `torch` is not available. - skipping import of NN models.\")\n",
      "/Users/mathieudbt/.pyenv/versions/3.8.12/envs/steamator/lib/python3.8/site-packages/tpot/builtins/__init__.py:36: UserWarning: Warning: optional dependency `torch` is not available. - skipping import of NN models.\n",
      "  warnings.warn(\"Warning: optional dependency `torch` is not available. - skipping import of NN models.\")\n",
      "/Users/mathieudbt/.pyenv/versions/3.8.12/envs/steamator/lib/python3.8/site-packages/tpot/builtins/__init__.py:36: UserWarning: Warning: optional dependency `torch` is not available. - skipping import of NN models.\n",
      "  warnings.warn(\"Warning: optional dependency `torch` is not available. - skipping import of NN models.\")\n",
      "/Users/mathieudbt/.pyenv/versions/3.8.12/envs/steamator/lib/python3.8/site-packages/tpot/builtins/__init__.py:36: UserWarning: Warning: optional dependency `torch` is not available. - skipping import of NN models.\n",
      "  warnings.warn(\"Warning: optional dependency `torch` is not available. - skipping import of NN models.\")\n",
      "/Users/mathieudbt/.pyenv/versions/3.8.12/envs/steamator/lib/python3.8/site-packages/tpot/builtins/__init__.py:36: UserWarning: Warning: optional dependency `torch` is not available. - skipping import of NN models.\n",
      "  warnings.warn(\"Warning: optional dependency `torch` is not available. - skipping import of NN models.\")\n",
      "/Users/mathieudbt/.pyenv/versions/3.8.12/envs/steamator/lib/python3.8/site-packages/tpot/builtins/__init__.py:36: UserWarning: Warning: optional dependency `torch` is not available. - skipping import of NN models.\n",
      "  warnings.warn(\"Warning: optional dependency `torch` is not available. - skipping import of NN models.\")\n",
      "/Users/mathieudbt/.pyenv/versions/3.8.12/envs/steamator/lib/python3.8/site-packages/tpot/builtins/__init__.py:36: UserWarning: Warning: optional dependency `torch` is not available. - skipping import of NN models.\n",
      "  warnings.warn(\"Warning: optional dependency `torch` is not available. - skipping import of NN models.\")\n",
      "/Users/mathieudbt/.pyenv/versions/3.8.12/envs/steamator/lib/python3.8/site-packages/tpot/builtins/__init__.py:36: UserWarning: Warning: optional dependency `torch` is not available. - skipping import of NN models.\n",
      "  warnings.warn(\"Warning: optional dependency `torch` is not available. - skipping import of NN models.\")\n"
     ]
    }
   ],
   "source": [
    "# instanciate TPOTClassifier\n",
    "tpot = TPOTRegressor(generations=4, population_size=50, verbosity=2, scoring='r2', n_jobs=-1, cv=2)\n",
    "# process autoML with TPOT\n",
    "tpot.fit(X_a_train, y_a_train)\n",
    "\n",
    "# print score\n",
    "print(tpot.score(X_a_test, y_a_test))"
   ]
  },
  {
   "cell_type": "code",
   "execution_count": null,
   "id": "2ba87a30-44c4-44e2-b18f-5e2349d2b787",
   "metadata": {},
   "outputs": [],
   "source": []
  },
  {
   "cell_type": "code",
   "execution_count": 135,
   "id": "a4409528-921a-430f-8fe6-a89a81a1e166",
   "metadata": {},
   "outputs": [],
   "source": [
    "last_df = pd.read_csv('../raw_data/data_med3.csv')"
   ]
  },
  {
   "cell_type": "code",
   "execution_count": 143,
   "id": "90f2577c-74b7-4b8b-9d32-8e4916151d3b",
   "metadata": {},
   "outputs": [
    {
     "data": {
      "text/html": [
       "<div>\n",
       "<style scoped>\n",
       "    .dataframe tbody tr th:only-of-type {\n",
       "        vertical-align: middle;\n",
       "    }\n",
       "\n",
       "    .dataframe tbody tr th {\n",
       "        vertical-align: top;\n",
       "    }\n",
       "\n",
       "    .dataframe thead th {\n",
       "        text-align: right;\n",
       "    }\n",
       "</style>\n",
       "<table border=\"1\" class=\"dataframe\">\n",
       "  <thead>\n",
       "    <tr style=\"text-align: right;\">\n",
       "      <th></th>\n",
       "      <th>steam_appid</th>\n",
       "      <th>english</th>\n",
       "      <th>price</th>\n",
       "      <th>days_on_steam</th>\n",
       "      <th>developer</th>\n",
       "      <th>publisher</th>\n",
       "      <th>is_a_remake</th>\n",
       "      <th>has_a_website</th>\n",
       "      <th>owner_estimated</th>\n",
       "      <th>score_descriptif</th>\n",
       "      <th>ratio</th>\n",
       "      <th>nb_review</th>\n",
       "      <th>sells_per_days</th>\n",
       "      <th>nb_game_by_publisher</th>\n",
       "      <th>nb_game_by_dev</th>\n",
       "      <th>platforms</th>\n",
       "      <th>indé</th>\n",
       "      <th>top_5_tags</th>\n",
       "    </tr>\n",
       "  </thead>\n",
       "  <tbody>\n",
       "    <tr>\n",
       "      <th>0</th>\n",
       "      <td>402800</td>\n",
       "      <td>1</td>\n",
       "      <td>14.99</td>\n",
       "      <td>1115.0</td>\n",
       "      <td>Facepunch Studios</td>\n",
       "      <td>Facepunch Studios</td>\n",
       "      <td>1</td>\n",
       "      <td>1</td>\n",
       "      <td>8794.0</td>\n",
       "      <td>8</td>\n",
       "      <td>0.488372</td>\n",
       "      <td>43</td>\n",
       "      <td>7.886996</td>\n",
       "      <td>3</td>\n",
       "      <td>4</td>\n",
       "      <td>windows</td>\n",
       "      <td>0</td>\n",
       "      <td>simulation early_access vr sandbox voxel</td>\n",
       "    </tr>\n",
       "    <tr>\n",
       "      <th>1</th>\n",
       "      <td>602770</td>\n",
       "      <td>1</td>\n",
       "      <td>7.19</td>\n",
       "      <td>142.0</td>\n",
       "      <td>Facepunch Studios</td>\n",
       "      <td>Facepunch Studios</td>\n",
       "      <td>1</td>\n",
       "      <td>1</td>\n",
       "      <td>20000.0</td>\n",
       "      <td>5</td>\n",
       "      <td>0.872247</td>\n",
       "      <td>227</td>\n",
       "      <td>140.845070</td>\n",
       "      <td>3</td>\n",
       "      <td>4</td>\n",
       "      <td>windows</td>\n",
       "      <td>0</td>\n",
       "      <td>strategy turn_based_combat turn_based turn_bas...</td>\n",
       "    </tr>\n",
       "    <tr>\n",
       "      <th>2</th>\n",
       "      <td>1002</td>\n",
       "      <td>1</td>\n",
       "      <td>5.99</td>\n",
       "      <td>4949.0</td>\n",
       "      <td>Mark Healey</td>\n",
       "      <td>Mark Healey</td>\n",
       "      <td>1</td>\n",
       "      <td>1</td>\n",
       "      <td>22451.0</td>\n",
       "      <td>9</td>\n",
       "      <td>0.701754</td>\n",
       "      <td>57</td>\n",
       "      <td>4.536472</td>\n",
       "      <td>1</td>\n",
       "      <td>1</td>\n",
       "      <td>windows</td>\n",
       "      <td>0</td>\n",
       "      <td>fighting multiplayer 1980s realistic real_time...</td>\n",
       "    </tr>\n",
       "    <tr>\n",
       "      <th>3</th>\n",
       "      <td>690810</td>\n",
       "      <td>1</td>\n",
       "      <td>15.49</td>\n",
       "      <td>533.0</td>\n",
       "      <td>Tripwire Interactive</td>\n",
       "      <td>Tripwire Interactive</td>\n",
       "      <td>1</td>\n",
       "      <td>1</td>\n",
       "      <td>20000.0</td>\n",
       "      <td>4</td>\n",
       "      <td>0.627692</td>\n",
       "      <td>325</td>\n",
       "      <td>37.523452</td>\n",
       "      <td>11</td>\n",
       "      <td>5</td>\n",
       "      <td>windows</td>\n",
       "      <td>0</td>\n",
       "      <td>action gore violent vr horror</td>\n",
       "    </tr>\n",
       "    <tr>\n",
       "      <th>4</th>\n",
       "      <td>579040</td>\n",
       "      <td>1</td>\n",
       "      <td>0.00</td>\n",
       "      <td>805.0</td>\n",
       "      <td>Introversion Software</td>\n",
       "      <td>Introversion Software</td>\n",
       "      <td>1</td>\n",
       "      <td>1</td>\n",
       "      <td>1930.0</td>\n",
       "      <td>4</td>\n",
       "      <td>0.400000</td>\n",
       "      <td>10</td>\n",
       "      <td>2.397516</td>\n",
       "      <td>5</td>\n",
       "      <td>6</td>\n",
       "      <td>windows</td>\n",
       "      <td>0</td>\n",
       "      <td>strategy vr realistic real_time_with_pause rea...</td>\n",
       "    </tr>\n",
       "    <tr>\n",
       "      <th>...</th>\n",
       "      <td>...</td>\n",
       "      <td>...</td>\n",
       "      <td>...</td>\n",
       "      <td>...</td>\n",
       "      <td>...</td>\n",
       "      <td>...</td>\n",
       "      <td>...</td>\n",
       "      <td>...</td>\n",
       "      <td>...</td>\n",
       "      <td>...</td>\n",
       "      <td>...</td>\n",
       "      <td>...</td>\n",
       "      <td>...</td>\n",
       "      <td>...</td>\n",
       "      <td>...</td>\n",
       "      <td>...</td>\n",
       "      <td>...</td>\n",
       "      <td>...</td>\n",
       "    </tr>\n",
       "    <tr>\n",
       "      <th>21102</th>\n",
       "      <td>1048320</td>\n",
       "      <td>0</td>\n",
       "      <td>2.09</td>\n",
       "      <td>33.0</td>\n",
       "      <td>H.P.Y.S,LLC</td>\n",
       "      <td>H.P.Y.S,LLC</td>\n",
       "      <td>1</td>\n",
       "      <td>0</td>\n",
       "      <td>682.0</td>\n",
       "      <td>7</td>\n",
       "      <td>0.750000</td>\n",
       "      <td>4</td>\n",
       "      <td>20.666667</td>\n",
       "      <td>1</td>\n",
       "      <td>1</td>\n",
       "      <td>windows</td>\n",
       "      <td>0</td>\n",
       "      <td>adventure nudity sexual_content gore violent</td>\n",
       "    </tr>\n",
       "    <tr>\n",
       "      <th>21103</th>\n",
       "      <td>1048410</td>\n",
       "      <td>1</td>\n",
       "      <td>2.09</td>\n",
       "      <td>31.0</td>\n",
       "      <td>nemoBUS</td>\n",
       "      <td>nemoBUS</td>\n",
       "      <td>1</td>\n",
       "      <td>1</td>\n",
       "      <td>266.0</td>\n",
       "      <td>2</td>\n",
       "      <td>0.000000</td>\n",
       "      <td>2</td>\n",
       "      <td>8.580645</td>\n",
       "      <td>1</td>\n",
       "      <td>1</td>\n",
       "      <td>windows</td>\n",
       "      <td>0</td>\n",
       "      <td>1980s relaxing realistic real_time_with_pause ...</td>\n",
       "    </tr>\n",
       "    <tr>\n",
       "      <th>21104</th>\n",
       "      <td>1048470</td>\n",
       "      <td>1</td>\n",
       "      <td>2.09</td>\n",
       "      <td>34.0</td>\n",
       "      <td>LeeroyLin</td>\n",
       "      <td>LeeroyLin</td>\n",
       "      <td>1</td>\n",
       "      <td>0</td>\n",
       "      <td>1098.0</td>\n",
       "      <td>2</td>\n",
       "      <td>0.833333</td>\n",
       "      <td>6</td>\n",
       "      <td>32.294118</td>\n",
       "      <td>1</td>\n",
       "      <td>1</td>\n",
       "      <td>windows</td>\n",
       "      <td>0</td>\n",
       "      <td>casual strategy 1980s relaxing realistic</td>\n",
       "    </tr>\n",
       "    <tr>\n",
       "      <th>21105</th>\n",
       "      <td>1049230</td>\n",
       "      <td>1</td>\n",
       "      <td>2.09</td>\n",
       "      <td>34.0</td>\n",
       "      <td>Sole</td>\n",
       "      <td>Sole</td>\n",
       "      <td>1</td>\n",
       "      <td>0</td>\n",
       "      <td>266.0</td>\n",
       "      <td>4</td>\n",
       "      <td>0.500000</td>\n",
       "      <td>2</td>\n",
       "      <td>7.823529</td>\n",
       "      <td>1</td>\n",
       "      <td>1</td>\n",
       "      <td>windows</td>\n",
       "      <td>0</td>\n",
       "      <td>adventure 1980s relaxing realistic real_time_w...</td>\n",
       "    </tr>\n",
       "    <tr>\n",
       "      <th>21106</th>\n",
       "      <td>1049840</td>\n",
       "      <td>1</td>\n",
       "      <td>2.79</td>\n",
       "      <td>35.0</td>\n",
       "      <td>Salavat Kasimov</td>\n",
       "      <td>Sevite byte studio</td>\n",
       "      <td>1</td>\n",
       "      <td>0</td>\n",
       "      <td>266.0</td>\n",
       "      <td>2</td>\n",
       "      <td>0.500000</td>\n",
       "      <td>2</td>\n",
       "      <td>7.600000</td>\n",
       "      <td>1</td>\n",
       "      <td>1</td>\n",
       "      <td>windows</td>\n",
       "      <td>1</td>\n",
       "      <td>rpg early_access action adventure massively_mu...</td>\n",
       "    </tr>\n",
       "  </tbody>\n",
       "</table>\n",
       "<p>21107 rows × 18 columns</p>\n",
       "</div>"
      ],
      "text/plain": [
       "       steam_appid  english  price  days_on_steam              developer  \\\n",
       "0           402800        1  14.99         1115.0      Facepunch Studios   \n",
       "1           602770        1   7.19          142.0      Facepunch Studios   \n",
       "2             1002        1   5.99         4949.0            Mark Healey   \n",
       "3           690810        1  15.49          533.0   Tripwire Interactive   \n",
       "4           579040        1   0.00          805.0  Introversion Software   \n",
       "...            ...      ...    ...            ...                    ...   \n",
       "21102      1048320        0   2.09           33.0            H.P.Y.S,LLC   \n",
       "21103      1048410        1   2.09           31.0                nemoBUS   \n",
       "21104      1048470        1   2.09           34.0              LeeroyLin   \n",
       "21105      1049230        1   2.09           34.0                   Sole   \n",
       "21106      1049840        1   2.79           35.0        Salavat Kasimov   \n",
       "\n",
       "                   publisher  is_a_remake  has_a_website  owner_estimated  \\\n",
       "0          Facepunch Studios            1              1           8794.0   \n",
       "1          Facepunch Studios            1              1          20000.0   \n",
       "2                Mark Healey            1              1          22451.0   \n",
       "3       Tripwire Interactive            1              1          20000.0   \n",
       "4      Introversion Software            1              1           1930.0   \n",
       "...                      ...          ...            ...              ...   \n",
       "21102            H.P.Y.S,LLC            1              0            682.0   \n",
       "21103                nemoBUS            1              1            266.0   \n",
       "21104              LeeroyLin            1              0           1098.0   \n",
       "21105                   Sole            1              0            266.0   \n",
       "21106     Sevite byte studio            1              0            266.0   \n",
       "\n",
       "       score_descriptif     ratio  nb_review  sells_per_days  \\\n",
       "0                     8  0.488372         43        7.886996   \n",
       "1                     5  0.872247        227      140.845070   \n",
       "2                     9  0.701754         57        4.536472   \n",
       "3                     4  0.627692        325       37.523452   \n",
       "4                     4  0.400000         10        2.397516   \n",
       "...                 ...       ...        ...             ...   \n",
       "21102                 7  0.750000          4       20.666667   \n",
       "21103                 2  0.000000          2        8.580645   \n",
       "21104                 2  0.833333          6       32.294118   \n",
       "21105                 4  0.500000          2        7.823529   \n",
       "21106                 2  0.500000          2        7.600000   \n",
       "\n",
       "       nb_game_by_publisher  nb_game_by_dev platforms  indé  \\\n",
       "0                         3               4   windows     0   \n",
       "1                         3               4   windows     0   \n",
       "2                         1               1   windows     0   \n",
       "3                        11               5   windows     0   \n",
       "4                         5               6   windows     0   \n",
       "...                     ...             ...       ...   ...   \n",
       "21102                     1               1   windows     0   \n",
       "21103                     1               1   windows     0   \n",
       "21104                     1               1   windows     0   \n",
       "21105                     1               1   windows     0   \n",
       "21106                     1               1   windows     1   \n",
       "\n",
       "                                              top_5_tags  \n",
       "0               simulation early_access vr sandbox voxel  \n",
       "1      strategy turn_based_combat turn_based turn_bas...  \n",
       "2      fighting multiplayer 1980s realistic real_time...  \n",
       "3                          action gore violent vr horror  \n",
       "4      strategy vr realistic real_time_with_pause rea...  \n",
       "...                                                  ...  \n",
       "21102       adventure nudity sexual_content gore violent  \n",
       "21103  1980s relaxing realistic real_time_with_pause ...  \n",
       "21104           casual strategy 1980s relaxing realistic  \n",
       "21105  adventure 1980s relaxing realistic real_time_w...  \n",
       "21106  rpg early_access action adventure massively_mu...  \n",
       "\n",
       "[21107 rows x 18 columns]"
      ]
     },
     "execution_count": 143,
     "metadata": {},
     "output_type": "execute_result"
    }
   ],
   "source": [
    "last_df"
   ]
  },
  {
   "cell_type": "code",
   "execution_count": 142,
   "id": "07fb0105-99ea-440f-b606-cb1e067c08f0",
   "metadata": {},
   "outputs": [],
   "source": [
    "#last_df[last_df['name']=='%Counter%']"
   ]
  },
  {
   "cell_type": "code",
   "execution_count": 159,
   "id": "52eb5513-2bc4-4bf5-9217-649f971cec43",
   "metadata": {},
   "outputs": [],
   "source": [
    "dfx = df_tmp[['name', 'developer','owner_median']]"
   ]
  },
  {
   "cell_type": "code",
   "execution_count": 160,
   "id": "45d4475b-5209-4c64-8b86-3ce5b1fac7fe",
   "metadata": {},
   "outputs": [
    {
     "data": {
      "text/html": [
       "<div>\n",
       "<style scoped>\n",
       "    .dataframe tbody tr th:only-of-type {\n",
       "        vertical-align: middle;\n",
       "    }\n",
       "\n",
       "    .dataframe tbody tr th {\n",
       "        vertical-align: top;\n",
       "    }\n",
       "\n",
       "    .dataframe thead th {\n",
       "        text-align: right;\n",
       "    }\n",
       "</style>\n",
       "<table border=\"1\" class=\"dataframe\">\n",
       "  <thead>\n",
       "    <tr style=\"text-align: right;\">\n",
       "      <th></th>\n",
       "      <th>name</th>\n",
       "      <th>developer</th>\n",
       "      <th>owner_median</th>\n",
       "    </tr>\n",
       "  </thead>\n",
       "  <tbody>\n",
       "    <tr>\n",
       "      <th>0</th>\n",
       "      <td>Azada</td>\n",
       "      <td>Big Fish Games</td>\n",
       "      <td>10000.0</td>\n",
       "    </tr>\n",
       "    <tr>\n",
       "      <th>1</th>\n",
       "      <td>Professor Fizzwizzle and the Molten Mystery</td>\n",
       "      <td>Big Fish Games</td>\n",
       "      <td>10000.0</td>\n",
       "    </tr>\n",
       "    <tr>\n",
       "      <th>2</th>\n",
       "      <td>Hidden Expedition: Amazon</td>\n",
       "      <td>Big Fish Games</td>\n",
       "      <td>10000.0</td>\n",
       "    </tr>\n",
       "    <tr>\n",
       "      <th>3</th>\n",
       "      <td>Hidden Expedition: Everest</td>\n",
       "      <td>Big Fish Games</td>\n",
       "      <td>10000.0</td>\n",
       "    </tr>\n",
       "    <tr>\n",
       "      <th>4</th>\n",
       "      <td>Hidden Expedition: Titanic</td>\n",
       "      <td>Big Fish Games</td>\n",
       "      <td>10000.0</td>\n",
       "    </tr>\n",
       "    <tr>\n",
       "      <th>...</th>\n",
       "      <td>...</td>\n",
       "      <td>...</td>\n",
       "      <td>...</td>\n",
       "    </tr>\n",
       "    <tr>\n",
       "      <th>26794</th>\n",
       "      <td>Die, zombie sausage, die!</td>\n",
       "      <td>AuroraCorp</td>\n",
       "      <td>10000.0</td>\n",
       "    </tr>\n",
       "    <tr>\n",
       "      <th>26795</th>\n",
       "      <td>Grimshade</td>\n",
       "      <td>TALEROCK</td>\n",
       "      <td>10000.0</td>\n",
       "    </tr>\n",
       "    <tr>\n",
       "      <th>26796</th>\n",
       "      <td>ICED VR</td>\n",
       "      <td>Anea_Duo_Dev</td>\n",
       "      <td>10000.0</td>\n",
       "    </tr>\n",
       "    <tr>\n",
       "      <th>26797</th>\n",
       "      <td>Skyfall</td>\n",
       "      <td>AYE Technology</td>\n",
       "      <td>10000.0</td>\n",
       "    </tr>\n",
       "    <tr>\n",
       "      <th>26798</th>\n",
       "      <td>DUCATI - 90th Anniversary</td>\n",
       "      <td>Milestone S.r.l.</td>\n",
       "      <td>10000.0</td>\n",
       "    </tr>\n",
       "  </tbody>\n",
       "</table>\n",
       "<p>26799 rows × 3 columns</p>\n",
       "</div>"
      ],
      "text/plain": [
       "                                              name         developer  \\\n",
       "0                                            Azada    Big Fish Games   \n",
       "1      Professor Fizzwizzle and the Molten Mystery    Big Fish Games   \n",
       "2                        Hidden Expedition: Amazon    Big Fish Games   \n",
       "3                       Hidden Expedition: Everest    Big Fish Games   \n",
       "4                       Hidden Expedition: Titanic    Big Fish Games   \n",
       "...                                            ...               ...   \n",
       "26794                    Die, zombie sausage, die!        AuroraCorp   \n",
       "26795                                    Grimshade          TALEROCK   \n",
       "26796                                      ICED VR      Anea_Duo_Dev   \n",
       "26797                                      Skyfall    AYE Technology   \n",
       "26798                    DUCATI - 90th Anniversary  Milestone S.r.l.   \n",
       "\n",
       "       owner_median  \n",
       "0           10000.0  \n",
       "1           10000.0  \n",
       "2           10000.0  \n",
       "3           10000.0  \n",
       "4           10000.0  \n",
       "...             ...  \n",
       "26794       10000.0  \n",
       "26795       10000.0  \n",
       "26796       10000.0  \n",
       "26797       10000.0  \n",
       "26798       10000.0  \n",
       "\n",
       "[26799 rows x 3 columns]"
      ]
     },
     "execution_count": 160,
     "metadata": {},
     "output_type": "execute_result"
    }
   ],
   "source": [
    "df"
   ]
  },
  {
   "cell_type": "code",
   "execution_count": 2,
   "id": "814ea808-64d4-4fde-a664-9196da5bd1a2",
   "metadata": {},
   "outputs": [],
   "source": [
    "dff = pd.read_csv('../raw_data/data_final_final_final.csv')"
   ]
  },
  {
   "cell_type": "code",
   "execution_count": 3,
   "id": "276668a3-fef7-474a-b36b-2cd542259a34",
   "metadata": {},
   "outputs": [
    {
     "data": {
      "text/plain": [
       "steam_appid           int64\n",
       "english               int64\n",
       "price               float64\n",
       "days_on_steam       float64\n",
       "has_a_website         int64\n",
       "owner_estimated     float64\n",
       "score_descriptif      int64\n",
       "nb_review             int64\n",
       "nb_game_by_dev        int64\n",
       "top_5_tags           object\n",
       "followers             int64\n",
       "target              float64\n",
       "dtype: object"
      ]
     },
     "execution_count": 3,
     "metadata": {},
     "output_type": "execute_result"
    }
   ],
   "source": [
    "dff.dtypes"
   ]
  },
  {
   "cell_type": "code",
   "execution_count": null,
   "id": "8c9fe301-530b-49d0-8cb0-d65477e2b0ce",
   "metadata": {},
   "outputs": [],
   "source": []
  }
 ],
 "metadata": {
  "kernelspec": {
   "display_name": "Python 3 (ipykernel)",
   "language": "python",
   "name": "python3"
  },
  "language_info": {
   "codemirror_mode": {
    "name": "ipython",
    "version": 3
   },
   "file_extension": ".py",
   "mimetype": "text/x-python",
   "name": "python",
   "nbconvert_exporter": "python",
   "pygments_lexer": "ipython3",
   "version": "3.8.12"
  }
 },
 "nbformat": 4,
 "nbformat_minor": 5
}
