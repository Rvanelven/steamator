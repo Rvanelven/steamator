{
 "cells": [
  {
   "cell_type": "code",
   "execution_count": 1,
   "id": "264420c1-e153-4cf5-b1bb-612c55a1981f",
   "metadata": {},
   "outputs": [
    {
     "name": "stderr",
     "output_type": "stream",
     "text": [
      "/Users/mathieudbt/.pyenv/versions/3.8.12/envs/steamator/lib/python3.8/site-packages/tpot/builtins/__init__.py:36: UserWarning: Warning: optional dependency `torch` is not available. - skipping import of NN models.\n",
      "  warnings.warn(\"Warning: optional dependency `torch` is not available. - skipping import of NN models.\")\n"
     ]
    }
   ],
   "source": [
    "import pandas as pd\n",
    "import matplotlib.pyplot as plt\n",
    "from sklearn.model_selection import train_test_split\n",
    "from sklearn.model_selection import cross_validate\n",
    "import numpy as np\n",
    "from sklearn.model_selection import learning_curve\n",
    "from sklearn.model_selection import GridSearchCV\n",
    "from sklearn.model_selection import RandomizedSearchCV\n",
    "from scipy import stats\n",
    "from sklearn.impute import SimpleImputer\n",
    "from sklearn.preprocessing import StandardScaler\n",
    "from sklearn.preprocessing import OneHotEncoder\n",
    "from sklearn.compose import make_column_transformer, make_column_selector\n",
    "from sklearn.model_selection import cross_val_score\n",
    "from sklearn.model_selection import RandomizedSearchCV\n",
    "from scipy import stats\n",
    "import os\n",
    "from tpot import TPOTRegressor\n",
    "from sklearn.pipeline import make_pipeline\n",
    "from sklearn.pipeline import make_union\n",
    "from sklearn.compose import make_column_transformer\n",
    "from sklearn.linear_model import Ridge, Lasso, LinearRegression\n",
    "from sklearn.ensemble import *\n",
    "from sklearn.svm import *\n"
   ]
  },
  {
   "cell_type": "code",
   "execution_count": 2,
   "id": "2a545942-c6e6-4ec0-8704-dbab6044190a",
   "metadata": {},
   "outputs": [
    {
     "data": {
      "text/html": [
       "<div>\n",
       "<style scoped>\n",
       "    .dataframe tbody tr th:only-of-type {\n",
       "        vertical-align: middle;\n",
       "    }\n",
       "\n",
       "    .dataframe tbody tr th {\n",
       "        vertical-align: top;\n",
       "    }\n",
       "\n",
       "    .dataframe thead th {\n",
       "        text-align: right;\n",
       "    }\n",
       "</style>\n",
       "<table border=\"1\" class=\"dataframe\">\n",
       "  <thead>\n",
       "    <tr style=\"text-align: right;\">\n",
       "      <th></th>\n",
       "      <th>steam_appid</th>\n",
       "      <th>name</th>\n",
       "      <th>top_5_tags</th>\n",
       "      <th>topic_0</th>\n",
       "      <th>topic_1</th>\n",
       "      <th>topic_2</th>\n",
       "      <th>topic_3</th>\n",
       "      <th>topic_4</th>\n",
       "      <th>topic_5</th>\n",
       "      <th>topic_6</th>\n",
       "      <th>...</th>\n",
       "      <th>english</th>\n",
       "      <th>price</th>\n",
       "      <th>has_a_website</th>\n",
       "      <th>nb_review</th>\n",
       "      <th>owner_estimated</th>\n",
       "      <th>rating</th>\n",
       "      <th>popularity</th>\n",
       "      <th>score_descriptif</th>\n",
       "      <th>average_playtime</th>\n",
       "      <th>median_playtime</th>\n",
       "    </tr>\n",
       "  </thead>\n",
       "  <tbody>\n",
       "    <tr>\n",
       "      <th>0</th>\n",
       "      <td>1002</td>\n",
       "      <td>Rag Doll Kung Fu</td>\n",
       "      <td>fighting multiplayer 1980s realistic real_time...</td>\n",
       "      <td>0.016212</td>\n",
       "      <td>0.016212</td>\n",
       "      <td>0.016212</td>\n",
       "      <td>0.016212</td>\n",
       "      <td>0.401611</td>\n",
       "      <td>0.016212</td>\n",
       "      <td>0.016212</td>\n",
       "      <td>...</td>\n",
       "      <td>1</td>\n",
       "      <td>5.99</td>\n",
       "      <td>1</td>\n",
       "      <td>57</td>\n",
       "      <td>22451.0</td>\n",
       "      <td>29.800000</td>\n",
       "      <td>45.100000</td>\n",
       "      <td>9</td>\n",
       "      <td>0</td>\n",
       "      <td>0</td>\n",
       "    </tr>\n",
       "    <tr>\n",
       "      <th>1</th>\n",
       "      <td>2710</td>\n",
       "      <td>Act of War: Direct Action</td>\n",
       "      <td>action strategy rts 1980s relaxing</td>\n",
       "      <td>0.016444</td>\n",
       "      <td>0.016444</td>\n",
       "      <td>0.016444</td>\n",
       "      <td>0.016444</td>\n",
       "      <td>0.016444</td>\n",
       "      <td>0.016444</td>\n",
       "      <td>0.016444</td>\n",
       "      <td>...</td>\n",
       "      <td>1</td>\n",
       "      <td>1.99</td>\n",
       "      <td>0</td>\n",
       "      <td>213</td>\n",
       "      <td>29159.0</td>\n",
       "      <td>1522.087755</td>\n",
       "      <td>1924.966327</td>\n",
       "      <td>4</td>\n",
       "      <td>0</td>\n",
       "      <td>0</td>\n",
       "    </tr>\n",
       "  </tbody>\n",
       "</table>\n",
       "<p>2 rows × 33 columns</p>\n",
       "</div>"
      ],
      "text/plain": [
       "   steam_appid                       name  \\\n",
       "0         1002           Rag Doll Kung Fu   \n",
       "1         2710  Act of War: Direct Action   \n",
       "\n",
       "                                          top_5_tags   topic_0   topic_1  \\\n",
       "0  fighting multiplayer 1980s realistic real_time...  0.016212  0.016212   \n",
       "1                 action strategy rts 1980s relaxing  0.016444  0.016444   \n",
       "\n",
       "    topic_2   topic_3   topic_4   topic_5   topic_6  ...  english  price  \\\n",
       "0  0.016212  0.016212  0.401611  0.016212  0.016212  ...        1   5.99   \n",
       "1  0.016444  0.016444  0.016444  0.016444  0.016444  ...        1   1.99   \n",
       "\n",
       "   has_a_website  nb_review  owner_estimated       rating   popularity  \\\n",
       "0              1         57          22451.0    29.800000    45.100000   \n",
       "1              0        213          29159.0  1522.087755  1924.966327   \n",
       "\n",
       "   score_descriptif  average_playtime  median_playtime  \n",
       "0                 9                 0                0  \n",
       "1                 4                 0                0  \n",
       "\n",
       "[2 rows x 33 columns]"
      ]
     },
     "execution_count": 2,
     "metadata": {},
     "output_type": "execute_result"
    }
   ],
   "source": [
    "dfe_tmp = pd.read_csv('../raw_data/data_final_indé_big.csv')\n",
    "dfe_tmp.head(2)"
   ]
  },
  {
   "cell_type": "code",
   "execution_count": 8,
   "id": "212fafbe-c083-4b43-b52a-09b97d156e90",
   "metadata": {},
   "outputs": [
    {
     "data": {
      "text/plain": [
       "(1515,)"
      ]
     },
     "execution_count": 8,
     "metadata": {},
     "output_type": "execute_result"
    }
   ],
   "source": [
    "dfe_tmp['price'][dfe_tmp['price'] == 0].shape"
   ]
  },
  {
   "cell_type": "code",
   "execution_count": 9,
   "id": "0642e16d-1663-4a62-a8ca-d05cb679385d",
   "metadata": {},
   "outputs": [
    {
     "data": {
      "text/plain": [
       "(4135,)"
      ]
     },
     "execution_count": 9,
     "metadata": {},
     "output_type": "execute_result"
    }
   ],
   "source": [
    "dfe_tmp['price'][dfe_tmp['price'] <= 1].shape"
   ]
  },
  {
   "cell_type": "code",
   "execution_count": 10,
   "id": "877e2d80-2896-4602-b451-3d37d0e4dd25",
   "metadata": {},
   "outputs": [
    {
     "data": {
      "text/plain": [
       "(6483,)"
      ]
     },
     "execution_count": 10,
     "metadata": {},
     "output_type": "execute_result"
    }
   ],
   "source": [
    "dfe_tmp['price'][dfe_tmp['price'] <= 2].shape"
   ]
  },
  {
   "cell_type": "code",
   "execution_count": 11,
   "id": "3403cb2c-4c1a-4e1e-b414-1d4fbdd3f783",
   "metadata": {},
   "outputs": [
    {
     "data": {
      "text/plain": [
       "(8780,)"
      ]
     },
     "execution_count": 11,
     "metadata": {},
     "output_type": "execute_result"
    }
   ],
   "source": [
    "dfe_tmp['price'][dfe_tmp['price'] <= 3].shape"
   ]
  },
  {
   "cell_type": "markdown",
   "id": "9bd71215-72ce-4e6b-8197-b756b51b4221",
   "metadata": {},
   "source": [
    "_____"
   ]
  },
  {
   "cell_type": "code",
   "execution_count": 3,
   "id": "824f569d-377b-4780-9378-ebb19ec52e33",
   "metadata": {},
   "outputs": [
    {
     "data": {
      "text/plain": [
       "Index(['steam_appid', 'name', 'top_5_tags', 'topic_0', 'topic_1', 'topic_2',\n",
       "       'topic_3', 'topic_4', 'topic_5', 'topic_6', 'topic_7', 'topic_8',\n",
       "       'topic_9', 'topic_10', 'topic_11', 'topic_12', 'topic_13', 'topic_14',\n",
       "       'topic_15', 'topic_16', 'topic_17', 'topic_18', 'topic_19', 'english',\n",
       "       'price', 'has_a_website', 'nb_review', 'owner_estimated', 'rating',\n",
       "       'popularity', 'score_descriptif', 'average_playtime',\n",
       "       'median_playtime'],\n",
       "      dtype='object')"
      ]
     },
     "execution_count": 3,
     "metadata": {},
     "output_type": "execute_result"
    }
   ],
   "source": [
    "dfe_tmp.columns"
   ]
  },
  {
   "cell_type": "code",
   "execution_count": 4,
   "id": "417f3be4-7fe2-4a41-a5d9-8eb4024cab5d",
   "metadata": {},
   "outputs": [],
   "source": [
    "X = dfe_tmp.drop(columns=['steam_appid', 'top_5_tags', 'owner_estimated','name', 'rating', 'popularity', 'nb_review','average_playtime', 'median_playtime'])"
   ]
  },
  {
   "cell_type": "code",
   "execution_count": 5,
   "id": "1153d21f-a15e-4a35-8f4a-d81eea7ebd43",
   "metadata": {},
   "outputs": [
    {
     "data": {
      "text/plain": [
       "Index(['topic_0', 'topic_1', 'topic_2', 'topic_3', 'topic_4', 'topic_5',\n",
       "       'topic_6', 'topic_7', 'topic_8', 'topic_9', 'topic_10', 'topic_11',\n",
       "       'topic_12', 'topic_13', 'topic_14', 'topic_15', 'topic_16', 'topic_17',\n",
       "       'topic_18', 'topic_19', 'english', 'price', 'has_a_website',\n",
       "       'score_descriptif'],\n",
       "      dtype='object')"
      ]
     },
     "execution_count": 5,
     "metadata": {},
     "output_type": "execute_result"
    }
   ],
   "source": [
    "X.columns"
   ]
  },
  {
   "cell_type": "code",
   "execution_count": 6,
   "id": "12f032ef-49b0-4763-afb2-49f68932a709",
   "metadata": {},
   "outputs": [
    {
     "data": {
      "text/plain": [
       "(21547, 24)"
      ]
     },
     "execution_count": 6,
     "metadata": {},
     "output_type": "execute_result"
    }
   ],
   "source": [
    "X.shape"
   ]
  },
  {
   "cell_type": "code",
   "execution_count": 7,
   "id": "e80cc238-2fc4-4c1d-bcf0-51ad80033608",
   "metadata": {},
   "outputs": [],
   "source": [
    "y = dfe_tmp['owner_estimated']"
   ]
  },
  {
   "cell_type": "code",
   "execution_count": 8,
   "id": "68f1d80c-f170-45af-8ce1-e5316040be63",
   "metadata": {},
   "outputs": [
    {
     "data": {
      "text/plain": [
       "(21547,)"
      ]
     },
     "execution_count": 8,
     "metadata": {},
     "output_type": "execute_result"
    }
   ],
   "source": [
    "y.shape"
   ]
  },
  {
   "cell_type": "code",
   "execution_count": 9,
   "id": "8c7fdd6a-8486-400f-8af8-52edd5097563",
   "metadata": {},
   "outputs": [],
   "source": [
    "X_train, X_test, y_train, y_test = train_test_split(X,y,test_size = 0.3, random_state=0)"
   ]
  },
  {
   "cell_type": "code",
   "execution_count": 10,
   "id": "d31b3843-d0aa-415a-83f7-57d3d9c127a5",
   "metadata": {},
   "outputs": [],
   "source": [
    "num_transformer = make_pipeline(SimpleImputer(), StandardScaler())\n",
    "num_col = make_column_selector(dtype_include=['float64','int64'])\n",
    "\n",
    "cat_transformer = OneHotEncoder()\n",
    "cat_col = make_column_selector(dtype_include=['object','bool'])\n",
    "\n",
    "preproc_basic = make_column_transformer(\n",
    "    (num_transformer, num_col),\n",
    "    (cat_transformer, cat_col))"
   ]
  },
  {
   "cell_type": "code",
   "execution_count": 11,
   "id": "67654809-9b3a-48bf-b562-a6e00742d1f5",
   "metadata": {},
   "outputs": [],
   "source": [
    "pipe = make_pipeline(preproc_basic, Ridge())"
   ]
  },
  {
   "cell_type": "code",
   "execution_count": 12,
   "id": "66bb24f7-99bb-4c6d-82b4-53477578de8b",
   "metadata": {},
   "outputs": [
    {
     "data": {
      "text/plain": [
       "0.1292074167661127"
      ]
     },
     "execution_count": 12,
     "metadata": {},
     "output_type": "execute_result"
    }
   ],
   "source": [
    "pipe.fit(X_train,y_train)\n",
    "\n",
    "# Make predictions\n",
    "pipe.predict(X_test)\n",
    "\n",
    "# Score model\n",
    "pipe.score(X_test,y_test)\n"
   ]
  },
  {
   "cell_type": "markdown",
   "id": "270d7b15-43d8-4389-94e6-a90a69b2e2c3",
   "metadata": {
    "tags": []
   },
   "source": [
    "# TPOT AUTO ML"
   ]
  },
  {
   "cell_type": "code",
   "execution_count": 14,
   "id": "b755ac61-2b0b-43eb-a23b-9f96c2430c5f",
   "metadata": {},
   "outputs": [
    {
     "data": {
      "application/vnd.jupyter.widget-view+json": {
       "model_id": "985312a8c2fe49318ad83c21519d4793",
       "version_major": 2,
       "version_minor": 0
      },
      "text/plain": [
       "Optimization Progress:   0%|          | 0/250 [00:00<?, ?pipeline/s]"
      ]
     },
     "metadata": {},
     "output_type": "display_data"
    },
    {
     "name": "stdout",
     "output_type": "stream",
     "text": [
      "\n",
      "Generation 1 - Current best internal CV score: 0.20301447587596172\n",
      "\n",
      "Generation 2 - Current best internal CV score: 0.20301447587596172\n",
      "\n",
      "Generation 3 - Current best internal CV score: 0.2060721435640006\n",
      "\n",
      "Generation 4 - Current best internal CV score: 0.20608806925564804\n",
      "\n",
      "Best pipeline: RandomForestRegressor(PolynomialFeatures(input_matrix, degree=2, include_bias=False, interaction_only=False), bootstrap=True, max_features=0.6000000000000001, min_samples_leaf=18, min_samples_split=4, n_estimators=100)\n",
      "0.20404347960702407\n"
     ]
    }
   ],
   "source": [
    "# instanciate TPOTClassifier\n",
    "tpot = TPOTRegressor(generations=4, population_size=50, verbosity=2, scoring='r2', n_jobs=-1, cv=2)\n",
    "# process autoML with TPOT\n",
    "tpot.fit(X_train, y_train)\n",
    "\n",
    "# print score\n",
    "print(tpot.score(X_test, y_test))"
   ]
  },
  {
   "cell_type": "markdown",
   "id": "e2e94f12-8360-4841-bf6e-098b17233fac",
   "metadata": {
    "tags": []
   },
   "source": [
    "# RandomForestRegressor"
   ]
  },
  {
   "cell_type": "code",
   "execution_count": 15,
   "id": "958495fd-654c-401a-87ce-2a502966892b",
   "metadata": {},
   "outputs": [
    {
     "data": {
      "text/plain": [
       "Index(['topic_0', 'topic_1', 'topic_2', 'topic_3', 'topic_4', 'topic_5',\n",
       "       'topic_6', 'topic_7', 'topic_8', 'topic_9', 'topic_10', 'topic_11',\n",
       "       'topic_12', 'topic_13', 'topic_14', 'topic_15', 'topic_16', 'topic_17',\n",
       "       'topic_18', 'topic_19', 'english', 'price', 'has_a_website',\n",
       "       'score_descriptif'],\n",
       "      dtype='object')"
      ]
     },
     "execution_count": 15,
     "metadata": {},
     "output_type": "execute_result"
    }
   ],
   "source": [
    "X_train.columns"
   ]
  },
  {
   "cell_type": "code",
   "execution_count": 16,
   "id": "8842325c-b689-4152-a9ed-8cba918a13cf",
   "metadata": {},
   "outputs": [
    {
     "name": "stdout",
     "output_type": "stream",
     "text": [
      "0.20257635320348588\n"
     ]
    }
   ],
   "source": [
    "forest = RandomForestRegressor(\n",
    "                               bootstrap=True, \n",
    "                               max_features=0.4, \n",
    "                               min_samples_leaf=14, \n",
    "                               n_estimators=100,\n",
    "                               min_samples_split=14)\n",
    "model = forest\n",
    "\n",
    "model.fit(X_train, y_train)\n",
    "\n",
    "print(model.score(X_test,y_test))"
   ]
  },
  {
   "cell_type": "code",
   "execution_count": null,
   "id": "c4061ab6-ec9d-4443-a306-26cec1d90ce7",
   "metadata": {},
   "outputs": [],
   "source": []
  }
 ],
 "metadata": {
  "kernelspec": {
   "display_name": "Python 3 (ipykernel)",
   "language": "python",
   "name": "python3"
  },
  "language_info": {
   "codemirror_mode": {
    "name": "ipython",
    "version": 3
   },
   "file_extension": ".py",
   "mimetype": "text/x-python",
   "name": "python",
   "nbconvert_exporter": "python",
   "pygments_lexer": "ipython3",
   "version": "3.8.12"
  }
 },
 "nbformat": 4,
 "nbformat_minor": 5
}
