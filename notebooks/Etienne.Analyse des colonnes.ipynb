{
 "cells": [
  {
   "cell_type": "markdown",
   "id": "1858b6ac",
   "metadata": {
    "heading_collapsed": true
   },
   "source": [
    "# Prework"
   ]
  },
  {
   "cell_type": "markdown",
   "id": "4ea5ddbe",
   "metadata": {
    "hidden": true
   },
   "source": [
    "Import"
   ]
  },
  {
   "cell_type": "code",
   "execution_count": 1,
   "id": "55023d38",
   "metadata": {
    "hidden": true
   },
   "outputs": [],
   "source": [
    "import pandas as pd\n",
    "import matplotlib.pyplot as plt"
   ]
  },
  {
   "cell_type": "markdown",
   "id": "92dce1d2",
   "metadata": {
    "hidden": true
   },
   "source": [
    "Chargeons le dataframe"
   ]
  },
  {
   "cell_type": "code",
   "execution_count": 2,
   "id": "9722fc4b",
   "metadata": {
    "hidden": true
   },
   "outputs": [],
   "source": [
    "data = pd.read_csv('../raw_data/data_full.csv')"
   ]
  },
  {
   "cell_type": "code",
   "execution_count": 3,
   "id": "06f2dc47",
   "metadata": {
    "hidden": true
   },
   "outputs": [
    {
     "data": {
      "text/html": [
       "<div>\n",
       "<style scoped>\n",
       "    .dataframe tbody tr th:only-of-type {\n",
       "        vertical-align: middle;\n",
       "    }\n",
       "\n",
       "    .dataframe tbody tr th {\n",
       "        vertical-align: top;\n",
       "    }\n",
       "\n",
       "    .dataframe thead th {\n",
       "        text-align: right;\n",
       "    }\n",
       "</style>\n",
       "<table border=\"1\" class=\"dataframe\">\n",
       "  <thead>\n",
       "    <tr style=\"text-align: right;\">\n",
       "      <th></th>\n",
       "      <th>steam_appid</th>\n",
       "      <th>name</th>\n",
       "      <th>release_date</th>\n",
       "      <th>english</th>\n",
       "      <th>developer</th>\n",
       "      <th>publisher</th>\n",
       "      <th>platforms</th>\n",
       "      <th>required_age</th>\n",
       "      <th>categories</th>\n",
       "      <th>genres</th>\n",
       "      <th>...</th>\n",
       "      <th>warhammer_40k</th>\n",
       "      <th>web_publishing</th>\n",
       "      <th>werewolves</th>\n",
       "      <th>western</th>\n",
       "      <th>word_game</th>\n",
       "      <th>world_war_i</th>\n",
       "      <th>world_war_ii</th>\n",
       "      <th>wrestling</th>\n",
       "      <th>zombies</th>\n",
       "      <th>e_sports</th>\n",
       "    </tr>\n",
       "  </thead>\n",
       "  <tbody>\n",
       "    <tr>\n",
       "      <th>0</th>\n",
       "      <td>10</td>\n",
       "      <td>Counter-Strike</td>\n",
       "      <td>2000-11-01</td>\n",
       "      <td>1</td>\n",
       "      <td>Valve</td>\n",
       "      <td>Valve</td>\n",
       "      <td>windows;mac;linux</td>\n",
       "      <td>0</td>\n",
       "      <td>Multi-player;Online Multi-Player;Local Multi-P...</td>\n",
       "      <td>Action</td>\n",
       "      <td>...</td>\n",
       "      <td>0</td>\n",
       "      <td>0</td>\n",
       "      <td>0</td>\n",
       "      <td>0</td>\n",
       "      <td>0</td>\n",
       "      <td>0</td>\n",
       "      <td>0</td>\n",
       "      <td>0</td>\n",
       "      <td>0</td>\n",
       "      <td>550</td>\n",
       "    </tr>\n",
       "    <tr>\n",
       "      <th>1</th>\n",
       "      <td>30</td>\n",
       "      <td>Day of Defeat</td>\n",
       "      <td>2003-05-01</td>\n",
       "      <td>1</td>\n",
       "      <td>Valve</td>\n",
       "      <td>Valve</td>\n",
       "      <td>windows;mac;linux</td>\n",
       "      <td>0</td>\n",
       "      <td>Multi-player;Valve Anti-Cheat enabled</td>\n",
       "      <td>Action</td>\n",
       "      <td>...</td>\n",
       "      <td>0</td>\n",
       "      <td>0</td>\n",
       "      <td>0</td>\n",
       "      <td>0</td>\n",
       "      <td>0</td>\n",
       "      <td>5</td>\n",
       "      <td>122</td>\n",
       "      <td>0</td>\n",
       "      <td>0</td>\n",
       "      <td>0</td>\n",
       "    </tr>\n",
       "    <tr>\n",
       "      <th>2</th>\n",
       "      <td>50</td>\n",
       "      <td>Half-Life: Opposing Force</td>\n",
       "      <td>1999-11-01</td>\n",
       "      <td>1</td>\n",
       "      <td>Gearbox Software</td>\n",
       "      <td>Valve</td>\n",
       "      <td>windows;mac;linux</td>\n",
       "      <td>0</td>\n",
       "      <td>Single-player;Multi-player;Valve Anti-Cheat en...</td>\n",
       "      <td>Action</td>\n",
       "      <td>...</td>\n",
       "      <td>0</td>\n",
       "      <td>0</td>\n",
       "      <td>0</td>\n",
       "      <td>0</td>\n",
       "      <td>0</td>\n",
       "      <td>0</td>\n",
       "      <td>0</td>\n",
       "      <td>0</td>\n",
       "      <td>0</td>\n",
       "      <td>0</td>\n",
       "    </tr>\n",
       "  </tbody>\n",
       "</table>\n",
       "<p>3 rows × 404 columns</p>\n",
       "</div>"
      ],
      "text/plain": [
       "   steam_appid                       name release_date  english  \\\n",
       "0           10             Counter-Strike   2000-11-01        1   \n",
       "1           30              Day of Defeat   2003-05-01        1   \n",
       "2           50  Half-Life: Opposing Force   1999-11-01        1   \n",
       "\n",
       "          developer publisher          platforms  required_age  \\\n",
       "0             Valve     Valve  windows;mac;linux             0   \n",
       "1             Valve     Valve  windows;mac;linux             0   \n",
       "2  Gearbox Software     Valve  windows;mac;linux             0   \n",
       "\n",
       "                                          categories  genres  ...  \\\n",
       "0  Multi-player;Online Multi-Player;Local Multi-P...  Action  ...   \n",
       "1              Multi-player;Valve Anti-Cheat enabled  Action  ...   \n",
       "2  Single-player;Multi-player;Valve Anti-Cheat en...  Action  ...   \n",
       "\n",
       "  warhammer_40k  web_publishing  werewolves  western  word_game  world_war_i  \\\n",
       "0             0               0           0        0          0            0   \n",
       "1             0               0           0        0          0            5   \n",
       "2             0               0           0        0          0            0   \n",
       "\n",
       "  world_war_ii  wrestling zombies e_sports  \n",
       "0            0          0       0      550  \n",
       "1          122          0       0        0  \n",
       "2            0          0       0        0  \n",
       "\n",
       "[3 rows x 404 columns]"
      ]
     },
     "execution_count": 3,
     "metadata": {},
     "output_type": "execute_result"
    }
   ],
   "source": [
    "data.head(3)"
   ]
  },
  {
   "cell_type": "markdown",
   "id": "0d2b1431",
   "metadata": {
    "heading_collapsed": true
   },
   "source": [
    "# Retrait des colonnes non pertinentes"
   ]
  },
  {
   "cell_type": "markdown",
   "id": "e449d28f",
   "metadata": {
    "hidden": true
   },
   "source": [
    "Les colonnes de requirements sont abandonnées car peu pertinantes dans l'analyse du prix et des owners."
   ]
  },
  {
   "cell_type": "code",
   "execution_count": 4,
   "id": "347f08f1",
   "metadata": {
    "hidden": true
   },
   "outputs": [],
   "source": [
    "data.drop(columns=['pc_requirements', 'mac_requirements', 'linux_requirements', 'minimum', 'recommended'], inplace=True)"
   ]
  },
  {
   "cell_type": "markdown",
   "id": "3e108e60",
   "metadata": {
    "hidden": true
   },
   "source": [
    "De même les colonnes de support sont peu pertinantes pour nous."
   ]
  },
  {
   "cell_type": "code",
   "execution_count": 5,
   "id": "a92404ac",
   "metadata": {
    "hidden": true,
    "scrolled": true
   },
   "outputs": [],
   "source": [
    "data.drop(columns=['support_email', 'support_url'], inplace=True)"
   ]
  },
  {
   "cell_type": "markdown",
   "id": "d588f981",
   "metadata": {
    "hidden": true
   },
   "source": [
    "La colonne \"movies\" serait un peu trop complexe à analyser pour le moment, puisque qu'elle comprend des vidéos, et est très incomplète. "
   ]
  },
  {
   "cell_type": "code",
   "execution_count": 6,
   "id": "5835cc05",
   "metadata": {
    "hidden": true
   },
   "outputs": [],
   "source": [
    "data.drop(columns=['movies'], inplace=True)"
   ]
  },
  {
   "cell_type": "markdown",
   "id": "ae6b901d",
   "metadata": {
    "hidden": true
   },
   "source": [
    "Les colonnes concernant les reviews et le temps de jeu, bien qu'intéressantes, ne seront pas disponibles pour des jeux qui ne sont pas encore sur le marché. C'est pourquoi nous ne les prendront pas en compte pour notre modèle"
   ]
  },
  {
   "cell_type": "code",
   "execution_count": 7,
   "id": "47af258c",
   "metadata": {
    "hidden": true
   },
   "outputs": [],
   "source": [
    "data.drop(columns=['positive_ratings', 'negative_ratings', 'average_playtime', 'median_playtime'], inplace=True)"
   ]
  },
  {
   "cell_type": "markdown",
   "id": "985d5bf7",
   "metadata": {
    "hidden": true
   },
   "source": [
    "La colonne \"age\" semble très incomplète. C'est pourquoi nous ne la prendront pas en compte."
   ]
  },
  {
   "cell_type": "code",
   "execution_count": 8,
   "id": "8c881164",
   "metadata": {
    "hidden": true
   },
   "outputs": [
    {
     "data": {
      "text/plain": [
       "0     26284\n",
       "18      307\n",
       "16      187\n",
       "12       67\n",
       "7        12\n",
       "3        11\n",
       "Name: required_age, dtype: int64"
      ]
     },
     "execution_count": 8,
     "metadata": {},
     "output_type": "execute_result"
    }
   ],
   "source": [
    "data['required_age'].value_counts()"
   ]
  },
  {
   "cell_type": "code",
   "execution_count": 9,
   "id": "522ad8af",
   "metadata": {
    "hidden": true
   },
   "outputs": [],
   "source": [
    "data.drop(columns=['required_age'], inplace=True)"
   ]
  },
  {
   "cell_type": "markdown",
   "id": "c4def1a8",
   "metadata": {
    "hidden": true
   },
   "source": [
    "La colonne 'id' n'est plus utile à présent"
   ]
  },
  {
   "cell_type": "code",
   "execution_count": 10,
   "id": "386414c9",
   "metadata": {
    "hidden": true
   },
   "outputs": [],
   "source": [
    "data.drop(columns=['steam_appid'], inplace=True)"
   ]
  },
  {
   "cell_type": "markdown",
   "id": "6844aa04",
   "metadata": {
    "heading_collapsed": true
   },
   "source": [
    "# Analyse des colonnes restantes"
   ]
  },
  {
   "cell_type": "markdown",
   "id": "9748117b",
   "metadata": {
    "hidden": true
   },
   "source": [
    "Il n'y a presque plus de valeurs manquantes et/ou nulles. (à l'exception de la colonne 'website')"
   ]
  },
  {
   "cell_type": "code",
   "execution_count": 11,
   "id": "45e4a445",
   "metadata": {
    "hidden": true
   },
   "outputs": [
    {
     "name": "stdout",
     "output_type": "stream",
     "text": [
      "name , 0\n",
      "release_date , 0\n",
      "english , 0\n",
      "developer , 0\n",
      "publisher , 0\n",
      "platforms , 0\n",
      "categories , 0\n",
      "genres , 0\n",
      "steamspy_tags , 0\n",
      "achievements , 0\n",
      "owners , 0\n",
      "price , 0\n",
      "detailed_description , 0\n",
      "about_the_game , 0\n",
      "short_description , 0\n",
      "header_image , 0\n",
      "screenshots , 0\n",
      "background , 0\n",
      "website , 8988\n",
      "1980s , 0\n",
      "1990s , 0\n",
      "2.5d , 0\n",
      "2d , 0\n",
      "2d_fighter , 0\n",
      "360_video , 0\n",
      "3d , 0\n",
      "3d_platformer , 0\n",
      "3d_vision , 0\n",
      "4_player_local , 0\n",
      "4x , 0\n",
      "6dof , 0\n",
      "atv , 0\n",
      "abstract , 0\n",
      "action , 0\n",
      "action_rpg , 0\n",
      "action_adventure , 0\n",
      "addictive , 0\n",
      "adventure , 0\n",
      "agriculture , 0\n",
      "aliens , 0\n",
      "alternate_history , 0\n",
      "america , 0\n",
      "animation_&_modeling , 0\n",
      "anime , 0\n",
      "arcade , 0\n",
      "arena_shooter , 0\n",
      "artificial_intelligence , 0\n",
      "assassin , 0\n",
      "asynchronous_multiplayer , 0\n",
      "atmospheric , 0\n",
      "audio_production , 0\n",
      "bmx , 0\n",
      "base_building , 0\n",
      "baseball , 0\n",
      "based_on_a_novel , 0\n",
      "basketball , 0\n",
      "batman , 0\n",
      "battle_royale , 0\n",
      "beat_em_up , 0\n",
      "beautiful , 0\n",
      "benchmark , 0\n",
      "bikes , 0\n",
      "blood , 0\n",
      "board_game , 0\n",
      "bowling , 0\n",
      "building , 0\n",
      "bullet_hell , 0\n",
      "bullet_time , 0\n",
      "crpg , 0\n",
      "capitalism , 0\n",
      "card_game , 0\n",
      "cartoon , 0\n",
      "cartoony , 0\n",
      "casual , 0\n",
      "cats , 0\n",
      "character_action_game , 0\n",
      "character_customization , 0\n",
      "chess , 0\n",
      "choices_matter , 0\n",
      "choose_your_own_adventure , 0\n",
      "cinematic , 0\n",
      "city_builder , 0\n",
      "class_based , 0\n",
      "classic , 0\n",
      "clicker , 0\n",
      "co_op , 0\n",
      "co_op_campaign , 0\n",
      "cold_war , 0\n",
      "colorful , 0\n",
      "comedy , 0\n",
      "comic_book , 0\n",
      "competitive , 0\n",
      "conspiracy , 0\n",
      "controller , 0\n",
      "conversation , 0\n",
      "crafting , 0\n",
      "crime , 0\n",
      "crowdfunded , 0\n",
      "cult_classic , 0\n",
      "cute , 0\n",
      "cyberpunk , 0\n",
      "cycling , 0\n",
      "dark , 0\n",
      "dark_comedy , 0\n",
      "dark_fantasy , 0\n",
      "dark_humor , 0\n",
      "dating_sim , 0\n",
      "demons , 0\n",
      "design_&_illustration , 0\n",
      "destruction , 0\n",
      "detective , 0\n",
      "difficult , 0\n",
      "dinosaurs , 0\n",
      "diplomacy , 0\n",
      "documentary , 0\n",
      "dog , 0\n",
      "dragons , 0\n",
      "drama , 0\n",
      "driving , 0\n",
      "dungeon_crawler , 0\n",
      "dungeons_&_dragons , 0\n",
      "dynamic_narration , 0\n",
      "dystopian_ , 0\n",
      "early_access , 0\n",
      "economy , 0\n",
      "education , 0\n",
      "emotional , 0\n",
      "epic , 0\n",
      "episodic , 0\n",
      "experience , 0\n",
      "experimental , 0\n",
      "exploration , 0\n",
      "fmv , 0\n",
      "fps , 0\n",
      "faith , 0\n",
      "family_friendly , 0\n",
      "fantasy , 0\n",
      "fast_paced , 0\n",
      "feature_film , 0\n",
      "female_protagonist , 0\n",
      "fighting , 0\n",
      "first_person , 0\n",
      "fishing , 0\n",
      "flight , 0\n",
      "football , 0\n",
      "foreign , 0\n",
      "free_to_play , 0\n",
      "funny , 0\n",
      "futuristic , 0\n",
      "gambling , 0\n",
      "game_development , 0\n",
      "gamemaker , 0\n",
      "games_workshop , 0\n",
      "gaming , 0\n",
      "god_game , 0\n",
      "golf , 0\n",
      "gore , 0\n",
      "gothic , 0\n",
      "grand_strategy , 0\n",
      "great_soundtrack , 0\n",
      "grid_based_movement , 0\n",
      "gun_customization , 0\n",
      "hack_and_slash , 0\n",
      "hacking , 0\n",
      "hand_drawn , 0\n",
      "hardware , 0\n",
      "heist , 0\n",
      "hex_grid , 0\n",
      "hidden_object , 0\n",
      "historical , 0\n",
      "hockey , 0\n",
      "horror , 0\n",
      "horses , 0\n",
      "hunting , 0\n",
      "illuminati , 0\n",
      "indie , 0\n",
      "intentionally_awkward_controls , 0\n",
      "interactive_fiction , 0\n",
      "inventory_management , 0\n",
      "investigation , 0\n",
      "isometric , 0\n",
      "jrpg , 0\n",
      "jet , 0\n",
      "kickstarter , 0\n",
      "lego , 0\n",
      "lara_croft , 0\n",
      "lemmings , 0\n",
      "level_editor , 0\n",
      "linear , 0\n",
      "local_co_op , 0\n",
      "local_multiplayer , 0\n",
      "logic , 0\n",
      "loot , 0\n",
      "lore_rich , 0\n",
      "lovecraftian , 0\n",
      "mmorpg , 0\n",
      "moba , 0\n",
      "magic , 0\n",
      "management , 0\n",
      "mars , 0\n",
      "martial_arts , 0\n",
      "massively_multiplayer , 0\n",
      "masterpiece , 0\n",
      "match_3 , 0\n",
      "mature , 0\n",
      "mechs , 0\n",
      "medieval , 0\n",
      "memes , 0\n",
      "metroidvania , 0\n",
      "military , 0\n",
      "mini_golf , 0\n",
      "minigames , 0\n",
      "minimalist , 0\n",
      "mining , 0\n",
      "mod , 0\n",
      "moddable , 0\n",
      "modern , 0\n",
      "motocross , 0\n",
      "motorbike , 0\n",
      "mouse_only , 0\n",
      "movie , 0\n",
      "multiplayer , 0\n",
      "multiple_endings , 0\n",
      "music , 0\n",
      "music_based_procedural_generation , 0\n",
      "mystery , 0\n",
      "mystery_dungeon , 0\n",
      "mythology , 0\n",
      "nsfw , 0\n",
      "narration , 0\n",
      "naval , 0\n",
      "ninja , 0\n",
      "noir , 0\n",
      "nonlinear , 0\n",
      "nudity , 0\n",
      "offroad , 0\n",
      "old_school , 0\n",
      "on_rails_shooter , 0\n",
      "online_co_op , 0\n",
      "open_world , 0\n",
      "otome , 0\n",
      "parkour , 0\n",
      "parody_ , 0\n",
      "party_based_rpg , 0\n",
      "perma_death , 0\n",
      "philisophical , 0\n",
      "photo_editing , 0\n",
      "physics , 0\n",
      "pinball , 0\n",
      "pirates , 0\n",
      "pixel_graphics , 0\n",
      "platformer , 0\n",
      "point_&_click , 0\n",
      "political , 0\n",
      "politics , 0\n",
      "pool , 0\n",
      "post_apocalyptic , 0\n",
      "procedural_generation , 0\n",
      "programming , 0\n",
      "psychedelic , 0\n",
      "psychological , 0\n",
      "psychological_horror , 0\n",
      "puzzle , 0\n",
      "puzzle_platformer , 0\n",
      "pve , 0\n",
      "pvp , 0\n",
      "quick_time_events , 0\n",
      "rpg , 0\n",
      "rpgmaker , 0\n",
      "rts , 0\n",
      "racing , 0\n",
      "real_time_tactics , 0\n",
      "real_time , 0\n",
      "real_time_with_pause , 0\n",
      "realistic , 0\n",
      "relaxing , 0\n",
      "remake , 0\n",
      "replay_value , 0\n",
      "resource_management , 0\n",
      "retro , 0\n",
      "rhythm , 0\n",
      "robots , 0\n",
      "rogue_like , 0\n",
      "rogue_lite , 0\n",
      "romance , 0\n",
      "rome , 0\n",
      "runner , 0\n",
      "sailing , 0\n",
      "sandbox , 0\n",
      "satire , 0\n",
      "sci_fi , 0\n",
      "science , 0\n",
      "score_attack , 0\n",
      "sequel , 0\n",
      "sexual_content , 0\n",
      "shoot_em_up , 0\n",
      "shooter , 0\n",
      "short , 0\n",
      "side_scroller , 0\n",
      "silent_protagonist , 0\n",
      "simulation , 0\n",
      "singleplayer , 0\n",
      "skateboarding , 0\n",
      "skating , 0\n",
      "skiing , 0\n",
      "sniper , 0\n",
      "snow , 0\n",
      "snowboarding , 0\n",
      "soccer , 0\n",
      "software , 0\n",
      "software_training , 0\n",
      "sokoban , 0\n",
      "souls_like , 0\n",
      "soundtrack , 0\n",
      "space , 0\n",
      "space_sim , 0\n",
      "spectacle_fighter , 0\n",
      "spelling , 0\n",
      "split_screen , 0\n",
      "sports , 0\n",
      "star_wars , 0\n",
      "stealth , 0\n",
      "steam_machine , 0\n",
      "steampunk , 0\n",
      "story_rich , 0\n",
      "strategy , 0\n",
      "strategy_rpg , 0\n",
      "stylized , 0\n",
      "submarine , 0\n",
      "superhero , 0\n",
      "supernatural , 0\n",
      "surreal , 0\n",
      "survival , 0\n",
      "survival_horror , 0\n",
      "swordplay , 0\n",
      "tactical , 0\n",
      "tactical_rpg , 0\n",
      "tanks , 0\n",
      "team_based , 0\n",
      "tennis , 0\n",
      "text_based , 0\n",
      "third_person , 0\n",
      "third_person_shooter , 0\n",
      "thriller , 0\n",
      "time_attack , 0\n",
      "time_management , 0\n",
      "time_manipulation , 0\n",
      "time_travel , 0\n",
      "top_down , 0\n",
      "top_down_shooter , 0\n",
      "touch_friendly , 0\n",
      "tower_defense , 0\n",
      "trackir , 0\n",
      "trading , 0\n",
      "trading_card_game , 0\n",
      "trains , 0\n",
      "transhumanism , 0\n",
      "turn_based , 0\n",
      "turn_based_combat , 0\n",
      "turn_based_strategy , 0\n",
      "turn_based_tactics , 0\n",
      "tutorial , 0\n",
      "twin_stick_shooter , 0\n",
      "typing , 0\n",
      "underground , 0\n",
      "underwater , 0\n",
      "unforgiving , 0\n",
      "utilities , 0\n",
      "vr , 0\n",
      "vr_only , 0\n",
      "vampire , 0\n",
      "video_production , 0\n",
      "villain_protagonist , 0\n",
      "violent , 0\n",
      "visual_novel , 0\n",
      "voice_control , 0\n",
      "voxel , 0\n",
      "walking_simulator , 0\n",
      "war , 0\n",
      "wargame , 0\n",
      "warhammer_40k , 0\n",
      "web_publishing , 0\n",
      "werewolves , 0\n",
      "western , 0\n",
      "word_game , 0\n",
      "world_war_i , 0\n",
      "world_war_ii , 0\n",
      "wrestling , 0\n",
      "zombies , 0\n",
      "e_sports , 0\n"
     ]
    }
   ],
   "source": [
    "obj = data.isnull().sum()\n",
    "for key,value in obj.iteritems():\n",
    "    print(key,\",\",value)"
   ]
  },
  {
   "cell_type": "markdown",
   "id": "6c4f3882",
   "metadata": {
    "hidden": true
   },
   "source": [
    "Rajoutons les min, max, medians pour les owners, ainsi qu'une colonne 'revenue' basée sur la mediane des owners et le prix"
   ]
  },
  {
   "cell_type": "code",
   "execution_count": 12,
   "id": "bdf74bff",
   "metadata": {
    "hidden": true
   },
   "outputs": [
    {
     "data": {
      "text/html": [
       "<div>\n",
       "<style scoped>\n",
       "    .dataframe tbody tr th:only-of-type {\n",
       "        vertical-align: middle;\n",
       "    }\n",
       "\n",
       "    .dataframe tbody tr th {\n",
       "        vertical-align: top;\n",
       "    }\n",
       "\n",
       "    .dataframe thead th {\n",
       "        text-align: right;\n",
       "    }\n",
       "</style>\n",
       "<table border=\"1\" class=\"dataframe\">\n",
       "  <thead>\n",
       "    <tr style=\"text-align: right;\">\n",
       "      <th></th>\n",
       "      <th>lower</th>\n",
       "      <th>upper</th>\n",
       "      <th>owner_median</th>\n",
       "    </tr>\n",
       "  </thead>\n",
       "  <tbody>\n",
       "    <tr>\n",
       "      <th>0</th>\n",
       "      <td>10000000</td>\n",
       "      <td>20000000</td>\n",
       "      <td>15000000.0</td>\n",
       "    </tr>\n",
       "    <tr>\n",
       "      <th>1</th>\n",
       "      <td>5000000</td>\n",
       "      <td>10000000</td>\n",
       "      <td>7500000.0</td>\n",
       "    </tr>\n",
       "    <tr>\n",
       "      <th>2</th>\n",
       "      <td>5000000</td>\n",
       "      <td>10000000</td>\n",
       "      <td>7500000.0</td>\n",
       "    </tr>\n",
       "    <tr>\n",
       "      <th>3</th>\n",
       "      <td>5000000</td>\n",
       "      <td>10000000</td>\n",
       "      <td>7500000.0</td>\n",
       "    </tr>\n",
       "    <tr>\n",
       "      <th>4</th>\n",
       "      <td>10000000</td>\n",
       "      <td>20000000</td>\n",
       "      <td>15000000.0</td>\n",
       "    </tr>\n",
       "    <tr>\n",
       "      <th>...</th>\n",
       "      <td>...</td>\n",
       "      <td>...</td>\n",
       "      <td>...</td>\n",
       "    </tr>\n",
       "    <tr>\n",
       "      <th>26863</th>\n",
       "      <td>0</td>\n",
       "      <td>20000</td>\n",
       "      <td>10000.0</td>\n",
       "    </tr>\n",
       "    <tr>\n",
       "      <th>26864</th>\n",
       "      <td>0</td>\n",
       "      <td>20000</td>\n",
       "      <td>10000.0</td>\n",
       "    </tr>\n",
       "    <tr>\n",
       "      <th>26865</th>\n",
       "      <td>0</td>\n",
       "      <td>20000</td>\n",
       "      <td>10000.0</td>\n",
       "    </tr>\n",
       "    <tr>\n",
       "      <th>26866</th>\n",
       "      <td>0</td>\n",
       "      <td>20000</td>\n",
       "      <td>10000.0</td>\n",
       "    </tr>\n",
       "    <tr>\n",
       "      <th>26867</th>\n",
       "      <td>0</td>\n",
       "      <td>20000</td>\n",
       "      <td>10000.0</td>\n",
       "    </tr>\n",
       "  </tbody>\n",
       "</table>\n",
       "<p>26868 rows × 3 columns</p>\n",
       "</div>"
      ],
      "text/plain": [
       "          lower     upper  owner_median\n",
       "0      10000000  20000000    15000000.0\n",
       "1       5000000  10000000     7500000.0\n",
       "2       5000000  10000000     7500000.0\n",
       "3       5000000  10000000     7500000.0\n",
       "4      10000000  20000000    15000000.0\n",
       "...         ...       ...           ...\n",
       "26863         0     20000       10000.0\n",
       "26864         0     20000       10000.0\n",
       "26865         0     20000       10000.0\n",
       "26866         0     20000       10000.0\n",
       "26867         0     20000       10000.0\n",
       "\n",
       "[26868 rows x 3 columns]"
      ]
     },
     "execution_count": 12,
     "metadata": {},
     "output_type": "execute_result"
    }
   ],
   "source": [
    "tmp = pd.DataFrame()\n",
    "tmp[['lower', 'upper']] = data['owners'].str.split('-', expand = True)\n",
    "tmp['lower'] = tmp['lower'].astype('int')\n",
    "tmp['upper'] = tmp['upper'].astype('int')\n",
    "tmp['owner_median'] = (tmp['lower'] + tmp['upper']) / 2\n",
    "tmp"
   ]
  },
  {
   "cell_type": "code",
   "execution_count": 13,
   "id": "ab1c752d",
   "metadata": {
    "hidden": true
   },
   "outputs": [],
   "source": [
    "data['owner_median'] = tmp['owner_median']\n",
    "data['owner_lower'] = tmp['lower']\n",
    "data['owner_upper'] = tmp['upper']"
   ]
  },
  {
   "cell_type": "code",
   "execution_count": 14,
   "id": "4074a4d3",
   "metadata": {
    "hidden": true
   },
   "outputs": [],
   "source": [
    "data['revenue'] = data['owner_median'] * data['price']"
   ]
  },
  {
   "cell_type": "markdown",
   "id": "58430a6d",
   "metadata": {
    "hidden": true
   },
   "source": [
    "Transformons la colonne 'release_date' en datetime"
   ]
  },
  {
   "cell_type": "code",
   "execution_count": 15,
   "id": "1edc64be",
   "metadata": {
    "hidden": true
   },
   "outputs": [],
   "source": [
    "data['release_date'] = data['release_date'].astype('datetime64')"
   ]
  },
  {
   "cell_type": "markdown",
   "id": "a3f8fab5",
   "metadata": {
    "hidden": true
   },
   "source": [
    "Splitons la colonne 'categories' en liste"
   ]
  },
  {
   "cell_type": "code",
   "execution_count": 16,
   "id": "3673e349",
   "metadata": {
    "hidden": true
   },
   "outputs": [],
   "source": [
    "# clean the values into lists\n",
    "data['categories'] = data['categories'].apply(lambda x: x.split(\";\"))"
   ]
  },
  {
   "cell_type": "markdown",
   "id": "9e31ca6c",
   "metadata": {
    "hidden": true
   },
   "source": [
    "Splitons la colonne 'genres' en liste"
   ]
  },
  {
   "cell_type": "code",
   "execution_count": 17,
   "id": "8d5301bd",
   "metadata": {
    "hidden": true
   },
   "outputs": [],
   "source": [
    "data['genres'] = data['genres'].apply(lambda x: x.split(\";\"))"
   ]
  },
  {
   "cell_type": "markdown",
   "id": "01f0e14f",
   "metadata": {
    "hidden": true
   },
   "source": [
    "Splitons la colonne 'steamspy_tags' en liste"
   ]
  },
  {
   "cell_type": "code",
   "execution_count": 18,
   "id": "6717ecc7",
   "metadata": {
    "hidden": true
   },
   "outputs": [],
   "source": [
    "data['steamspy_tags'] = data['steamspy_tags'].apply(lambda x: x.split(\";\"))"
   ]
  },
  {
   "cell_type": "markdown",
   "id": "df56b272",
   "metadata": {
    "hidden": true
   },
   "source": [
    "Create a column \"has_a_website\""
   ]
  },
  {
   "cell_type": "code",
   "execution_count": 19,
   "id": "a9210900",
   "metadata": {
    "hidden": true
   },
   "outputs": [],
   "source": [
    "data.website = data['website'].fillna(0)"
   ]
  },
  {
   "cell_type": "raw",
   "id": "06c1be98",
   "metadata": {
    "hidden": true
   },
   "source": [
    "# inline if without else\n",
    "if x != 0 1"
   ]
  },
  {
   "cell_type": "code",
   "execution_count": 20,
   "id": "02c86130",
   "metadata": {
    "hidden": true
   },
   "outputs": [],
   "source": [
    "condition = lambda x: 1 if x != 0 else 0"
   ]
  },
  {
   "cell_type": "code",
   "execution_count": 21,
   "id": "1622f49d",
   "metadata": {
    "hidden": true
   },
   "outputs": [],
   "source": [
    "data['has_a_website'] = data.website.apply(condition)"
   ]
  },
  {
   "cell_type": "markdown",
   "id": "b3fc70c8",
   "metadata": {},
   "source": [
    "# Observations des min/max"
   ]
  },
  {
   "cell_type": "markdown",
   "id": "c1be20da",
   "metadata": {},
   "source": [
    "Observons les valeurs des prix"
   ]
  },
  {
   "cell_type": "code",
   "execution_count": 27,
   "id": "96bba79c",
   "metadata": {},
   "outputs": [
    {
     "data": {
      "text/html": [
       "<div>\n",
       "<style scoped>\n",
       "    .dataframe tbody tr th:only-of-type {\n",
       "        vertical-align: middle;\n",
       "    }\n",
       "\n",
       "    .dataframe tbody tr th {\n",
       "        vertical-align: top;\n",
       "    }\n",
       "\n",
       "    .dataframe thead th {\n",
       "        text-align: right;\n",
       "    }\n",
       "</style>\n",
       "<table border=\"1\" class=\"dataframe\">\n",
       "  <thead>\n",
       "    <tr style=\"text-align: right;\">\n",
       "      <th></th>\n",
       "      <th>price</th>\n",
       "      <th>name</th>\n",
       "    </tr>\n",
       "  </thead>\n",
       "  <tbody>\n",
       "    <tr>\n",
       "      <th>20909</th>\n",
       "      <td>421.99</td>\n",
       "      <td>ADR-Labelling Game</td>\n",
       "    </tr>\n",
       "    <tr>\n",
       "      <th>12882</th>\n",
       "      <td>303.99</td>\n",
       "      <td>GameMaker Studio 2 UWP</td>\n",
       "    </tr>\n",
       "    <tr>\n",
       "      <th>9861</th>\n",
       "      <td>209.99</td>\n",
       "      <td>Houdini Indie</td>\n",
       "    </tr>\n",
       "    <tr>\n",
       "      <th>25363</th>\n",
       "      <td>154.99</td>\n",
       "      <td>Bible Test</td>\n",
       "    </tr>\n",
       "    <tr>\n",
       "      <th>10736</th>\n",
       "      <td>154.99</td>\n",
       "      <td>Silhouette</td>\n",
       "    </tr>\n",
       "  </tbody>\n",
       "</table>\n",
       "</div>"
      ],
      "text/plain": [
       "        price                    name\n",
       "20909  421.99      ADR-Labelling Game\n",
       "12882  303.99  GameMaker Studio 2 UWP\n",
       "9861   209.99           Houdini Indie\n",
       "25363  154.99              Bible Test\n",
       "10736  154.99              Silhouette"
      ]
     },
     "execution_count": 27,
     "metadata": {},
     "output_type": "execute_result"
    }
   ],
   "source": [
    "data.sort_values(by = 'price', ascending = False).head()[['price', 'name']]"
   ]
  },
  {
   "cell_type": "markdown",
   "id": "465688bf",
   "metadata": {},
   "source": [
    "le jeux le plus cher semble être une valeur erronée, retirons la ligne."
   ]
  },
  {
   "cell_type": "code",
   "execution_count": 30,
   "id": "b6ab6c9e",
   "metadata": {},
   "outputs": [],
   "source": [
    "data = data.drop(index=20909)"
   ]
  },
  {
   "cell_type": "code",
   "execution_count": 31,
   "id": "f1625220",
   "metadata": {},
   "outputs": [],
   "source": [
    "data.to_csv(r'data_clean.csv', index = False)"
   ]
  },
  {
   "cell_type": "code",
   "execution_count": null,
   "id": "d0aaf5be",
   "metadata": {},
   "outputs": [],
   "source": []
  }
 ],
 "metadata": {
  "kernelspec": {
   "display_name": "Python 3 (ipykernel)",
   "language": "python",
   "name": "python3"
  },
  "language_info": {
   "codemirror_mode": {
    "name": "ipython",
    "version": 3
   },
   "file_extension": ".py",
   "mimetype": "text/x-python",
   "name": "python",
   "nbconvert_exporter": "python",
   "pygments_lexer": "ipython3",
   "version": "3.8.12"
  },
  "toc": {
   "base_numbering": 1,
   "nav_menu": {},
   "number_sections": true,
   "sideBar": true,
   "skip_h1_title": false,
   "title_cell": "Table of Contents",
   "title_sidebar": "Contents",
   "toc_cell": false,
   "toc_position": {},
   "toc_section_display": true,
   "toc_window_display": false
  }
 },
 "nbformat": 4,
 "nbformat_minor": 5
}
