{
 "cells": [
  {
   "cell_type": "code",
   "execution_count": 1,
   "id": "a4d952c9-d2cb-4c8f-8dfd-ea8bf0d1f856",
   "metadata": {},
   "outputs": [
    {
     "name": "stderr",
     "output_type": "stream",
     "text": [
      "/Users/mathieudbt/.pyenv/versions/3.8.12/envs/steamator/lib/python3.8/site-packages/tpot/builtins/__init__.py:36: UserWarning: Warning: optional dependency `torch` is not available. - skipping import of NN models.\n",
      "  warnings.warn(\"Warning: optional dependency `torch` is not available. - skipping import of NN models.\")\n"
     ]
    }
   ],
   "source": [
    "import pandas as pd\n",
    "import pandas as pd\n",
    "import matplotlib.pyplot as plt\n",
    "from sklearn.model_selection import train_test_split\n",
    "from sklearn.model_selection import cross_validate\n",
    "import numpy as np\n",
    "from sklearn.model_selection import learning_curve\n",
    "from sklearn.model_selection import GridSearchCV\n",
    "from sklearn.model_selection import RandomizedSearchCV\n",
    "from scipy import stats\n",
    "from sklearn.impute import SimpleImputer\n",
    "from sklearn.preprocessing import StandardScaler\n",
    "from sklearn.preprocessing import OneHotEncoder\n",
    "from sklearn.compose import make_column_transformer, make_column_selector\n",
    "from sklearn.model_selection import cross_val_score\n",
    "from sklearn.model_selection import RandomizedSearchCV\n",
    "from scipy import stats\n",
    "from sklearn.pipeline import make_pipeline, make_union\n",
    "from sklearn.linear_model import Ridge, Lasso, LinearRegression, ElasticNet\n",
    "from tpot import *\n",
    "from xgboost import *\n",
    "from sklearn.ensemble import *\n",
    "from sklearn.svm import *\n"
   ]
  },
  {
   "cell_type": "markdown",
   "id": "a160c124-33dc-4c62-8299-a638a3f38a56",
   "metadata": {},
   "source": [
    "# DATASET : Owner median < 100 k"
   ]
  },
  {
   "cell_type": "code",
   "execution_count": 12,
   "id": "16b5bd9d-b657-4729-a0f5-4de9e21b7fbb",
   "metadata": {},
   "outputs": [],
   "source": [
    "df = pd.read_csv('../raw_data/data_final_indé_big.csv')"
   ]
  },
  {
   "cell_type": "code",
   "execution_count": 13,
   "id": "c92730bf-281b-4e4f-a823-5de21f80a309",
   "metadata": {},
   "outputs": [],
   "source": [
    "X = df.drop(columns=['steam_appid', 'name', 'top_5_tags','score_descriptif','owner_estimated','nb_review', 'rating', 'popularity', 'average_playtime',\n",
    "       'median_playtime'])"
   ]
  },
  {
   "cell_type": "code",
   "execution_count": 14,
   "id": "608fecf0-0e58-46e5-8ef7-3f62dbdec47f",
   "metadata": {},
   "outputs": [],
   "source": [
    "y = df['owner_estimated']"
   ]
  },
  {
   "cell_type": "markdown",
   "id": "1298204f-fb17-4f75-b91d-794a253d99d4",
   "metadata": {},
   "source": [
    "#### Train Test Split\n"
   ]
  },
  {
   "cell_type": "code",
   "execution_count": 15,
   "id": "ce6764f9-4f9b-404b-bb5a-76714b0973c5",
   "metadata": {},
   "outputs": [],
   "source": [
    "X_train, X_test, y_train, y_test = train_test_split(X, y, test_size = 0.3, random_state = 0)"
   ]
  },
  {
   "cell_type": "markdown",
   "id": "a1d87c2c-b3df-4c41-a1c0-67402c9dd7ee",
   "metadata": {},
   "source": [
    "#### Stacking"
   ]
  },
  {
   "cell_type": "code",
   "execution_count": 16,
   "id": "252a0ddd-5d21-4335-9505-82bc4175ae69",
   "metadata": {},
   "outputs": [
    {
     "name": "stdout",
     "output_type": "stream",
     "text": [
      "0.21585983978836076\n"
     ]
    }
   ],
   "source": [
    "forest = RandomForestRegressor(\n",
    "                               bootstrap=True, \n",
    "                               max_features=0.4, \n",
    "                               min_samples_leaf=14, \n",
    "                               n_estimators=100,\n",
    "                               min_samples_split=14)\n",
    "\n",
    "linear = LinearSVR(C=0.01, \n",
    "                  dual=False, \n",
    "                  epsilon=0.001, \n",
    "                  loss='squared_epsilon_insensitive', \n",
    "                  tol=0.0001)\n",
    "\n",
    "xgb = XGBRegressor(max_depth=10, n_estimators=100, learning_rate=0.1)\n",
    "\n",
    "estimators = [\n",
    "    ('lr', forest),\n",
    "    ('svr', LinearSVR(random_state=42)),\n",
    "    ('xgb', xgb)\n",
    "]\n",
    "\n",
    "\n",
    "ensemble = StackingRegressor(\n",
    "    estimators = estimators,\n",
    "    final_estimator = LinearRegression())\n",
    "\n",
    "ensemble.fit(X_train, y_train)\n",
    "\n",
    "print(ensemble.score(X_test,y_test))"
   ]
  },
  {
   "cell_type": "code",
   "execution_count": 11,
   "id": "1676d50d-408f-41bd-aee3-860e8ed97660",
   "metadata": {},
   "outputs": [
    {
     "data": {
      "text/plain": [
       "Index(['topic_0', 'topic_1', 'topic_2', 'topic_3', 'topic_4', 'topic_5',\n",
       "       'topic_6', 'topic_7', 'topic_8', 'topic_9', 'topic_10', 'topic_11',\n",
       "       'topic_12', 'topic_13', 'topic_14', 'topic_15', 'topic_16', 'topic_17',\n",
       "       'topic_18', 'topic_19', 'english', 'price', 'has_a_website',\n",
       "       'nb_review', 'rating', 'popularity', 'average_playtime',\n",
       "       'median_playtime'],\n",
       "      dtype='object')"
      ]
     },
     "execution_count": 11,
     "metadata": {},
     "output_type": "execute_result"
    }
   ],
   "source": [
    "X_train.columns"
   ]
  },
  {
   "cell_type": "code",
   "execution_count": null,
   "id": "f3dc2ab9-495e-4d61-9362-3eb75a9602a0",
   "metadata": {},
   "outputs": [],
   "source": []
  }
 ],
 "metadata": {
  "kernelspec": {
   "display_name": "Python 3 (ipykernel)",
   "language": "python",
   "name": "python3"
  },
  "language_info": {
   "codemirror_mode": {
    "name": "ipython",
    "version": 3
   },
   "file_extension": ".py",
   "mimetype": "text/x-python",
   "name": "python",
   "nbconvert_exporter": "python",
   "pygments_lexer": "ipython3",
   "version": "3.8.12"
  }
 },
 "nbformat": 4,
 "nbformat_minor": 5
}
